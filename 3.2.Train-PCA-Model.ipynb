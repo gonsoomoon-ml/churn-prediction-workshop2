{
 "cells": [
  {
   "cell_type": "markdown",
   "metadata": {},
   "source": [
    "# [Module 3.2] Train PCA Model"
   ]
  },
  {
   "cell_type": "markdown",
   "metadata": {},
   "source": [
    "- 이 노트북에서는 아래의 내용을 진행을 하고 추론에 대한 로그를 남기어서, Inference Pipeline Model 이 어떻게 작동을 하는지 알아 봅니다.\n",
    "    - Feature Transfomer(전처리 학습 모델) 생성\n",
    "    - Train 데이타를 Feature Transfomer를 통해서 전처리 데이타 생성\n",
    "    - Validation 데이타를 Feature Transfomer를 통해서 전처리 데이타 생성\n",
    "    - XGBoost를 학습\n",
    "    - Inference Pipeline Model 생성 (전처리, XGboost, 휴처리 모델)\n",
    "    - Realtime Endpoint 생성\n",
    "    - 한개의 테스트 데이터 추론\n",
    "- 소요 시간은 약 10분 걸립니다."
   ]
  },
  {
   "cell_type": "code",
   "execution_count": 1,
   "metadata": {},
   "outputs": [],
   "source": [
    "import sagemaker\n",
    "import pandas as pd\n",
    "import numpy as np\n",
    "import os\n",
    "import time\n",
    "import json\n",
    "from time import strftime, gmtime"
   ]
  },
  {
   "cell_type": "code",
   "execution_count": 2,
   "metadata": {},
   "outputs": [
    {
     "name": "stdout",
     "output_type": "stream",
     "text": [
      "Unable to restore variable 'scikit_learn_pre_process_model', ignoring (use %store -d to forget!)\n",
      "The error was: <class 'KeyError'>\n"
     ]
    }
   ],
   "source": [
    "%store -r"
   ]
  },
  {
   "cell_type": "markdown",
   "metadata": {},
   "source": [
    "## PCA 학습"
   ]
  },
  {
   "cell_type": "code",
   "execution_count": 3,
   "metadata": {},
   "outputs": [
    {
     "name": "stdout",
     "output_type": "stream",
     "text": [
      "057716757052\n",
      "us-east-2\n",
      "arn:aws:iam::057716757052:role/service-role/AmazonSageMaker-ExecutionRole-20191128T110038\n",
      "sagemaker-us-east-2-057716757052\n"
     ]
    }
   ],
   "source": [
    "import boto3\n",
    "import sagemaker\n",
    "from sagemaker import get_execution_role\n",
    "\n",
    "ecr_namespace = 'sagemaker-training-containers/'\n",
    "prefix = 'pca'\n",
    "\n",
    "ecr_repository_name = ecr_namespace + prefix\n",
    "role = get_execution_role()\n",
    "account_id = role.split(':')[4]\n",
    "region = boto3.Session().region_name\n",
    "sagemaker_session = sagemaker.session.Session()\n",
    "bucket = sagemaker_session.default_bucket()\n",
    "\n",
    "print(account_id)\n",
    "print(region)\n",
    "print(role)\n",
    "print(bucket)"
   ]
  },
  {
   "cell_type": "code",
   "execution_count": 4,
   "metadata": {},
   "outputs": [],
   "source": [
    "! cp pca_byoc_train.py docker/code/"
   ]
  },
  {
   "cell_type": "code",
   "execution_count": 5,
   "metadata": {},
   "outputs": [
    {
     "name": "stdout",
     "output_type": "stream",
     "text": [
      "Overwriting docker/Dockerfile\n"
     ]
    }
   ],
   "source": [
    "%%writefile docker/Dockerfile\n",
    "\n",
    "FROM 257758044811.dkr.ecr.us-east-2.amazonaws.com/sagemaker-scikit-learn:0.20.0-cpu-py3\n",
    "    \n",
    "# install python package\n",
    "RUN pip install joblib\n",
    "\n",
    "\n",
    "ENV PYTHONUNBUFFERED=TRUE\n",
    "ENV PYTHONDONTWRITEBYTECODE=TRUE\n",
    "\n",
    "ENV PATH=\"/opt/ml/code:${PATH}\"\n",
    "\n",
    "# Copy training code\n",
    "COPY code/* /opt/ml/code/\n",
    " \n",
    "WORKDIR /opt/ml/code\n",
    "\n",
    "# ENTRYPOINT [\"python\", \"pca_train.py\"]\n",
    "# In order to use SageMaker Env varaibles, use the statement below\n",
    "ENV SAGEMAKER_PROGRAM pca_byoc_train.py"
   ]
  },
  {
   "cell_type": "code",
   "execution_count": 6,
   "metadata": {},
   "outputs": [],
   "source": [
    "import os\n",
    "os.environ['account_id'] = account_id\n",
    "os.environ['region'] = region\n",
    "os.environ['ecr_repository_name'] = ecr_repository_name"
   ]
  },
  {
   "cell_type": "code",
   "execution_count": 7,
   "metadata": {},
   "outputs": [
    {
     "name": "stdout",
     "output_type": "stream",
     "text": [
      "us-east-2\n",
      "057716757052\n",
      "sagemaker-training-containers/pca\n",
      "Login Succeeded\n",
      "Sending build context to Docker daemon  11.78kB\n",
      "Step 1/8 : FROM 257758044811.dkr.ecr.us-east-2.amazonaws.com/sagemaker-scikit-learn:0.20.0-cpu-py3\n",
      " ---> 30adb1aa9af5\n",
      "Step 2/8 : RUN pip install joblib\n",
      " ---> Using cache\n",
      " ---> 0786847c4f79\n",
      "Step 3/8 : ENV PYTHONUNBUFFERED=TRUE\n",
      " ---> Using cache\n",
      " ---> 7d94abd2b857\n",
      "Step 4/8 : ENV PYTHONDONTWRITEBYTECODE=TRUE\n",
      " ---> Using cache\n",
      " ---> 8696b5e742b3\n",
      "Step 5/8 : ENV PATH=\"/opt/ml/code:${PATH}\"\n",
      " ---> Using cache\n",
      " ---> daba2554dce8\n",
      "Step 6/8 : COPY code/* /opt/ml/code/\n",
      " ---> Using cache\n",
      " ---> 9685910a18a5\n",
      "Step 7/8 : WORKDIR /opt/ml/code\n",
      " ---> Using cache\n",
      " ---> ae3f15597ed8\n",
      "Step 8/8 : ENV SAGEMAKER_PROGRAM pca_byoc_train.py\n",
      " ---> Using cache\n",
      " ---> 2838d3d55148\n",
      "Successfully built 2838d3d55148\n",
      "Successfully tagged sagemaker-training-containers/pca:latest\n",
      "Login Succeeded\n",
      "{\n",
      "    \"repositories\": [\n",
      "        {\n",
      "            \"repositoryArn\": \"arn:aws:ecr:us-east-2:057716757052:repository/sagemaker-training-containers/pca\",\n",
      "            \"registryId\": \"057716757052\",\n",
      "            \"repositoryName\": \"sagemaker-training-containers/pca\",\n",
      "            \"repositoryUri\": \"057716757052.dkr.ecr.us-east-2.amazonaws.com/sagemaker-training-containers/pca\",\n",
      "            \"createdAt\": 1597127900.0,\n",
      "            \"imageTagMutability\": \"MUTABLE\",\n",
      "            \"imageScanningConfiguration\": {\n",
      "                \"scanOnPush\": false\n",
      "            }\n",
      "        }\n",
      "    ]\n",
      "}\n",
      "The push refers to repository [057716757052.dkr.ecr.us-east-2.amazonaws.com/sagemaker-training-containers/pca]\n",
      "f37cbb4c56e0: Preparing\n",
      "50f528e16345: Preparing\n",
      "969e46b772a5: Preparing\n",
      "cfe0cbc5dd2c: Preparing\n",
      "23b3530769e5: Preparing\n",
      "8be6c85c96e4: Preparing\n",
      "a5a688002069: Preparing\n",
      "4b7dff825027: Preparing\n",
      "ccdb13a20bf2: Preparing\n",
      "9513cdf4e497: Preparing\n",
      "7f083f9454c0: Preparing\n",
      "29f36b5893dc: Preparing\n",
      "8be6c85c96e4: Waiting\n",
      "a5a688002069: Waiting\n",
      "4b7dff825027: Waiting\n",
      "ccdb13a20bf2: Waiting\n",
      "9513cdf4e497: Waiting\n",
      "7f083f9454c0: Waiting\n",
      "29f36b5893dc: Waiting\n",
      "969e46b772a5: Layer already exists\n",
      "23b3530769e5: Layer already exists\n",
      "cfe0cbc5dd2c: Layer already exists\n",
      "50f528e16345: Layer already exists\n",
      "f37cbb4c56e0: Layer already exists\n",
      "4b7dff825027: Layer already exists\n",
      "8be6c85c96e4: Layer already exists\n",
      "a5a688002069: Layer already exists\n",
      "9513cdf4e497: Layer already exists\n",
      "ccdb13a20bf2: Layer already exists\n",
      "29f36b5893dc: Layer already exists\n",
      "7f083f9454c0: Layer already exists\n",
      "latest: digest: sha256:ed7263ea1cc94d1e1ceeff393071d125c3c3ab9dae6aefdd7926174cf32e741f size: 2840\n"
     ]
    },
    {
     "name": "stderr",
     "output_type": "stream",
     "text": [
      "WARNING! Using --password via the CLI is insecure. Use --password-stdin.\n",
      "WARNING! Your password will be stored unencrypted in /home/ec2-user/.docker/config.json.\n",
      "Configure a credential helper to remove this warning. See\n",
      "https://docs.docker.com/engine/reference/commandline/login/#credentials-store\n",
      "\n",
      "WARNING! Using --password via the CLI is insecure. Use --password-stdin.\n",
      "WARNING! Your password will be stored unencrypted in /home/ec2-user/.docker/config.json.\n",
      "Configure a credential helper to remove this warning. See\n",
      "https://docs.docker.com/engine/reference/commandline/login/#credentials-store\n",
      "\n"
     ]
    }
   ],
   "source": [
    "%%sh\n",
    "\n",
    "ACCOUNT_ID=${account_id}\n",
    "REGION=${region}\n",
    "REPO_NAME=${ecr_repository_name}\n",
    "\n",
    "echo $REGION\n",
    "echo $ACCOUNT_ID\n",
    "echo $REPO_NAME\n",
    "\n",
    "\n",
    "# Get the login command from ECR in order to pull down the Tensorflow-gpu:1.5 image\n",
    "$(aws ecr get-login --registry-ids 257758044811 --region ${region} --no-include-email)\n",
    "\n",
    "\n",
    "\n",
    "docker build -f docker/Dockerfile -t $REPO_NAME docker\n",
    "\n",
    "docker tag $REPO_NAME $ACCOUNT_ID.dkr.ecr.$REGION.amazonaws.com/$REPO_NAME:latest\n",
    "\n",
    "$(aws ecr get-login --no-include-email --registry-ids $ACCOUNT_ID)\n",
    "\n",
    "aws ecr describe-repositories --repository-names $REPO_NAME || aws ecr create-repository --repository-name $REPO_NAME\n",
    "\n",
    "docker push $ACCOUNT_ID.dkr.ecr.$REGION.amazonaws.com/$REPO_NAME:latest\n",
    "\n"
   ]
  },
  {
   "cell_type": "code",
   "execution_count": 8,
   "metadata": {},
   "outputs": [
    {
     "name": "stdout",
     "output_type": "stream",
     "text": [
      "057716757052.dkr.ecr.us-east-2.amazonaws.com/sagemaker-training-containers/pca:latest\n"
     ]
    }
   ],
   "source": [
    "container_image_uri = '{0}.dkr.ecr.{1}.amazonaws.com/{2}:latest'.format(account_id, region, ecr_repository_name)\n",
    "print(container_image_uri)"
   ]
  },
  {
   "cell_type": "code",
   "execution_count": 9,
   "metadata": {},
   "outputs": [
    {
     "name": "stdout",
     "output_type": "stream",
     "text": [
      "preprocessed_train_path_file: \n",
      " s3://sagemaker-us-east-2-057716757052/sagemaker/customer-churn/transformtrain-train-output/sagemaker-scikit-learn-2020-08-15-07-23-2020-08-15-07-23-07-341/train.csv.out\n",
      "preprocessed_validation_path_file: \n",
      " s3://sagemaker-us-east-2-057716757052/sagemaker/customer-churn/transformtrain-validation-output/sagemaker-scikit-learn-2020-08-15-07-23-2020-08-15-07-23-14-753/validation.csv.out\n"
     ]
    }
   ],
   "source": [
    "preprocessed_train_path_file = '{}/train.csv.out'.format(preprocessed_train_path)\n",
    "preprocessed_validation_path_file = '{}/validation.csv.out'.format(preprocessed_validation_path)\n",
    "print(\"preprocessed_train_path_file: \\n\", preprocessed_train_path_file)\n",
    "print(\"preprocessed_validation_path_file: \\n\", preprocessed_validation_path_file)"
   ]
  },
  {
   "cell_type": "markdown",
   "metadata": {},
   "source": [
    "## PCA Transformation"
   ]
  },
  {
   "cell_type": "code",
   "execution_count": 10,
   "metadata": {},
   "outputs": [
    {
     "name": "stdout",
     "output_type": "stream",
     "text": [
      "(2333, 70)\n",
      "num_cols:  70\n"
     ]
    }
   ],
   "source": [
    "import pandas as pd\n",
    "\n",
    "preprocessed_train_path_file = '{}/train.csv.out'.format(preprocessed_train_path)\n",
    "pre_df = pd.read_csv(preprocessed_train_path_file, header=None)\n",
    "print(pre_df.shape)\n",
    "num_cols = pre_df.shape[1]\n",
    "print(\"num_cols: \", num_cols)"
   ]
  },
  {
   "cell_type": "code",
   "execution_count": 11,
   "metadata": {},
   "outputs": [
    {
     "name": "stdout",
     "output_type": "stream",
     "text": [
      "Shape of train_X:  (2333, 69)\n",
      "Shape of train_y:  (2333,)\n",
      "train_input:  s3://sagemaker-us-east-2-057716757052/Scikit-pca-custom/data\n"
     ]
    }
   ],
   "source": [
    "import pandas as pd\n",
    "# preprocessed_train_path_file = 's3://sagemaker-us-east-2-057716757052/sagemaker/customer-churn/transformtrain-train-output/sagemaker-scikit-learn-2020-08-12-07-07-2020-08-12-07-07-08-229/train.csv.out'\n",
    "\n",
    "churn_df = pd.read_csv(preprocessed_train_path_file, header=None)\n",
    "churn_df.head()\n",
    "train_y = churn_df.iloc[:,0]\n",
    "train_X = churn_df.iloc[:,1:]\n",
    "\n",
    "print(\"Shape of train_X: \", train_X.shape)\n",
    "print(\"Shape of train_y: \", train_y.shape)\n",
    "\n",
    "os.makedirs('./data', exist_ok =True)\n",
    "np.savetxt('./data/churn-preprocessed.csv', train_X, delimiter=',',\n",
    "           fmt='%1.5f'\n",
    "          )\n",
    "\n",
    "WORK_DIRECTORY = 'data'\n",
    "prefix = 'Scikit-pca-custom'\n",
    "train_input = sagemaker_session.upload_data(WORK_DIRECTORY,\n",
    "                                            key_prefix=\"{}/{}\".format(prefix, WORK_DIRECTORY)\n",
    "                                           )\n",
    "print(\"train_input: \", train_input)\n"
   ]
  },
  {
   "cell_type": "code",
   "execution_count": 12,
   "metadata": {},
   "outputs": [
    {
     "name": "stderr",
     "output_type": "stream",
     "text": [
      "Parameter image_name will be renamed to image_uri in SageMaker Python SDK v2.\n",
      "'s3_input' class will be renamed to 'TrainingInput' in SageMaker Python SDK v2.\n"
     ]
    },
    {
     "name": "stdout",
     "output_type": "stream",
     "text": [
      "Creating tmp7uvkmrfh_algo-1-xd1tc_1 ... \n",
      "\u001b[1BAttaching to tmp7uvkmrfh_algo-1-xd1tc_12mdone\u001b[0m\n",
      "\u001b[36malgo-1-xd1tc_1  |\u001b[0m 2020-08-15 07:44:41,960 sagemaker-containers INFO     Imported framework sagemaker_sklearn_container.training\n",
      "\u001b[36malgo-1-xd1tc_1  |\u001b[0m 2020-08-15 07:44:41,963 sagemaker-containers INFO     No GPUs detected (normal if no gpus installed)\n",
      "\u001b[36malgo-1-xd1tc_1  |\u001b[0m 2020-08-15 07:44:41,971 sagemaker_sklearn_container.training INFO     Invoking user training script.\n",
      "\u001b[36malgo-1-xd1tc_1  |\u001b[0m 2020-08-15 07:44:41,972 sagemaker-containers INFO     Module pca_byoc_train does not provide a setup.py. \n",
      "\u001b[36malgo-1-xd1tc_1  |\u001b[0m Generating setup.py\n",
      "\u001b[36malgo-1-xd1tc_1  |\u001b[0m 2020-08-15 07:44:41,972 sagemaker-containers INFO     Generating setup.cfg\n",
      "\u001b[36malgo-1-xd1tc_1  |\u001b[0m 2020-08-15 07:44:41,972 sagemaker-containers INFO     Generating MANIFEST.in\n",
      "\u001b[36malgo-1-xd1tc_1  |\u001b[0m 2020-08-15 07:44:41,972 sagemaker-containers INFO     Installing module with the following command:\n",
      "\u001b[36malgo-1-xd1tc_1  |\u001b[0m /miniconda3/bin/python -m pip install . \n",
      "\u001b[36malgo-1-xd1tc_1  |\u001b[0m Processing /opt/ml/code\n",
      "\u001b[36malgo-1-xd1tc_1  |\u001b[0m Building wheels for collected packages: pca-byoc-train\n",
      "\u001b[36malgo-1-xd1tc_1  |\u001b[0m   Building wheel for pca-byoc-train (setup.py) ... \u001b[?25ldone\n",
      "\u001b[36malgo-1-xd1tc_1  |\u001b[0m \u001b[?25h  Created wheel for pca-byoc-train: filename=pca_byoc_train-1.0.0-py2.py3-none-any.whl size=9477 sha256=c41a9100a900c488b90661caf90b17878c884c7bcead72ca08077682c2a2f307\n",
      "\u001b[36malgo-1-xd1tc_1  |\u001b[0m   Stored in directory: /tmp/pip-ephem-wheel-cache-v1hlel67/wheels/35/24/16/37574d11bf9bde50616c67372a334f94fa8356bc7164af8ca3\n",
      "\u001b[36malgo-1-xd1tc_1  |\u001b[0m Successfully built pca-byoc-train\n",
      "\u001b[36malgo-1-xd1tc_1  |\u001b[0m Installing collected packages: pca-byoc-train\n",
      "\u001b[36malgo-1-xd1tc_1  |\u001b[0m Successfully installed pca-byoc-train-1.0.0\n",
      "\u001b[36malgo-1-xd1tc_1  |\u001b[0m 2020-08-15 07:44:42,788 sagemaker-containers INFO     No GPUs detected (normal if no gpus installed)\n",
      "\u001b[36malgo-1-xd1tc_1  |\u001b[0m 2020-08-15 07:44:42,797 sagemaker-containers INFO     Invoking user script\n",
      "\u001b[36malgo-1-xd1tc_1  |\u001b[0m \n",
      "\u001b[36malgo-1-xd1tc_1  |\u001b[0m Training Env:\n",
      "\u001b[36malgo-1-xd1tc_1  |\u001b[0m \n",
      "\u001b[36malgo-1-xd1tc_1  |\u001b[0m {\n",
      "\u001b[36malgo-1-xd1tc_1  |\u001b[0m     \"additional_framework_parameters\": {},\n",
      "\u001b[36malgo-1-xd1tc_1  |\u001b[0m     \"channel_input_dirs\": {\n",
      "\u001b[36malgo-1-xd1tc_1  |\u001b[0m         \"train\": \"/opt/ml/input/data/train\"\n",
      "\u001b[36malgo-1-xd1tc_1  |\u001b[0m     },\n",
      "\u001b[36malgo-1-xd1tc_1  |\u001b[0m     \"current_host\": \"algo-1-xd1tc\",\n",
      "\u001b[36malgo-1-xd1tc_1  |\u001b[0m     \"framework_module\": \"sagemaker_sklearn_container.training:main\",\n",
      "\u001b[36malgo-1-xd1tc_1  |\u001b[0m     \"hosts\": [\n",
      "\u001b[36malgo-1-xd1tc_1  |\u001b[0m         \"algo-1-xd1tc\"\n",
      "\u001b[36malgo-1-xd1tc_1  |\u001b[0m     ],\n",
      "\u001b[36malgo-1-xd1tc_1  |\u001b[0m     \"hyperparameters\": {\n",
      "\u001b[36malgo-1-xd1tc_1  |\u001b[0m         \"n_components\": 10\n",
      "\u001b[36malgo-1-xd1tc_1  |\u001b[0m     },\n",
      "\u001b[36malgo-1-xd1tc_1  |\u001b[0m     \"input_config_dir\": \"/opt/ml/input/config\",\n",
      "\u001b[36malgo-1-xd1tc_1  |\u001b[0m     \"input_data_config\": {\n",
      "\u001b[36malgo-1-xd1tc_1  |\u001b[0m         \"train\": {\n",
      "\u001b[36malgo-1-xd1tc_1  |\u001b[0m             \"TrainingInputMode\": \"File\",\n",
      "\u001b[36malgo-1-xd1tc_1  |\u001b[0m             \"ContentType\": \"text/csv\"\n",
      "\u001b[36malgo-1-xd1tc_1  |\u001b[0m         }\n",
      "\u001b[36malgo-1-xd1tc_1  |\u001b[0m     },\n",
      "\u001b[36malgo-1-xd1tc_1  |\u001b[0m     \"input_dir\": \"/opt/ml/input\",\n",
      "\u001b[36malgo-1-xd1tc_1  |\u001b[0m     \"is_master\": true,\n",
      "\u001b[36malgo-1-xd1tc_1  |\u001b[0m     \"job_name\": \"Scikit-pca-custom-2020-08-15-07-44-39-957\",\n",
      "\u001b[36malgo-1-xd1tc_1  |\u001b[0m     \"log_level\": 20,\n",
      "\u001b[36malgo-1-xd1tc_1  |\u001b[0m     \"master_hostname\": \"algo-1-xd1tc\",\n",
      "\u001b[36malgo-1-xd1tc_1  |\u001b[0m     \"model_dir\": \"/opt/ml/model\",\n",
      "\u001b[36malgo-1-xd1tc_1  |\u001b[0m     \"module_dir\": \"/opt/ml/code\",\n",
      "\u001b[36malgo-1-xd1tc_1  |\u001b[0m     \"module_name\": \"pca_byoc_train\",\n",
      "\u001b[36malgo-1-xd1tc_1  |\u001b[0m     \"network_interface_name\": \"eth0\",\n",
      "\u001b[36malgo-1-xd1tc_1  |\u001b[0m     \"num_cpus\": 8,\n",
      "\u001b[36malgo-1-xd1tc_1  |\u001b[0m     \"num_gpus\": 0,\n",
      "\u001b[36malgo-1-xd1tc_1  |\u001b[0m     \"output_data_dir\": \"/opt/ml/output/data\",\n",
      "\u001b[36malgo-1-xd1tc_1  |\u001b[0m     \"output_dir\": \"/opt/ml/output\",\n",
      "\u001b[36malgo-1-xd1tc_1  |\u001b[0m     \"output_intermediate_dir\": \"/opt/ml/output/intermediate\",\n",
      "\u001b[36malgo-1-xd1tc_1  |\u001b[0m     \"resource_config\": {\n",
      "\u001b[36malgo-1-xd1tc_1  |\u001b[0m         \"current_host\": \"algo-1-xd1tc\",\n",
      "\u001b[36malgo-1-xd1tc_1  |\u001b[0m         \"hosts\": [\n",
      "\u001b[36malgo-1-xd1tc_1  |\u001b[0m             \"algo-1-xd1tc\"\n",
      "\u001b[36malgo-1-xd1tc_1  |\u001b[0m         ]\n",
      "\u001b[36malgo-1-xd1tc_1  |\u001b[0m     },\n",
      "\u001b[36malgo-1-xd1tc_1  |\u001b[0m     \"user_entry_point\": \"pca_byoc_train.py\"\n",
      "\u001b[36malgo-1-xd1tc_1  |\u001b[0m }\n",
      "\u001b[36malgo-1-xd1tc_1  |\u001b[0m \n",
      "\u001b[36malgo-1-xd1tc_1  |\u001b[0m Environment variables:\n",
      "\u001b[36malgo-1-xd1tc_1  |\u001b[0m \n",
      "\u001b[36malgo-1-xd1tc_1  |\u001b[0m SM_HOSTS=[\"algo-1-xd1tc\"]\n",
      "\u001b[36malgo-1-xd1tc_1  |\u001b[0m SM_NETWORK_INTERFACE_NAME=eth0\n",
      "\u001b[36malgo-1-xd1tc_1  |\u001b[0m SM_HPS={\"n_components\":10}\n",
      "\u001b[36malgo-1-xd1tc_1  |\u001b[0m SM_USER_ENTRY_POINT=pca_byoc_train.py\n",
      "\u001b[36malgo-1-xd1tc_1  |\u001b[0m SM_FRAMEWORK_PARAMS={}\n",
      "\u001b[36malgo-1-xd1tc_1  |\u001b[0m SM_RESOURCE_CONFIG={\"current_host\":\"algo-1-xd1tc\",\"hosts\":[\"algo-1-xd1tc\"]}\n",
      "\u001b[36malgo-1-xd1tc_1  |\u001b[0m SM_INPUT_DATA_CONFIG={\"train\":{\"ContentType\":\"text/csv\",\"TrainingInputMode\":\"File\"}}\n",
      "\u001b[36malgo-1-xd1tc_1  |\u001b[0m SM_OUTPUT_DATA_DIR=/opt/ml/output/data\n",
      "\u001b[36malgo-1-xd1tc_1  |\u001b[0m SM_CHANNELS=[\"train\"]\n",
      "\u001b[36malgo-1-xd1tc_1  |\u001b[0m SM_CURRENT_HOST=algo-1-xd1tc\n",
      "\u001b[36malgo-1-xd1tc_1  |\u001b[0m SM_MODULE_NAME=pca_byoc_train\n",
      "\u001b[36malgo-1-xd1tc_1  |\u001b[0m SM_LOG_LEVEL=20\n",
      "\u001b[36malgo-1-xd1tc_1  |\u001b[0m SM_FRAMEWORK_MODULE=sagemaker_sklearn_container.training:main\n",
      "\u001b[36malgo-1-xd1tc_1  |\u001b[0m SM_INPUT_DIR=/opt/ml/input\n",
      "\u001b[36malgo-1-xd1tc_1  |\u001b[0m SM_INPUT_CONFIG_DIR=/opt/ml/input/config\n",
      "\u001b[36malgo-1-xd1tc_1  |\u001b[0m SM_OUTPUT_DIR=/opt/ml/output\n",
      "\u001b[36malgo-1-xd1tc_1  |\u001b[0m SM_NUM_CPUS=8\n",
      "\u001b[36malgo-1-xd1tc_1  |\u001b[0m SM_NUM_GPUS=0\n",
      "\u001b[36malgo-1-xd1tc_1  |\u001b[0m SM_MODEL_DIR=/opt/ml/model\n",
      "\u001b[36malgo-1-xd1tc_1  |\u001b[0m SM_MODULE_DIR=/opt/ml/code\n",
      "\u001b[36malgo-1-xd1tc_1  |\u001b[0m SM_TRAINING_ENV={\"additional_framework_parameters\":{},\"channel_input_dirs\":{\"train\":\"/opt/ml/input/data/train\"},\"current_host\":\"algo-1-xd1tc\",\"framework_module\":\"sagemaker_sklearn_container.training:main\",\"hosts\":[\"algo-1-xd1tc\"],\"hyperparameters\":{\"n_components\":10},\"input_config_dir\":\"/opt/ml/input/config\",\"input_data_config\":{\"train\":{\"ContentType\":\"text/csv\",\"TrainingInputMode\":\"File\"}},\"input_dir\":\"/opt/ml/input\",\"is_master\":true,\"job_name\":\"Scikit-pca-custom-2020-08-15-07-44-39-957\",\"log_level\":20,\"master_hostname\":\"algo-1-xd1tc\",\"model_dir\":\"/opt/ml/model\",\"module_dir\":\"/opt/ml/code\",\"module_name\":\"pca_byoc_train\",\"network_interface_name\":\"eth0\",\"num_cpus\":8,\"num_gpus\":0,\"output_data_dir\":\"/opt/ml/output/data\",\"output_dir\":\"/opt/ml/output\",\"output_intermediate_dir\":\"/opt/ml/output/intermediate\",\"resource_config\":{\"current_host\":\"algo-1-xd1tc\",\"hosts\":[\"algo-1-xd1tc\"]},\"user_entry_point\":\"pca_byoc_train.py\"}\n",
      "\u001b[36malgo-1-xd1tc_1  |\u001b[0m SM_USER_ARGS=[\"--n_components\",\"10\"]\n",
      "\u001b[36malgo-1-xd1tc_1  |\u001b[0m SM_OUTPUT_INTERMEDIATE_DIR=/opt/ml/output/intermediate\n",
      "\u001b[36malgo-1-xd1tc_1  |\u001b[0m SM_CHANNEL_TRAIN=/opt/ml/input/data/train\n",
      "\u001b[36malgo-1-xd1tc_1  |\u001b[0m SM_HP_N_COMPONENTS=10\n",
      "\u001b[36malgo-1-xd1tc_1  |\u001b[0m PYTHONPATH=/miniconda3/bin:/miniconda3/lib/python37.zip:/miniconda3/lib/python3.7:/miniconda3/lib/python3.7/lib-dynload:/miniconda3/lib/python3.7/site-packages\n",
      "\u001b[36malgo-1-xd1tc_1  |\u001b[0m \n",
      "\u001b[36malgo-1-xd1tc_1  |\u001b[0m Invoking script with the following command:\n",
      "\u001b[36malgo-1-xd1tc_1  |\u001b[0m \n",
      "\u001b[36malgo-1-xd1tc_1  |\u001b[0m /miniconda3/bin/python -m pca_byoc_train --n_components 10\n",
      "\u001b[36malgo-1-xd1tc_1  |\u001b[0m \n",
      "\u001b[36malgo-1-xd1tc_1  |\u001b[0m \n",
      "\u001b[36malgo-1-xd1tc_1  |\u001b[0m /miniconda3/lib/python3.7/site-packages/sklearn/externals/joblib/externals/cloudpickle/cloudpickle.py:47: DeprecationWarning: the imp module is deprecated in favour of importlib; see the module's documentation for alternative uses\n",
      "\u001b[36malgo-1-xd1tc_1  |\u001b[0m   import imp\n",
      "\u001b[36malgo-1-xd1tc_1  |\u001b[0m train shape:  (6999, 69)\n",
      "\u001b[36malgo-1-xd1tc_1  |\u001b[0m Component Variability: \n",
      "\u001b[36malgo-1-xd1tc_1  |\u001b[0m  [0.11037054 0.08930514 0.08530902 0.08398641 0.08100946 0.07891911\n",
      "\u001b[36malgo-1-xd1tc_1  |\u001b[0m  0.0784487  0.0757067  0.0754758  0.07404293]\n",
      "\u001b[36malgo-1-xd1tc_1  |\u001b[0m 2020-08-15 07:44:43,975 sagemaker-containers INFO     Reporting training SUCCESS\n",
      "\u001b[36mtmp7uvkmrfh_algo-1-xd1tc_1 exited with code 0\n",
      "\u001b[0mAborting on container exit...\n",
      "===== Job Complete =====\n",
      "CPU times: user 172 ms, sys: 38.5 ms, total: 210 ms\n",
      "Wall time: 4.62 s\n"
     ]
    }
   ],
   "source": [
    "%%time\n",
    "\n",
    "import sagemaker\n",
    "\n",
    "instance_type = 'local'\n",
    "# instance_type = 'ml.m4.xlarge'\n",
    "\n",
    "pca_estimator = sagemaker.estimator.Estimator(container_image_uri,\n",
    "                                    role, \n",
    "                                    train_instance_count=1, \n",
    "                                    train_instance_type= instance_type,\n",
    "                                    base_job_name=prefix)\n",
    "\n",
    "pca_estimator.set_hyperparameters(n_components= 10)\n",
    "\n",
    "train_config = sagemaker.session.s3_input(train_input, content_type='text/csv')\n",
    "\n",
    "pca_estimator.fit({'train': train_config})"
   ]
  },
  {
   "cell_type": "markdown",
   "metadata": {},
   "source": [
    "# Transforming Train PCA"
   ]
  },
  {
   "cell_type": "code",
   "execution_count": 13,
   "metadata": {},
   "outputs": [
    {
     "name": "stdout",
     "output_type": "stream",
     "text": [
      "(2333, 70)\n",
      "num_cols:  70\n"
     ]
    }
   ],
   "source": [
    "import pandas as pd\n",
    "\n",
    "preprocessed_train_path_file = '{}/train.csv.out'.format(preprocessed_train_path)\n",
    "pre_df = pd.read_csv(preprocessed_train_path_file, header=None)\n",
    "print(pre_df.shape)\n",
    "num_cols = pre_df.shape[1]\n",
    "print(\"num_cols: \", num_cols)"
   ]
  },
  {
   "cell_type": "code",
   "execution_count": 14,
   "metadata": {},
   "outputs": [
    {
     "name": "stderr",
     "output_type": "stream",
     "text": [
      "Parameter image will be renamed to image_uri in SageMaker Python SDK v2.\n"
     ]
    },
    {
     "name": "stdout",
     "output_type": "stream",
     "text": [
      "Attaching to tmpvyce479d_algo-1-kuada_1\n",
      "\u001b[36malgo-1-kuada_1  |\u001b[0m Processing /opt/ml/code\n",
      "\u001b[36malgo-1-kuada_1  |\u001b[0m Building wheels for collected packages: pca-byoc-train\n",
      "\u001b[36malgo-1-kuada_1  |\u001b[0m   Building wheel for pca-byoc-train (setup.py) ... \u001b[?25ldone\n",
      "\u001b[36malgo-1-kuada_1  |\u001b[0m \u001b[?25h  Created wheel for pca-byoc-train: filename=pca_byoc_train-1.0.0-py2.py3-none-any.whl size=9474 sha256=e0cf974bccf3504cbe887371c84eaa28013182e8748d56f4deb56245af8a7893\n",
      "\u001b[36malgo-1-kuada_1  |\u001b[0m   Stored in directory: /tmp/pip-ephem-wheel-cache-lyppfr03/wheels/35/24/16/37574d11bf9bde50616c67372a334f94fa8356bc7164af8ca3\n",
      "\u001b[36malgo-1-kuada_1  |\u001b[0m Successfully built pca-byoc-train\n",
      "\u001b[36malgo-1-kuada_1  |\u001b[0m Installing collected packages: pca-byoc-train\n",
      "\u001b[36malgo-1-kuada_1  |\u001b[0m Successfully installed pca-byoc-train-1.0.0\n",
      "\u001b[36malgo-1-kuada_1  |\u001b[0m /miniconda3/lib/python3.7/site-packages/sklearn/externals/joblib/externals/cloudpickle/cloudpickle.py:47: DeprecationWarning: the imp module is deprecated in favour of importlib; see the module's documentation for alternative uses\n",
      "\u001b[36malgo-1-kuada_1  |\u001b[0m   import imp\n",
      "\u001b[36malgo-1-kuada_1  |\u001b[0m [2020-08-15 07:44:47 +0000] [44] [INFO] Starting gunicorn 19.9.0\n",
      "\u001b[36malgo-1-kuada_1  |\u001b[0m [2020-08-15 07:44:47 +0000] [44] [INFO] Listening at: unix:/tmp/gunicorn.sock (44)\n",
      "\u001b[36malgo-1-kuada_1  |\u001b[0m [2020-08-15 07:44:47 +0000] [44] [INFO] Using worker: gevent\n",
      "\u001b[36malgo-1-kuada_1  |\u001b[0m [2020-08-15 07:44:47 +0000] [47] [INFO] Booting worker with pid: 47\n",
      "\u001b[36malgo-1-kuada_1  |\u001b[0m [2020-08-15 07:44:47 +0000] [48] [INFO] Booting worker with pid: 48\n",
      "\u001b[36malgo-1-kuada_1  |\u001b[0m [2020-08-15 07:44:47 +0000] [56] [INFO] Booting worker with pid: 56\n",
      "\u001b[36malgo-1-kuada_1  |\u001b[0m [2020-08-15 07:44:47 +0000] [57] [INFO] Booting worker with pid: 57\n",
      "\u001b[36malgo-1-kuada_1  |\u001b[0m [2020-08-15 07:44:47 +0000] [58] [INFO] Booting worker with pid: 58\n",
      "\u001b[36malgo-1-kuada_1  |\u001b[0m [2020-08-15 07:44:47 +0000] [59] [INFO] Booting worker with pid: 59\n",
      "\u001b[36malgo-1-kuada_1  |\u001b[0m [2020-08-15 07:44:47 +0000] [67] [INFO] Booting worker with pid: 67\n",
      "\u001b[36malgo-1-kuada_1  |\u001b[0m [2020-08-15 07:44:47 +0000] [68] [INFO] Booting worker with pid: 68\n",
      "\u001b[36malgo-1-kuada_1  |\u001b[0m 2020-08-15 07:44:49,777 INFO - sagemaker-containers - No GPUs detected (normal if no gpus installed)\n",
      "\u001b[36malgo-1-kuada_1  |\u001b[0m /miniconda3/lib/python3.7/site-packages/sklearn/externals/joblib/externals/cloudpickle/cloudpickle.py:47: DeprecationWarning: the imp module is deprecated in favour of importlib; see the module's documentation for alternative uses\n",
      "\u001b[36malgo-1-kuada_1  |\u001b[0m   import imp\n",
      "\u001b[36malgo-1-kuada_1  |\u001b[0m 172.18.0.1 - - [15/Aug/2020:07:44:50 +0000] \"GET /ping HTTP/1.1\" 200 0 \"-\" \"-\"\n",
      "\u001b[36malgo-1-kuada_1  |\u001b[0m 2020-08-15 07:44:50,146 INFO - sagemaker-containers - No GPUs detected (normal if no gpus installed)\n",
      "\u001b[36malgo-1-kuada_1  |\u001b[0m /miniconda3/lib/python3.7/site-packages/sklearn/externals/joblib/externals/cloudpickle/cloudpickle.py:47: DeprecationWarning: the imp module is deprecated in favour of importlib; see the module's documentation for alternative uses\n",
      "\u001b[36malgo-1-kuada_1  |\u001b[0m   import imp\n",
      "\u001b[36malgo-1-kuada_1  |\u001b[0m 172.18.0.1 - - [15/Aug/2020:07:44:50 +0000] \"GET /execution-parameters HTTP/1.1\" 404 232 \"-\" \"-\"\n",
      "\u001b[36malgo-1-kuada_1  |\u001b[0m input_fn: Starting\n",
      "\u001b[36malgo-1-kuada_1  |\u001b[0m type of input_data:  <class 'str'>\n",
      "\u001b[36malgo-1-kuada_1  |\u001b[0m request_content_type:  text/csv\n",
      "\u001b[36malgo-1-kuada_1  |\u001b[0m 2020-08-15 07:44:50,702 INFO - root - input_fn: \n",
      "\u001b[36malgo-1-kuada_1  |\u001b[0m 2020-08-15 07:44:50,702 INFO - root - shape of requested data: '(2333, 70)'\n",
      "\u001b[36malgo-1-kuada_1  |\u001b[0m 2020-08-15 07:44:50,767 INFO - root - requested data: '       0   ...   69\n",
      "\u001b[36malgo-1-kuada_1  |\u001b[0m 0     0.0  ...  0.0\n",
      "\u001b[36malgo-1-kuada_1  |\u001b[0m 1     0.0  ...  0.0\n",
      "\u001b[36malgo-1-kuada_1  |\u001b[0m 2     1.0  ...  0.0\n",
      "\u001b[36malgo-1-kuada_1  |\u001b[0m 3     0.0  ...  0.0\n",
      "\u001b[36malgo-1-kuada_1  |\u001b[0m 4     0.0  ...  1.0\n",
      "\u001b[36malgo-1-kuada_1  |\u001b[0m ...   ...  ...  ...\n",
      "\u001b[36malgo-1-kuada_1  |\u001b[0m 2328  0.0  ...  0.0\n",
      "\u001b[36malgo-1-kuada_1  |\u001b[0m 2329  1.0  ...  0.0\n",
      "\u001b[36malgo-1-kuada_1  |\u001b[0m 2330  0.0  ...  0.0\n",
      "\u001b[36malgo-1-kuada_1  |\u001b[0m 2331  0.0  ...  0.0\n",
      "\u001b[36malgo-1-kuada_1  |\u001b[0m 2332  0.0  ...  1.0\n",
      "\u001b[36malgo-1-kuada_1  |\u001b[0m \n",
      "\u001b[36malgo-1-kuada_1  |\u001b[0m [2333 rows x 70 columns]'\n",
      "\u001b[36malgo-1-kuada_1  |\u001b[0m prdict_fn: Staring\n",
      "\u001b[36malgo-1-kuada_1  |\u001b[0m os.getenv('TRANSFORM_MODE'):  feature-transform\n",
      "\u001b[36malgo-1-kuada_1  |\u001b[0m predcit_fn - TRANSFORM_MODE:  feature-transform\n",
      "\u001b[36malgo-1-kuada_1  |\u001b[0m 2020-08-15 07:44:50,830 INFO - root - predict_fn: input_data - '       0   ...   69\n",
      "\u001b[36malgo-1-kuada_1  |\u001b[0m 0     0.0  ...  0.0\n",
      "\u001b[36malgo-1-kuada_1  |\u001b[0m 1     0.0  ...  0.0\n",
      "\u001b[36malgo-1-kuada_1  |\u001b[0m 2     1.0  ...  0.0\n",
      "\u001b[36malgo-1-kuada_1  |\u001b[0m 3     0.0  ...  0.0\n",
      "\u001b[36malgo-1-kuada_1  |\u001b[0m 4     0.0  ...  1.0\n",
      "\u001b[36malgo-1-kuada_1  |\u001b[0m ...   ...  ...  ...\n",
      "\u001b[36malgo-1-kuada_1  |\u001b[0m 2328  0.0  ...  0.0\n",
      "\u001b[36malgo-1-kuada_1  |\u001b[0m 2329  1.0  ...  0.0\n",
      "\u001b[36malgo-1-kuada_1  |\u001b[0m 2330  0.0  ...  0.0\n",
      "\u001b[36malgo-1-kuada_1  |\u001b[0m 2331  0.0  ...  0.0\n",
      "\u001b[36malgo-1-kuada_1  |\u001b[0m 2332  0.0  ...  1.0\n",
      "\u001b[36malgo-1-kuada_1  |\u001b[0m \n",
      "\u001b[36malgo-1-kuada_1  |\u001b[0m [2333 rows x 70 columns]'\n",
      "\u001b[36malgo-1-kuada_1  |\u001b[0m type of input_data:  <class 'pandas.core.frame.DataFrame'>\n",
      "\u001b[36malgo-1-kuada_1  |\u001b[0m shape of input_data:  (2333, 70)\n",
      "\u001b[36malgo-1-kuada_1  |\u001b[0m head of input_data: \n",
      "\u001b[36malgo-1-kuada_1  |\u001b[0m       0   ...   69\n",
      "\u001b[36malgo-1-kuada_1  |\u001b[0m 0  0.0  ...  0.0\n",
      "\u001b[36malgo-1-kuada_1  |\u001b[0m 1  0.0  ...  0.0\n",
      "\u001b[36malgo-1-kuada_1  |\u001b[0m \n",
      "\u001b[36malgo-1-kuada_1  |\u001b[0m [2 rows x 70 columns]\n",
      "\u001b[36malgo-1-kuada_1  |\u001b[0m os.getenv('LENGTH_COLS') :  70\n",
      "\u001b[36malgo-1-kuada_1  |\u001b[0m type: os.getenv('LENGTH_COLS'):  <class 'str'>\n",
      "\u001b[36malgo-1-kuada_1  |\u001b[0m type of components:  <class 'numpy.ndarray'>\n",
      "\u001b[36malgo-1-kuada_1  |\u001b[0m shape of components:  (2333, 10)\n",
      "\u001b[36malgo-1-kuada_1  |\u001b[0m 2020-08-15 07:44:50,899 INFO - root - predict_fn: PCA components: \n",
      "\u001b[36malgo-1-kuada_1  |\u001b[0m '[[ 0.         -0.82308544 -0.10881113 ... -0.70644606  1.06453595\n",
      "\u001b[36malgo-1-kuada_1  |\u001b[0m   -0.43729025]\n",
      "\u001b[36malgo-1-kuada_1  |\u001b[0m  [ 0.         -0.34347425  0.0914233  ...  0.86883512 -0.54235514\n",
      "\u001b[36malgo-1-kuada_1  |\u001b[0m   -0.34181946]\n",
      "\u001b[36malgo-1-kuada_1  |\u001b[0m  [ 1.         -0.76430908  0.01160376 ...  0.42851713 -0.32623076\n",
      "\u001b[36malgo-1-kuada_1  |\u001b[0m   -0.28926629]\n",
      "\u001b[36malgo-1-kuada_1  |\u001b[0m  ...\n",
      "\u001b[36malgo-1-kuada_1  |\u001b[0m  [ 0.         -0.7357322  -0.14696777 ... -0.02130632  1.40842381\n",
      "\u001b[36malgo-1-kuada_1  |\u001b[0m    2.03213997]\n",
      "\u001b[36malgo-1-kuada_1  |\u001b[0m  [ 0.         -0.86478537 -0.69261035 ...  2.38691238  0.11547107\n",
      "\u001b[36malgo-1-kuada_1  |\u001b[0m    2.01887937]\n",
      "\u001b[36malgo-1-kuada_1  |\u001b[0m  [ 0.          1.94313344  1.04687587 ... -0.64594946 -0.74623666\n",
      "\u001b[36malgo-1-kuada_1  |\u001b[0m    0.71598136]]'\n",
      "\u001b[36malgo-1-kuada_1  |\u001b[0m 2020-08-15 07:44:50,899 INFO - root - Output_fn: prdiction - '[[ 0.         -0.82308544 -0.10881113 ... -0.70644606  1.06453595\n",
      "\u001b[36malgo-1-kuada_1  |\u001b[0m   -0.43729025]\n",
      "\u001b[36malgo-1-kuada_1  |\u001b[0m  [ 0.         -0.34347425  0.0914233  ...  0.86883512 -0.54235514\n",
      "\u001b[36malgo-1-kuada_1  |\u001b[0m   -0.34181946]\n",
      "\u001b[36malgo-1-kuada_1  |\u001b[0m  [ 1.         -0.76430908  0.01160376 ...  0.42851713 -0.32623076\n",
      "\u001b[36malgo-1-kuada_1  |\u001b[0m   -0.28926629]\n",
      "\u001b[36malgo-1-kuada_1  |\u001b[0m  ...\n",
      "\u001b[36malgo-1-kuada_1  |\u001b[0m  [ 0.         -0.7357322  -0.14696777 ... -0.02130632  1.40842381\n",
      "\u001b[36malgo-1-kuada_1  |\u001b[0m    2.03213997]\n",
      "\u001b[36malgo-1-kuada_1  |\u001b[0m  [ 0.         -0.86478537 -0.69261035 ...  2.38691238  0.11547107\n",
      "\u001b[36malgo-1-kuada_1  |\u001b[0m    2.01887937]\n",
      "\u001b[36malgo-1-kuada_1  |\u001b[0m  [ 0.          1.94313344  1.04687587 ... -0.64594946 -0.74623666\n",
      "\u001b[36malgo-1-kuada_1  |\u001b[0m    0.71598136]]' \n",
      "\u001b[36malgo-1-kuada_1  |\u001b[0m type of accept :  text/csv\n",
      "\u001b[36malgo-1-kuada_1  |\u001b[0m type of accept after a change :  text/csv\n",
      "\u001b[36malgo-1-kuada_1  |\u001b[0m 172.18.0.1 - - [15/Aug/2020:07:44:50 +0000] \"POST /invocations HTTP/1.1\" 200 467327 \"-\" \"-\"\n",
      "Gracefully stopping... (press Ctrl+C again to force)\n",
      "Waiting for transform job: pca-2020-08-15-07-44-44-619-2020-08-15-07-44-44-619\n",
      "."
     ]
    }
   ],
   "source": [
    "instance_type = 'local'\n",
    "# instance_type = 'ml.m4.2xlarge'\n",
    "transform_train_output_path = 's3://{}/{}/{}/'.format(bucket, prefix, 'transformtrain-pca-train-output')\n",
    "\n",
    "pca_model = pca_estimator.create_model(\n",
    "    env={'TRANSFORM_MODE': 'feature-transform', 'LENGTH_COLS': str(num_cols)})\n",
    "\n",
    "# scikit_learn_inferencee_model 에서 Train Transformer 생성\n",
    "transformer_train = pca_model.transformer(\n",
    "    instance_count=1, \n",
    "    instance_type= instance_type,\n",
    "    assemble_with = 'Line',\n",
    "    output_path = transform_train_output_path,\n",
    "    accept = 'text/csv')\n",
    "\n",
    "\n",
    "# Preprocess training input\n",
    "transformer_train.transform(preprocessed_train_path_file, \n",
    "                            content_type='text/csv',                            \n",
    "                           )\n",
    "\n",
    "print('Waiting for transform job: ' + transformer_train.latest_transform_job.job_name)\n",
    "transformer_train.wait()\n",
    "\n",
    "preprocessed_pca_train_path = transformer_train.output_path + transformer_train.latest_transform_job.job_name\n"
   ]
  },
  {
   "cell_type": "code",
   "execution_count": 15,
   "metadata": {},
   "outputs": [
    {
     "name": "stdout",
     "output_type": "stream",
     "text": [
      "s3://sagemaker-us-east-2-057716757052/Scikit-pca-custom/transformtrain-pca-train-output/pca-2020-08-15-07-44-44-619-2020-08-15-07-44-44-619\n"
     ]
    }
   ],
   "source": [
    "print(preprocessed_pca_train_path)"
   ]
  },
  {
   "cell_type": "code",
   "execution_count": 16,
   "metadata": {},
   "outputs": [
    {
     "name": "stdout",
     "output_type": "stream",
     "text": [
      "2020-08-13 01:27:28     707835 Scikit-pca-custom/transformtrain-pca-train-output/pca-2020-08-13-01-27-21-375-2020-08-13-01-27-21-375/train.csv.out.out\n"
     ]
    }
   ],
   "source": [
    "! aws s3 ls s3://sagemaker-us-east-2-057716757052/Scikit-pca-custom/transformtrain-pca-train-output/pca-2020-08-13-01-27-21-375-2020-08-13-01-27-21-375 --recursive"
   ]
  },
  {
   "cell_type": "code",
   "execution_count": 17,
   "metadata": {},
   "outputs": [
    {
     "data": {
      "text/html": [
       "<div>\n",
       "<style scoped>\n",
       "    .dataframe tbody tr th:only-of-type {\n",
       "        vertical-align: middle;\n",
       "    }\n",
       "\n",
       "    .dataframe tbody tr th {\n",
       "        vertical-align: top;\n",
       "    }\n",
       "\n",
       "    .dataframe thead th {\n",
       "        text-align: right;\n",
       "    }\n",
       "</style>\n",
       "<table border=\"1\" class=\"dataframe\">\n",
       "  <thead>\n",
       "    <tr style=\"text-align: right;\">\n",
       "      <th></th>\n",
       "      <th>0</th>\n",
       "      <th>1</th>\n",
       "      <th>2</th>\n",
       "      <th>3</th>\n",
       "      <th>4</th>\n",
       "      <th>5</th>\n",
       "      <th>6</th>\n",
       "      <th>7</th>\n",
       "      <th>8</th>\n",
       "      <th>9</th>\n",
       "      <th>10</th>\n",
       "    </tr>\n",
       "  </thead>\n",
       "  <tbody>\n",
       "    <tr>\n",
       "      <th>0</th>\n",
       "      <td>0.0</td>\n",
       "      <td>-0.823085</td>\n",
       "      <td>-0.108811</td>\n",
       "      <td>0.452843</td>\n",
       "      <td>-0.030507</td>\n",
       "      <td>-1.031997</td>\n",
       "      <td>-2.956747</td>\n",
       "      <td>-0.051300</td>\n",
       "      <td>-0.706446</td>\n",
       "      <td>1.064536</td>\n",
       "      <td>-0.437290</td>\n",
       "    </tr>\n",
       "    <tr>\n",
       "      <th>1</th>\n",
       "      <td>0.0</td>\n",
       "      <td>-0.343474</td>\n",
       "      <td>0.091423</td>\n",
       "      <td>1.949026</td>\n",
       "      <td>1.268235</td>\n",
       "      <td>0.009081</td>\n",
       "      <td>0.421556</td>\n",
       "      <td>-0.988975</td>\n",
       "      <td>0.868835</td>\n",
       "      <td>-0.542355</td>\n",
       "      <td>-0.341819</td>\n",
       "    </tr>\n",
       "    <tr>\n",
       "      <th>2</th>\n",
       "      <td>1.0</td>\n",
       "      <td>-0.764309</td>\n",
       "      <td>0.011604</td>\n",
       "      <td>0.822738</td>\n",
       "      <td>-1.429299</td>\n",
       "      <td>-1.627301</td>\n",
       "      <td>-0.741560</td>\n",
       "      <td>0.550952</td>\n",
       "      <td>0.428517</td>\n",
       "      <td>-0.326231</td>\n",
       "      <td>-0.289266</td>\n",
       "    </tr>\n",
       "    <tr>\n",
       "      <th>3</th>\n",
       "      <td>0.0</td>\n",
       "      <td>-0.825983</td>\n",
       "      <td>-0.722031</td>\n",
       "      <td>-0.339858</td>\n",
       "      <td>-0.980679</td>\n",
       "      <td>-0.260783</td>\n",
       "      <td>0.357790</td>\n",
       "      <td>-0.669738</td>\n",
       "      <td>-1.122771</td>\n",
       "      <td>-1.451326</td>\n",
       "      <td>-0.006193</td>\n",
       "    </tr>\n",
       "    <tr>\n",
       "      <th>4</th>\n",
       "      <td>0.0</td>\n",
       "      <td>1.830756</td>\n",
       "      <td>0.701878</td>\n",
       "      <td>0.194737</td>\n",
       "      <td>-1.351443</td>\n",
       "      <td>-0.729668</td>\n",
       "      <td>0.845136</td>\n",
       "      <td>0.150495</td>\n",
       "      <td>0.084293</td>\n",
       "      <td>0.180299</td>\n",
       "      <td>0.751587</td>\n",
       "    </tr>\n",
       "  </tbody>\n",
       "</table>\n",
       "</div>"
      ],
      "text/plain": [
       "    0         1         2         3         4         5         6         7   \\\n",
       "0  0.0 -0.823085 -0.108811  0.452843 -0.030507 -1.031997 -2.956747 -0.051300   \n",
       "1  0.0 -0.343474  0.091423  1.949026  1.268235  0.009081  0.421556 -0.988975   \n",
       "2  1.0 -0.764309  0.011604  0.822738 -1.429299 -1.627301 -0.741560  0.550952   \n",
       "3  0.0 -0.825983 -0.722031 -0.339858 -0.980679 -0.260783  0.357790 -0.669738   \n",
       "4  0.0  1.830756  0.701878  0.194737 -1.351443 -0.729668  0.845136  0.150495   \n",
       "\n",
       "         8         9         10  \n",
       "0 -0.706446  1.064536 -0.437290  \n",
       "1  0.868835 -0.542355 -0.341819  \n",
       "2  0.428517 -0.326231 -0.289266  \n",
       "3 -1.122771 -1.451326 -0.006193  \n",
       "4  0.084293  0.180299  0.751587  "
      ]
     },
     "execution_count": 17,
     "metadata": {},
     "output_type": "execute_result"
    }
   ],
   "source": [
    "preprocessed_pca_train_path_file = '{}/train.csv.out.out'.format(preprocessed_pca_train_path)\n",
    "pca_preoc_df = pd.read_csv(preprocessed_pca_train_path_file, header=None)\n",
    "pca_preoc_df.head()"
   ]
  },
  {
   "cell_type": "markdown",
   "metadata": {},
   "source": [
    "## PCA Validation Transforming"
   ]
  },
  {
   "cell_type": "code",
   "execution_count": 18,
   "metadata": {},
   "outputs": [
    {
     "data": {
      "text/plain": [
       "'s3://sagemaker-us-east-2-057716757052/sagemaker/customer-churn/transformtrain-validation-output/sagemaker-scikit-learn-2020-08-15-07-23-2020-08-15-07-23-14-753'"
      ]
     },
     "execution_count": 18,
     "metadata": {},
     "output_type": "execute_result"
    }
   ],
   "source": [
    "preprocessed_validation_path"
   ]
  },
  {
   "cell_type": "code",
   "execution_count": 19,
   "metadata": {},
   "outputs": [
    {
     "name": "stdout",
     "output_type": "stream",
     "text": [
      "(666, 70)\n",
      "num_cols:  70\n"
     ]
    }
   ],
   "source": [
    "import pandas as pd\n",
    "\n",
    "preprocessed_validation_path_file = '{}/validation.csv.out'.format(preprocessed_validation_path)\n",
    "pre_df = pd.read_csv(preprocessed_validation_path_file, header=None)\n",
    "print(pre_df.shape)\n",
    "num_cols = pre_df.shape[1]\n",
    "print(\"num_cols: \", num_cols)"
   ]
  },
  {
   "cell_type": "code",
   "execution_count": 20,
   "metadata": {},
   "outputs": [
    {
     "name": "stderr",
     "output_type": "stream",
     "text": [
      "Parameter image will be renamed to image_uri in SageMaker Python SDK v2.\n"
     ]
    },
    {
     "name": "stdout",
     "output_type": "stream",
     "text": [
      "Attaching to tmpg6rpbia8_algo-1-xzlvl_1\n",
      "\u001b[36malgo-1-xzlvl_1  |\u001b[0m Processing /opt/ml/code\n",
      "\u001b[36malgo-1-xzlvl_1  |\u001b[0m Building wheels for collected packages: pca-byoc-train\n",
      "\u001b[36malgo-1-xzlvl_1  |\u001b[0m   Building wheel for pca-byoc-train (setup.py) ... \u001b[?25ldone\n",
      "\u001b[36malgo-1-xzlvl_1  |\u001b[0m \u001b[?25h  Created wheel for pca-byoc-train: filename=pca_byoc_train-1.0.0-py2.py3-none-any.whl size=9475 sha256=673f9d50fb7a73f7d53f01a90ef8e31c4ac9f2163a2b19433d5a4eee62f81c92\n",
      "\u001b[36malgo-1-xzlvl_1  |\u001b[0m   Stored in directory: /tmp/pip-ephem-wheel-cache-6tz6akhh/wheels/35/24/16/37574d11bf9bde50616c67372a334f94fa8356bc7164af8ca3\n",
      "\u001b[36malgo-1-xzlvl_1  |\u001b[0m Successfully built pca-byoc-train\n",
      "\u001b[36malgo-1-xzlvl_1  |\u001b[0m Installing collected packages: pca-byoc-train\n",
      "\u001b[36malgo-1-xzlvl_1  |\u001b[0m Successfully installed pca-byoc-train-1.0.0\n",
      "\u001b[36malgo-1-xzlvl_1  |\u001b[0m /miniconda3/lib/python3.7/site-packages/sklearn/externals/joblib/externals/cloudpickle/cloudpickle.py:47: DeprecationWarning: the imp module is deprecated in favour of importlib; see the module's documentation for alternative uses\n",
      "\u001b[36malgo-1-xzlvl_1  |\u001b[0m   import imp\n",
      "\u001b[36malgo-1-xzlvl_1  |\u001b[0m [2020-08-15 07:44:55 +0000] [44] [INFO] Starting gunicorn 19.9.0\n",
      "\u001b[36malgo-1-xzlvl_1  |\u001b[0m [2020-08-15 07:44:55 +0000] [44] [INFO] Listening at: unix:/tmp/gunicorn.sock (44)\n",
      "\u001b[36malgo-1-xzlvl_1  |\u001b[0m [2020-08-15 07:44:55 +0000] [44] [INFO] Using worker: gevent\n",
      "\u001b[36malgo-1-xzlvl_1  |\u001b[0m [2020-08-15 07:44:55 +0000] [47] [INFO] Booting worker with pid: 47\n",
      "\u001b[36malgo-1-xzlvl_1  |\u001b[0m [2020-08-15 07:44:55 +0000] [55] [INFO] Booting worker with pid: 55\n",
      "\u001b[36malgo-1-xzlvl_1  |\u001b[0m [2020-08-15 07:44:55 +0000] [56] [INFO] Booting worker with pid: 56\n",
      "\u001b[36malgo-1-xzlvl_1  |\u001b[0m [2020-08-15 07:44:55 +0000] [71] [INFO] Booting worker with pid: 71\n",
      "\u001b[36malgo-1-xzlvl_1  |\u001b[0m [2020-08-15 07:44:55 +0000] [72] [INFO] Booting worker with pid: 72\n",
      "\u001b[36malgo-1-xzlvl_1  |\u001b[0m [2020-08-15 07:44:55 +0000] [80] [INFO] Booting worker with pid: 80\n",
      "\u001b[36malgo-1-xzlvl_1  |\u001b[0m [2020-08-15 07:44:55 +0000] [95] [INFO] Booting worker with pid: 95\n",
      "\u001b[36malgo-1-xzlvl_1  |\u001b[0m [2020-08-15 07:44:55 +0000] [96] [INFO] Booting worker with pid: 96\n",
      "\u001b[36malgo-1-xzlvl_1  |\u001b[0m 2020-08-15 07:44:57,561 INFO - sagemaker-containers - No GPUs detected (normal if no gpus installed)\n",
      "\u001b[36malgo-1-xzlvl_1  |\u001b[0m /miniconda3/lib/python3.7/site-packages/sklearn/externals/joblib/externals/cloudpickle/cloudpickle.py:47: DeprecationWarning: the imp module is deprecated in favour of importlib; see the module's documentation for alternative uses\n",
      "\u001b[36malgo-1-xzlvl_1  |\u001b[0m   import imp\n",
      "\u001b[36malgo-1-xzlvl_1  |\u001b[0m 172.18.0.1 - - [15/Aug/2020:07:44:57 +0000] \"GET /ping HTTP/1.1\" 200 0 \"-\" \"-\"\n",
      "\u001b[36malgo-1-xzlvl_1  |\u001b[0m 2020-08-15 07:44:57,930 INFO - sagemaker-containers - No GPUs detected (normal if no gpus installed)\n",
      "\u001b[36malgo-1-xzlvl_1  |\u001b[0m /miniconda3/lib/python3.7/site-packages/sklearn/externals/joblib/externals/cloudpickle/cloudpickle.py:47: DeprecationWarning: the imp module is deprecated in favour of importlib; see the module's documentation for alternative uses\n",
      "\u001b[36malgo-1-xzlvl_1  |\u001b[0m   import imp\n",
      "\u001b[36malgo-1-xzlvl_1  |\u001b[0m 172.18.0.1 - - [15/Aug/2020:07:44:58 +0000] \"GET /execution-parameters HTTP/1.1\" 404 232 \"-\" \"-\"\n",
      "\u001b[36malgo-1-xzlvl_1  |\u001b[0m input_fn: Starting\n",
      "\u001b[36malgo-1-xzlvl_1  |\u001b[0m type of input_data:  <class 'str'>\n",
      "\u001b[36malgo-1-xzlvl_1  |\u001b[0m request_content_type:  text/csv\n",
      "\u001b[36malgo-1-xzlvl_1  |\u001b[0m 2020-08-15 07:44:58,463 INFO - root - input_fn: \n",
      "\u001b[36malgo-1-xzlvl_1  |\u001b[0m 2020-08-15 07:44:58,463 INFO - root - shape of requested data: '(666, 70)'\n",
      "\u001b[36malgo-1-xzlvl_1  |\u001b[0m 2020-08-15 07:44:58,528 INFO - root - requested data: '      0   ...   69\n",
      "\u001b[36malgo-1-xzlvl_1  |\u001b[0m 0    0.0  ...  1.0\n",
      "\u001b[36malgo-1-xzlvl_1  |\u001b[0m 1    0.0  ...  0.0\n",
      "\u001b[36malgo-1-xzlvl_1  |\u001b[0m 2    0.0  ...  1.0\n",
      "\u001b[36malgo-1-xzlvl_1  |\u001b[0m 3    0.0  ...  0.0\n",
      "\u001b[36malgo-1-xzlvl_1  |\u001b[0m 4    0.0  ...  1.0\n",
      "\u001b[36malgo-1-xzlvl_1  |\u001b[0m ..   ...  ...  ...\n",
      "\u001b[36malgo-1-xzlvl_1  |\u001b[0m 661  0.0  ...  0.0\n",
      "\u001b[36malgo-1-xzlvl_1  |\u001b[0m 662  0.0  ...  0.0\n",
      "\u001b[36malgo-1-xzlvl_1  |\u001b[0m 663  0.0  ...  1.0\n",
      "\u001b[36malgo-1-xzlvl_1  |\u001b[0m 664  0.0  ...  0.0\n",
      "\u001b[36malgo-1-xzlvl_1  |\u001b[0m 665  0.0  ...  1.0\n",
      "\u001b[36malgo-1-xzlvl_1  |\u001b[0m \n",
      "\u001b[36malgo-1-xzlvl_1  |\u001b[0m [666 rows x 70 columns]'\n",
      "\u001b[36malgo-1-xzlvl_1  |\u001b[0m prdict_fn: Staring\n",
      "\u001b[36malgo-1-xzlvl_1  |\u001b[0m os.getenv('TRANSFORM_MODE'):  feature-transform\n",
      "\u001b[36malgo-1-xzlvl_1  |\u001b[0m predcit_fn - TRANSFORM_MODE:  feature-transform\n",
      "\u001b[36malgo-1-xzlvl_1  |\u001b[0m 2020-08-15 07:44:58,590 INFO - root - predict_fn: input_data - '      0   ...   69\n",
      "\u001b[36malgo-1-xzlvl_1  |\u001b[0m 0    0.0  ...  1.0\n",
      "\u001b[36malgo-1-xzlvl_1  |\u001b[0m 1    0.0  ...  0.0\n",
      "\u001b[36malgo-1-xzlvl_1  |\u001b[0m 2    0.0  ...  1.0\n",
      "\u001b[36malgo-1-xzlvl_1  |\u001b[0m 3    0.0  ...  0.0\n",
      "\u001b[36malgo-1-xzlvl_1  |\u001b[0m 4    0.0  ...  1.0\n",
      "\u001b[36malgo-1-xzlvl_1  |\u001b[0m ..   ...  ...  ...\n",
      "\u001b[36malgo-1-xzlvl_1  |\u001b[0m 661  0.0  ...  0.0\n",
      "\u001b[36malgo-1-xzlvl_1  |\u001b[0m 662  0.0  ...  0.0\n",
      "\u001b[36malgo-1-xzlvl_1  |\u001b[0m 663  0.0  ...  1.0\n",
      "\u001b[36malgo-1-xzlvl_1  |\u001b[0m 664  0.0  ...  0.0\n",
      "\u001b[36malgo-1-xzlvl_1  |\u001b[0m 665  0.0  ...  1.0\n",
      "\u001b[36malgo-1-xzlvl_1  |\u001b[0m \n",
      "\u001b[36malgo-1-xzlvl_1  |\u001b[0m [666 rows x 70 columns]'\n",
      "\u001b[36malgo-1-xzlvl_1  |\u001b[0m type of input_data:  <class 'pandas.core.frame.DataFrame'>\n",
      "\u001b[36malgo-1-xzlvl_1  |\u001b[0m shape of input_data:  (666, 70)\n",
      "\u001b[36malgo-1-xzlvl_1  |\u001b[0m head of input_data: \n",
      "\u001b[36malgo-1-xzlvl_1  |\u001b[0m       0   ...   69\n",
      "\u001b[36malgo-1-xzlvl_1  |\u001b[0m 0  0.0  ...  1.0\n",
      "\u001b[36malgo-1-xzlvl_1  |\u001b[0m 1  0.0  ...  0.0\n",
      "\u001b[36malgo-1-xzlvl_1  |\u001b[0m \n",
      "\u001b[36malgo-1-xzlvl_1  |\u001b[0m [2 rows x 70 columns]\n",
      "\u001b[36malgo-1-xzlvl_1  |\u001b[0m os.getenv('LENGTH_COLS') :  70\n",
      "\u001b[36malgo-1-xzlvl_1  |\u001b[0m type: os.getenv('LENGTH_COLS'):  <class 'str'>\n",
      "\u001b[36malgo-1-xzlvl_1  |\u001b[0m type of components:  <class 'numpy.ndarray'>\n",
      "\u001b[36malgo-1-xzlvl_1  |\u001b[0m shape of components:  (666, 10)\n",
      "\u001b[36malgo-1-xzlvl_1  |\u001b[0m 2020-08-15 07:44:58,656 INFO - root - predict_fn: PCA components: \n",
      "\u001b[36malgo-1-xzlvl_1  |\u001b[0m '[[ 0.          1.64752263  1.32131166 ... -1.37599951  0.19210837\n",
      "\u001b[36malgo-1-xzlvl_1  |\u001b[0m   -0.4070865 ]\n",
      "\u001b[36malgo-1-xzlvl_1  |\u001b[0m  [ 0.         -0.56875566  0.20978152 ...  0.98086904 -1.32056218\n",
      "\u001b[36malgo-1-xzlvl_1  |\u001b[0m   -1.22798379]\n",
      "\u001b[36malgo-1-xzlvl_1  |\u001b[0m  [ 0.          1.85617085 -0.55897451 ...  0.83253647  1.13130226\n",
      "\u001b[36malgo-1-xzlvl_1  |\u001b[0m    1.98565219]\n",
      "\u001b[36malgo-1-xzlvl_1  |\u001b[0m  ...\n",
      "\u001b[36malgo-1-xzlvl_1  |\u001b[0m  [ 0.          1.82761578 -1.00779899 ... -0.42549596 -0.29981596\n",
      "\u001b[36malgo-1-xzlvl_1  |\u001b[0m   -0.10441059]\n",
      "\u001b[36malgo-1-xzlvl_1  |\u001b[0m  [ 0.         -0.42245029  0.53220338 ...  0.01329805  1.07452151\n",
      "\u001b[36malgo-1-xzlvl_1  |\u001b[0m    0.10814658]\n",
      "\u001b[36malgo-1-xzlvl_1  |\u001b[0m  [ 0.          2.79442241  1.44731324 ... -0.8891907   0.55672271\n",
      "\u001b[36malgo-1-xzlvl_1  |\u001b[0m    2.254344  ]]'\n",
      "\u001b[36malgo-1-xzlvl_1  |\u001b[0m 2020-08-15 07:44:58,656 INFO - root - Output_fn: prdiction - '[[ 0.          1.64752263  1.32131166 ... -1.37599951  0.19210837\n",
      "\u001b[36malgo-1-xzlvl_1  |\u001b[0m   -0.4070865 ]\n",
      "\u001b[36malgo-1-xzlvl_1  |\u001b[0m  [ 0.         -0.56875566  0.20978152 ...  0.98086904 -1.32056218\n",
      "\u001b[36malgo-1-xzlvl_1  |\u001b[0m   -1.22798379]\n",
      "\u001b[36malgo-1-xzlvl_1  |\u001b[0m  [ 0.          1.85617085 -0.55897451 ...  0.83253647  1.13130226\n",
      "\u001b[36malgo-1-xzlvl_1  |\u001b[0m    1.98565219]\n",
      "\u001b[36malgo-1-xzlvl_1  |\u001b[0m  ...\n",
      "\u001b[36malgo-1-xzlvl_1  |\u001b[0m  [ 0.          1.82761578 -1.00779899 ... -0.42549596 -0.29981596\n",
      "\u001b[36malgo-1-xzlvl_1  |\u001b[0m   -0.10441059]\n",
      "\u001b[36malgo-1-xzlvl_1  |\u001b[0m  [ 0.         -0.42245029  0.53220338 ...  0.01329805  1.07452151\n",
      "\u001b[36malgo-1-xzlvl_1  |\u001b[0m    0.10814658]\n",
      "\u001b[36malgo-1-xzlvl_1  |\u001b[0m  [ 0.          2.79442241  1.44731324 ... -0.8891907   0.55672271\n",
      "\u001b[36malgo-1-xzlvl_1  |\u001b[0m    2.254344  ]]' \n",
      "\u001b[36malgo-1-xzlvl_1  |\u001b[0m type of accept :  text/csv\n",
      "\u001b[36malgo-1-xzlvl_1  |\u001b[0m type of accept after a change :  text/csv\n",
      "\u001b[36malgo-1-xzlvl_1  |\u001b[0m 172.18.0.1 - - [15/Aug/2020:07:44:58 +0000] \"POST /invocations HTTP/1.1\" 200 133450 \"-\" \"-\"\n",
      "Gracefully stopping... (press Ctrl+C again to force)\n",
      "Waiting for transform job: pca-2020-08-15-07-44-52-406-2020-08-15-07-44-52-406\n",
      ".s3://sagemaker-us-east-2-057716757052/Scikit-pca-custom/transformtrain-pca-validation-output/pca-2020-08-15-07-44-52-406-2020-08-15-07-44-52-406\n"
     ]
    }
   ],
   "source": [
    "\n",
    "\n",
    "instance_type = 'local'\n",
    "# instance_type = 'ml.m4.2xlarge'\n",
    "transform_validation_output_path = 's3://{}/{}/{}/'.format(bucket, prefix, 'transformtrain-pca-validation-output')\n",
    "\n",
    "pca_model = pca_estimator.create_model(\n",
    "    env={'TRANSFORM_MODE': 'feature-transform', 'LENGTH_COLS': str(num_cols)})\n",
    "\n",
    "# scikit_learn_inferencee_model 에서 Train Transformer 생성\n",
    "transformer_validation = pca_model.transformer(\n",
    "    instance_count=1, \n",
    "    instance_type= instance_type,\n",
    "    assemble_with = 'Line',\n",
    "    output_path = transform_validation_output_path,\n",
    "    accept = 'text/csv')\n",
    "\n",
    "\n",
    "# Preprocess training input\n",
    "transformer_validation.transform(preprocessed_validation_path_file, \n",
    "                            content_type='text/csv',                            \n",
    "                           )\n",
    "\n",
    "print('Waiting for transform job: ' + transformer_validation.latest_transform_job.job_name)\n",
    "transformer_validation.wait()\n",
    "\n",
    "preprocessed_pca_validation_path = transformer_validation.output_path + transformer_validation.latest_transform_job.job_name\n",
    "print(preprocessed_pca_validation_path)"
   ]
  },
  {
   "cell_type": "code",
   "execution_count": 21,
   "metadata": {},
   "outputs": [
    {
     "data": {
      "text/html": [
       "<div>\n",
       "<style scoped>\n",
       "    .dataframe tbody tr th:only-of-type {\n",
       "        vertical-align: middle;\n",
       "    }\n",
       "\n",
       "    .dataframe tbody tr th {\n",
       "        vertical-align: top;\n",
       "    }\n",
       "\n",
       "    .dataframe thead th {\n",
       "        text-align: right;\n",
       "    }\n",
       "</style>\n",
       "<table border=\"1\" class=\"dataframe\">\n",
       "  <thead>\n",
       "    <tr style=\"text-align: right;\">\n",
       "      <th></th>\n",
       "      <th>0</th>\n",
       "      <th>1</th>\n",
       "      <th>2</th>\n",
       "      <th>3</th>\n",
       "      <th>4</th>\n",
       "      <th>5</th>\n",
       "      <th>6</th>\n",
       "      <th>7</th>\n",
       "      <th>8</th>\n",
       "      <th>9</th>\n",
       "      <th>10</th>\n",
       "    </tr>\n",
       "  </thead>\n",
       "  <tbody>\n",
       "    <tr>\n",
       "      <th>0</th>\n",
       "      <td>0.0</td>\n",
       "      <td>1.647523</td>\n",
       "      <td>1.321312</td>\n",
       "      <td>-0.096829</td>\n",
       "      <td>0.255327</td>\n",
       "      <td>1.185455</td>\n",
       "      <td>-1.356901</td>\n",
       "      <td>-0.144986</td>\n",
       "      <td>-1.376000</td>\n",
       "      <td>0.192108</td>\n",
       "      <td>-0.407087</td>\n",
       "    </tr>\n",
       "    <tr>\n",
       "      <th>1</th>\n",
       "      <td>0.0</td>\n",
       "      <td>-0.568756</td>\n",
       "      <td>0.209782</td>\n",
       "      <td>0.928801</td>\n",
       "      <td>-0.421777</td>\n",
       "      <td>-1.249794</td>\n",
       "      <td>-1.183297</td>\n",
       "      <td>-2.058817</td>\n",
       "      <td>0.980869</td>\n",
       "      <td>-1.320562</td>\n",
       "      <td>-1.227984</td>\n",
       "    </tr>\n",
       "    <tr>\n",
       "      <th>2</th>\n",
       "      <td>0.0</td>\n",
       "      <td>1.856171</td>\n",
       "      <td>-0.558975</td>\n",
       "      <td>-1.969703</td>\n",
       "      <td>0.315529</td>\n",
       "      <td>0.132519</td>\n",
       "      <td>-0.136767</td>\n",
       "      <td>-0.623570</td>\n",
       "      <td>0.832536</td>\n",
       "      <td>1.131302</td>\n",
       "      <td>1.985652</td>\n",
       "    </tr>\n",
       "    <tr>\n",
       "      <th>3</th>\n",
       "      <td>0.0</td>\n",
       "      <td>-0.681862</td>\n",
       "      <td>-1.326923</td>\n",
       "      <td>-0.849271</td>\n",
       "      <td>-1.372694</td>\n",
       "      <td>-0.960617</td>\n",
       "      <td>1.216868</td>\n",
       "      <td>-0.801562</td>\n",
       "      <td>2.278247</td>\n",
       "      <td>-0.030436</td>\n",
       "      <td>0.099985</td>\n",
       "    </tr>\n",
       "    <tr>\n",
       "      <th>4</th>\n",
       "      <td>0.0</td>\n",
       "      <td>2.290559</td>\n",
       "      <td>0.265566</td>\n",
       "      <td>-0.891170</td>\n",
       "      <td>0.860266</td>\n",
       "      <td>0.113337</td>\n",
       "      <td>0.457285</td>\n",
       "      <td>-0.131537</td>\n",
       "      <td>-0.713534</td>\n",
       "      <td>-0.735986</td>\n",
       "      <td>0.545870</td>\n",
       "    </tr>\n",
       "  </tbody>\n",
       "</table>\n",
       "</div>"
      ],
      "text/plain": [
       "    0         1         2         3         4         5         6         7   \\\n",
       "0  0.0  1.647523  1.321312 -0.096829  0.255327  1.185455 -1.356901 -0.144986   \n",
       "1  0.0 -0.568756  0.209782  0.928801 -0.421777 -1.249794 -1.183297 -2.058817   \n",
       "2  0.0  1.856171 -0.558975 -1.969703  0.315529  0.132519 -0.136767 -0.623570   \n",
       "3  0.0 -0.681862 -1.326923 -0.849271 -1.372694 -0.960617  1.216868 -0.801562   \n",
       "4  0.0  2.290559  0.265566 -0.891170  0.860266  0.113337  0.457285 -0.131537   \n",
       "\n",
       "         8         9         10  \n",
       "0 -1.376000  0.192108 -0.407087  \n",
       "1  0.980869 -1.320562 -1.227984  \n",
       "2  0.832536  1.131302  1.985652  \n",
       "3  2.278247 -0.030436  0.099985  \n",
       "4 -0.713534 -0.735986  0.545870  "
      ]
     },
     "execution_count": 21,
     "metadata": {},
     "output_type": "execute_result"
    }
   ],
   "source": [
    "preprocessed_pca_validation_path_file = '{}/validation.csv.out.out'.format(preprocessed_pca_validation_path)\n",
    "pca_val_preoc_df = pd.read_csv(preprocessed_pca_validation_path_file, header=None)\n",
    "pca_val_preoc_df.head()"
   ]
  },
  {
   "cell_type": "markdown",
   "metadata": {},
   "source": [
    "## Inference Pipeline <a class=\"anchor\" id=\"pipeline_setup\"></a>\n",
    "\n",
    "아래 그림과 같이 위에서 생성한 전처리, 알고리즘 학습, 후처리의 세가지 모델을 가지고 1개의 단일 모델을 만들어 Inference Pipleline을 생성 합니다. <br>\n",
    "**입력 데이타 가공이 없이 실제 데이타가 입력이 되면, 1개의 단일 모델을 통해서 최종적으로 예측 결과인 True, False의 결과 값이 제공 됩니다.**\n",
    "\n",
    "![Inference-pipeline](img/Fig2.2.inference_pipeline.png)\n",
    "\n",
    "\n",
    "**Machine Learning Model Pipeline (Inference Pipeline)는 create_model() 를 호출하여 만들 수 있습니다.** <br>\n",
    "예를 들어 여기서는 the fitted Scikit-learn inference model, the fitted Xgboost model and the psotprocessing model 의 세가지 모델을 가지고 만듦니다."
   ]
  },
  {
   "cell_type": "markdown",
   "metadata": {},
   "source": [
    "아래는 세개 모델을 생성함. 전처리, 후처리 모델 생성시에는 환경 변수를 제공 함"
   ]
  },
  {
   "cell_type": "code",
   "execution_count": 22,
   "metadata": {},
   "outputs": [
    {
     "data": {
      "text/plain": [
       "'057716757052.dkr.ecr.us-east-2.amazonaws.com/sagemaker-training-containers/pca:latest'"
      ]
     },
     "execution_count": 22,
     "metadata": {},
     "output_type": "execute_result"
    }
   ],
   "source": [
    "pca_estimator.model_data\n",
    "pca_estimator.image_name"
   ]
  },
  {
   "cell_type": "code",
   "execution_count": 23,
   "metadata": {},
   "outputs": [
    {
     "name": "stdout",
     "output_type": "stream",
     "text": [
      "pca_model_data: \n",
      " s3://sagemaker-us-east-2-057716757052/Scikit-pca-custom-2020-08-15-07-44-39-957/model.tar.gz\n",
      "pca_image_name: \n",
      " 057716757052.dkr.ecr.us-east-2.amazonaws.com/sagemaker-training-containers/pca:latest\n",
      "Stored 'preprocessed_pca_train_path' (str)\n",
      "Stored 'preprocessed_pca_validation_path' (str)\n",
      "Stored 'pca_model_data' (str)\n",
      "Stored 'pca_image_name' (str)\n"
     ]
    }
   ],
   "source": [
    "pca_model_data = pca_estimator.model_data\n",
    "pca_image_name = pca_estimator.image_name\n",
    "print(\"pca_model_data: \\n\", pca_model_data)\n",
    "print(\"pca_image_name: \\n\", pca_image_name)\n",
    "\n",
    "%store preprocessed_pca_train_path\n",
    "%store preprocessed_pca_validation_path\n",
    "%store pca_model_data\n",
    "%store pca_image_name"
   ]
  },
  {
   "cell_type": "code",
   "execution_count": 24,
   "metadata": {},
   "outputs": [],
   "source": [
    "# ! aws s3 ls {preprocessed_pca_train_path} --recursive"
   ]
  },
  {
   "cell_type": "code",
   "execution_count": null,
   "metadata": {},
   "outputs": [],
   "source": []
  },
  {
   "cell_type": "code",
   "execution_count": null,
   "metadata": {},
   "outputs": [],
   "source": []
  }
 ],
 "metadata": {
  "celltoolbar": "Tags",
  "instance_type": "ml.t3.medium",
  "kernelspec": {
   "display_name": "conda_python3",
   "language": "python",
   "name": "conda_python3"
  },
  "language_info": {
   "codemirror_mode": {
    "name": "ipython",
    "version": 3
   },
   "file_extension": ".py",
   "mimetype": "text/x-python",
   "name": "python",
   "nbconvert_exporter": "python",
   "pygments_lexer": "ipython3",
   "version": "3.6.10"
  },
  "notice": "Copyright 2017 Amazon.com, Inc. or its affiliates. All Rights Reserved.  Licensed under the Apache License, Version 2.0 (the \"License\"). You may not use this file except in compliance with the License. A copy of the License is located at http://aws.amazon.com/apache2.0/ or in the \"license\" file accompanying this file. This file is distributed on an \"AS IS\" BASIS, WITHOUT WARRANTIES OR CONDITIONS OF ANY KIND, either express or implied. See the License for the specific language governing permissions and limitations under the License."
 },
 "nbformat": 4,
 "nbformat_minor": 4
}
