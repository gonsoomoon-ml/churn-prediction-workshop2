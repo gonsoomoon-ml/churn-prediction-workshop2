{
 "cells": [
  {
   "cell_type": "markdown",
   "metadata": {},
   "source": [
    "# [Module 9.0] Inferencde Pipeline 생성 로그 확인"
   ]
  },
  {
   "cell_type": "markdown",
   "metadata": {},
   "source": [
    "## Inference Pipeline <a class=\"anchor\" id=\"pipeline_setup\"></a>\n",
    "\n",
    "아래 그림과 같이 위에서 생성한 전처리, 알고리즘 학습, 후처리의 세가지 모델을 가지고 1개의 단일 모델을 만들어 Inference Pipleline을 생성 합니다. <br>\n",
    "**입력 데이타 가공이 없이 실제 데이타가 입력이 되면, 1개의 단일 모델을 통해서 최종적으로 예측 결과인 True, False의 결과 값이 제공 됩니다.**\n",
    "\n",
    "![Inference-pipeline](img/Fig2.2.inference_pipeline.png)\n",
    "\n",
    "\n",
    "**Machine Learning Model Pipeline (Inference Pipeline)는 create_model() 를 호출하여 만들 수 있습니다.** <br>\n",
    "예를 들어 여기서는 the fitted Scikit-learn inference model, the fitted Xgboost model and the psotprocessing model 의 세가지 모델을 가지고 만듦니다."
   ]
  },
  {
   "cell_type": "markdown",
   "metadata": {},
   "source": [
    "아래는 세개 모델을 생성함. 전처리, 후처리 모델 생성시에는 환경 변수를 제공 함"
   ]
  },
  {
   "cell_type": "code",
   "execution_count": 1,
   "metadata": {},
   "outputs": [],
   "source": [
    "import sagemaker\n",
    "import pandas as pd\n",
    "import numpy as np\n",
    "import os\n",
    "import time\n",
    "import json\n",
    "import boto3\n",
    "from time import strftime, gmtime"
   ]
  },
  {
   "cell_type": "code",
   "execution_count": 2,
   "metadata": {},
   "outputs": [],
   "source": [
    "role = sagemaker.get_execution_role()"
   ]
  },
  {
   "cell_type": "code",
   "execution_count": 3,
   "metadata": {},
   "outputs": [
    {
     "name": "stdout",
     "output_type": "stream",
     "text": [
      "Unable to restore variable 'scikit_learn_pre_process_model', ignoring (use %store -d to forget!)\n",
      "The error was: <class 'KeyError'>\n"
     ]
    }
   ],
   "source": [
    "%store -r"
   ]
  },
  {
   "cell_type": "code",
   "execution_count": 4,
   "metadata": {},
   "outputs": [
    {
     "name": "stdout",
     "output_type": "stream",
     "text": [
      "Stored variables and their in-db values:\n",
      "bucket                                             -> 'sagemaker-us-east-2-057716757052'\n",
      "inference_pipeline_model_name                      -> 'churn-inference-pipeline-2020-08-15-07-04-56'\n",
      "pca_image_name                                     -> '057716757052.dkr.ecr.us-east-2.amazonaws.com/sage\n",
      "pca_model_data                                     -> 's3://sagemaker-us-east-2-057716757052/Scikit-pca-\n",
      "prefix                                             -> 'sagemaker/customer-churn'\n",
      "preprocess_model                                   -> 'sagemaker-scikit-learn-2020-08-14-13-43-47-526'\n",
      "preprocessed_pca_train_path                        -> 's3://sagemaker-us-east-2-057716757052/Scikit-pca-\n",
      "preprocessed_pca_validation_path                   -> 's3://sagemaker-us-east-2-057716757052/Scikit-pca-\n",
      "preprocessed_train_path                            -> 's3://sagemaker-us-east-2-057716757052/sagemaker/c\n",
      "preprocessed_validation_path                       -> 's3://sagemaker-us-east-2-057716757052/sagemaker/c\n",
      "preprocessor_container_log_level                   -> '20'\n",
      "preprocessor_enable_cloudwatch_metrics             -> 'False'\n",
      "preprocessor_image_name                            -> '257758044811.dkr.ecr.us-east-2.amazonaws.com/sage\n",
      "preprocessor_model_data                            -> 's3://sagemaker-us-east-2-057716757052/sagemaker-s\n",
      "preprocessor_region                                -> 'us-east-2'\n",
      "preprocessor_uploaded_code_s3_prefix               -> 's3://sagemaker-us-east-2-057716757052/sagemaker-s\n",
      "preprocessor_uploaded_code_script_name             -> 'preprocessing.py'\n",
      "s3_input_test                                      -> <sagemaker.inputs.s3_input object at 0x7fc870773f2\n",
      "s3_input_train                                     -> <sagemaker.inputs.s3_input object at 0x7fc87077389\n",
      "s3_input_validation                                -> <sagemaker.inputs.s3_input object at 0x7fc843c8d71\n",
      "scikit_learn_pre_process_model                     -> '<unavailable>'\n",
      "test_batch_transform_test_true_file                -> 'churn_data/batch_transform_test_true.csv'\n",
      "xgb_image_name                                     -> '257758044811.dkr.ecr.us-east-2.amazonaws.com/sage\n",
      "xgb_model_data                                     -> 's3://sagemaker-us-east-2-057716757052/sagemaker/c\n"
     ]
    }
   ],
   "source": [
    "%store"
   ]
  },
  {
   "cell_type": "code",
   "execution_count": 5,
   "metadata": {},
   "outputs": [],
   "source": [
    "# %store preprocessor_enable_cloudwatch_metrics \n",
    "# %store preprocessor_uploaded_code_s3_prefix \n",
    "# %store preprocessor_container_log_level \n",
    "# %store preprocessor_region \n",
    "# %store preprocessor_uploaded_code_script_name \n"
   ]
  },
  {
   "cell_type": "code",
   "execution_count": 6,
   "metadata": {},
   "outputs": [],
   "source": [
    "timestamp_prefix = strftime(\"%Y-%m-%d-%H-%M-%S\", gmtime())\n",
    "model_name = 'churn-inference-pipeline-' + timestamp_prefix\n",
    "client = boto3.client('sagemaker')\n",
    "response = client.create_model(\n",
    "    ModelName=model_name,\n",
    "    Containers=[\n",
    "        {\n",
    "            'Image': preprocessor_image_name,\n",
    "            'ModelDataUrl': preprocessor_model_data,\n",
    "            'Environment': {\n",
    "                    \"SAGEMAKER_SUBMIT_DIRECTORY\": preprocessor_uploaded_code_s3_prefix,\n",
    "                    \"TRANSFORM_MODE\": \"feature-transform\",\n",
    "                    \"SAGEMAKER_PROGRAM\": preprocessor_uploaded_code_script_name\n",
    "                }\n",
    "        },\n",
    "        {\n",
    "            'Image': pca_image_name,\n",
    "            'ModelDataUrl': pca_model_data,\n",
    "            'Environment': {}\n",
    "        },\n",
    "        \n",
    "        {\n",
    "            'Image': xgb_image_name,\n",
    "            'ModelDataUrl': xgb_model_data,\n",
    "            \"Environment\": {}\n",
    "        },\n",
    "        {\n",
    "            'Image': preprocessor_image_name,\n",
    "            'ModelDataUrl': preprocessor_model_data,\n",
    "            'Environment': {\n",
    "                    \"SAGEMAKER_SUBMIT_DIRECTORY\": preprocessor_uploaded_code_s3_prefix,\n",
    "                    \"TRANSFORM_MODE\": \"inverse-label-transform\",\n",
    "                    \"SAGEMAKER_PROGRAM\": preprocessor_uploaded_code_script_name\n",
    "                \n",
    "                }\n",
    "        },\n",
    "    ],\n",
    "    ExecutionRoleArn = role,\n",
    ")\n"
   ]
  },
  {
   "cell_type": "code",
   "execution_count": 7,
   "metadata": {},
   "outputs": [],
   "source": [
    "inference_pipeline_model_name = model_name"
   ]
  },
  {
   "cell_type": "code",
   "execution_count": 8,
   "metadata": {},
   "outputs": [
    {
     "name": "stdout",
     "output_type": "stream",
     "text": [
      "Stored 'inference_pipeline_model_name' (str)\n"
     ]
    }
   ],
   "source": [
    "%store inference_pipeline_model_name"
   ]
  },
  {
   "cell_type": "code",
   "execution_count": null,
   "metadata": {},
   "outputs": [],
   "source": []
  },
  {
   "cell_type": "code",
   "execution_count": null,
   "metadata": {},
   "outputs": [],
   "source": []
  },
  {
   "cell_type": "code",
   "execution_count": null,
   "metadata": {},
   "outputs": [],
   "source": []
  }
 ],
 "metadata": {
  "celltoolbar": "Tags",
  "instance_type": "ml.t3.medium",
  "kernelspec": {
   "display_name": "conda_python3",
   "language": "python",
   "name": "conda_python3"
  },
  "language_info": {
   "codemirror_mode": {
    "name": "ipython",
    "version": 3
   },
   "file_extension": ".py",
   "mimetype": "text/x-python",
   "name": "python",
   "nbconvert_exporter": "python",
   "pygments_lexer": "ipython3",
   "version": "3.6.10"
  },
  "notice": "Copyright 2017 Amazon.com, Inc. or its affiliates. All Rights Reserved.  Licensed under the Apache License, Version 2.0 (the \"License\"). You may not use this file except in compliance with the License. A copy of the License is located at http://aws.amazon.com/apache2.0/ or in the \"license\" file accompanying this file. This file is distributed on an \"AS IS\" BASIS, WITHOUT WARRANTIES OR CONDITIONS OF ANY KIND, either express or implied. See the License for the specific language governing permissions and limitations under the License."
 },
 "nbformat": 4,
 "nbformat_minor": 4
}
