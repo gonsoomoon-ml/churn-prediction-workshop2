{
 "cells": [
  {
   "cell_type": "markdown",
   "metadata": {},
   "source": [
    "# [Module 3.2] Custom PCA Docker Image 생성 및 ECR Model 학습 "
   ]
  },
  {
   "cell_type": "markdown",
   "metadata": {},
   "source": [
    "이 노트뷱은 Bring Your Own Container(BYOC)를 위해서 Custom Docker Image를 생성 합니다. 이 docker image는 학습 및 추론에 사용 됩니다.\n",
    "\n",
    "구체적으로 이 노트북은 아래와 같은 작업을 합니다.\n",
    "\n",
    "- Custom docker image name 정의\n",
    "- PCA 학습 코드를 docker container 폴더로 복사\n",
    "- Dockerfile 작성\n",
    "- Docker Image 빌드 및 ECR에 등록\n",
    "- Docker Image에 권한 부여\n",
    "- Custom Docker Image 이름 저장\n",
    "---\n",
    "소요 시간은 약 5분 걸립니다."
   ]
  },
  {
   "cell_type": "code",
   "execution_count": 1,
   "metadata": {},
   "outputs": [],
   "source": [
    "import sagemaker\n",
    "import pandas as pd\n",
    "import numpy as np\n",
    "import os\n",
    "import time\n",
    "import json\n",
    "from time import strftime, gmtime"
   ]
  },
  {
   "cell_type": "code",
   "execution_count": 2,
   "metadata": {},
   "outputs": [],
   "source": [
    "%store -r"
   ]
  },
  {
   "cell_type": "markdown",
   "metadata": {},
   "source": [
    "## Custom docker image name 정의\n",
    "\n",
    "Custom docker image 이름을 작성 하고, 필요한 account_id, region, bucket name 등을 가져 옵니다."
   ]
  },
  {
   "cell_type": "code",
   "execution_count": 3,
   "metadata": {},
   "outputs": [
    {
     "name": "stdout",
     "output_type": "stream",
     "text": [
      "ecr_repository_name:  sagemaker-training-containers/pca\n",
      "account_id:  057716757052\n",
      "region:  ap-northeast-2\n",
      "role:  arn:aws:iam::057716757052:role/service-role/AmazonSageMaker-ExecutionRole-20191128T110038\n",
      "bucket:  sagemaker-ap-northeast-2-057716757052\n"
     ]
    }
   ],
   "source": [
    "import boto3\n",
    "import sagemaker\n",
    "from sagemaker import get_execution_role\n",
    "\n",
    "# Define custom docker image name\n",
    "ecr_namespace = 'sagemaker-training-containers/'\n",
    "prefix = 'pca'\n",
    "ecr_repository_name = ecr_namespace + prefix\n",
    "print(\"ecr_repository_name: \", ecr_repository_name)\n",
    "\n",
    "role = get_execution_role()\n",
    "\n",
    "account_id = boto3.client('sts').get_caller_identity().get('Account')\n",
    "region = boto3.Session().region_name\n",
    "sagemaker_session = sagemaker.session.Session()\n",
    "bucket = sagemaker_session.default_bucket()\n",
    "\n",
    "print(\"account_id: \", account_id)\n",
    "print(\"region: \", region)\n",
    "print(\"role: \", role)\n",
    "print(\"bucket: \", bucket)"
   ]
  },
  {
   "cell_type": "markdown",
   "metadata": {},
   "source": [
    "## PCA 학습 코드를 docker container 폴더로 복사\n",
    "\n",
    "이전에 작성한 PCA 학습 코드를 편의상 docker 폴더에 복사 함."
   ]
  },
  {
   "cell_type": "code",
   "execution_count": 4,
   "metadata": {},
   "outputs": [],
   "source": [
    "! cp pca_byoc_train.py docker/code/"
   ]
  },
  {
   "cell_type": "markdown",
   "metadata": {},
   "source": [
    "## Dockerfile 작성\n",
    "\n",
    "현재 Dockerfile은 SageMkaer built-in SKLearn image 를 Base로 하여 작성 하였습니다. <br>\n",
    "```FROM 366743142698.dkr.ecr.ap-northeast-2.amazonaws.com/sagemaker-scikit-learn:0.20.0-cpu-py3```\n",
    "\n",
    "위의 이미지는 <font color=\"red\">만일 현재 Region이 ap-northwest-2 가 이니시면 반드시 해당 Region으로 변경 해주셔야 합니다.</font><br>\n",
    "- 예: 현재 Ohio 인 경우 (us-east-2) 로 변경.\n",
    "```\n",
    "FROM 257758044811.dkr.ecr.us-east-2.amazonaws.com/sagemaker-scikit-learn:0.20.0-cpu-py3\n",
    "```\n",
    "\n",
    "Region 마다 SKLearn Built-in docker image의 정보는 아래 URL을 참조하세요.\n",
    "\n",
    "Prebuilt Amazon SageMaker Docker Images for Scikit-learn and Spark ML\n",
    "- https://docs.aws.amazon.com/sagemaker/latest/dg/pre-built-docker-containers-frameworks.html"
   ]
  },
  {
   "cell_type": "code",
   "execution_count": 5,
   "metadata": {},
   "outputs": [
    {
     "name": "stdout",
     "output_type": "stream",
     "text": [
      "Overwriting docker/Dockerfile\n"
     ]
    }
   ],
   "source": [
    "%%writefile docker/Dockerfile\n",
    "\n",
    "FROM 366743142698.dkr.ecr.ap-northeast-2.amazonaws.com/sagemaker-scikit-learn:0.20.0-cpu-py3\n",
    "    \n",
    "# install python package\n",
    "RUN pip install joblib\n",
    "\n",
    "\n",
    "ENV PYTHONUNBUFFERED=TRUE\n",
    "ENV PYTHONDONTWRITEBYTECODE=TRUE\n",
    "\n",
    "ENV PATH=\"/opt/ml/code:${PATH}\"\n",
    "\n",
    "# Copy training code\n",
    "COPY code/* /opt/ml/code/\n",
    " \n",
    "WORKDIR /opt/ml/code\n",
    "\n",
    "# In order to use SageMaker Env varaibles, use the statement below\n",
    "ENV SAGEMAKER_PROGRAM pca_byoc_train.py"
   ]
  },
  {
   "cell_type": "markdown",
   "metadata": {},
   "source": [
    "## Docker Image 빌드 및 ECR에 등록"
   ]
  },
  {
   "cell_type": "markdown",
   "metadata": {},
   "source": [
    "Bash shell에서 사용할 변수를 아래와 같이 저장 합니다."
   ]
  },
  {
   "cell_type": "code",
   "execution_count": 6,
   "metadata": {},
   "outputs": [],
   "source": [
    "import os\n",
    "os.environ['account_id'] = account_id\n",
    "os.environ['region'] = region\n",
    "os.environ['ecr_repository_name'] = ecr_repository_name"
   ]
  },
  {
   "cell_type": "markdown",
   "metadata": {},
   "source": [
    "아래 셀은 다음과 같은 작업을 합니다.\n",
    "- 366743142698.dkr.ecr.ap-northeast-2.amazonaws.com/sagemaker-scikit-learn:0.20.0-cpu-py3 docker image를 가져오기 위해서 ECR의 366743142698 계정에 로긴 합니다.\n",
    "- 위에서 정의한 Dockerfile로 docker image를 로컬에서 생성 합니다.\n",
    "- docker image를 sagemaker-training-containers/pca 로 태깅 합니다.\n",
    "- ECR의 나의 계정 (예: 057716757052)으로 로긴\n",
    "- 현재 나의 계정에 해당 repository(예: sagemaker-training-containers/pca)가 존재하는지 확인 합니다.만일 존재 하지 않으면 새로이 생성 합니다\n",
    "- ECR에 docker image를 등록 합니다.\n",
    "\n",
    "\n",
    "**[중요]** 만일 Dockerfile에 명시된 \n",
    "```FROM 366743142698.dkr.ecr.ap-northeast-2.amazonaws.com/sagemaker-scikit-learn:0.20.0-cpu-py3```\n",
    "<font color=\"red\">account_id (366743142698) 가 아래의 account_id(366743142698) 와 다르면 같게 만들어 주세요.</font>\n",
    "```\n",
    "$(aws ecr get-login --registry-ids 366743142698 --region ${region} --no-include-email)\n",
    "```"
   ]
  },
  {
   "cell_type": "code",
   "execution_count": 7,
   "metadata": {},
   "outputs": [
    {
     "name": "stdout",
     "output_type": "stream",
     "text": [
      "ap-northeast-2\n",
      "057716757052\n",
      "sagemaker-training-containers/pca\n",
      "Login Succeeded\n",
      "Sending build context to Docker daemon  11.26kB\n",
      "Step 1/8 : FROM 366743142698.dkr.ecr.ap-northeast-2.amazonaws.com/sagemaker-scikit-learn:0.20.0-cpu-py3\n",
      " ---> 30adb1aa9af5\n",
      "Step 2/8 : RUN pip install joblib\n",
      " ---> Using cache\n",
      " ---> 59663d1629c3\n",
      "Step 3/8 : ENV PYTHONUNBUFFERED=TRUE\n",
      " ---> Using cache\n",
      " ---> 605f60b5674c\n",
      "Step 4/8 : ENV PYTHONDONTWRITEBYTECODE=TRUE\n",
      " ---> Using cache\n",
      " ---> b70c6ea0613d\n",
      "Step 5/8 : ENV PATH=\"/opt/ml/code:${PATH}\"\n",
      " ---> Using cache\n",
      " ---> 29a1bfe2b5d6\n",
      "Step 6/8 : COPY code/* /opt/ml/code/\n",
      " ---> Using cache\n",
      " ---> 9c639fea665d\n",
      "Step 7/8 : WORKDIR /opt/ml/code\n",
      " ---> Using cache\n",
      " ---> 457c17c81eed\n",
      "Step 8/8 : ENV SAGEMAKER_PROGRAM pca_byoc_train.py\n",
      " ---> Using cache\n",
      " ---> 46f5ed0dedd4\n",
      "Successfully built 46f5ed0dedd4\n",
      "Successfully tagged sagemaker-training-containers/pca:latest\n",
      "Login Succeeded\n",
      "{\n",
      "    \"repositories\": [\n",
      "        {\n",
      "            \"repositoryArn\": \"arn:aws:ecr:ap-northeast-2:057716757052:repository/sagemaker-training-containers/pca\",\n",
      "            \"registryId\": \"057716757052\",\n",
      "            \"repositoryName\": \"sagemaker-training-containers/pca\",\n",
      "            \"repositoryUri\": \"057716757052.dkr.ecr.ap-northeast-2.amazonaws.com/sagemaker-training-containers/pca\",\n",
      "            \"createdAt\": 1597893347.0,\n",
      "            \"imageTagMutability\": \"MUTABLE\",\n",
      "            \"imageScanningConfiguration\": {\n",
      "                \"scanOnPush\": false\n",
      "            }\n",
      "        }\n",
      "    ]\n",
      "}\n",
      "The push refers to repository [057716757052.dkr.ecr.ap-northeast-2.amazonaws.com/sagemaker-training-containers/pca]\n",
      "64279e010dc7: Preparing\n",
      "293e8d1ac467: Preparing\n",
      "969e46b772a5: Preparing\n",
      "cfe0cbc5dd2c: Preparing\n",
      "23b3530769e5: Preparing\n",
      "8be6c85c96e4: Preparing\n",
      "a5a688002069: Preparing\n",
      "4b7dff825027: Preparing\n",
      "ccdb13a20bf2: Preparing\n",
      "9513cdf4e497: Preparing\n",
      "7f083f9454c0: Preparing\n",
      "29f36b5893dc: Preparing\n",
      "9513cdf4e497: Waiting\n",
      "8be6c85c96e4: Waiting\n",
      "29f36b5893dc: Waiting\n",
      "a5a688002069: Waiting\n",
      "7f083f9454c0: Waiting\n",
      "ccdb13a20bf2: Waiting\n",
      "cfe0cbc5dd2c: Layer already exists\n",
      "969e46b772a5: Layer already exists\n",
      "23b3530769e5: Layer already exists\n",
      "293e8d1ac467: Layer already exists\n",
      "64279e010dc7: Layer already exists\n",
      "a5a688002069: Layer already exists\n",
      "ccdb13a20bf2: Layer already exists\n",
      "9513cdf4e497: Layer already exists\n",
      "4b7dff825027: Layer already exists\n",
      "8be6c85c96e4: Layer already exists\n",
      "29f36b5893dc: Layer already exists\n",
      "7f083f9454c0: Layer already exists\n",
      "latest: digest: sha256:1a9886cc7d1d48cee9117df6c0f8d0d6952184866aa1a31f01ef8ce593d8950a size: 2840\n"
     ]
    },
    {
     "name": "stderr",
     "output_type": "stream",
     "text": [
      "WARNING! Using --password via the CLI is insecure. Use --password-stdin.\n",
      "WARNING! Your password will be stored unencrypted in /home/ec2-user/.docker/config.json.\n",
      "Configure a credential helper to remove this warning. See\n",
      "https://docs.docker.com/engine/reference/commandline/login/#credentials-store\n",
      "\n",
      "WARNING! Using --password via the CLI is insecure. Use --password-stdin.\n",
      "WARNING! Your password will be stored unencrypted in /home/ec2-user/.docker/config.json.\n",
      "Configure a credential helper to remove this warning. See\n",
      "https://docs.docker.com/engine/reference/commandline/login/#credentials-store\n",
      "\n"
     ]
    }
   ],
   "source": [
    "%%sh\n",
    "\n",
    "ACCOUNT_ID=${account_id}\n",
    "REGION=${region}\n",
    "REPO_NAME=${ecr_repository_name}\n",
    "\n",
    "echo $REGION\n",
    "echo $ACCOUNT_ID\n",
    "echo $REPO_NAME\n",
    "\n",
    "\n",
    "# Get the login command from ECR in order to pull down sagemaker-scikit-learn:0.20.0-cpu-py3 image\n",
    "# sagemaker-scikit-learn:0.20.0-cpu-py3 docker image를 가져오기 위해서 ECR의 366743142698 계정에 로긴 합니다.\n",
    "$(aws ecr get-login --registry-ids 366743142698 --region ${region} --no-include-email)\n",
    "\n",
    "\n",
    "# Build a docker image in local\n",
    "docker build -f docker/Dockerfile -t $REPO_NAME docker\n",
    "\n",
    "# Tag an image referenced by Name ecr_repository_name(sagemaker-training-containers/pca)\n",
    "docker tag $REPO_NAME $ACCOUNT_ID.dkr.ecr.$REGION.amazonaws.com/$REPO_NAME:latest\n",
    "\n",
    "# Get the login command for my account_id\n",
    "# ECR의 나의 계정 (예: 057716757052)으로 로긴\n",
    "$(aws ecr get-login --no-include-email --registry-ids $ACCOUNT_ID)\n",
    "\n",
    "# 현재 나의 계정에 해당 repository(예: sagemaker-training-containers/pca) 존재하는지 확인 합니다.\n",
    "# 만일 존재 하지 않으면 새로이 생성 합니다\n",
    "aws ecr describe-repositories --repository-names $REPO_NAME || aws ecr create-repository --repository-name $REPO_NAME\n",
    "\n",
    "# ECR에 docker image를 등록 합니다.\n",
    "docker push $ACCOUNT_ID.dkr.ecr.$REGION.amazonaws.com/$REPO_NAME:latest\n",
    "\n"
   ]
  },
  {
   "cell_type": "markdown",
   "metadata": {},
   "source": [
    "ECR에 등록한 custome docker image의 이름 출력"
   ]
  },
  {
   "cell_type": "code",
   "execution_count": 8,
   "metadata": {},
   "outputs": [
    {
     "name": "stdout",
     "output_type": "stream",
     "text": [
      "057716757052.dkr.ecr.ap-northeast-2.amazonaws.com/sagemaker-training-containers/pca:latest\n"
     ]
    }
   ],
   "source": [
    "custom_pca_docker_image_uri = '{0}.dkr.ecr.{1}.amazonaws.com/{2}:latest'.format(account_id, region, ecr_repository_name)\n",
    "print(custom_pca_docker_image_uri)"
   ]
  },
  {
   "cell_type": "markdown",
   "metadata": {},
   "source": [
    "## Docker Image에 권한 부여"
   ]
  },
  {
   "cell_type": "markdown",
   "metadata": {},
   "source": [
    "추후에 Inference Pipleline을 통해 한개의 SageMaker Model을 만들시에 ```057716757052.dkr.ecr.ap-northeast-2.amazonaws.com/sagemaker-training-containers/pca:latest``` 를 가져옵니다. 이때 Inference Pipeline을 실행 하는 주체는 sagemaker.amazonaws.com 입니다. 그래서 sagemaker.amazonaws.com에게 이 docker image를 가져올 수 있는 권한을 아래와 같이 할당 합니다.\n",
    "\n",
    "아래와 같은 권한 할당이 안되어 있으면 아래와 같은 에러가 발생 합니다.\n",
    "- HTTP 403: \"User [arn] is not authorized to perform [operation]\"\n",
    "- 참조: https://docs.aws.amazon.com/AmazonECR/latest/userguide/common-errors.html\n",
    "\n",
    "ECR 콘솔로 이동을 하여 위에서 생성한 Docker Image를 선택 합니다."
   ]
  },
  {
   "cell_type": "markdown",
   "metadata": {},
   "source": [
    "![Fig.3.2.ECR-Repository](img/Fig.3.2.ECR-Repository.png)"
   ]
  },
  {
   "cell_type": "markdown",
   "metadata": {},
   "source": [
    "왼쪽의 permission 을 클릭하고, 오른쪽 상단에 \"Edit policy JSON\"을 클릭 합니다."
   ]
  },
  {
   "cell_type": "markdown",
   "metadata": {},
   "source": [
    "![Fig.3.2.ECR-permission](img/Fig.3.2.ECR-permission.png)"
   ]
  },
  {
   "cell_type": "markdown",
   "metadata": {},
   "source": [
    "아래의 \"Edit JSON\"에 아래의 JSON 코드를 복사하여 붙입니다.\n",
    "sagemaker.amazonaws.com 이 docker image의 특정 액션을 수행하게 허가 합니다.\n",
    "```\n",
    "{\n",
    "  \"Version\": \"2008-10-17\",\n",
    "  \"Statement\": [\n",
    "    {\n",
    "      \"Sid\": \"allowSageMakerToPull\",\n",
    "      \"Effect\": \"Allow\",\n",
    "      \"Principal\": {\n",
    "        \"Service\": \"sagemaker.amazonaws.com\"\n",
    "      },\n",
    "      \"Action\": [\n",
    "        \"ecr:BatchCheckLayerAvailability\",\n",
    "        \"ecr:BatchGetImage\",\n",
    "        \"ecr:GetDownloadUrlForLayer\"\n",
    "      ]\n",
    "    }\n",
    "  ]\n",
    "}\n",
    "```"
   ]
  },
  {
   "cell_type": "markdown",
   "metadata": {},
   "source": [
    "![Fig.3.2.ECR-edit-json](img/Fig.3.2.ECR-edit-json.png)"
   ]
  },
  {
   "cell_type": "markdown",
   "metadata": {},
   "source": [
    "아래와 같은 화면이 나오면 완료 입니다.\n",
    "![Fig.3.2.ECR-permission-finish](img/Fig.3.2.ECR-permission-finish.png)"
   ]
  },
  {
   "cell_type": "markdown",
   "metadata": {},
   "source": [
    "## Custom Docker Image 이름 저장"
   ]
  },
  {
   "cell_type": "code",
   "execution_count": 9,
   "metadata": {},
   "outputs": [
    {
     "name": "stdout",
     "output_type": "stream",
     "text": [
      "Stored 'custom_pca_docker_image_uri' (str)\n"
     ]
    }
   ],
   "source": [
    "%store custom_pca_docker_image_uri"
   ]
  },
  {
   "cell_type": "code",
   "execution_count": null,
   "metadata": {},
   "outputs": [],
   "source": []
  }
 ],
 "metadata": {
  "celltoolbar": "Tags",
  "instance_type": "ml.t3.medium",
  "kernelspec": {
   "display_name": "conda_python3",
   "language": "python",
   "name": "conda_python3"
  },
  "language_info": {
   "codemirror_mode": {
    "name": "ipython",
    "version": 3
   },
   "file_extension": ".py",
   "mimetype": "text/x-python",
   "name": "python",
   "nbconvert_exporter": "python",
   "pygments_lexer": "ipython3",
   "version": "3.6.10"
  },
  "notice": "Copyright 2017 Amazon.com, Inc. or its affiliates. All Rights Reserved.  Licensed under the Apache License, Version 2.0 (the \"License\"). You may not use this file except in compliance with the License. A copy of the License is located at http://aws.amazon.com/apache2.0/ or in the \"license\" file accompanying this file. This file is distributed on an \"AS IS\" BASIS, WITHOUT WARRANTIES OR CONDITIONS OF ANY KIND, either express or implied. See the License for the specific language governing permissions and limitations under the License."
 },
 "nbformat": 4,
 "nbformat_minor": 4
}
