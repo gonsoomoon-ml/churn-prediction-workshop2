{
 "cells": [
  {
   "cell_type": "markdown",
   "metadata": {},
   "source": [
    "# PCA Script Mode"
   ]
  },
  {
   "cell_type": "code",
   "execution_count": 31,
   "metadata": {},
   "outputs": [],
   "source": [
    "prefix = 'Scikit-pca'\n",
    "\n",
    "import sagemaker\n",
    "from sagemaker import get_execution_role\n",
    "\n",
    "sagemaker_session = sagemaker.Session()\n",
    "role = get_execution_role()"
   ]
  },
  {
   "cell_type": "code",
   "execution_count": 32,
   "metadata": {},
   "outputs": [
    {
     "data": {
      "text/html": [
       "<div>\n",
       "<style scoped>\n",
       "    .dataframe tbody tr th:only-of-type {\n",
       "        vertical-align: middle;\n",
       "    }\n",
       "\n",
       "    .dataframe tbody tr th {\n",
       "        vertical-align: top;\n",
       "    }\n",
       "\n",
       "    .dataframe thead th {\n",
       "        text-align: right;\n",
       "    }\n",
       "</style>\n",
       "<table border=\"1\" class=\"dataframe\">\n",
       "  <thead>\n",
       "    <tr style=\"text-align: right;\">\n",
       "      <th></th>\n",
       "      <th>0</th>\n",
       "      <th>1</th>\n",
       "      <th>2</th>\n",
       "      <th>3</th>\n",
       "      <th>4</th>\n",
       "      <th>5</th>\n",
       "      <th>6</th>\n",
       "      <th>7</th>\n",
       "      <th>8</th>\n",
       "      <th>9</th>\n",
       "      <th>...</th>\n",
       "      <th>60</th>\n",
       "      <th>61</th>\n",
       "      <th>62</th>\n",
       "      <th>63</th>\n",
       "      <th>64</th>\n",
       "      <th>65</th>\n",
       "      <th>66</th>\n",
       "      <th>67</th>\n",
       "      <th>68</th>\n",
       "      <th>69</th>\n",
       "    </tr>\n",
       "  </thead>\n",
       "  <tbody>\n",
       "    <tr>\n",
       "      <th>0</th>\n",
       "      <td>0.0</td>\n",
       "      <td>0.119414</td>\n",
       "      <td>-0.596238</td>\n",
       "      <td>1.744368</td>\n",
       "      <td>0.978957</td>\n",
       "      <td>-0.028993</td>\n",
       "      <td>-0.893185</td>\n",
       "      <td>-0.801703</td>\n",
       "      <td>-1.982529</td>\n",
       "      <td>-1.530559</td>\n",
       "      <td>...</td>\n",
       "      <td>0.0</td>\n",
       "      <td>0.0</td>\n",
       "      <td>0.0</td>\n",
       "      <td>0.0</td>\n",
       "      <td>0.0</td>\n",
       "      <td>0.0</td>\n",
       "      <td>1.0</td>\n",
       "      <td>0.0</td>\n",
       "      <td>1.0</td>\n",
       "      <td>0.0</td>\n",
       "    </tr>\n",
       "    <tr>\n",
       "      <th>1</th>\n",
       "      <td>0.0</td>\n",
       "      <td>-1.852652</td>\n",
       "      <td>-0.596238</td>\n",
       "      <td>0.140284</td>\n",
       "      <td>-0.310405</td>\n",
       "      <td>0.970689</td>\n",
       "      <td>-0.689888</td>\n",
       "      <td>0.146389</td>\n",
       "      <td>1.232901</td>\n",
       "      <td>0.124852</td>\n",
       "      <td>...</td>\n",
       "      <td>0.0</td>\n",
       "      <td>0.0</td>\n",
       "      <td>1.0</td>\n",
       "      <td>0.0</td>\n",
       "      <td>0.0</td>\n",
       "      <td>0.0</td>\n",
       "      <td>1.0</td>\n",
       "      <td>0.0</td>\n",
       "      <td>1.0</td>\n",
       "      <td>0.0</td>\n",
       "    </tr>\n",
       "    <tr>\n",
       "      <th>2</th>\n",
       "      <td>1.0</td>\n",
       "      <td>1.181295</td>\n",
       "      <td>-0.596238</td>\n",
       "      <td>1.835130</td>\n",
       "      <td>0.185503</td>\n",
       "      <td>0.030988</td>\n",
       "      <td>-0.639063</td>\n",
       "      <td>1.568529</td>\n",
       "      <td>-0.063643</td>\n",
       "      <td>-0.846802</td>\n",
       "      <td>...</td>\n",
       "      <td>0.0</td>\n",
       "      <td>0.0</td>\n",
       "      <td>0.0</td>\n",
       "      <td>0.0</td>\n",
       "      <td>0.0</td>\n",
       "      <td>0.0</td>\n",
       "      <td>1.0</td>\n",
       "      <td>0.0</td>\n",
       "      <td>1.0</td>\n",
       "      <td>0.0</td>\n",
       "    </tr>\n",
       "    <tr>\n",
       "      <th>3</th>\n",
       "      <td>0.0</td>\n",
       "      <td>0.776769</td>\n",
       "      <td>-0.596238</td>\n",
       "      <td>0.216227</td>\n",
       "      <td>0.334276</td>\n",
       "      <td>0.136954</td>\n",
       "      <td>1.393914</td>\n",
       "      <td>1.394712</td>\n",
       "      <td>-0.634123</td>\n",
       "      <td>0.844596</td>\n",
       "      <td>...</td>\n",
       "      <td>0.0</td>\n",
       "      <td>0.0</td>\n",
       "      <td>0.0</td>\n",
       "      <td>0.0</td>\n",
       "      <td>0.0</td>\n",
       "      <td>0.0</td>\n",
       "      <td>1.0</td>\n",
       "      <td>0.0</td>\n",
       "      <td>1.0</td>\n",
       "      <td>0.0</td>\n",
       "    </tr>\n",
       "    <tr>\n",
       "      <th>4</th>\n",
       "      <td>0.0</td>\n",
       "      <td>-0.234547</td>\n",
       "      <td>1.508734</td>\n",
       "      <td>-0.459859</td>\n",
       "      <td>0.483049</td>\n",
       "      <td>-0.230929</td>\n",
       "      <td>0.224952</td>\n",
       "      <td>1.056954</td>\n",
       "      <td>0.921730</td>\n",
       "      <td>-0.810815</td>\n",
       "      <td>...</td>\n",
       "      <td>0.0</td>\n",
       "      <td>0.0</td>\n",
       "      <td>0.0</td>\n",
       "      <td>0.0</td>\n",
       "      <td>0.0</td>\n",
       "      <td>0.0</td>\n",
       "      <td>1.0</td>\n",
       "      <td>0.0</td>\n",
       "      <td>0.0</td>\n",
       "      <td>1.0</td>\n",
       "    </tr>\n",
       "  </tbody>\n",
       "</table>\n",
       "<p>5 rows × 70 columns</p>\n",
       "</div>"
      ],
      "text/plain": [
       "    0         1         2         3         4         5         6         7   \\\n",
       "0  0.0  0.119414 -0.596238  1.744368  0.978957 -0.028993 -0.893185 -0.801703   \n",
       "1  0.0 -1.852652 -0.596238  0.140284 -0.310405  0.970689 -0.689888  0.146389   \n",
       "2  1.0  1.181295 -0.596238  1.835130  0.185503  0.030988 -0.639063  1.568529   \n",
       "3  0.0  0.776769 -0.596238  0.216227  0.334276  0.136954  1.393914  1.394712   \n",
       "4  0.0 -0.234547  1.508734 -0.459859  0.483049 -0.230929  0.224952  1.056954   \n",
       "\n",
       "         8         9   ...   60   61   62   63   64   65   66   67   68   69  \n",
       "0 -1.982529 -1.530559  ...  0.0  0.0  0.0  0.0  0.0  0.0  1.0  0.0  1.0  0.0  \n",
       "1  1.232901  0.124852  ...  0.0  0.0  1.0  0.0  0.0  0.0  1.0  0.0  1.0  0.0  \n",
       "2 -0.063643 -0.846802  ...  0.0  0.0  0.0  0.0  0.0  0.0  1.0  0.0  1.0  0.0  \n",
       "3 -0.634123  0.844596  ...  0.0  0.0  0.0  0.0  0.0  0.0  1.0  0.0  1.0  0.0  \n",
       "4  0.921730 -0.810815  ...  0.0  0.0  0.0  0.0  0.0  0.0  1.0  0.0  0.0  1.0  \n",
       "\n",
       "[5 rows x 70 columns]"
      ]
     },
     "execution_count": 32,
     "metadata": {},
     "output_type": "execute_result"
    }
   ],
   "source": [
    "import pandas as pd\n",
    "preprocessed_train_path_file = 's3://sagemaker-us-east-2-057716757052/sagemaker/customer-churn/transformtrain-train-output/sagemaker-scikit-learn-2020-08-12-01-21-2020-08-12-01-24-10-589/train.csv.out'\n",
    "local_preprocessed_train_path_file = 'train.csv.out'\n",
    "churn_df = pd.read_csv(local_preprocessed_train_path_file, header=None)\n",
    "churn_df.head()"
   ]
  },
  {
   "cell_type": "code",
   "execution_count": 33,
   "metadata": {},
   "outputs": [],
   "source": [
    "# churn_df.info()"
   ]
  },
  {
   "cell_type": "code",
   "execution_count": 34,
   "metadata": {},
   "outputs": [],
   "source": [
    "train_y = churn_df.iloc[:,0]\n",
    "train_X = churn_df.iloc[:,1:]"
   ]
  },
  {
   "cell_type": "code",
   "execution_count": 35,
   "metadata": {},
   "outputs": [
    {
     "name": "stdout",
     "output_type": "stream",
     "text": [
      "Shape of train_X:  (2333, 69)\n",
      "Shape of train_y:  (2333,)\n"
     ]
    }
   ],
   "source": [
    "print(\"Shape of train_X: \", train_X.shape)\n",
    "print(\"Shape of train_y: \", train_y.shape)"
   ]
  },
  {
   "cell_type": "code",
   "execution_count": 36,
   "metadata": {},
   "outputs": [],
   "source": [
    "from sklearn import datasets\n",
    "import os\n",
    "import numpy as np\n",
    "\n",
    "# iris = datasets.load_iris()\n",
    "# train_X = iris.data\n",
    "# train_y = iris.target\n",
    "\n",
    "os.makedirs('./data', exist_ok =True)\n",
    "np.savetxt('./data/iris.csv', train_X, delimiter=',',\n",
    "           # fmt='%1.3f, %1.3f, %1.3f, %1.3f'\n",
    "           fmt='%1.3f'\n",
    "          )\n"
   ]
  },
  {
   "cell_type": "code",
   "execution_count": 37,
   "metadata": {},
   "outputs": [],
   "source": [
    "WORK_DIRECTORY = 'data'\n",
    "train_input = sagemaker_session.upload_data(WORK_DIRECTORY,\n",
    "                                            key_prefix=\"{}/{}\".format(prefix, WORK_DIRECTORY)\n",
    "                                           )"
   ]
  },
  {
   "cell_type": "code",
   "execution_count": 38,
   "metadata": {},
   "outputs": [
    {
     "name": "stdout",
     "output_type": "stream",
     "text": [
      "train_input:  s3://sagemaker-us-east-2-057716757052/Scikit-pca/data\n"
     ]
    }
   ],
   "source": [
    "print(\"train_input: \", train_input)"
   ]
  },
  {
   "cell_type": "code",
   "execution_count": 39,
   "metadata": {},
   "outputs": [],
   "source": [
    "from sagemaker.sklearn.estimator import SKLearn\n",
    "\n",
    "FRAMEWORK_VERSION = \"0.23-1\"\n",
    "script_path = 'pca_script_train.py'\n",
    "\n",
    "instance_type = 'local'\n",
    "\n",
    "sklearn = SKLearn(\n",
    "    entry_point = script_path,\n",
    "    framework_version = FRAMEWORK_VERSION,\n",
    "    train_instance_type = instance_type,\n",
    "    role = role,\n",
    "#     sagemaker_session = sagemaker_session, # Exclude in local mode\n",
    "    hyperparameters = {'n_components' : 2}\n",
    ")"
   ]
  },
  {
   "cell_type": "code",
   "execution_count": 40,
   "metadata": {},
   "outputs": [
    {
     "name": "stderr",
     "output_type": "stream",
     "text": [
      "'s3_input' class will be renamed to 'TrainingInput' in SageMaker Python SDK v2.\n"
     ]
    },
    {
     "name": "stdout",
     "output_type": "stream",
     "text": [
      "Creating tmpsnuxl0tf_algo-1-c5qfz_1 ... \n",
      "\u001b[1BAttaching to tmpsnuxl0tf_algo-1-c5qfz_12mdone\u001b[0m\n",
      "\u001b[36malgo-1-c5qfz_1  |\u001b[0m 2020-08-12 04:16:43,825 sagemaker-training-toolkit INFO     Imported framework sagemaker_sklearn_container.training\n",
      "\u001b[36malgo-1-c5qfz_1  |\u001b[0m 2020-08-12 04:16:43,827 sagemaker-training-toolkit INFO     No GPUs detected (normal if no gpus installed)\n",
      "\u001b[36malgo-1-c5qfz_1  |\u001b[0m 2020-08-12 04:16:43,835 sagemaker_sklearn_container.training INFO     Invoking user training script.\n",
      "\u001b[36malgo-1-c5qfz_1  |\u001b[0m 2020-08-12 04:16:43,954 sagemaker-training-toolkit INFO     No GPUs detected (normal if no gpus installed)\n",
      "\u001b[36malgo-1-c5qfz_1  |\u001b[0m 2020-08-12 04:16:43,963 sagemaker-training-toolkit INFO     No GPUs detected (normal if no gpus installed)\n",
      "\u001b[36malgo-1-c5qfz_1  |\u001b[0m 2020-08-12 04:16:43,972 sagemaker-training-toolkit INFO     No GPUs detected (normal if no gpus installed)\n",
      "\u001b[36malgo-1-c5qfz_1  |\u001b[0m 2020-08-12 04:16:43,982 sagemaker-training-toolkit INFO     Invoking user script\n",
      "\u001b[36malgo-1-c5qfz_1  |\u001b[0m \n",
      "\u001b[36malgo-1-c5qfz_1  |\u001b[0m Training Env:\n",
      "\u001b[36malgo-1-c5qfz_1  |\u001b[0m \n",
      "\u001b[36malgo-1-c5qfz_1  |\u001b[0m {\n",
      "\u001b[36malgo-1-c5qfz_1  |\u001b[0m     \"additional_framework_parameters\": {},\n",
      "\u001b[36malgo-1-c5qfz_1  |\u001b[0m     \"channel_input_dirs\": {\n",
      "\u001b[36malgo-1-c5qfz_1  |\u001b[0m         \"train\": \"/opt/ml/input/data/train\"\n",
      "\u001b[36malgo-1-c5qfz_1  |\u001b[0m     },\n",
      "\u001b[36malgo-1-c5qfz_1  |\u001b[0m     \"current_host\": \"algo-1-c5qfz\",\n",
      "\u001b[36malgo-1-c5qfz_1  |\u001b[0m     \"framework_module\": \"sagemaker_sklearn_container.training:main\",\n",
      "\u001b[36malgo-1-c5qfz_1  |\u001b[0m     \"hosts\": [\n",
      "\u001b[36malgo-1-c5qfz_1  |\u001b[0m         \"algo-1-c5qfz\"\n",
      "\u001b[36malgo-1-c5qfz_1  |\u001b[0m     ],\n",
      "\u001b[36malgo-1-c5qfz_1  |\u001b[0m     \"hyperparameters\": {\n",
      "\u001b[36malgo-1-c5qfz_1  |\u001b[0m         \"n_components\": 2\n",
      "\u001b[36malgo-1-c5qfz_1  |\u001b[0m     },\n",
      "\u001b[36malgo-1-c5qfz_1  |\u001b[0m     \"input_config_dir\": \"/opt/ml/input/config\",\n",
      "\u001b[36malgo-1-c5qfz_1  |\u001b[0m     \"input_data_config\": {\n",
      "\u001b[36malgo-1-c5qfz_1  |\u001b[0m         \"train\": {\n",
      "\u001b[36malgo-1-c5qfz_1  |\u001b[0m             \"TrainingInputMode\": \"File\"\n",
      "\u001b[36malgo-1-c5qfz_1  |\u001b[0m         }\n",
      "\u001b[36malgo-1-c5qfz_1  |\u001b[0m     },\n",
      "\u001b[36malgo-1-c5qfz_1  |\u001b[0m     \"input_dir\": \"/opt/ml/input\",\n",
      "\u001b[36malgo-1-c5qfz_1  |\u001b[0m     \"is_master\": true,\n",
      "\u001b[36malgo-1-c5qfz_1  |\u001b[0m     \"job_name\": \"sagemaker-scikit-learn-2020-08-12-04-16-42-001\",\n",
      "\u001b[36malgo-1-c5qfz_1  |\u001b[0m     \"log_level\": 20,\n",
      "\u001b[36malgo-1-c5qfz_1  |\u001b[0m     \"master_hostname\": \"algo-1-c5qfz\",\n",
      "\u001b[36malgo-1-c5qfz_1  |\u001b[0m     \"model_dir\": \"/opt/ml/model\",\n",
      "\u001b[36malgo-1-c5qfz_1  |\u001b[0m     \"module_dir\": \"s3://sagemaker-us-east-2-057716757052/sagemaker-scikit-learn-2020-08-12-04-16-42-001/source/sourcedir.tar.gz\",\n",
      "\u001b[36malgo-1-c5qfz_1  |\u001b[0m     \"module_name\": \"pca_script_train\",\n",
      "\u001b[36malgo-1-c5qfz_1  |\u001b[0m     \"network_interface_name\": \"eth0\",\n",
      "\u001b[36malgo-1-c5qfz_1  |\u001b[0m     \"num_cpus\": 16,\n",
      "\u001b[36malgo-1-c5qfz_1  |\u001b[0m     \"num_gpus\": 0,\n",
      "\u001b[36malgo-1-c5qfz_1  |\u001b[0m     \"output_data_dir\": \"/opt/ml/output/data\",\n",
      "\u001b[36malgo-1-c5qfz_1  |\u001b[0m     \"output_dir\": \"/opt/ml/output\",\n",
      "\u001b[36malgo-1-c5qfz_1  |\u001b[0m     \"output_intermediate_dir\": \"/opt/ml/output/intermediate\",\n",
      "\u001b[36malgo-1-c5qfz_1  |\u001b[0m     \"resource_config\": {\n",
      "\u001b[36malgo-1-c5qfz_1  |\u001b[0m         \"current_host\": \"algo-1-c5qfz\",\n",
      "\u001b[36malgo-1-c5qfz_1  |\u001b[0m         \"hosts\": [\n",
      "\u001b[36malgo-1-c5qfz_1  |\u001b[0m             \"algo-1-c5qfz\"\n",
      "\u001b[36malgo-1-c5qfz_1  |\u001b[0m         ]\n",
      "\u001b[36malgo-1-c5qfz_1  |\u001b[0m     },\n",
      "\u001b[36malgo-1-c5qfz_1  |\u001b[0m     \"user_entry_point\": \"pca_script_train.py\"\n",
      "\u001b[36malgo-1-c5qfz_1  |\u001b[0m }\n",
      "\u001b[36malgo-1-c5qfz_1  |\u001b[0m \n",
      "\u001b[36malgo-1-c5qfz_1  |\u001b[0m Environment variables:\n",
      "\u001b[36malgo-1-c5qfz_1  |\u001b[0m \n",
      "\u001b[36malgo-1-c5qfz_1  |\u001b[0m SM_HOSTS=[\"algo-1-c5qfz\"]\n",
      "\u001b[36malgo-1-c5qfz_1  |\u001b[0m SM_NETWORK_INTERFACE_NAME=eth0\n",
      "\u001b[36malgo-1-c5qfz_1  |\u001b[0m SM_HPS={\"n_components\":2}\n",
      "\u001b[36malgo-1-c5qfz_1  |\u001b[0m SM_USER_ENTRY_POINT=pca_script_train.py\n",
      "\u001b[36malgo-1-c5qfz_1  |\u001b[0m SM_FRAMEWORK_PARAMS={}\n",
      "\u001b[36malgo-1-c5qfz_1  |\u001b[0m SM_RESOURCE_CONFIG={\"current_host\":\"algo-1-c5qfz\",\"hosts\":[\"algo-1-c5qfz\"]}\n",
      "\u001b[36malgo-1-c5qfz_1  |\u001b[0m SM_INPUT_DATA_CONFIG={\"train\":{\"TrainingInputMode\":\"File\"}}\n",
      "\u001b[36malgo-1-c5qfz_1  |\u001b[0m SM_OUTPUT_DATA_DIR=/opt/ml/output/data\n",
      "\u001b[36malgo-1-c5qfz_1  |\u001b[0m SM_CHANNELS=[\"train\"]\n",
      "\u001b[36malgo-1-c5qfz_1  |\u001b[0m SM_CURRENT_HOST=algo-1-c5qfz\n",
      "\u001b[36malgo-1-c5qfz_1  |\u001b[0m SM_MODULE_NAME=pca_script_train\n",
      "\u001b[36malgo-1-c5qfz_1  |\u001b[0m SM_LOG_LEVEL=20\n",
      "\u001b[36malgo-1-c5qfz_1  |\u001b[0m SM_FRAMEWORK_MODULE=sagemaker_sklearn_container.training:main\n",
      "\u001b[36malgo-1-c5qfz_1  |\u001b[0m SM_INPUT_DIR=/opt/ml/input\n",
      "\u001b[36malgo-1-c5qfz_1  |\u001b[0m SM_INPUT_CONFIG_DIR=/opt/ml/input/config\n",
      "\u001b[36malgo-1-c5qfz_1  |\u001b[0m SM_OUTPUT_DIR=/opt/ml/output\n",
      "\u001b[36malgo-1-c5qfz_1  |\u001b[0m SM_NUM_CPUS=16\n",
      "\u001b[36malgo-1-c5qfz_1  |\u001b[0m SM_NUM_GPUS=0\n",
      "\u001b[36malgo-1-c5qfz_1  |\u001b[0m SM_MODEL_DIR=/opt/ml/model\n",
      "\u001b[36malgo-1-c5qfz_1  |\u001b[0m SM_MODULE_DIR=s3://sagemaker-us-east-2-057716757052/sagemaker-scikit-learn-2020-08-12-04-16-42-001/source/sourcedir.tar.gz\n",
      "\u001b[36malgo-1-c5qfz_1  |\u001b[0m SM_TRAINING_ENV={\"additional_framework_parameters\":{},\"channel_input_dirs\":{\"train\":\"/opt/ml/input/data/train\"},\"current_host\":\"algo-1-c5qfz\",\"framework_module\":\"sagemaker_sklearn_container.training:main\",\"hosts\":[\"algo-1-c5qfz\"],\"hyperparameters\":{\"n_components\":2},\"input_config_dir\":\"/opt/ml/input/config\",\"input_data_config\":{\"train\":{\"TrainingInputMode\":\"File\"}},\"input_dir\":\"/opt/ml/input\",\"is_master\":true,\"job_name\":\"sagemaker-scikit-learn-2020-08-12-04-16-42-001\",\"log_level\":20,\"master_hostname\":\"algo-1-c5qfz\",\"model_dir\":\"/opt/ml/model\",\"module_dir\":\"s3://sagemaker-us-east-2-057716757052/sagemaker-scikit-learn-2020-08-12-04-16-42-001/source/sourcedir.tar.gz\",\"module_name\":\"pca_script_train\",\"network_interface_name\":\"eth0\",\"num_cpus\":16,\"num_gpus\":0,\"output_data_dir\":\"/opt/ml/output/data\",\"output_dir\":\"/opt/ml/output\",\"output_intermediate_dir\":\"/opt/ml/output/intermediate\",\"resource_config\":{\"current_host\":\"algo-1-c5qfz\",\"hosts\":[\"algo-1-c5qfz\"]},\"user_entry_point\":\"pca_script_train.py\"}\n",
      "\u001b[36malgo-1-c5qfz_1  |\u001b[0m SM_USER_ARGS=[\"--n_components\",\"2\"]\n",
      "\u001b[36malgo-1-c5qfz_1  |\u001b[0m SM_OUTPUT_INTERMEDIATE_DIR=/opt/ml/output/intermediate\n",
      "\u001b[36malgo-1-c5qfz_1  |\u001b[0m SM_CHANNEL_TRAIN=/opt/ml/input/data/train\n",
      "\u001b[36malgo-1-c5qfz_1  |\u001b[0m SM_HP_N_COMPONENTS=2\n",
      "\u001b[36malgo-1-c5qfz_1  |\u001b[0m PYTHONPATH=/opt/ml/code:/miniconda3/bin:/miniconda3/lib/python37.zip:/miniconda3/lib/python3.7:/miniconda3/lib/python3.7/lib-dynload:/miniconda3/lib/python3.7/site-packages\n",
      "\u001b[36malgo-1-c5qfz_1  |\u001b[0m \n",
      "\u001b[36malgo-1-c5qfz_1  |\u001b[0m Invoking script with the following command:\n",
      "\u001b[36malgo-1-c5qfz_1  |\u001b[0m \n",
      "\u001b[36malgo-1-c5qfz_1  |\u001b[0m /miniconda3/bin/python pca_script_train.py --n_components 2\n",
      "\u001b[36malgo-1-c5qfz_1  |\u001b[0m \n",
      "\u001b[36malgo-1-c5qfz_1  |\u001b[0m \n",
      "\u001b[36malgo-1-c5qfz_1  |\u001b[0m train shape:  (2333, 69)\n",
      "\u001b[36malgo-1-c5qfz_1  |\u001b[0m Component Variability: \n",
      "\u001b[36malgo-1-c5qfz_1  |\u001b[0m  [0.11036335 0.08930736]\n",
      "\u001b[36malgo-1-c5qfz_1  |\u001b[0m 2020-08-12 04:16:44,626 sagemaker-training-toolkit INFO     Reporting training SUCCESS\n",
      "\u001b[36mtmpsnuxl0tf_algo-1-c5qfz_1 exited with code 0\n",
      "\u001b[0mAborting on container exit...\n",
      "===== Job Complete =====\n"
     ]
    }
   ],
   "source": [
    "sklearn.fit({'train' : train_input}, wait=True)"
   ]
  },
  {
   "cell_type": "code",
   "execution_count": 41,
   "metadata": {},
   "outputs": [
    {
     "name": "stdout",
     "output_type": "stream",
     "text": [
      "model data:  s3://sagemaker-us-east-2-057716757052/sagemaker-scikit-learn-2020-08-12-04-16-42-001/model.tar.gz\n"
     ]
    }
   ],
   "source": [
    "print(\"model data: \", sklearn.model_data)"
   ]
  },
  {
   "cell_type": "code",
   "execution_count": 42,
   "metadata": {},
   "outputs": [
    {
     "name": "stderr",
     "output_type": "stream",
     "text": [
      "Parameter image will be renamed to image_uri in SageMaker Python SDK v2.\n"
     ]
    },
    {
     "name": "stdout",
     "output_type": "stream",
     "text": [
      "Attaching to tmpl120j6l7_algo-1-4ma7x_1\n",
      "\u001b[36malgo-1-4ma7x_1  |\u001b[0m 2020-08-12 04:17:15,396 INFO - sagemaker-containers - No GPUs detected (normal if no gpus installed)\n",
      "\u001b[36malgo-1-4ma7x_1  |\u001b[0m 2020-08-12 04:17:15,398 INFO - sagemaker-containers - No GPUs detected (normal if no gpus installed)\n",
      "\u001b[36malgo-1-4ma7x_1  |\u001b[0m 2020-08-12 04:17:15,399 INFO - sagemaker-containers - nginx config: \n",
      "\u001b[36malgo-1-4ma7x_1  |\u001b[0m worker_processes auto;\n",
      "\u001b[36malgo-1-4ma7x_1  |\u001b[0m daemon off;\n",
      "\u001b[36malgo-1-4ma7x_1  |\u001b[0m pid /tmp/nginx.pid;\n",
      "\u001b[36malgo-1-4ma7x_1  |\u001b[0m error_log  /dev/stderr;\n",
      "\u001b[36malgo-1-4ma7x_1  |\u001b[0m \n",
      "\u001b[36malgo-1-4ma7x_1  |\u001b[0m worker_rlimit_nofile 4096;\n",
      "\u001b[36malgo-1-4ma7x_1  |\u001b[0m \n",
      "\u001b[36malgo-1-4ma7x_1  |\u001b[0m events {\n",
      "\u001b[36malgo-1-4ma7x_1  |\u001b[0m   worker_connections 2048;\n",
      "\u001b[36malgo-1-4ma7x_1  |\u001b[0m }\n",
      "\u001b[36malgo-1-4ma7x_1  |\u001b[0m \n",
      "\u001b[36malgo-1-4ma7x_1  |\u001b[0m http {\n",
      "\u001b[36malgo-1-4ma7x_1  |\u001b[0m   include /etc/nginx/mime.types;\n",
      "\u001b[36malgo-1-4ma7x_1  |\u001b[0m   default_type application/octet-stream;\n",
      "\u001b[36malgo-1-4ma7x_1  |\u001b[0m   access_log /dev/stdout combined;\n",
      "\u001b[36malgo-1-4ma7x_1  |\u001b[0m \n",
      "\u001b[36malgo-1-4ma7x_1  |\u001b[0m   upstream gunicorn {\n",
      "\u001b[36malgo-1-4ma7x_1  |\u001b[0m     server unix:/tmp/gunicorn.sock;\n",
      "\u001b[36malgo-1-4ma7x_1  |\u001b[0m   }\n",
      "\u001b[36malgo-1-4ma7x_1  |\u001b[0m \n",
      "\u001b[36malgo-1-4ma7x_1  |\u001b[0m   server {\n",
      "\u001b[36malgo-1-4ma7x_1  |\u001b[0m     listen 8080 deferred;\n",
      "\u001b[36malgo-1-4ma7x_1  |\u001b[0m     client_max_body_size 0;\n",
      "\u001b[36malgo-1-4ma7x_1  |\u001b[0m \n",
      "\u001b[36malgo-1-4ma7x_1  |\u001b[0m     keepalive_timeout 3;\n",
      "\u001b[36malgo-1-4ma7x_1  |\u001b[0m \n",
      "\u001b[36malgo-1-4ma7x_1  |\u001b[0m     location ~ ^/(ping|invocations|execution-parameters) {\n",
      "\u001b[36malgo-1-4ma7x_1  |\u001b[0m       proxy_set_header X-Forwarded-For $proxy_add_x_forwarded_for;\n",
      "\u001b[36malgo-1-4ma7x_1  |\u001b[0m       proxy_set_header Host $http_host;\n",
      "\u001b[36malgo-1-4ma7x_1  |\u001b[0m       proxy_redirect off;\n",
      "\u001b[36malgo-1-4ma7x_1  |\u001b[0m       proxy_read_timeout 60s;\n",
      "\u001b[36malgo-1-4ma7x_1  |\u001b[0m       proxy_pass http://gunicorn;\n",
      "\u001b[36malgo-1-4ma7x_1  |\u001b[0m     }\n",
      "\u001b[36malgo-1-4ma7x_1  |\u001b[0m \n",
      "\u001b[36malgo-1-4ma7x_1  |\u001b[0m     location / {\n",
      "\u001b[36malgo-1-4ma7x_1  |\u001b[0m       return 404 \"{}\";\n",
      "\u001b[36malgo-1-4ma7x_1  |\u001b[0m     }\n",
      "\u001b[36malgo-1-4ma7x_1  |\u001b[0m \n",
      "\u001b[36malgo-1-4ma7x_1  |\u001b[0m   }\n",
      "\u001b[36malgo-1-4ma7x_1  |\u001b[0m }\n",
      "\u001b[36malgo-1-4ma7x_1  |\u001b[0m \n",
      "\u001b[36malgo-1-4ma7x_1  |\u001b[0m \n",
      "\u001b[36malgo-1-4ma7x_1  |\u001b[0m 2020-08-12 04:17:15,505 INFO - sagemaker-containers - Module pca_script_train does not provide a setup.py. \n",
      "\u001b[36malgo-1-4ma7x_1  |\u001b[0m Generating setup.py\n",
      "\u001b[36malgo-1-4ma7x_1  |\u001b[0m 2020-08-12 04:17:15,505 INFO - sagemaker-containers - Generating setup.cfg\n",
      "\u001b[36malgo-1-4ma7x_1  |\u001b[0m 2020-08-12 04:17:15,505 INFO - sagemaker-containers - Generating MANIFEST.in\n",
      "\u001b[36malgo-1-4ma7x_1  |\u001b[0m 2020-08-12 04:17:15,505 INFO - sagemaker-containers - Installing module with the following command:\n",
      "\u001b[36malgo-1-4ma7x_1  |\u001b[0m /miniconda3/bin/python -m pip install . \n",
      "\u001b[36malgo-1-4ma7x_1  |\u001b[0m Processing /opt/ml/code\n",
      "\u001b[36malgo-1-4ma7x_1  |\u001b[0m Building wheels for collected packages: pca-script-train\n",
      "\u001b[36malgo-1-4ma7x_1  |\u001b[0m   Building wheel for pca-script-train (setup.py) ... \u001b[?25ldone\n",
      "\u001b[36malgo-1-4ma7x_1  |\u001b[0m \u001b[?25h  Created wheel for pca-script-train: filename=pca_script_train-1.0.0-py2.py3-none-any.whl size=7122 sha256=4fb51dbd66266ec7343bb0ab7d3f4a14a42fee20d15811e2858b08f8847cd763\n",
      "\u001b[36malgo-1-4ma7x_1  |\u001b[0m   Stored in directory: /home/model-server/tmp/pip-ephem-wheel-cache-8wqkc2wr/wheels/3e/0f/51/2f1df833dd0412c1bc2f5ee56baac195b5be563353d111dca6\n",
      "\u001b[36malgo-1-4ma7x_1  |\u001b[0m Successfully built pca-script-train\n",
      "\u001b[36malgo-1-4ma7x_1  |\u001b[0m Installing collected packages: pca-script-train\n",
      "\u001b[36malgo-1-4ma7x_1  |\u001b[0m Successfully installed pca-script-train-1.0.0\n",
      "\u001b[36malgo-1-4ma7x_1  |\u001b[0m [2020-08-12 04:17:17 +0000] [56] [INFO] Starting gunicorn 20.0.4\n",
      "\u001b[36malgo-1-4ma7x_1  |\u001b[0m [2020-08-12 04:17:17 +0000] [56] [INFO] Listening at: unix:/tmp/gunicorn.sock (56)\n",
      "\u001b[36malgo-1-4ma7x_1  |\u001b[0m [2020-08-12 04:17:17 +0000] [56] [INFO] Using worker: gevent\n",
      "\u001b[36malgo-1-4ma7x_1  |\u001b[0m [2020-08-12 04:17:17 +0000] [59] [INFO] Booting worker with pid: 59\n",
      "\u001b[36malgo-1-4ma7x_1  |\u001b[0m [2020-08-12 04:17:17 +0000] [60] [INFO] Booting worker with pid: 60\n",
      "\u001b[36malgo-1-4ma7x_1  |\u001b[0m [2020-08-12 04:17:17 +0000] [91] [INFO] Booting worker with pid: 91\n",
      "\u001b[36malgo-1-4ma7x_1  |\u001b[0m [2020-08-12 04:17:17 +0000] [92] [INFO] Booting worker with pid: 92\n",
      "\u001b[36malgo-1-4ma7x_1  |\u001b[0m [2020-08-12 04:17:17 +0000] [93] [INFO] Booting worker with pid: 93\n",
      "\u001b[36malgo-1-4ma7x_1  |\u001b[0m [2020-08-12 04:17:17 +0000] [94] [INFO] Booting worker with pid: 94\n",
      "\u001b[36malgo-1-4ma7x_1  |\u001b[0m [2020-08-12 04:17:17 +0000] [140] [INFO] Booting worker with pid: 140\n",
      "\u001b[36malgo-1-4ma7x_1  |\u001b[0m [2020-08-12 04:17:17 +0000] [141] [INFO] Booting worker with pid: 141\n",
      "\u001b[36malgo-1-4ma7x_1  |\u001b[0m [2020-08-12 04:17:17 +0000] [142] [INFO] Booting worker with pid: 142\n",
      "\u001b[36malgo-1-4ma7x_1  |\u001b[0m [2020-08-12 04:17:17 +0000] [144] [INFO] Booting worker with pid: 144\n",
      "\u001b[36malgo-1-4ma7x_1  |\u001b[0m [2020-08-12 04:17:17 +0000] [190] [INFO] Booting worker with pid: 190\n",
      "\u001b[36malgo-1-4ma7x_1  |\u001b[0m [2020-08-12 04:17:17 +0000] [206] [INFO] Booting worker with pid: 206\n",
      "\u001b[36malgo-1-4ma7x_1  |\u001b[0m [2020-08-12 04:17:17 +0000] [223] [INFO] Booting worker with pid: 223\n",
      "\u001b[36malgo-1-4ma7x_1  |\u001b[0m [2020-08-12 04:17:17 +0000] [224] [INFO] Booting worker with pid: 224\n",
      "\u001b[36malgo-1-4ma7x_1  |\u001b[0m [2020-08-12 04:17:17 +0000] [225] [INFO] Booting worker with pid: 225\n",
      "\u001b[36malgo-1-4ma7x_1  |\u001b[0m [2020-08-12 04:17:17 +0000] [226] [INFO] Booting worker with pid: 226\n",
      "\u001b[36malgo-1-4ma7x_1  |\u001b[0m 2020-08-12 04:17:18,757 INFO - sagemaker-containers - No GPUs detected (normal if no gpus installed)\n",
      "!\u001b[36malgo-1-4ma7x_1  |\u001b[0m 172.18.0.1 - - [12/Aug/2020:04:17:19 +0000] \"GET /ping HTTP/1.1\" 200 0 \"-\" \"-\"\n"
     ]
    }
   ],
   "source": [
    "instance_type = 'local'\n",
    "\n",
    "\n",
    "script_predictor = sklearn.deploy(\n",
    "    initial_instance_count = 1,\n",
    "    instance_type = instance_type,\n",
    ")"
   ]
  },
  {
   "cell_type": "code",
   "execution_count": 56,
   "metadata": {},
   "outputs": [
    {
     "data": {
      "text/plain": [
       "array([[ 0.1194137 , -0.59623803,  1.74436806,  0.97895705, -0.02899291,\n",
       "        -0.8931854 , -0.8017032 , -1.98252864, -1.53055893, -0.60087965,\n",
       "        -0.44388848,  0.        ,  0.        ,  0.        ,  0.        ,\n",
       "         0.        ,  0.        ,  0.        ,  0.        ,  0.        ,\n",
       "         0.        ,  0.        ,  0.        ,  0.        ,  1.        ,\n",
       "         0.        ,  0.        ,  0.        ,  0.        ,  0.        ,\n",
       "         0.        ,  0.        ,  0.        ,  0.        ,  0.        ,\n",
       "         0.        ,  0.        ,  0.        ,  0.        ,  0.        ,\n",
       "         0.        ,  0.        ,  0.        ,  0.        ,  0.        ,\n",
       "         0.        ,  0.        ,  0.        ,  0.        ,  0.        ,\n",
       "         0.        ,  0.        ,  0.        ,  0.        ,  0.        ,\n",
       "         0.        ,  0.        ,  0.        ,  0.        ,  0.        ,\n",
       "         0.        ,  0.        ,  0.        ,  0.        ,  0.        ,\n",
       "         1.        ,  0.        ,  1.        ,  0.        ]])"
      ]
     },
     "execution_count": 56,
     "metadata": {},
     "output_type": "execute_result"
    }
   ],
   "source": [
    "train_X.iloc[0,:].values.reshape(1,-1)"
   ]
  },
  {
   "cell_type": "code",
   "execution_count": 59,
   "metadata": {},
   "outputs": [
    {
     "name": "stdout",
     "output_type": "stream",
     "text": [
      "Shape of sample:  (1, 69)\n"
     ]
    },
    {
     "data": {
      "text/plain": [
       "array([[ 0.1194137 , -0.59623803,  1.74436806,  0.97895705, -0.02899291,\n",
       "        -0.8931854 , -0.8017032 , -1.98252864, -1.53055893, -0.60087965,\n",
       "        -0.44388848,  0.        ,  0.        ,  0.        ,  0.        ,\n",
       "         0.        ,  0.        ,  0.        ,  0.        ,  0.        ,\n",
       "         0.        ,  0.        ,  0.        ,  0.        ,  1.        ,\n",
       "         0.        ,  0.        ,  0.        ,  0.        ,  0.        ,\n",
       "         0.        ,  0.        ,  0.        ,  0.        ,  0.        ,\n",
       "         0.        ,  0.        ,  0.        ,  0.        ,  0.        ,\n",
       "         0.        ,  0.        ,  0.        ,  0.        ,  0.        ,\n",
       "         0.        ,  0.        ,  0.        ,  0.        ,  0.        ,\n",
       "         0.        ,  0.        ,  0.        ,  0.        ,  0.        ,\n",
       "         0.        ,  0.        ,  0.        ,  0.        ,  0.        ,\n",
       "         0.        ,  0.        ,  0.        ,  0.        ,  0.        ,\n",
       "         1.        ,  0.        ,  1.        ,  0.        ]])"
      ]
     },
     "execution_count": 59,
     "metadata": {},
     "output_type": "execute_result"
    }
   ],
   "source": [
    "sample = train_X.iloc[0,:].values.reshape(1,-1)\n",
    "print(\"Shape of sample: \", sample.shape)\n",
    "sample\n",
    "# sample = train_X.iloc[0,:].reshape(1,-1) # Single Sample (1,-1)"
   ]
  },
  {
   "cell_type": "code",
   "execution_count": 60,
   "metadata": {},
   "outputs": [
    {
     "name": "stdout",
     "output_type": "stream",
     "text": [
      "\u001b[36malgo-1-4ma7x_1  |\u001b[0m 2020-08-12 04:25:15,607 INFO - sagemaker-containers - No GPUs detected (normal if no gpus installed)\n",
      "\u001b[36malgo-1-4ma7x_1  |\u001b[0m 2020-08-12 04:25:15,974 INFO - root - predict_fn: input_data - '[[ 0.1194137  -0.59623803  1.74436806  0.97895705 -0.02899291 -0.8931854\n",
      "\u001b[36malgo-1-4ma7x_1  |\u001b[0m   -0.8017032  -1.98252864 -1.53055893 -0.60087965 -0.44388848  0.\n",
      "\u001b[36malgo-1-4ma7x_1  |\u001b[0m    0.          0.          0.          0.          0.          0.\n",
      "\u001b[36malgo-1-4ma7x_1  |\u001b[0m    0.          0.          0.          0.          0.          0.\n",
      "\u001b[36malgo-1-4ma7x_1  |\u001b[0m    1.          0.          0.          0.          0.          0.\n",
      "\u001b[36malgo-1-4ma7x_1  |\u001b[0m    0.          0.          0.          0.          0.          0.\n",
      "\u001b[36malgo-1-4ma7x_1  |\u001b[0m    0.          0.          0.          0.          0.          0.\n",
      "\u001b[36malgo-1-4ma7x_1  |\u001b[0m    0.          0.          0.          0.          0.          0.\n",
      "\u001b[36malgo-1-4ma7x_1  |\u001b[0m    0.          0.          0.          0.          0.          0.\n",
      "\u001b[36malgo-1-4ma7x_1  |\u001b[0m    0.          0.          0.          0.          0.          0.\n",
      "\u001b[36malgo-1-4ma7x_1  |\u001b[0m    0.          0.          0.          0.          0.          1.\n",
      "\u001b[36malgo-1-4ma7x_1  |\u001b[0m    0.          1.          0.        ]]'\n",
      "\u001b[36malgo-1-4ma7x_1  |\u001b[0m 2020-08-12 04:25:15,974 INFO - root - predict_fn: PCA components: \n",
      "\u001b[36malgo-1-4ma7x_1  |\u001b[0m '[[-0.82314245 -0.10872395]]'\n",
      "\u001b[36malgo-1-4ma7x_1  |\u001b[0m 172.18.0.1 - - [12/Aug/2020:04:25:15 +0000] \"POST /invocations HTTP/1.1\" 200 144 \"-\" \"-\"\n"
     ]
    }
   ],
   "source": [
    "pca_components = script_predictor.predict(sample)"
   ]
  },
  {
   "cell_type": "code",
   "execution_count": 61,
   "metadata": {},
   "outputs": [
    {
     "name": "stdout",
     "output_type": "stream",
     "text": [
      "pca_components:  [[-0.82314245 -0.10872395]]\n"
     ]
    }
   ],
   "source": [
    "print(\"pca_components: \", pca_components)"
   ]
  },
  {
   "cell_type": "code",
   "execution_count": 64,
   "metadata": {},
   "outputs": [
    {
     "name": "stdout",
     "output_type": "stream",
     "text": [
      "Shape of sample:  (2, 69)\n"
     ]
    },
    {
     "data": {
      "text/plain": [
       "array([[ 0.1194137 , -0.59623803,  1.74436806,  0.97895705, -0.02899291,\n",
       "        -0.8931854 , -0.8017032 , -1.98252864, -1.53055893, -0.60087965,\n",
       "        -0.44388848,  0.        ,  0.        ,  0.        ,  0.        ,\n",
       "         0.        ,  0.        ,  0.        ,  0.        ,  0.        ,\n",
       "         0.        ,  0.        ,  0.        ,  0.        ,  1.        ,\n",
       "         0.        ,  0.        ,  0.        ,  0.        ,  0.        ,\n",
       "         0.        ,  0.        ,  0.        ,  0.        ,  0.        ,\n",
       "         0.        ,  0.        ,  0.        ,  0.        ,  0.        ,\n",
       "         0.        ,  0.        ,  0.        ,  0.        ,  0.        ,\n",
       "         0.        ,  0.        ,  0.        ,  0.        ,  0.        ,\n",
       "         0.        ,  0.        ,  0.        ,  0.        ,  0.        ,\n",
       "         0.        ,  0.        ,  0.        ,  0.        ,  0.        ,\n",
       "         0.        ,  0.        ,  0.        ,  0.        ,  0.        ,\n",
       "         1.        ,  0.        ,  1.        ,  0.        ],\n",
       "       [-1.85265164, -0.59623803,  0.1402835 , -0.31040516,  0.97068863,\n",
       "        -0.68988769,  0.1463895 ,  1.23290056,  0.12485229,  0.2029347 ,\n",
       "        -1.20872734,  0.        ,  0.        ,  0.        ,  0.        ,\n",
       "         0.        ,  0.        ,  0.        ,  0.        ,  0.        ,\n",
       "         0.        ,  0.        ,  0.        ,  0.        ,  0.        ,\n",
       "         0.        ,  0.        ,  0.        ,  0.        ,  0.        ,\n",
       "         0.        ,  0.        ,  0.        ,  0.        ,  0.        ,\n",
       "         0.        ,  0.        ,  0.        ,  0.        ,  0.        ,\n",
       "         0.        ,  0.        ,  0.        ,  0.        ,  0.        ,\n",
       "         0.        ,  0.        ,  0.        ,  0.        ,  0.        ,\n",
       "         0.        ,  0.        ,  0.        ,  0.        ,  0.        ,\n",
       "         0.        ,  0.        ,  0.        ,  0.        ,  0.        ,\n",
       "         0.        ,  1.        ,  0.        ,  0.        ,  0.        ,\n",
       "         1.        ,  0.        ,  1.        ,  0.        ]])"
      ]
     },
     "execution_count": 64,
     "metadata": {},
     "output_type": "execute_result"
    }
   ],
   "source": [
    "sample = train_X.iloc[0:2,:].values.reshape(-1,69)\n",
    "print(\"Shape of sample: \", sample.shape)\n",
    "sample\n",
    "# sample = train_X.iloc[0,:].reshape(1,-1) # Single Sample (1,-1)"
   ]
  },
  {
   "cell_type": "code",
   "execution_count": 65,
   "metadata": {},
   "outputs": [
    {
     "name": "stdout",
     "output_type": "stream",
     "text": [
      "\u001b[36malgo-1-4ma7x_1  |\u001b[0m 2020-08-12 04:28:58,834 INFO - sagemaker-containers - No GPUs detected (normal if no gpus installed)\n",
      "\u001b[36malgo-1-4ma7x_1  |\u001b[0m 2020-08-12 04:28:59,201 INFO - root - predict_fn: input_data - '[[ 0.1194137  -0.59623803  1.74436806  0.97895705 -0.02899291 -0.8931854\n",
      "\u001b[36malgo-1-4ma7x_1  |\u001b[0m   -0.8017032  -1.98252864 -1.53055893 -0.60087965 -0.44388848  0.\n",
      "\u001b[36malgo-1-4ma7x_1  |\u001b[0m    0.          0.          0.          0.          0.          0.\n",
      "\u001b[36malgo-1-4ma7x_1  |\u001b[0m    0.          0.          0.          0.          0.          0.\n",
      "\u001b[36malgo-1-4ma7x_1  |\u001b[0m    1.          0.          0.          0.          0.          0.\n",
      "\u001b[36malgo-1-4ma7x_1  |\u001b[0m    0.          0.          0.          0.          0.          0.\n",
      "\u001b[36malgo-1-4ma7x_1  |\u001b[0m    0.          0.          0.          0.          0.          0.\n",
      "\u001b[36malgo-1-4ma7x_1  |\u001b[0m    0.          0.          0.          0.          0.          0.\n",
      "\u001b[36malgo-1-4ma7x_1  |\u001b[0m    0.          0.          0.          0.          0.          0.\n",
      "\u001b[36malgo-1-4ma7x_1  |\u001b[0m    0.          0.          0.          0.          0.          0.\n",
      "\u001b[36malgo-1-4ma7x_1  |\u001b[0m    0.          0.          0.          0.          0.          1.\n",
      "\u001b[36malgo-1-4ma7x_1  |\u001b[0m    0.          1.          0.        ]\n",
      "\u001b[36malgo-1-4ma7x_1  |\u001b[0m  [-1.85265164 -0.59623803  0.1402835  -0.31040516  0.97068863 -0.68988769\n",
      "\u001b[36malgo-1-4ma7x_1  |\u001b[0m    0.1463895   1.23290056  0.12485229  0.2029347  -1.20872734  0.\n",
      "\u001b[36malgo-1-4ma7x_1  |\u001b[0m    0.          0.          0.          0.          0.          0.\n",
      "\u001b[36malgo-1-4ma7x_1  |\u001b[0m    0.          0.          0.          0.          0.          0.\n",
      "\u001b[36malgo-1-4ma7x_1  |\u001b[0m    0.          0.          0.          0.          0.          0.\n",
      "\u001b[36malgo-1-4ma7x_1  |\u001b[0m    0.          0.          0.          0.          0.          0.\n",
      "\u001b[36malgo-1-4ma7x_1  |\u001b[0m    0.          0.          0.          0.          0.          0.\n",
      "\u001b[36malgo-1-4ma7x_1  |\u001b[0m    0.          0.          0.          0.          0.          0.\n",
      "\u001b[36malgo-1-4ma7x_1  |\u001b[0m    0.          0.          0.          0.          0.          0.\n",
      "\u001b[36malgo-1-4ma7x_1  |\u001b[0m    0.          0.          0.          0.          0.          0.\n",
      "\u001b[36malgo-1-4ma7x_1  |\u001b[0m    0.          1.          0.          0.          0.          1.\n",
      "\u001b[36malgo-1-4ma7x_1  |\u001b[0m    0.          1.          0.        ]]'\n",
      "\u001b[36malgo-1-4ma7x_1  |\u001b[0m 2020-08-12 04:28:59,202 INFO - root - predict_fn: PCA components: \n",
      "\u001b[36malgo-1-4ma7x_1  |\u001b[0m '[[-0.82314245 -0.10872395]\n",
      "\u001b[36malgo-1-4ma7x_1  |\u001b[0m  [-0.34342986  0.09079016]]'\n",
      "\u001b[36malgo-1-4ma7x_1  |\u001b[0m 172.18.0.1 - - [12/Aug/2020:04:28:59 +0000] \"POST /invocations HTTP/1.1\" 200 160 \"-\" \"-\"\n"
     ]
    }
   ],
   "source": [
    "pca_components = script_predictor.predict(sample)"
   ]
  },
  {
   "cell_type": "code",
   "execution_count": 66,
   "metadata": {},
   "outputs": [
    {
     "data": {
      "text/plain": [
       "array([[-0.82314245, -0.10872395],\n",
       "       [-0.34342986,  0.09079016]])"
      ]
     },
     "execution_count": 66,
     "metadata": {},
     "output_type": "execute_result"
    }
   ],
   "source": [
    "pca_components"
   ]
  },
  {
   "cell_type": "code",
   "execution_count": null,
   "metadata": {},
   "outputs": [],
   "source": []
  }
 ],
 "metadata": {
  "kernelspec": {
   "display_name": "conda_python3",
   "language": "python",
   "name": "conda_python3"
  },
  "language_info": {
   "codemirror_mode": {
    "name": "ipython",
    "version": 3
   },
   "file_extension": ".py",
   "mimetype": "text/x-python",
   "name": "python",
   "nbconvert_exporter": "python",
   "pygments_lexer": "ipython3",
   "version": "3.6.10"
  }
 },
 "nbformat": 4,
 "nbformat_minor": 4
}
