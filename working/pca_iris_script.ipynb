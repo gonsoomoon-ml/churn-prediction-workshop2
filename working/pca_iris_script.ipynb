{
 "cells": [
  {
   "cell_type": "markdown",
   "metadata": {},
   "source": [
    "# PCA Script Mode"
   ]
  },
  {
   "cell_type": "markdown",
   "metadata": {},
   "source": [
    "How to implement PCA with Python and scikit-learn: Theory & Code\n",
    "https://medium.com/ai-in-plain-english/how-to-implement-pca-with-python-and-scikit-learn-22f3de4e5983\n",
    "\n",
    "Iris Training and Prediction with Sagemaker Scikit-learn\n",
    "\n",
    "- Scikit Learn 스크립트 모드\n",
    "\n",
    "https://github.com/awslabs/amazon-sagemaker-examples/blob/master/sagemaker-python-sdk/scikit_learn_iris/Scikit-learn%20Estimator%20Example%20With%20Batch%20Transform.ipynb\n",
    "\n",
    "Amazon SageMaker Custom Training containers\n",
    "https://github.com/awslabs/amazon-sagemaker-examples/tree/master/advanced_functionality/custom-training-containers\n",
    "\n",
    "Using Scikit-learn with the SageMaker Python SDK\n",
    "https://sagemaker.readthedocs.io/en/stable/frameworks/sklearn/using_sklearn.html#id2\n",
    "\n",
    "Building your own algorithm container\n",
    "https://github.com/awslabs/amazon-sagemaker-examples/blob/master/advanced_functionality/scikit_bring_your_own/scikit_bring_your_own.ipynb\n",
    "\n",
    "Bring Your Own Model (XGboost)\n",
    "https://github.com/awslabs/amazon-sagemaker-examples/tree/master/advanced_functionality/xgboost_bring_your_own_model"
   ]
  },
  {
   "cell_type": "code",
   "execution_count": 1,
   "metadata": {},
   "outputs": [],
   "source": [
    "prefix = 'Scikit-pca'\n",
    "\n",
    "import sagemaker\n",
    "from sagemaker import get_execution_role\n",
    "\n",
    "sagemaker_session = sagemaker.Session()\n",
    "role = get_execution_role()"
   ]
  },
  {
   "cell_type": "code",
   "execution_count": 2,
   "metadata": {},
   "outputs": [],
   "source": [
    "from sklearn import datasets\n",
    "import os\n",
    "import numpy as np\n",
    "\n",
    "iris = datasets.load_iris()\n",
    "train_X = iris.data\n",
    "train_y = iris.target\n",
    "\n",
    "os.makedirs('./data', exist_ok =True)\n",
    "np.savetxt('./data/iris.csv', train_X, delimiter=',',\n",
    "           fmt='%1.3f, %1.3f, %1.3f, %1.3f'\n",
    "          )\n"
   ]
  },
  {
   "cell_type": "code",
   "execution_count": 3,
   "metadata": {},
   "outputs": [],
   "source": [
    "WORK_DIRECTORY = 'data'\n",
    "train_input = sagemaker_session.upload_data(WORK_DIRECTORY,\n",
    "                                            key_prefix=\"{}/{}\".format(prefix, WORK_DIRECTORY)\n",
    "                                           )"
   ]
  },
  {
   "cell_type": "code",
   "execution_count": 31,
   "metadata": {},
   "outputs": [
    {
     "name": "stdout",
     "output_type": "stream",
     "text": [
      "Overwriting pca_train.py\n"
     ]
    }
   ],
   "source": [
    "%%writefile pca_train.py\n",
    "\n",
    "from __future__ import print_function\n",
    "\n",
    "import argparse\n",
    "import joblib\n",
    "import os\n",
    "import pandas as pd\n",
    "import logging\n",
    "\n",
    "from sklearn.decomposition import PCA\n",
    "\n",
    "if __name__ == '__main__':\n",
    "    parser = argparse.ArgumentParser()\n",
    "    \n",
    "    parser.add_argument('--output-data-dir', type=str, default=os.environ['SM_OUTPUT_DATA_DIR'])\n",
    "    parser.add_argument('--model-dir', type=str, default=os.environ['SM_MODEL_DIR'])\n",
    "    parser.add_argument('--train', type=str, default=os.environ['SM_CHANNEL_TRAIN'])\n",
    "    \n",
    "    parser.add_argument('--n_components', type=int, default = 3)\n",
    "    \n",
    "    args = parser.parse_args()\n",
    "    \n",
    "    input_files = [ os.path.join(args.train, file) for file in os.listdir(args.train)]\n",
    "    if len(input_files) == 0:\n",
    "        raise ValueError(('There are no files in {}.\\n' +\n",
    "                          'This usually indicates that the channel ({}) was incorrectly specified,\\n' +\n",
    "                          'the data specification in S3 was incorrectly specified or the role specified\\n' +\n",
    "                          'does not have permission to access the data.').format(args.train, \"train\"))\n",
    "    raw_data = [ pd.read_csv(file, header=None, engine=\"python\") for file in input_files]\n",
    "    train_data = pd.concat(raw_data)\n",
    "    \n",
    "    pca = PCA(n_components = args.n_components)\n",
    "    print(\"train shape: \", train_data.shape)\n",
    "    X_new = pca.fit_transform(train_data)\n",
    "    \n",
    "    print(\"Component Variability: \\n\", pca.explained_variance_ratio_)\n",
    "    \n",
    "    joblib.dump(pca, os.path.join(args.model_dir, \"model.joblib\"))\n",
    "    \n",
    "\n",
    "def model_fn(model_dir):\n",
    "    \"\"\"\n",
    "    Deserialized and return fitted model\n",
    "    Note that this should have the same name as the serialized model in the main method\n",
    "    \"\"\"   \n",
    "    pca = joblib.load(os.path.join(model_dir, \"model.joblib\"))\n",
    "    \n",
    "    return pca  \n",
    "\n",
    "def predict_fn(input_data, model):\n",
    "    \"\"\"Preprocess input data\n",
    "    \n",
    "    We implement this because the default predict_fn uses .predict(), but our model is a preprocessor\n",
    "    so we want to use .transform().\n",
    "    \"\"\"\n",
    "    logging.info(\"predict_fn: \")\n",
    "    # model, PCA model, has transform()\n",
    "    components = model.transform(input_data)\n",
    "    \n",
    "    logging.info(\"predict_fn: PCA components: \\n'{components}'\")    \n",
    "    return components\n",
    "    \n",
    "# predict_fn을 정의하지 않으면 default predict_fn을 호출 함.\n",
    "# PCA는 predict 함수를 제공하지 않으므로 사용자 정의 필요 함.\n",
    "\n",
    "# algo-1-dhteh_1  | 2020-08-10 14:15:55,970 ERROR - pca_train - Exception on /invocations [POST]\n",
    "# algo-1-dhteh_1  | Traceback (most recent call last):\n",
    "# algo-1-dhteh_1  |   File \"/miniconda3/lib/python3.7/site-packages/sagemaker_containers/_functions.py\", line 93, in wrapper\n",
    "# algo-1-dhteh_1  |     return fn(*args, **kwargs)\n",
    "# algo-1-dhteh_1  |   File \"/miniconda3/lib/python3.7/site-packages/sagemaker_sklearn_container/serving.py\", line 70, in default_predict_fn\n",
    "# algo-1-dhteh_1  |     output = model.predict(input_data)\n",
    "# algo-1-dhteh_1  | AttributeError: 'PCA' object has no attribute 'predict'"
   ]
  },
  {
   "cell_type": "code",
   "execution_count": 32,
   "metadata": {},
   "outputs": [],
   "source": [
    "from sagemaker.sklearn.estimator import SKLearn\n",
    "\n",
    "FRAMEWORK_VERSION = \"0.23-1\"\n",
    "script_path = 'pca_train.py'\n",
    "\n",
    "instance_type = 'local'\n",
    "\n",
    "sklearn = SKLearn(\n",
    "    entry_point = script_path,\n",
    "    framework_version = FRAMEWORK_VERSION,\n",
    "    train_instance_type = instance_type,\n",
    "    role = role,\n",
    "#     sagemaker_session = sagemaker_session, # Exclude in local mode\n",
    "    hyperparameters = {'n_components' : 2}\n",
    ")"
   ]
  },
  {
   "cell_type": "code",
   "execution_count": 33,
   "metadata": {},
   "outputs": [
    {
     "name": "stderr",
     "output_type": "stream",
     "text": [
      "'s3_input' class will be renamed to 'TrainingInput' in SageMaker Python SDK v2.\n"
     ]
    },
    {
     "name": "stdout",
     "output_type": "stream",
     "text": [
      "Creating tmpfq4c_n88_algo-1-n23ci_1 ... \n",
      "\u001b[1BAttaching to tmpfq4c_n88_algo-1-n23ci_12mdone\u001b[0m\n",
      "\u001b[36malgo-1-n23ci_1  |\u001b[0m 2020-08-10 14:25:24,579 sagemaker-training-toolkit INFO     Imported framework sagemaker_sklearn_container.training\n",
      "\u001b[36malgo-1-n23ci_1  |\u001b[0m 2020-08-10 14:25:24,581 sagemaker-training-toolkit INFO     No GPUs detected (normal if no gpus installed)\n",
      "\u001b[36malgo-1-n23ci_1  |\u001b[0m 2020-08-10 14:25:24,589 sagemaker_sklearn_container.training INFO     Invoking user training script.\n",
      "\u001b[36malgo-1-n23ci_1  |\u001b[0m 2020-08-10 14:25:24,783 sagemaker-training-toolkit INFO     No GPUs detected (normal if no gpus installed)\n",
      "\u001b[36malgo-1-n23ci_1  |\u001b[0m 2020-08-10 14:25:24,792 sagemaker-training-toolkit INFO     No GPUs detected (normal if no gpus installed)\n",
      "\u001b[36malgo-1-n23ci_1  |\u001b[0m 2020-08-10 14:25:24,801 sagemaker-training-toolkit INFO     No GPUs detected (normal if no gpus installed)\n",
      "\u001b[36malgo-1-n23ci_1  |\u001b[0m 2020-08-10 14:25:24,811 sagemaker-training-toolkit INFO     Invoking user script\n",
      "\u001b[36malgo-1-n23ci_1  |\u001b[0m \n",
      "\u001b[36malgo-1-n23ci_1  |\u001b[0m Training Env:\n",
      "\u001b[36malgo-1-n23ci_1  |\u001b[0m \n",
      "\u001b[36malgo-1-n23ci_1  |\u001b[0m {\n",
      "\u001b[36malgo-1-n23ci_1  |\u001b[0m     \"additional_framework_parameters\": {},\n",
      "\u001b[36malgo-1-n23ci_1  |\u001b[0m     \"channel_input_dirs\": {\n",
      "\u001b[36malgo-1-n23ci_1  |\u001b[0m         \"train\": \"/opt/ml/input/data/train\"\n",
      "\u001b[36malgo-1-n23ci_1  |\u001b[0m     },\n",
      "\u001b[36malgo-1-n23ci_1  |\u001b[0m     \"current_host\": \"algo-1-n23ci\",\n",
      "\u001b[36malgo-1-n23ci_1  |\u001b[0m     \"framework_module\": \"sagemaker_sklearn_container.training:main\",\n",
      "\u001b[36malgo-1-n23ci_1  |\u001b[0m     \"hosts\": [\n",
      "\u001b[36malgo-1-n23ci_1  |\u001b[0m         \"algo-1-n23ci\"\n",
      "\u001b[36malgo-1-n23ci_1  |\u001b[0m     ],\n",
      "\u001b[36malgo-1-n23ci_1  |\u001b[0m     \"hyperparameters\": {\n",
      "\u001b[36malgo-1-n23ci_1  |\u001b[0m         \"n_components\": 2\n",
      "\u001b[36malgo-1-n23ci_1  |\u001b[0m     },\n",
      "\u001b[36malgo-1-n23ci_1  |\u001b[0m     \"input_config_dir\": \"/opt/ml/input/config\",\n",
      "\u001b[36malgo-1-n23ci_1  |\u001b[0m     \"input_data_config\": {\n",
      "\u001b[36malgo-1-n23ci_1  |\u001b[0m         \"train\": {\n",
      "\u001b[36malgo-1-n23ci_1  |\u001b[0m             \"TrainingInputMode\": \"File\"\n",
      "\u001b[36malgo-1-n23ci_1  |\u001b[0m         }\n",
      "\u001b[36malgo-1-n23ci_1  |\u001b[0m     },\n",
      "\u001b[36malgo-1-n23ci_1  |\u001b[0m     \"input_dir\": \"/opt/ml/input\",\n",
      "\u001b[36malgo-1-n23ci_1  |\u001b[0m     \"is_master\": true,\n",
      "\u001b[36malgo-1-n23ci_1  |\u001b[0m     \"job_name\": \"sagemaker-scikit-learn-2020-08-10-14-25-22-772\",\n",
      "\u001b[36malgo-1-n23ci_1  |\u001b[0m     \"log_level\": 20,\n",
      "\u001b[36malgo-1-n23ci_1  |\u001b[0m     \"master_hostname\": \"algo-1-n23ci\",\n",
      "\u001b[36malgo-1-n23ci_1  |\u001b[0m     \"model_dir\": \"/opt/ml/model\",\n",
      "\u001b[36malgo-1-n23ci_1  |\u001b[0m     \"module_dir\": \"s3://sagemaker-us-east-2-057716757052/sagemaker-scikit-learn-2020-08-10-14-25-22-772/source/sourcedir.tar.gz\",\n",
      "\u001b[36malgo-1-n23ci_1  |\u001b[0m     \"module_name\": \"pca_train\",\n",
      "\u001b[36malgo-1-n23ci_1  |\u001b[0m     \"network_interface_name\": \"eth0\",\n",
      "\u001b[36malgo-1-n23ci_1  |\u001b[0m     \"num_cpus\": 16,\n",
      "\u001b[36malgo-1-n23ci_1  |\u001b[0m     \"num_gpus\": 0,\n",
      "\u001b[36malgo-1-n23ci_1  |\u001b[0m     \"output_data_dir\": \"/opt/ml/output/data\",\n",
      "\u001b[36malgo-1-n23ci_1  |\u001b[0m     \"output_dir\": \"/opt/ml/output\",\n",
      "\u001b[36malgo-1-n23ci_1  |\u001b[0m     \"output_intermediate_dir\": \"/opt/ml/output/intermediate\",\n",
      "\u001b[36malgo-1-n23ci_1  |\u001b[0m     \"resource_config\": {\n",
      "\u001b[36malgo-1-n23ci_1  |\u001b[0m         \"current_host\": \"algo-1-n23ci\",\n",
      "\u001b[36malgo-1-n23ci_1  |\u001b[0m         \"hosts\": [\n",
      "\u001b[36malgo-1-n23ci_1  |\u001b[0m             \"algo-1-n23ci\"\n",
      "\u001b[36malgo-1-n23ci_1  |\u001b[0m         ]\n",
      "\u001b[36malgo-1-n23ci_1  |\u001b[0m     },\n",
      "\u001b[36malgo-1-n23ci_1  |\u001b[0m     \"user_entry_point\": \"pca_train.py\"\n",
      "\u001b[36malgo-1-n23ci_1  |\u001b[0m }\n",
      "\u001b[36malgo-1-n23ci_1  |\u001b[0m \n",
      "\u001b[36malgo-1-n23ci_1  |\u001b[0m Environment variables:\n",
      "\u001b[36malgo-1-n23ci_1  |\u001b[0m \n",
      "\u001b[36malgo-1-n23ci_1  |\u001b[0m SM_HOSTS=[\"algo-1-n23ci\"]\n",
      "\u001b[36malgo-1-n23ci_1  |\u001b[0m SM_NETWORK_INTERFACE_NAME=eth0\n",
      "\u001b[36malgo-1-n23ci_1  |\u001b[0m SM_HPS={\"n_components\":2}\n",
      "\u001b[36malgo-1-n23ci_1  |\u001b[0m SM_USER_ENTRY_POINT=pca_train.py\n",
      "\u001b[36malgo-1-n23ci_1  |\u001b[0m SM_FRAMEWORK_PARAMS={}\n",
      "\u001b[36malgo-1-n23ci_1  |\u001b[0m SM_RESOURCE_CONFIG={\"current_host\":\"algo-1-n23ci\",\"hosts\":[\"algo-1-n23ci\"]}\n",
      "\u001b[36malgo-1-n23ci_1  |\u001b[0m SM_INPUT_DATA_CONFIG={\"train\":{\"TrainingInputMode\":\"File\"}}\n",
      "\u001b[36malgo-1-n23ci_1  |\u001b[0m SM_OUTPUT_DATA_DIR=/opt/ml/output/data\n",
      "\u001b[36malgo-1-n23ci_1  |\u001b[0m SM_CHANNELS=[\"train\"]\n",
      "\u001b[36malgo-1-n23ci_1  |\u001b[0m SM_CURRENT_HOST=algo-1-n23ci\n",
      "\u001b[36malgo-1-n23ci_1  |\u001b[0m SM_MODULE_NAME=pca_train\n",
      "\u001b[36malgo-1-n23ci_1  |\u001b[0m SM_LOG_LEVEL=20\n",
      "\u001b[36malgo-1-n23ci_1  |\u001b[0m SM_FRAMEWORK_MODULE=sagemaker_sklearn_container.training:main\n",
      "\u001b[36malgo-1-n23ci_1  |\u001b[0m SM_INPUT_DIR=/opt/ml/input\n",
      "\u001b[36malgo-1-n23ci_1  |\u001b[0m SM_INPUT_CONFIG_DIR=/opt/ml/input/config\n",
      "\u001b[36malgo-1-n23ci_1  |\u001b[0m SM_OUTPUT_DIR=/opt/ml/output\n",
      "\u001b[36malgo-1-n23ci_1  |\u001b[0m SM_NUM_CPUS=16\n",
      "\u001b[36malgo-1-n23ci_1  |\u001b[0m SM_NUM_GPUS=0\n",
      "\u001b[36malgo-1-n23ci_1  |\u001b[0m SM_MODEL_DIR=/opt/ml/model\n",
      "\u001b[36malgo-1-n23ci_1  |\u001b[0m SM_MODULE_DIR=s3://sagemaker-us-east-2-057716757052/sagemaker-scikit-learn-2020-08-10-14-25-22-772/source/sourcedir.tar.gz\n",
      "\u001b[36malgo-1-n23ci_1  |\u001b[0m SM_TRAINING_ENV={\"additional_framework_parameters\":{},\"channel_input_dirs\":{\"train\":\"/opt/ml/input/data/train\"},\"current_host\":\"algo-1-n23ci\",\"framework_module\":\"sagemaker_sklearn_container.training:main\",\"hosts\":[\"algo-1-n23ci\"],\"hyperparameters\":{\"n_components\":2},\"input_config_dir\":\"/opt/ml/input/config\",\"input_data_config\":{\"train\":{\"TrainingInputMode\":\"File\"}},\"input_dir\":\"/opt/ml/input\",\"is_master\":true,\"job_name\":\"sagemaker-scikit-learn-2020-08-10-14-25-22-772\",\"log_level\":20,\"master_hostname\":\"algo-1-n23ci\",\"model_dir\":\"/opt/ml/model\",\"module_dir\":\"s3://sagemaker-us-east-2-057716757052/sagemaker-scikit-learn-2020-08-10-14-25-22-772/source/sourcedir.tar.gz\",\"module_name\":\"pca_train\",\"network_interface_name\":\"eth0\",\"num_cpus\":16,\"num_gpus\":0,\"output_data_dir\":\"/opt/ml/output/data\",\"output_dir\":\"/opt/ml/output\",\"output_intermediate_dir\":\"/opt/ml/output/intermediate\",\"resource_config\":{\"current_host\":\"algo-1-n23ci\",\"hosts\":[\"algo-1-n23ci\"]},\"user_entry_point\":\"pca_train.py\"}\n",
      "\u001b[36malgo-1-n23ci_1  |\u001b[0m SM_USER_ARGS=[\"--n_components\",\"2\"]\n",
      "\u001b[36malgo-1-n23ci_1  |\u001b[0m SM_OUTPUT_INTERMEDIATE_DIR=/opt/ml/output/intermediate\n",
      "\u001b[36malgo-1-n23ci_1  |\u001b[0m SM_CHANNEL_TRAIN=/opt/ml/input/data/train\n",
      "\u001b[36malgo-1-n23ci_1  |\u001b[0m SM_HP_N_COMPONENTS=2\n",
      "\u001b[36malgo-1-n23ci_1  |\u001b[0m PYTHONPATH=/opt/ml/code:/miniconda3/bin:/miniconda3/lib/python37.zip:/miniconda3/lib/python3.7:/miniconda3/lib/python3.7/lib-dynload:/miniconda3/lib/python3.7/site-packages\n",
      "\u001b[36malgo-1-n23ci_1  |\u001b[0m \n",
      "\u001b[36malgo-1-n23ci_1  |\u001b[0m Invoking script with the following command:\n",
      "\u001b[36malgo-1-n23ci_1  |\u001b[0m \n",
      "\u001b[36malgo-1-n23ci_1  |\u001b[0m /miniconda3/bin/python pca_train.py --n_components 2\n",
      "\u001b[36malgo-1-n23ci_1  |\u001b[0m \n",
      "\u001b[36malgo-1-n23ci_1  |\u001b[0m \n",
      "\u001b[36malgo-1-n23ci_1  |\u001b[0m train shape:  (150, 4)\n",
      "\u001b[36malgo-1-n23ci_1  |\u001b[0m Component Variability: \n",
      "\u001b[36malgo-1-n23ci_1  |\u001b[0m  [0.92461872 0.05306648]\n",
      "\u001b[36malgo-1-n23ci_1  |\u001b[0m 2020-08-10 14:25:25,386 sagemaker-training-toolkit INFO     Reporting training SUCCESS\n",
      "\u001b[36mtmpfq4c_n88_algo-1-n23ci_1 exited with code 0\n",
      "\u001b[0mAborting on container exit...\n",
      "===== Job Complete =====\n"
     ]
    }
   ],
   "source": [
    "sklearn.fit({'train' : train_input}, wait=True)"
   ]
  },
  {
   "cell_type": "code",
   "execution_count": 34,
   "metadata": {},
   "outputs": [
    {
     "name": "stdout",
     "output_type": "stream",
     "text": [
      "model data:  s3://sagemaker-us-east-2-057716757052/sagemaker-scikit-learn-2020-08-10-14-25-22-772/model.tar.gz\n"
     ]
    }
   ],
   "source": [
    "print(\"model data: \", sklearn.model_data)"
   ]
  },
  {
   "cell_type": "code",
   "execution_count": 36,
   "metadata": {},
   "outputs": [
    {
     "name": "stderr",
     "output_type": "stream",
     "text": [
      "Parameter image will be renamed to image_uri in SageMaker Python SDK v2.\n"
     ]
    },
    {
     "name": "stdout",
     "output_type": "stream",
     "text": [
      "Attaching to tmp0kd81dtv_algo-1-esb4s_1\n",
      "\u001b[36malgo-1-esb4s_1  |\u001b[0m 2020-08-10 14:26:19,731 INFO - sagemaker-containers - No GPUs detected (normal if no gpus installed)\n",
      "\u001b[36malgo-1-esb4s_1  |\u001b[0m 2020-08-10 14:26:19,733 INFO - sagemaker-containers - No GPUs detected (normal if no gpus installed)\n",
      "\u001b[36malgo-1-esb4s_1  |\u001b[0m 2020-08-10 14:26:19,734 INFO - sagemaker-containers - nginx config: \n",
      "\u001b[36malgo-1-esb4s_1  |\u001b[0m worker_processes auto;\n",
      "\u001b[36malgo-1-esb4s_1  |\u001b[0m daemon off;\n",
      "\u001b[36malgo-1-esb4s_1  |\u001b[0m pid /tmp/nginx.pid;\n",
      "\u001b[36malgo-1-esb4s_1  |\u001b[0m error_log  /dev/stderr;\n",
      "\u001b[36malgo-1-esb4s_1  |\u001b[0m \n",
      "\u001b[36malgo-1-esb4s_1  |\u001b[0m worker_rlimit_nofile 4096;\n",
      "\u001b[36malgo-1-esb4s_1  |\u001b[0m \n",
      "\u001b[36malgo-1-esb4s_1  |\u001b[0m events {\n",
      "\u001b[36malgo-1-esb4s_1  |\u001b[0m   worker_connections 2048;\n",
      "\u001b[36malgo-1-esb4s_1  |\u001b[0m }\n",
      "\u001b[36malgo-1-esb4s_1  |\u001b[0m \n",
      "\u001b[36malgo-1-esb4s_1  |\u001b[0m http {\n",
      "\u001b[36malgo-1-esb4s_1  |\u001b[0m   include /etc/nginx/mime.types;\n",
      "\u001b[36malgo-1-esb4s_1  |\u001b[0m   default_type application/octet-stream;\n",
      "\u001b[36malgo-1-esb4s_1  |\u001b[0m   access_log /dev/stdout combined;\n",
      "\u001b[36malgo-1-esb4s_1  |\u001b[0m \n",
      "\u001b[36malgo-1-esb4s_1  |\u001b[0m   upstream gunicorn {\n",
      "\u001b[36malgo-1-esb4s_1  |\u001b[0m     server unix:/tmp/gunicorn.sock;\n",
      "\u001b[36malgo-1-esb4s_1  |\u001b[0m   }\n",
      "\u001b[36malgo-1-esb4s_1  |\u001b[0m \n",
      "\u001b[36malgo-1-esb4s_1  |\u001b[0m   server {\n",
      "\u001b[36malgo-1-esb4s_1  |\u001b[0m     listen 8080 deferred;\n",
      "\u001b[36malgo-1-esb4s_1  |\u001b[0m     client_max_body_size 0;\n",
      "\u001b[36malgo-1-esb4s_1  |\u001b[0m \n",
      "\u001b[36malgo-1-esb4s_1  |\u001b[0m     keepalive_timeout 3;\n",
      "\u001b[36malgo-1-esb4s_1  |\u001b[0m \n",
      "\u001b[36malgo-1-esb4s_1  |\u001b[0m     location ~ ^/(ping|invocations|execution-parameters) {\n",
      "\u001b[36malgo-1-esb4s_1  |\u001b[0m       proxy_set_header X-Forwarded-For $proxy_add_x_forwarded_for;\n",
      "\u001b[36malgo-1-esb4s_1  |\u001b[0m       proxy_set_header Host $http_host;\n",
      "\u001b[36malgo-1-esb4s_1  |\u001b[0m       proxy_redirect off;\n",
      "\u001b[36malgo-1-esb4s_1  |\u001b[0m       proxy_read_timeout 60s;\n",
      "\u001b[36malgo-1-esb4s_1  |\u001b[0m       proxy_pass http://gunicorn;\n",
      "\u001b[36malgo-1-esb4s_1  |\u001b[0m     }\n",
      "\u001b[36malgo-1-esb4s_1  |\u001b[0m \n",
      "\u001b[36malgo-1-esb4s_1  |\u001b[0m     location / {\n",
      "\u001b[36malgo-1-esb4s_1  |\u001b[0m       return 404 \"{}\";\n",
      "\u001b[36malgo-1-esb4s_1  |\u001b[0m     }\n",
      "\u001b[36malgo-1-esb4s_1  |\u001b[0m \n",
      "\u001b[36malgo-1-esb4s_1  |\u001b[0m   }\n",
      "\u001b[36malgo-1-esb4s_1  |\u001b[0m }\n",
      "\u001b[36malgo-1-esb4s_1  |\u001b[0m \n",
      "\u001b[36malgo-1-esb4s_1  |\u001b[0m \n",
      "\u001b[36malgo-1-esb4s_1  |\u001b[0m 2020-08-10 14:26:19,852 INFO - sagemaker-containers - Module pca_train does not provide a setup.py. \n",
      "\u001b[36malgo-1-esb4s_1  |\u001b[0m Generating setup.py\n",
      "\u001b[36malgo-1-esb4s_1  |\u001b[0m 2020-08-10 14:26:19,852 INFO - sagemaker-containers - Generating setup.cfg\n",
      "\u001b[36malgo-1-esb4s_1  |\u001b[0m 2020-08-10 14:26:19,852 INFO - sagemaker-containers - Generating MANIFEST.in\n",
      "\u001b[36malgo-1-esb4s_1  |\u001b[0m 2020-08-10 14:26:19,852 INFO - sagemaker-containers - Installing module with the following command:\n",
      "\u001b[36malgo-1-esb4s_1  |\u001b[0m /miniconda3/bin/python -m pip install . \n",
      "\u001b[36malgo-1-esb4s_1  |\u001b[0m Processing /opt/ml/code\n",
      "\u001b[36malgo-1-esb4s_1  |\u001b[0m Building wheels for collected packages: pca-train\n",
      "\u001b[36malgo-1-esb4s_1  |\u001b[0m   Building wheel for pca-train (setup.py) ... \u001b[?25ldone\n",
      "\u001b[36malgo-1-esb4s_1  |\u001b[0m \u001b[?25h  Created wheel for pca-train: filename=pca_train-1.0.0-py2.py3-none-any.whl size=6874 sha256=9659bba619e0026d01749af4dd0d527c77e6737349d126961613efbcb96d3d83\n",
      "\u001b[36malgo-1-esb4s_1  |\u001b[0m   Stored in directory: /home/model-server/tmp/pip-ephem-wheel-cache-b8nl04pk/wheels/3e/0f/51/2f1df833dd0412c1bc2f5ee56baac195b5be563353d111dca6\n",
      "\u001b[36malgo-1-esb4s_1  |\u001b[0m Successfully built pca-train\n",
      "\u001b[36malgo-1-esb4s_1  |\u001b[0m Installing collected packages: pca-train\n",
      "\u001b[36malgo-1-esb4s_1  |\u001b[0m Successfully installed pca-train-1.0.0\n",
      "\u001b[36malgo-1-esb4s_1  |\u001b[0m [2020-08-10 14:26:21 +0000] [56] [INFO] Starting gunicorn 20.0.4\n",
      "\u001b[36malgo-1-esb4s_1  |\u001b[0m [2020-08-10 14:26:21 +0000] [56] [INFO] Listening at: unix:/tmp/gunicorn.sock (56)\n",
      "\u001b[36malgo-1-esb4s_1  |\u001b[0m [2020-08-10 14:26:21 +0000] [56] [INFO] Using worker: gevent\n",
      "\u001b[36malgo-1-esb4s_1  |\u001b[0m [2020-08-10 14:26:21 +0000] [59] [INFO] Booting worker with pid: 59\n",
      "\u001b[36malgo-1-esb4s_1  |\u001b[0m [2020-08-10 14:26:21 +0000] [75] [INFO] Booting worker with pid: 75\n",
      "\u001b[36malgo-1-esb4s_1  |\u001b[0m [2020-08-10 14:26:21 +0000] [76] [INFO] Booting worker with pid: 76\n",
      "\u001b[36malgo-1-esb4s_1  |\u001b[0m [2020-08-10 14:26:21 +0000] [92] [INFO] Booting worker with pid: 92\n",
      "\u001b[36malgo-1-esb4s_1  |\u001b[0m [2020-08-10 14:26:21 +0000] [108] [INFO] Booting worker with pid: 108\n",
      "\u001b[36malgo-1-esb4s_1  |\u001b[0m [2020-08-10 14:26:21 +0000] [109] [INFO] Booting worker with pid: 109\n",
      "\u001b[36malgo-1-esb4s_1  |\u001b[0m [2020-08-10 14:26:21 +0000] [110] [INFO] Booting worker with pid: 110\n",
      "\u001b[36malgo-1-esb4s_1  |\u001b[0m [2020-08-10 14:26:21 +0000] [126] [INFO] Booting worker with pid: 126\n",
      "\u001b[36malgo-1-esb4s_1  |\u001b[0m [2020-08-10 14:26:21 +0000] [127] [INFO] Booting worker with pid: 127\n",
      "\u001b[36malgo-1-esb4s_1  |\u001b[0m [2020-08-10 14:26:21 +0000] [128] [INFO] Booting worker with pid: 128\n",
      "\u001b[36malgo-1-esb4s_1  |\u001b[0m [2020-08-10 14:26:21 +0000] [159] [INFO] Booting worker with pid: 159\n",
      "\u001b[36malgo-1-esb4s_1  |\u001b[0m [2020-08-10 14:26:21 +0000] [160] [INFO] Booting worker with pid: 160\n",
      "\u001b[36malgo-1-esb4s_1  |\u001b[0m [2020-08-10 14:26:22 +0000] [192] [INFO] Booting worker with pid: 192\n",
      "\u001b[36malgo-1-esb4s_1  |\u001b[0m [2020-08-10 14:26:22 +0000] [193] [INFO] Booting worker with pid: 193\n",
      "\u001b[36malgo-1-esb4s_1  |\u001b[0m [2020-08-10 14:26:22 +0000] [209] [INFO] Booting worker with pid: 209\n",
      "\u001b[36malgo-1-esb4s_1  |\u001b[0m [2020-08-10 14:26:22 +0000] [240] [INFO] Booting worker with pid: 240\n",
      "\u001b[36malgo-1-esb4s_1  |\u001b[0m 2020-08-10 14:26:23,164 INFO - sagemaker-containers - No GPUs detected (normal if no gpus installed)\n",
      "!\u001b[36malgo-1-esb4s_1  |\u001b[0m 172.18.0.1 - - [10/Aug/2020:14:26:23 +0000] \"GET /ping HTTP/1.1\" 200 0 \"-\" \"-\"\n"
     ]
    }
   ],
   "source": [
    "instance_type = 'local'\n",
    "\n",
    "predictor = sklearn.deploy(\n",
    "    initial_instance_count = 1,\n",
    "    instance_type = instance_type\n",
    ")"
   ]
  },
  {
   "cell_type": "code",
   "execution_count": 37,
   "metadata": {},
   "outputs": [
    {
     "name": "stdout",
     "output_type": "stream",
     "text": [
      "Shape of sample:  (1, 4)\n"
     ]
    }
   ],
   "source": [
    "sample = train_X[0].reshape(1,-1) # Single Sample (1,-1)\n",
    "print(\"Shape of sample: \", sample.shape)"
   ]
  },
  {
   "cell_type": "code",
   "execution_count": 40,
   "metadata": {},
   "outputs": [
    {
     "name": "stdout",
     "output_type": "stream",
     "text": [
      "\u001b[36malgo-1-esb4s_1  |\u001b[0m 2020-08-10 14:27:11,004 INFO - root - predict_fn: \n",
      "\u001b[36malgo-1-esb4s_1  |\u001b[0m 2020-08-10 14:27:11,004 INFO - root - predict_fn: PCA components: \n",
      "\u001b[36malgo-1-esb4s_1  |\u001b[0m '{components}'\n",
      "\u001b[36malgo-1-esb4s_1  |\u001b[0m 172.18.0.1 - - [10/Aug/2020:14:27:11 +0000] \"POST /invocations HTTP/1.1\" 200 144 \"-\" \"-\"\n"
     ]
    }
   ],
   "source": [
    "pca_components = predictor.predict(sample)"
   ]
  },
  {
   "cell_type": "code",
   "execution_count": 41,
   "metadata": {},
   "outputs": [
    {
     "name": "stdout",
     "output_type": "stream",
     "text": [
      "pca_components:  [[-2.68412563  0.31939725]]\n"
     ]
    }
   ],
   "source": [
    "print(\"pca_components: \", pca_components)"
   ]
  },
  {
   "cell_type": "code",
   "execution_count": null,
   "metadata": {},
   "outputs": [],
   "source": []
  }
 ],
 "metadata": {
  "kernelspec": {
   "display_name": "conda_python3",
   "language": "python",
   "name": "conda_python3"
  },
  "language_info": {
   "codemirror_mode": {
    "name": "ipython",
    "version": 3
   },
   "file_extension": ".py",
   "mimetype": "text/x-python",
   "name": "python",
   "nbconvert_exporter": "python",
   "pygments_lexer": "ipython3",
   "version": "3.6.10"
  }
 },
 "nbformat": 4,
 "nbformat_minor": 4
}
