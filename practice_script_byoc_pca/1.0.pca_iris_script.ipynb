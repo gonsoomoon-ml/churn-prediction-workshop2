{
 "cells": [
  {
   "cell_type": "markdown",
   "metadata": {},
   "source": [
    "# PCA Script Mode"
   ]
  },
  {
   "cell_type": "markdown",
   "metadata": {},
   "source": [
    "How to implement PCA with Python and scikit-learn: Theory & Code\n",
    "https://medium.com/ai-in-plain-english/how-to-implement-pca-with-python-and-scikit-learn-22f3de4e5983\n",
    "\n",
    "Iris Training and Prediction with Sagemaker Scikit-learn\n",
    "\n",
    "- Scikit Learn 스크립트 모드\n",
    "\n",
    "https://github.com/awslabs/amazon-sagemaker-examples/blob/master/sagemaker-python-sdk/scikit_learn_iris/Scikit-learn%20Estimator%20Example%20With%20Batch%20Transform.ipynb\n",
    "\n",
    "Amazon SageMaker Custom Training containers\n",
    "https://github.com/awslabs/amazon-sagemaker-examples/tree/master/advanced_functionality/custom-training-containers\n",
    "\n",
    "Using Scikit-learn with the SageMaker Python SDK\n",
    "https://sagemaker.readthedocs.io/en/stable/frameworks/sklearn/using_sklearn.html#id2\n",
    "\n",
    "Building your own algorithm container\n",
    "https://github.com/awslabs/amazon-sagemaker-examples/blob/master/advanced_functionality/scikit_bring_your_own/scikit_bring_your_own.ipynb\n",
    "\n",
    "Bring Your Own Model (XGboost)\n",
    "https://github.com/awslabs/amazon-sagemaker-examples/tree/master/advanced_functionality/xgboost_bring_your_own_model"
   ]
  },
  {
   "cell_type": "code",
   "execution_count": 1,
   "metadata": {},
   "outputs": [],
   "source": [
    "prefix = 'Scikit-pca'\n",
    "\n",
    "import sagemaker\n",
    "from sagemaker import get_execution_role\n",
    "\n",
    "sagemaker_session = sagemaker.Session()\n",
    "role = get_execution_role()"
   ]
  },
  {
   "cell_type": "code",
   "execution_count": 2,
   "metadata": {},
   "outputs": [],
   "source": [
    "from sklearn import datasets\n",
    "import os\n",
    "import numpy as np\n",
    "\n",
    "iris = datasets.load_iris()\n",
    "train_X = iris.data\n",
    "train_y = iris.target\n",
    "\n",
    "os.makedirs('./data', exist_ok =True)\n",
    "np.savetxt('./data/iris.csv', train_X, delimiter=',',\n",
    "           fmt='%1.3f, %1.3f, %1.3f, %1.3f'\n",
    "          )\n"
   ]
  },
  {
   "cell_type": "code",
   "execution_count": 3,
   "metadata": {},
   "outputs": [],
   "source": [
    "WORK_DIRECTORY = 'data'\n",
    "train_input = sagemaker_session.upload_data(WORK_DIRECTORY,\n",
    "                                            key_prefix=\"{}/{}\".format(prefix, WORK_DIRECTORY)\n",
    "                                           )"
   ]
  },
  {
   "cell_type": "code",
   "execution_count": 4,
   "metadata": {},
   "outputs": [
    {
     "name": "stdout",
     "output_type": "stream",
     "text": [
      "train_input:  s3://sagemaker-us-east-2-057716757052/Scikit-pca/data\n"
     ]
    }
   ],
   "source": [
    "print(\"train_input: \", train_input)"
   ]
  },
  {
   "cell_type": "code",
   "execution_count": 5,
   "metadata": {},
   "outputs": [],
   "source": [
    "from sagemaker.sklearn.estimator import SKLearn\n",
    "\n",
    "FRAMEWORK_VERSION = \"0.23-1\"\n",
    "script_path = 'pca_script_train.py'\n",
    "\n",
    "instance_type = 'local'\n",
    "\n",
    "sklearn = SKLearn(\n",
    "    entry_point = script_path,\n",
    "    framework_version = FRAMEWORK_VERSION,\n",
    "    train_instance_type = instance_type,\n",
    "    role = role,\n",
    "#     sagemaker_session = sagemaker_session, # Exclude in local mode\n",
    "    hyperparameters = {'n_components' : 2}\n",
    ")"
   ]
  },
  {
   "cell_type": "code",
   "execution_count": 6,
   "metadata": {},
   "outputs": [
    {
     "name": "stderr",
     "output_type": "stream",
     "text": [
      "'s3_input' class will be renamed to 'TrainingInput' in SageMaker Python SDK v2.\n"
     ]
    },
    {
     "name": "stdout",
     "output_type": "stream",
     "text": [
      "Creating tmpm53ktv9b_algo-1-ahxds_1 ... \n",
      "\u001b[1BAttaching to tmpm53ktv9b_algo-1-ahxds_12mdone\u001b[0m\n",
      "\u001b[36malgo-1-ahxds_1  |\u001b[0m 2020-08-11 12:29:45,707 sagemaker-training-toolkit INFO     Imported framework sagemaker_sklearn_container.training\n",
      "\u001b[36malgo-1-ahxds_1  |\u001b[0m 2020-08-11 12:29:45,708 sagemaker-training-toolkit INFO     No GPUs detected (normal if no gpus installed)\n",
      "\u001b[36malgo-1-ahxds_1  |\u001b[0m 2020-08-11 12:29:45,717 sagemaker_sklearn_container.training INFO     Invoking user training script.\n",
      "\u001b[36malgo-1-ahxds_1  |\u001b[0m 2020-08-11 12:29:45,834 sagemaker-training-toolkit INFO     No GPUs detected (normal if no gpus installed)\n",
      "\u001b[36malgo-1-ahxds_1  |\u001b[0m 2020-08-11 12:29:45,843 sagemaker-training-toolkit INFO     No GPUs detected (normal if no gpus installed)\n",
      "\u001b[36malgo-1-ahxds_1  |\u001b[0m 2020-08-11 12:29:45,852 sagemaker-training-toolkit INFO     No GPUs detected (normal if no gpus installed)\n",
      "\u001b[36malgo-1-ahxds_1  |\u001b[0m 2020-08-11 12:29:45,861 sagemaker-training-toolkit INFO     Invoking user script\n",
      "\u001b[36malgo-1-ahxds_1  |\u001b[0m \n",
      "\u001b[36malgo-1-ahxds_1  |\u001b[0m Training Env:\n",
      "\u001b[36malgo-1-ahxds_1  |\u001b[0m \n",
      "\u001b[36malgo-1-ahxds_1  |\u001b[0m {\n",
      "\u001b[36malgo-1-ahxds_1  |\u001b[0m     \"additional_framework_parameters\": {},\n",
      "\u001b[36malgo-1-ahxds_1  |\u001b[0m     \"channel_input_dirs\": {\n",
      "\u001b[36malgo-1-ahxds_1  |\u001b[0m         \"train\": \"/opt/ml/input/data/train\"\n",
      "\u001b[36malgo-1-ahxds_1  |\u001b[0m     },\n",
      "\u001b[36malgo-1-ahxds_1  |\u001b[0m     \"current_host\": \"algo-1-ahxds\",\n",
      "\u001b[36malgo-1-ahxds_1  |\u001b[0m     \"framework_module\": \"sagemaker_sklearn_container.training:main\",\n",
      "\u001b[36malgo-1-ahxds_1  |\u001b[0m     \"hosts\": [\n",
      "\u001b[36malgo-1-ahxds_1  |\u001b[0m         \"algo-1-ahxds\"\n",
      "\u001b[36malgo-1-ahxds_1  |\u001b[0m     ],\n",
      "\u001b[36malgo-1-ahxds_1  |\u001b[0m     \"hyperparameters\": {\n",
      "\u001b[36malgo-1-ahxds_1  |\u001b[0m         \"n_components\": 2\n",
      "\u001b[36malgo-1-ahxds_1  |\u001b[0m     },\n",
      "\u001b[36malgo-1-ahxds_1  |\u001b[0m     \"input_config_dir\": \"/opt/ml/input/config\",\n",
      "\u001b[36malgo-1-ahxds_1  |\u001b[0m     \"input_data_config\": {\n",
      "\u001b[36malgo-1-ahxds_1  |\u001b[0m         \"train\": {\n",
      "\u001b[36malgo-1-ahxds_1  |\u001b[0m             \"TrainingInputMode\": \"File\"\n",
      "\u001b[36malgo-1-ahxds_1  |\u001b[0m         }\n",
      "\u001b[36malgo-1-ahxds_1  |\u001b[0m     },\n",
      "\u001b[36malgo-1-ahxds_1  |\u001b[0m     \"input_dir\": \"/opt/ml/input\",\n",
      "\u001b[36malgo-1-ahxds_1  |\u001b[0m     \"is_master\": true,\n",
      "\u001b[36malgo-1-ahxds_1  |\u001b[0m     \"job_name\": \"sagemaker-scikit-learn-2020-08-11-12-29-43-902\",\n",
      "\u001b[36malgo-1-ahxds_1  |\u001b[0m     \"log_level\": 20,\n",
      "\u001b[36malgo-1-ahxds_1  |\u001b[0m     \"master_hostname\": \"algo-1-ahxds\",\n",
      "\u001b[36malgo-1-ahxds_1  |\u001b[0m     \"model_dir\": \"/opt/ml/model\",\n",
      "\u001b[36malgo-1-ahxds_1  |\u001b[0m     \"module_dir\": \"s3://sagemaker-us-east-2-057716757052/sagemaker-scikit-learn-2020-08-11-12-29-43-902/source/sourcedir.tar.gz\",\n",
      "\u001b[36malgo-1-ahxds_1  |\u001b[0m     \"module_name\": \"pca_script_train\",\n",
      "\u001b[36malgo-1-ahxds_1  |\u001b[0m     \"network_interface_name\": \"eth0\",\n",
      "\u001b[36malgo-1-ahxds_1  |\u001b[0m     \"num_cpus\": 16,\n",
      "\u001b[36malgo-1-ahxds_1  |\u001b[0m     \"num_gpus\": 0,\n",
      "\u001b[36malgo-1-ahxds_1  |\u001b[0m     \"output_data_dir\": \"/opt/ml/output/data\",\n",
      "\u001b[36malgo-1-ahxds_1  |\u001b[0m     \"output_dir\": \"/opt/ml/output\",\n",
      "\u001b[36malgo-1-ahxds_1  |\u001b[0m     \"output_intermediate_dir\": \"/opt/ml/output/intermediate\",\n",
      "\u001b[36malgo-1-ahxds_1  |\u001b[0m     \"resource_config\": {\n",
      "\u001b[36malgo-1-ahxds_1  |\u001b[0m         \"current_host\": \"algo-1-ahxds\",\n",
      "\u001b[36malgo-1-ahxds_1  |\u001b[0m         \"hosts\": [\n",
      "\u001b[36malgo-1-ahxds_1  |\u001b[0m             \"algo-1-ahxds\"\n",
      "\u001b[36malgo-1-ahxds_1  |\u001b[0m         ]\n",
      "\u001b[36malgo-1-ahxds_1  |\u001b[0m     },\n",
      "\u001b[36malgo-1-ahxds_1  |\u001b[0m     \"user_entry_point\": \"pca_script_train.py\"\n",
      "\u001b[36malgo-1-ahxds_1  |\u001b[0m }\n",
      "\u001b[36malgo-1-ahxds_1  |\u001b[0m \n",
      "\u001b[36malgo-1-ahxds_1  |\u001b[0m Environment variables:\n",
      "\u001b[36malgo-1-ahxds_1  |\u001b[0m \n",
      "\u001b[36malgo-1-ahxds_1  |\u001b[0m SM_HOSTS=[\"algo-1-ahxds\"]\n",
      "\u001b[36malgo-1-ahxds_1  |\u001b[0m SM_NETWORK_INTERFACE_NAME=eth0\n",
      "\u001b[36malgo-1-ahxds_1  |\u001b[0m SM_HPS={\"n_components\":2}\n",
      "\u001b[36malgo-1-ahxds_1  |\u001b[0m SM_USER_ENTRY_POINT=pca_script_train.py\n",
      "\u001b[36malgo-1-ahxds_1  |\u001b[0m SM_FRAMEWORK_PARAMS={}\n",
      "\u001b[36malgo-1-ahxds_1  |\u001b[0m SM_RESOURCE_CONFIG={\"current_host\":\"algo-1-ahxds\",\"hosts\":[\"algo-1-ahxds\"]}\n",
      "\u001b[36malgo-1-ahxds_1  |\u001b[0m SM_INPUT_DATA_CONFIG={\"train\":{\"TrainingInputMode\":\"File\"}}\n",
      "\u001b[36malgo-1-ahxds_1  |\u001b[0m SM_OUTPUT_DATA_DIR=/opt/ml/output/data\n",
      "\u001b[36malgo-1-ahxds_1  |\u001b[0m SM_CHANNELS=[\"train\"]\n",
      "\u001b[36malgo-1-ahxds_1  |\u001b[0m SM_CURRENT_HOST=algo-1-ahxds\n",
      "\u001b[36malgo-1-ahxds_1  |\u001b[0m SM_MODULE_NAME=pca_script_train\n",
      "\u001b[36malgo-1-ahxds_1  |\u001b[0m SM_LOG_LEVEL=20\n",
      "\u001b[36malgo-1-ahxds_1  |\u001b[0m SM_FRAMEWORK_MODULE=sagemaker_sklearn_container.training:main\n",
      "\u001b[36malgo-1-ahxds_1  |\u001b[0m SM_INPUT_DIR=/opt/ml/input\n",
      "\u001b[36malgo-1-ahxds_1  |\u001b[0m SM_INPUT_CONFIG_DIR=/opt/ml/input/config\n",
      "\u001b[36malgo-1-ahxds_1  |\u001b[0m SM_OUTPUT_DIR=/opt/ml/output\n",
      "\u001b[36malgo-1-ahxds_1  |\u001b[0m SM_NUM_CPUS=16\n",
      "\u001b[36malgo-1-ahxds_1  |\u001b[0m SM_NUM_GPUS=0\n",
      "\u001b[36malgo-1-ahxds_1  |\u001b[0m SM_MODEL_DIR=/opt/ml/model\n",
      "\u001b[36malgo-1-ahxds_1  |\u001b[0m SM_MODULE_DIR=s3://sagemaker-us-east-2-057716757052/sagemaker-scikit-learn-2020-08-11-12-29-43-902/source/sourcedir.tar.gz\n",
      "\u001b[36malgo-1-ahxds_1  |\u001b[0m SM_TRAINING_ENV={\"additional_framework_parameters\":{},\"channel_input_dirs\":{\"train\":\"/opt/ml/input/data/train\"},\"current_host\":\"algo-1-ahxds\",\"framework_module\":\"sagemaker_sklearn_container.training:main\",\"hosts\":[\"algo-1-ahxds\"],\"hyperparameters\":{\"n_components\":2},\"input_config_dir\":\"/opt/ml/input/config\",\"input_data_config\":{\"train\":{\"TrainingInputMode\":\"File\"}},\"input_dir\":\"/opt/ml/input\",\"is_master\":true,\"job_name\":\"sagemaker-scikit-learn-2020-08-11-12-29-43-902\",\"log_level\":20,\"master_hostname\":\"algo-1-ahxds\",\"model_dir\":\"/opt/ml/model\",\"module_dir\":\"s3://sagemaker-us-east-2-057716757052/sagemaker-scikit-learn-2020-08-11-12-29-43-902/source/sourcedir.tar.gz\",\"module_name\":\"pca_script_train\",\"network_interface_name\":\"eth0\",\"num_cpus\":16,\"num_gpus\":0,\"output_data_dir\":\"/opt/ml/output/data\",\"output_dir\":\"/opt/ml/output\",\"output_intermediate_dir\":\"/opt/ml/output/intermediate\",\"resource_config\":{\"current_host\":\"algo-1-ahxds\",\"hosts\":[\"algo-1-ahxds\"]},\"user_entry_point\":\"pca_script_train.py\"}\n",
      "\u001b[36malgo-1-ahxds_1  |\u001b[0m SM_USER_ARGS=[\"--n_components\",\"2\"]\n",
      "\u001b[36malgo-1-ahxds_1  |\u001b[0m SM_OUTPUT_INTERMEDIATE_DIR=/opt/ml/output/intermediate\n",
      "\u001b[36malgo-1-ahxds_1  |\u001b[0m SM_CHANNEL_TRAIN=/opt/ml/input/data/train\n",
      "\u001b[36malgo-1-ahxds_1  |\u001b[0m SM_HP_N_COMPONENTS=2\n",
      "\u001b[36malgo-1-ahxds_1  |\u001b[0m PYTHONPATH=/opt/ml/code:/miniconda3/bin:/miniconda3/lib/python37.zip:/miniconda3/lib/python3.7:/miniconda3/lib/python3.7/lib-dynload:/miniconda3/lib/python3.7/site-packages\n",
      "\u001b[36malgo-1-ahxds_1  |\u001b[0m \n",
      "\u001b[36malgo-1-ahxds_1  |\u001b[0m Invoking script with the following command:\n",
      "\u001b[36malgo-1-ahxds_1  |\u001b[0m \n",
      "\u001b[36malgo-1-ahxds_1  |\u001b[0m /miniconda3/bin/python pca_script_train.py --n_components 2\n",
      "\u001b[36malgo-1-ahxds_1  |\u001b[0m \n",
      "\u001b[36malgo-1-ahxds_1  |\u001b[0m \n",
      "\u001b[36malgo-1-ahxds_1  |\u001b[0m train shape:  (150, 4)\n",
      "\u001b[36malgo-1-ahxds_1  |\u001b[0m Component Variability: \n",
      "\u001b[36malgo-1-ahxds_1  |\u001b[0m  [0.92461872 0.05306648]\n",
      "\u001b[36malgo-1-ahxds_1  |\u001b[0m 2020-08-11 12:29:46,421 sagemaker-training-toolkit INFO     Reporting training SUCCESS\n",
      "\u001b[36mtmpm53ktv9b_algo-1-ahxds_1 exited with code 0\n",
      "\u001b[0mAborting on container exit...\n",
      "===== Job Complete =====\n"
     ]
    }
   ],
   "source": [
    "sklearn.fit({'train' : train_input}, wait=True)"
   ]
  },
  {
   "cell_type": "code",
   "execution_count": 7,
   "metadata": {},
   "outputs": [
    {
     "name": "stdout",
     "output_type": "stream",
     "text": [
      "model data:  s3://sagemaker-us-east-2-057716757052/sagemaker-scikit-learn-2020-08-11-12-29-43-902/model.tar.gz\n"
     ]
    }
   ],
   "source": [
    "print(\"model data: \", sklearn.model_data)"
   ]
  },
  {
   "cell_type": "code",
   "execution_count": 8,
   "metadata": {},
   "outputs": [
    {
     "name": "stderr",
     "output_type": "stream",
     "text": [
      "Parameter image will be renamed to image_uri in SageMaker Python SDK v2.\n"
     ]
    },
    {
     "name": "stdout",
     "output_type": "stream",
     "text": [
      "Attaching to tmpw0hwu27j_algo-1-zgri3_1\n",
      "\u001b[36malgo-1-zgri3_1  |\u001b[0m 2020-08-11 12:29:48,898 INFO - sagemaker-containers - No GPUs detected (normal if no gpus installed)\n",
      "\u001b[36malgo-1-zgri3_1  |\u001b[0m 2020-08-11 12:29:48,900 INFO - sagemaker-containers - No GPUs detected (normal if no gpus installed)\n",
      "\u001b[36malgo-1-zgri3_1  |\u001b[0m 2020-08-11 12:29:48,901 INFO - sagemaker-containers - nginx config: \n",
      "\u001b[36malgo-1-zgri3_1  |\u001b[0m worker_processes auto;\n",
      "\u001b[36malgo-1-zgri3_1  |\u001b[0m daemon off;\n",
      "\u001b[36malgo-1-zgri3_1  |\u001b[0m pid /tmp/nginx.pid;\n",
      "\u001b[36malgo-1-zgri3_1  |\u001b[0m error_log  /dev/stderr;\n",
      "\u001b[36malgo-1-zgri3_1  |\u001b[0m \n",
      "\u001b[36malgo-1-zgri3_1  |\u001b[0m worker_rlimit_nofile 4096;\n",
      "\u001b[36malgo-1-zgri3_1  |\u001b[0m \n",
      "\u001b[36malgo-1-zgri3_1  |\u001b[0m events {\n",
      "\u001b[36malgo-1-zgri3_1  |\u001b[0m   worker_connections 2048;\n",
      "\u001b[36malgo-1-zgri3_1  |\u001b[0m }\n",
      "\u001b[36malgo-1-zgri3_1  |\u001b[0m \n",
      "\u001b[36malgo-1-zgri3_1  |\u001b[0m http {\n",
      "\u001b[36malgo-1-zgri3_1  |\u001b[0m   include /etc/nginx/mime.types;\n",
      "\u001b[36malgo-1-zgri3_1  |\u001b[0m   default_type application/octet-stream;\n",
      "\u001b[36malgo-1-zgri3_1  |\u001b[0m   access_log /dev/stdout combined;\n",
      "\u001b[36malgo-1-zgri3_1  |\u001b[0m \n",
      "\u001b[36malgo-1-zgri3_1  |\u001b[0m   upstream gunicorn {\n",
      "\u001b[36malgo-1-zgri3_1  |\u001b[0m     server unix:/tmp/gunicorn.sock;\n",
      "\u001b[36malgo-1-zgri3_1  |\u001b[0m   }\n",
      "\u001b[36malgo-1-zgri3_1  |\u001b[0m \n",
      "\u001b[36malgo-1-zgri3_1  |\u001b[0m   server {\n",
      "\u001b[36malgo-1-zgri3_1  |\u001b[0m     listen 8080 deferred;\n",
      "\u001b[36malgo-1-zgri3_1  |\u001b[0m     client_max_body_size 0;\n",
      "\u001b[36malgo-1-zgri3_1  |\u001b[0m \n",
      "\u001b[36malgo-1-zgri3_1  |\u001b[0m     keepalive_timeout 3;\n",
      "\u001b[36malgo-1-zgri3_1  |\u001b[0m \n",
      "\u001b[36malgo-1-zgri3_1  |\u001b[0m     location ~ ^/(ping|invocations|execution-parameters) {\n",
      "\u001b[36malgo-1-zgri3_1  |\u001b[0m       proxy_set_header X-Forwarded-For $proxy_add_x_forwarded_for;\n",
      "\u001b[36malgo-1-zgri3_1  |\u001b[0m       proxy_set_header Host $http_host;\n",
      "\u001b[36malgo-1-zgri3_1  |\u001b[0m       proxy_redirect off;\n",
      "\u001b[36malgo-1-zgri3_1  |\u001b[0m       proxy_read_timeout 60s;\n",
      "\u001b[36malgo-1-zgri3_1  |\u001b[0m       proxy_pass http://gunicorn;\n",
      "\u001b[36malgo-1-zgri3_1  |\u001b[0m     }\n",
      "\u001b[36malgo-1-zgri3_1  |\u001b[0m \n",
      "\u001b[36malgo-1-zgri3_1  |\u001b[0m     location / {\n",
      "\u001b[36malgo-1-zgri3_1  |\u001b[0m       return 404 \"{}\";\n",
      "\u001b[36malgo-1-zgri3_1  |\u001b[0m     }\n",
      "\u001b[36malgo-1-zgri3_1  |\u001b[0m \n",
      "\u001b[36malgo-1-zgri3_1  |\u001b[0m   }\n",
      "\u001b[36malgo-1-zgri3_1  |\u001b[0m }\n",
      "\u001b[36malgo-1-zgri3_1  |\u001b[0m \n",
      "\u001b[36malgo-1-zgri3_1  |\u001b[0m \n",
      "\u001b[36malgo-1-zgri3_1  |\u001b[0m 2020-08-11 12:29:49,012 INFO - sagemaker-containers - Module pca_script_train does not provide a setup.py. \n",
      "\u001b[36malgo-1-zgri3_1  |\u001b[0m Generating setup.py\n",
      "\u001b[36malgo-1-zgri3_1  |\u001b[0m 2020-08-11 12:29:49,012 INFO - sagemaker-containers - Generating setup.cfg\n",
      "\u001b[36malgo-1-zgri3_1  |\u001b[0m 2020-08-11 12:29:49,012 INFO - sagemaker-containers - Generating MANIFEST.in\n",
      "\u001b[36malgo-1-zgri3_1  |\u001b[0m 2020-08-11 12:29:49,012 INFO - sagemaker-containers - Installing module with the following command:\n",
      "\u001b[36malgo-1-zgri3_1  |\u001b[0m /miniconda3/bin/python -m pip install . \n",
      "\u001b[36malgo-1-zgri3_1  |\u001b[0m Processing /opt/ml/code\n",
      "\u001b[36malgo-1-zgri3_1  |\u001b[0m Building wheels for collected packages: pca-script-train\n",
      "\u001b[36malgo-1-zgri3_1  |\u001b[0m   Building wheel for pca-script-train (setup.py) ... \u001b[?25ldone\n",
      "\u001b[36malgo-1-zgri3_1  |\u001b[0m \u001b[?25h  Created wheel for pca-script-train: filename=pca_script_train-1.0.0-py2.py3-none-any.whl size=7124 sha256=c60de1b60f81e8861d7c39fecc796f23179e430a3c2723430371ee0f8918cfde\n",
      "\u001b[36malgo-1-zgri3_1  |\u001b[0m   Stored in directory: /home/model-server/tmp/pip-ephem-wheel-cache-11vh9wym/wheels/3e/0f/51/2f1df833dd0412c1bc2f5ee56baac195b5be563353d111dca6\n",
      "\u001b[36malgo-1-zgri3_1  |\u001b[0m Successfully built pca-script-train\n",
      "\u001b[36malgo-1-zgri3_1  |\u001b[0m Installing collected packages: pca-script-train\n",
      "\u001b[36malgo-1-zgri3_1  |\u001b[0m Successfully installed pca-script-train-1.0.0\n",
      "\u001b[36malgo-1-zgri3_1  |\u001b[0m [2020-08-11 12:29:50 +0000] [56] [INFO] Starting gunicorn 20.0.4\n",
      "\u001b[36malgo-1-zgri3_1  |\u001b[0m [2020-08-11 12:29:50 +0000] [56] [INFO] Listening at: unix:/tmp/gunicorn.sock (56)\n",
      "\u001b[36malgo-1-zgri3_1  |\u001b[0m [2020-08-11 12:29:50 +0000] [56] [INFO] Using worker: gevent\n",
      "\u001b[36malgo-1-zgri3_1  |\u001b[0m [2020-08-11 12:29:50 +0000] [59] [INFO] Booting worker with pid: 59\n",
      "\u001b[36malgo-1-zgri3_1  |\u001b[0m [2020-08-11 12:29:50 +0000] [75] [INFO] Booting worker with pid: 75\n",
      "\u001b[36malgo-1-zgri3_1  |\u001b[0m [2020-08-11 12:29:50 +0000] [76] [INFO] Booting worker with pid: 76\n",
      "\u001b[36malgo-1-zgri3_1  |\u001b[0m [2020-08-11 12:29:50 +0000] [77] [INFO] Booting worker with pid: 77\n",
      "\u001b[36malgo-1-zgri3_1  |\u001b[0m [2020-08-11 12:29:50 +0000] [93] [INFO] Booting worker with pid: 93\n",
      "\u001b[36malgo-1-zgri3_1  |\u001b[0m [2020-08-11 12:29:50 +0000] [109] [INFO] Booting worker with pid: 109\n",
      "\u001b[36malgo-1-zgri3_1  |\u001b[0m [2020-08-11 12:29:50 +0000] [125] [INFO] Booting worker with pid: 125\n",
      "\u001b[36malgo-1-zgri3_1  |\u001b[0m [2020-08-11 12:29:50 +0000] [126] [INFO] Booting worker with pid: 126\n",
      "\u001b[36malgo-1-zgri3_1  |\u001b[0m [2020-08-11 12:29:51 +0000] [143] [INFO] Booting worker with pid: 143\n",
      "\u001b[36malgo-1-zgri3_1  |\u001b[0m [2020-08-11 12:29:51 +0000] [144] [INFO] Booting worker with pid: 144\n",
      "\u001b[36malgo-1-zgri3_1  |\u001b[0m [2020-08-11 12:29:51 +0000] [160] [INFO] Booting worker with pid: 160\n",
      "\u001b[36malgo-1-zgri3_1  |\u001b[0m [2020-08-11 12:29:51 +0000] [191] [INFO] Booting worker with pid: 191\n",
      "\u001b[36malgo-1-zgri3_1  |\u001b[0m [2020-08-11 12:29:51 +0000] [207] [INFO] Booting worker with pid: 207\n",
      "\u001b[36malgo-1-zgri3_1  |\u001b[0m [2020-08-11 12:29:51 +0000] [223] [INFO] Booting worker with pid: 223\n",
      "\u001b[36malgo-1-zgri3_1  |\u001b[0m [2020-08-11 12:29:51 +0000] [224] [INFO] Booting worker with pid: 224\n",
      "\u001b[36malgo-1-zgri3_1  |\u001b[0m [2020-08-11 12:29:51 +0000] [272] [INFO] Booting worker with pid: 272\n",
      "\u001b[36malgo-1-zgri3_1  |\u001b[0m 2020-08-11 12:29:52,231 INFO - sagemaker-containers - No GPUs detected (normal if no gpus installed)\n",
      "!\u001b[36malgo-1-zgri3_1  |\u001b[0m 172.18.0.1 - - [11/Aug/2020:12:29:52 +0000] \"GET /ping HTTP/1.1\" 200 0 \"-\" \"-\"\n"
     ]
    }
   ],
   "source": [
    "instance_type = 'local'\n",
    "\n",
    "\n",
    "script_predictor = sklearn.deploy(\n",
    "    initial_instance_count = 1,\n",
    "    instance_type = instance_type,\n",
    ")"
   ]
  },
  {
   "cell_type": "code",
   "execution_count": null,
   "metadata": {},
   "outputs": [],
   "source": []
  },
  {
   "cell_type": "code",
   "execution_count": 9,
   "metadata": {},
   "outputs": [
    {
     "name": "stdout",
     "output_type": "stream",
     "text": [
      "Shape of sample:  (1, 4)\n"
     ]
    },
    {
     "data": {
      "text/plain": [
       "array([[5.1, 3.5, 1.4, 0.2]])"
      ]
     },
     "execution_count": 9,
     "metadata": {},
     "output_type": "execute_result"
    }
   ],
   "source": [
    "sample = train_X[0].reshape(1,-1) # Single Sample (1,-1)\n",
    "print(\"Shape of sample: \", sample.shape)\n",
    "sample"
   ]
  },
  {
   "cell_type": "code",
   "execution_count": 10,
   "metadata": {},
   "outputs": [
    {
     "name": "stdout",
     "output_type": "stream",
     "text": [
      "\u001b[36malgo-1-zgri3_1  |\u001b[0m 2020-08-11 12:29:52,621 INFO - sagemaker-containers - No GPUs detected (normal if no gpus installed)\n",
      "\u001b[36malgo-1-zgri3_1  |\u001b[0m 2020-08-11 12:29:52,992 INFO - root - predict_fn: input_data - '[[5.1 3.5 1.4 0.2]]'\n",
      "\u001b[36malgo-1-zgri3_1  |\u001b[0m 2020-08-11 12:29:52,993 INFO - root - predict_fn: PCA components: \n",
      "\u001b[36malgo-1-zgri3_1  |\u001b[0m '[[-2.68412563  0.31939725]]'\n",
      "\u001b[36malgo-1-zgri3_1  |\u001b[0m 172.18.0.1 - - [11/Aug/2020:12:29:52 +0000] \"POST /invocations HTTP/1.1\" 200 144 \"-\" \"-\"\n"
     ]
    }
   ],
   "source": [
    "pca_components = script_predictor.predict(sample)"
   ]
  },
  {
   "cell_type": "code",
   "execution_count": 11,
   "metadata": {},
   "outputs": [
    {
     "name": "stdout",
     "output_type": "stream",
     "text": [
      "pca_components:  [[-2.68412563  0.31939725]]\n",
      "\u001b[36malgo-1-zgri3_1  |\u001b[0m [2020-08-11 12:30:20 +0000] [56] [INFO] Handling signal: term\n",
      "\u001b[36malgo-1-zgri3_1  |\u001b[0m [2020-08-11 12:30:20 +0000] [76] [INFO] Worker exiting (pid: 76)\n",
      "\u001b[36malgo-1-zgri3_1  |\u001b[0m [2020-08-11 12:30:20 +0000] [75] [INFO] Worker exiting (pid: 75)\n",
      "\u001b[36mtmpw0hwu27j_algo-1-zgri3_1 exited with code 0\n",
      "\u001b[0mAborting on container exit...\n"
     ]
    }
   ],
   "source": [
    "print(\"pca_components: \", pca_components)"
   ]
  },
  {
   "cell_type": "code",
   "execution_count": null,
   "metadata": {},
   "outputs": [],
   "source": []
  },
  {
   "cell_type": "code",
   "execution_count": null,
   "metadata": {},
   "outputs": [],
   "source": []
  },
  {
   "cell_type": "code",
   "execution_count": null,
   "metadata": {},
   "outputs": [],
   "source": []
  },
  {
   "cell_type": "code",
   "execution_count": null,
   "metadata": {},
   "outputs": [],
   "source": []
  }
 ],
 "metadata": {
  "kernelspec": {
   "display_name": "conda_python3",
   "language": "python",
   "name": "conda_python3"
  },
  "language_info": {
   "codemirror_mode": {
    "name": "ipython",
    "version": 3
   },
   "file_extension": ".py",
   "mimetype": "text/x-python",
   "name": "python",
   "nbconvert_exporter": "python",
   "pygments_lexer": "ipython3",
   "version": "3.6.10"
  }
 },
 "nbformat": 4,
 "nbformat_minor": 4
}
