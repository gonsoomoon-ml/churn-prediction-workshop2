{
 "cells": [
  {
   "cell_type": "markdown",
   "metadata": {},
   "source": [
    "# [Module 4.1] Train XGBoost"
   ]
  },
  {
   "cell_type": "markdown",
   "metadata": {},
   "source": [
    "---\n",
    "## Train with XGBoost on SageMaker Cloud Instance\n",
    "아 과정은 위의 전처리된 데이타를 가지고 실제 SageMaker Built-in Algorithm XGBoost를 이용하여 학습을 수행 합니다.<br>\n",
    "실제의 학습 과정은 SageMaker Cloud Instance에서 실제 학습니 됩니다.\n",
    "\n",
    "\n",
    "Built-in XGboost 알고리즘 컨테이너를 가져옵니다."
   ]
  },
  {
   "cell_type": "code",
   "execution_count": 1,
   "metadata": {},
   "outputs": [],
   "source": [
    "import sagemaker\n",
    "import pandas as pd\n",
    "import numpy as np\n",
    "import os\n",
    "import time\n",
    "import json\n",
    "from time import strftime, gmtime"
   ]
  },
  {
   "cell_type": "code",
   "execution_count": 2,
   "metadata": {},
   "outputs": [],
   "source": [
    "role = sagemaker.get_execution_role()"
   ]
  },
  {
   "cell_type": "code",
   "execution_count": 3,
   "metadata": {},
   "outputs": [
    {
     "name": "stdout",
     "output_type": "stream",
     "text": [
      "Unable to restore variable 'scikit_learn_pre_process_model', ignoring (use %store -d to forget!)\n",
      "The error was: <class 'KeyError'>\n"
     ]
    }
   ],
   "source": [
    "%store -r"
   ]
  },
  {
   "cell_type": "code",
   "execution_count": 4,
   "metadata": {},
   "outputs": [
    {
     "name": "stdout",
     "output_type": "stream",
     "text": [
      "Stored variables and their in-db values:\n",
      "bucket                                             -> 'sagemaker-us-east-2-057716757052'\n",
      "inference_pipeline_model_name                      -> 'churn-inference-pipeline-2020-08-15-09-28-22'\n",
      "pca_image_name                                     -> '057716757052.dkr.ecr.us-east-2.amazonaws.com/sage\n",
      "pca_model_data                                     -> 's3://sagemaker-us-east-2-057716757052/Scikit-pca-\n",
      "prefix                                             -> 'sagemaker/customer-churn'\n",
      "preprocess_model                                   -> 'sagemaker-scikit-learn-2020-08-14-13-43-47-526'\n",
      "preprocessed_pca_train_path                        -> 's3://sagemaker-us-east-2-057716757052/Scikit-pca-\n",
      "preprocessed_pca_validation_path                   -> 's3://sagemaker-us-east-2-057716757052/Scikit-pca-\n",
      "preprocessed_train_path                            -> 's3://sagemaker-us-east-2-057716757052/sagemaker/c\n",
      "preprocessed_validation_path                       -> 's3://sagemaker-us-east-2-057716757052/sagemaker/c\n",
      "preprocessor_container_log_level                   -> '20'\n",
      "preprocessor_enable_cloudwatch_metrics             -> 'False'\n",
      "preprocessor_image_name                            -> '257758044811.dkr.ecr.us-east-2.amazonaws.com/sage\n",
      "preprocessor_model_data                            -> 's3://sagemaker-us-east-2-057716757052/sagemaker-s\n",
      "preprocessor_region                                -> 'us-east-2'\n",
      "preprocessor_uploaded_code_s3_prefix               -> 's3://sagemaker-us-east-2-057716757052/sagemaker-s\n",
      "preprocessor_uploaded_code_script_name             -> 'preprocessing.py'\n",
      "s3_input_test                                      -> <sagemaker.inputs.s3_input object at 0x7fea58a1e74\n",
      "s3_input_train                                     -> <sagemaker.inputs.s3_input object at 0x7fea58a1e71\n",
      "s3_input_validation                                -> <sagemaker.inputs.s3_input object at 0x7fea58a1e58\n",
      "scikit_learn_pre_process_model                     -> '<unavailable>'\n",
      "test_batch_transform_test_true_file                -> 'churn_data/batch_transform_test_true.csv'\n",
      "xgb_image_name                                     -> '257758044811.dkr.ecr.us-east-2.amazonaws.com/sage\n",
      "xgb_model_data                                     -> 's3://sagemaker-us-east-2-057716757052/sagemaker/c\n"
     ]
    }
   ],
   "source": [
    "%store"
   ]
  },
  {
   "cell_type": "code",
   "execution_count": 5,
   "metadata": {},
   "outputs": [
    {
     "name": "stderr",
     "output_type": "stream",
     "text": [
      "'get_image_uri' method will be deprecated in favor of 'ImageURIProvider' class in SageMaker Python SDK v2.\n"
     ]
    }
   ],
   "source": [
    "import boto3\n",
    "\n",
    "from sagemaker.amazon.amazon_estimator import get_image_uri\n",
    "container = get_image_uri(boto3.Session().region_name, 'xgboost', '1.0-1')"
   ]
  },
  {
   "cell_type": "markdown",
   "metadata": {},
   "source": [
    "S3에 있는 Train, Validation 전처리된 (Features) 데이타의 경로 및 파일 포맷등을 지정하는 오브젝트를 생성 합니다."
   ]
  },
  {
   "cell_type": "code",
   "execution_count": 6,
   "metadata": {},
   "outputs": [
    {
     "name": "stderr",
     "output_type": "stream",
     "text": [
      "'s3_input' class will be renamed to 'TrainingInput' in SageMaker Python SDK v2.\n",
      "'s3_input' class will be renamed to 'TrainingInput' in SageMaker Python SDK v2.\n"
     ]
    },
    {
     "name": "stdout",
     "output_type": "stream",
     "text": [
      "S3 Train input: \n",
      "\n",
      "{'DataSource': {'S3DataSource': {'S3DataType': 'S3Prefix', 'S3Uri': 's3://sagemaker-us-east-2-057716757052/Scikit-pca-custom/transformtrain-pca-train-output/pca-2020-08-15-09-42-51-752-2020-08-15-09-42-51-752', 'S3DataDistributionType': 'FullyReplicated'}}, 'ContentType': 'text/csv'}\n",
      "\n",
      "S3 Validation input: \n",
      "\n",
      "{'DataSource': {'S3DataSource': {'S3DataType': 'S3Prefix', 'S3Uri': 's3://sagemaker-us-east-2-057716757052/Scikit-pca-custom/transformtrain-pca-validation-output/pca-2020-08-15-09-42-59-776-2020-08-15-09-42-59-776', 'S3DataDistributionType': 'FullyReplicated'}}, 'ContentType': 'text/csv'}\n"
     ]
    }
   ],
   "source": [
    "s3_input_train_processed = sagemaker.session.s3_input(\n",
    "    preprocessed_pca_train_path, \n",
    "    distribution='FullyReplicated',\n",
    "    content_type='text/csv', \n",
    "    s3_data_type='S3Prefix')\n",
    "print(\"S3 Train input: \\n\")\n",
    "print(s3_input_train_processed.config)\n",
    "s3_input_validation_processed = sagemaker.session.s3_input(\n",
    "    preprocessed_pca_validation_path, \n",
    "    distribution='FullyReplicated',\n",
    "    content_type='text/csv', \n",
    "    s3_data_type='S3Prefix')\n",
    "print(\"\\nS3 Validation input: \\n\")\n",
    "print(s3_input_validation_processed.config)"
   ]
  },
  {
   "cell_type": "markdown",
   "metadata": {},
   "source": [
    "#### 아래는 약 5분 정도가 소요 됩니다. 아래 셀의 [*] 의 표시가 [숫자] (에: [13])로 바뀔 때까지 기다려 주세요"
   ]
  },
  {
   "cell_type": "code",
   "execution_count": 7,
   "metadata": {},
   "outputs": [
    {
     "name": "stderr",
     "output_type": "stream",
     "text": [
      "Parameter image_name will be renamed to image_uri in SageMaker Python SDK v2.\n"
     ]
    },
    {
     "name": "stdout",
     "output_type": "stream",
     "text": [
      "2020-08-15 09:43:25 Starting - Starting the training job...\n",
      "2020-08-15 09:43:27 Starting - Launching requested ML instances......\n",
      "2020-08-15 09:44:49 Starting - Preparing the instances for training......\n",
      "2020-08-15 09:45:45 Downloading - Downloading input data\n",
      "2020-08-15 09:45:45 Training - Downloading the training image...\n",
      "2020-08-15 09:46:21 Uploading - Uploading generated training model\n",
      "2020-08-15 09:46:21 Completed - Training job completed\n",
      "\u001b[34mINFO:sagemaker-containers:Imported framework sagemaker_xgboost_container.training\u001b[0m\n",
      "\u001b[34mINFO:sagemaker-containers:Failed to parse hyperparameter objective value binary:logistic to Json.\u001b[0m\n",
      "\u001b[34mReturning the value itself\u001b[0m\n",
      "\u001b[34mINFO:sagemaker-containers:No GPUs detected (normal if no gpus installed)\u001b[0m\n",
      "\u001b[34mINFO:sagemaker_xgboost_container.training:Running XGBoost Sagemaker in algorithm mode\u001b[0m\n",
      "\u001b[34mINFO:root:Determined delimiter of CSV input is ','\u001b[0m\n",
      "\u001b[34mINFO:root:Determined delimiter of CSV input is ','\u001b[0m\n",
      "\u001b[34mINFO:root:Determined delimiter of CSV input is ','\u001b[0m\n",
      "\u001b[34m[09:46:10] 2333x25 matrix with 58325 entries loaded from /opt/ml/input/data/train?format=csv&label_column=0&delimiter=,\u001b[0m\n",
      "\u001b[34mINFO:root:Determined delimiter of CSV input is ','\u001b[0m\n",
      "\u001b[34m[09:46:10] 666x25 matrix with 16650 entries loaded from /opt/ml/input/data/validation?format=csv&label_column=0&delimiter=,\u001b[0m\n",
      "\u001b[34mINFO:root:Single node training.\u001b[0m\n",
      "\u001b[34mINFO:root:Train matrix has 2333 rows\u001b[0m\n",
      "\u001b[34mINFO:root:Validation matrix has 666 rows\u001b[0m\n",
      "\u001b[34m[09:46:10] WARNING: /workspace/src/learner.cc:328: \u001b[0m\n",
      "\u001b[34mParameters: { num_round, silent } might not be used.\n",
      "\n",
      "  This may not be accurate due to some parameters are only used in language bindings but\n",
      "  passed down to XGBoost core.  Or some parameters are not used but slip through this\n",
      "  verification. Please open an issue if you find above cases.\n",
      "\n",
      "\u001b[0m\n",
      "\u001b[34m[0]#011train-error:0.12259#011validation-error:0.15616\u001b[0m\n",
      "\u001b[34m[1]#011train-error:0.10973#011validation-error:0.15465\u001b[0m\n",
      "\u001b[34m[2]#011train-error:0.09516#011validation-error:0.13964\u001b[0m\n",
      "\u001b[34m[3]#011train-error:0.09387#011validation-error:0.13363\u001b[0m\n",
      "\u001b[34m[4]#011train-error:0.09516#011validation-error:0.13213\u001b[0m\n",
      "\u001b[34m[5]#011train-error:0.09259#011validation-error:0.13964\u001b[0m\n",
      "\u001b[34m[6]#011train-error:0.08701#011validation-error:0.13964\u001b[0m\n",
      "\u001b[34m[7]#011train-error:0.08444#011validation-error:0.14114\u001b[0m\n",
      "\u001b[34m[8]#011train-error:0.07887#011validation-error:0.13063\u001b[0m\n",
      "\u001b[34m[9]#011train-error:0.07887#011validation-error:0.13213\u001b[0m\n",
      "\u001b[34m[10]#011train-error:0.08101#011validation-error:0.13664\u001b[0m\n",
      "\u001b[34m[11]#011train-error:0.07801#011validation-error:0.13514\u001b[0m\n",
      "\u001b[34m[12]#011train-error:0.07930#011validation-error:0.13213\u001b[0m\n",
      "\u001b[34m[13]#011train-error:0.07587#011validation-error:0.13964\u001b[0m\n",
      "\u001b[34m[14]#011train-error:0.07544#011validation-error:0.13514\u001b[0m\n",
      "\u001b[34m[15]#011train-error:0.07201#011validation-error:0.13363\u001b[0m\n",
      "\u001b[34m[16]#011train-error:0.07030#011validation-error:0.13814\u001b[0m\n",
      "\u001b[34m[17]#011train-error:0.06772#011validation-error:0.13664\u001b[0m\n",
      "\u001b[34m[18]#011train-error:0.06729#011validation-error:0.13363\u001b[0m\n",
      "\u001b[34m[19]#011train-error:0.06815#011validation-error:0.13363\u001b[0m\n",
      "\u001b[34m[20]#011train-error:0.06515#011validation-error:0.12462\u001b[0m\n",
      "\u001b[34m[21]#011train-error:0.06558#011validation-error:0.12913\u001b[0m\n",
      "\u001b[34m[22]#011train-error:0.06387#011validation-error:0.12763\u001b[0m\n",
      "\u001b[34m[23]#011train-error:0.06087#011validation-error:0.13514\u001b[0m\n",
      "\u001b[34m[24]#011train-error:0.05829#011validation-error:0.12913\u001b[0m\n",
      "\u001b[34m[25]#011train-error:0.05744#011validation-error:0.13363\u001b[0m\n",
      "\u001b[34m[26]#011train-error:0.05615#011validation-error:0.12913\u001b[0m\n",
      "\u001b[34m[27]#011train-error:0.05444#011validation-error:0.12913\u001b[0m\n",
      "\u001b[34m[28]#011train-error:0.05315#011validation-error:0.13514\u001b[0m\n",
      "\u001b[34m[29]#011train-error:0.05358#011validation-error:0.12613\u001b[0m\n",
      "\u001b[34m[30]#011train-error:0.05101#011validation-error:0.12763\u001b[0m\n",
      "\u001b[34m[31]#011train-error:0.04886#011validation-error:0.12613\u001b[0m\n",
      "\u001b[34m[32]#011train-error:0.04929#011validation-error:0.12462\u001b[0m\n",
      "\u001b[34m[33]#011train-error:0.04801#011validation-error:0.12913\u001b[0m\n",
      "\u001b[34m[34]#011train-error:0.04629#011validation-error:0.12763\u001b[0m\n",
      "\u001b[34m[35]#011train-error:0.04501#011validation-error:0.12312\u001b[0m\n",
      "\u001b[34m[36]#011train-error:0.04501#011validation-error:0.12312\u001b[0m\n",
      "\u001b[34m[37]#011train-error:0.04415#011validation-error:0.12613\u001b[0m\n",
      "\u001b[34m[38]#011train-error:0.04415#011validation-error:0.12613\u001b[0m\n",
      "\u001b[34m[39]#011train-error:0.04329#011validation-error:0.12913\u001b[0m\n",
      "\u001b[34m[40]#011train-error:0.04372#011validation-error:0.12763\u001b[0m\n",
      "\u001b[34m[41]#011train-error:0.04329#011validation-error:0.12763\u001b[0m\n",
      "\u001b[34m[42]#011train-error:0.04372#011validation-error:0.12613\u001b[0m\n",
      "\u001b[34m[43]#011train-error:0.04329#011validation-error:0.12462\u001b[0m\n",
      "\u001b[34m[44]#011train-error:0.04329#011validation-error:0.12462\u001b[0m\n",
      "\u001b[34m[45]#011train-error:0.04201#011validation-error:0.12613\u001b[0m\n",
      "\u001b[34m[46]#011train-error:0.04201#011validation-error:0.12613\u001b[0m\n",
      "\u001b[34m[47]#011train-error:0.04329#011validation-error:0.12462\u001b[0m\n",
      "\u001b[34m[48]#011train-error:0.04244#011validation-error:0.12162\u001b[0m\n",
      "\u001b[34m[49]#011train-error:0.04072#011validation-error:0.12312\u001b[0m\n",
      "\u001b[34m[50]#011train-error:0.04158#011validation-error:0.12312\u001b[0m\n",
      "\u001b[34m[51]#011train-error:0.04029#011validation-error:0.12012\u001b[0m\n",
      "\u001b[34m[52]#011train-error:0.04029#011validation-error:0.12012\u001b[0m\n",
      "\u001b[34m[53]#011train-error:0.04029#011validation-error:0.12012\u001b[0m\n",
      "\u001b[34m[54]#011train-error:0.03986#011validation-error:0.12312\u001b[0m\n",
      "\u001b[34m[55]#011train-error:0.03943#011validation-error:0.12162\u001b[0m\n",
      "\u001b[34m[56]#011train-error:0.03943#011validation-error:0.12462\u001b[0m\n",
      "\u001b[34m[57]#011train-error:0.03986#011validation-error:0.12312\u001b[0m\n",
      "\u001b[34m[58]#011train-error:0.03858#011validation-error:0.12613\u001b[0m\n",
      "\u001b[34m[59]#011train-error:0.03901#011validation-error:0.12763\u001b[0m\n",
      "\u001b[34m[60]#011train-error:0.03772#011validation-error:0.12763\u001b[0m\n",
      "\u001b[34m[61]#011train-error:0.03772#011validation-error:0.12763\u001b[0m\n",
      "\u001b[34m[62]#011train-error:0.03772#011validation-error:0.12763\u001b[0m\n",
      "\u001b[34m[63]#011train-error:0.03815#011validation-error:0.12613\u001b[0m\n",
      "\u001b[34m[64]#011train-error:0.03901#011validation-error:0.12312\u001b[0m\n",
      "\u001b[34m[65]#011train-error:0.03772#011validation-error:0.12613\u001b[0m\n",
      "\u001b[34m[66]#011train-error:0.03772#011validation-error:0.12613\u001b[0m\n",
      "\u001b[34m[67]#011train-error:0.03729#011validation-error:0.12913\u001b[0m\n",
      "\u001b[34m[68]#011train-error:0.03729#011validation-error:0.12613\u001b[0m\n",
      "\u001b[34m[69]#011train-error:0.03729#011validation-error:0.12613\u001b[0m\n",
      "\u001b[34m[70]#011train-error:0.03772#011validation-error:0.12613\u001b[0m\n",
      "\u001b[34m[71]#011train-error:0.03558#011validation-error:0.12312\u001b[0m\n",
      "\u001b[34m[72]#011train-error:0.03643#011validation-error:0.12763\u001b[0m\n",
      "\u001b[34m[73]#011train-error:0.03643#011validation-error:0.12913\u001b[0m\n",
      "\u001b[34m[74]#011train-error:0.03815#011validation-error:0.13063\u001b[0m\n",
      "\u001b[34m[75]#011train-error:0.03815#011validation-error:0.13063\u001b[0m\n",
      "\u001b[34m[76]#011train-error:0.03686#011validation-error:0.13063\u001b[0m\n",
      "\u001b[34m[77]#011train-error:0.03686#011validation-error:0.13063\u001b[0m\n",
      "\u001b[34m[78]#011train-error:0.03643#011validation-error:0.12613\u001b[0m\n",
      "\u001b[34m[79]#011train-error:0.03686#011validation-error:0.12613\u001b[0m\n",
      "\u001b[34m[80]#011train-error:0.03729#011validation-error:0.12613\u001b[0m\n",
      "\u001b[34m[81]#011train-error:0.03472#011validation-error:0.12462\u001b[0m\n",
      "\u001b[34m[82]#011train-error:0.03429#011validation-error:0.12462\u001b[0m\n",
      "\u001b[34m[83]#011train-error:0.03429#011validation-error:0.12462\u001b[0m\n",
      "\u001b[34m[84]#011train-error:0.03601#011validation-error:0.12312\u001b[0m\n",
      "\u001b[34m[85]#011train-error:0.03601#011validation-error:0.12462\u001b[0m\n",
      "\u001b[34m[86]#011train-error:0.03601#011validation-error:0.12312\u001b[0m\n",
      "\u001b[34m[87]#011train-error:0.03515#011validation-error:0.12312\u001b[0m\n",
      "\u001b[34m[88]#011train-error:0.03515#011validation-error:0.12312\u001b[0m\n",
      "\u001b[34m[89]#011train-error:0.03515#011validation-error:0.12312\u001b[0m\n",
      "\u001b[34m[90]#011train-error:0.03515#011validation-error:0.12312\u001b[0m\n",
      "\u001b[34m[91]#011train-error:0.03601#011validation-error:0.12312\u001b[0m\n",
      "\u001b[34m[92]#011train-error:0.03300#011validation-error:0.12312\u001b[0m\n",
      "\u001b[34m[93]#011train-error:0.03515#011validation-error:0.12312\u001b[0m\n",
      "\u001b[34m[94]#011train-error:0.03515#011validation-error:0.12312\u001b[0m\n",
      "\u001b[34m[95]#011train-error:0.03343#011validation-error:0.12162\u001b[0m\n",
      "\u001b[34m[96]#011train-error:0.03300#011validation-error:0.12162\u001b[0m\n",
      "\u001b[34m[97]#011train-error:0.03300#011validation-error:0.12012\u001b[0m\n",
      "\u001b[34m[98]#011train-error:0.03172#011validation-error:0.12162\u001b[0m\n",
      "\u001b[34m[99]#011train-error:0.03172#011validation-error:0.12012\u001b[0m\n",
      "Training seconds: 47\n",
      "Billable seconds: 47\n"
     ]
    }
   ],
   "source": [
    "sess = sagemaker.Session()\n",
    "instance_type = 'ml.m4.2xlarge'\n",
    "\n",
    "\n",
    "xgb = sagemaker.estimator.Estimator(container, # Built-in XGBoost Container\n",
    "                                    role, \n",
    "                                    train_instance_count=1, \n",
    "                                    train_instance_type= instance_type,\n",
    "                                    output_path='s3://{}/{}/output'.format(bucket, prefix),\n",
    "                                    sagemaker_session=sess\n",
    "                                   )\n",
    "xgb.set_hyperparameters(max_depth=5,\n",
    "                        eta=0.2,\n",
    "                        gamma=4,\n",
    "                        min_child_weight=6,\n",
    "                        subsample=0.8,\n",
    "                        silent=0,\n",
    "                        objective='binary:logistic',\n",
    "                        num_round=100,\n",
    "                       )\n",
    "\n",
    "\n",
    "xgb.fit({'train': s3_input_train_processed, 'validation': s3_input_validation_processed}) "
   ]
  },
  {
   "cell_type": "markdown",
   "metadata": {},
   "source": [
    "## Inference Pipeline <a class=\"anchor\" id=\"pipeline_setup\"></a>\n",
    "\n",
    "아래 그림과 같이 위에서 생성한 전처리, 알고리즘 학습, 후처리의 세가지 모델을 가지고 1개의 단일 모델을 만들어 Inference Pipleline을 생성 합니다. <br>\n",
    "**입력 데이타 가공이 없이 실제 데이타가 입력이 되면, 1개의 단일 모델을 통해서 최종적으로 예측 결과인 True, False의 결과 값이 제공 됩니다.**\n",
    "\n",
    "![Inference-pipeline](img/Fig2.2.inference_pipeline.png)\n",
    "\n",
    "\n",
    "**Machine Learning Model Pipeline (Inference Pipeline)는 create_model() 를 호출하여 만들 수 있습니다.** <br>\n",
    "예를 들어 여기서는 the fitted Scikit-learn inference model, the fitted Xgboost model and the psotprocessing model 의 세가지 모델을 가지고 만듦니다."
   ]
  },
  {
   "cell_type": "markdown",
   "metadata": {},
   "source": [
    "아래는 세개 모델을 생성함. 전처리, 후처리 모델 생성시에는 환경 변수를 제공 함"
   ]
  },
  {
   "cell_type": "code",
   "execution_count": 8,
   "metadata": {},
   "outputs": [
    {
     "name": "stdout",
     "output_type": "stream",
     "text": [
      "xgb_model_data: \n",
      " s3://sagemaker-us-east-2-057716757052/sagemaker/customer-churn/output/sagemaker-xgboost-2020-08-15-09-43-25-537/output/model.tar.gz\n",
      "xgb_image_name: \n",
      " 257758044811.dkr.ecr.us-east-2.amazonaws.com/sagemaker-xgboost:1.0-1-cpu-py3\n",
      "Stored 'xgb_model_data' (str)\n",
      "Stored 'xgb_image_name' (str)\n"
     ]
    }
   ],
   "source": [
    "xgb_model_data = xgb.model_data\n",
    "xgb_image_name = xgb.image_name\n",
    "print(\"xgb_model_data: \\n\", xgb_model_data)\n",
    "print(\"xgb_image_name: \\n\", xgb_image_name)\n",
    "\n",
    "%store xgb_model_data\n",
    "%store xgb_image_name"
   ]
  },
  {
   "cell_type": "code",
   "execution_count": null,
   "metadata": {},
   "outputs": [],
   "source": []
  },
  {
   "cell_type": "code",
   "execution_count": null,
   "metadata": {},
   "outputs": [],
   "source": []
  },
  {
   "cell_type": "code",
   "execution_count": null,
   "metadata": {},
   "outputs": [],
   "source": []
  }
 ],
 "metadata": {
  "celltoolbar": "Tags",
  "instance_type": "ml.t3.medium",
  "kernelspec": {
   "display_name": "conda_python3",
   "language": "python",
   "name": "conda_python3"
  },
  "language_info": {
   "codemirror_mode": {
    "name": "ipython",
    "version": 3
   },
   "file_extension": ".py",
   "mimetype": "text/x-python",
   "name": "python",
   "nbconvert_exporter": "python",
   "pygments_lexer": "ipython3",
   "version": "3.6.10"
  },
  "notice": "Copyright 2017 Amazon.com, Inc. or its affiliates. All Rights Reserved.  Licensed under the Apache License, Version 2.0 (the \"License\"). You may not use this file except in compliance with the License. A copy of the License is located at http://aws.amazon.com/apache2.0/ or in the \"license\" file accompanying this file. This file is distributed on an \"AS IS\" BASIS, WITHOUT WARRANTIES OR CONDITIONS OF ANY KIND, either express or implied. See the License for the specific language governing permissions and limitations under the License."
 },
 "nbformat": 4,
 "nbformat_minor": 4
}
