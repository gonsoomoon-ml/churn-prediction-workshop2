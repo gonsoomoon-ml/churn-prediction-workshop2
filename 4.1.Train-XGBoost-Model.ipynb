{
 "cells": [
  {
   "cell_type": "markdown",
   "metadata": {},
   "source": [
    "# [Module 4.1] XGBoost 모델 생성"
   ]
  },
  {
   "cell_type": "markdown",
   "metadata": {},
   "source": [
    "\n",
    "아 과정은 위의 차원이 축소된 데이타를 가지고 실제 SageMaker Built-in Algorithm XGBoost를 이용하여 학습을 수행하여 XGBoost 모델을 생성 합니다.<br>\n",
    "실제의 학습 과정은 SageMaker Cloud Instance에서 실제 학습니 됩니다.\n",
    "\n",
    "이 노트북은 아래와 같은 과정을 수행 합니다.\n",
    "- Built-in XGBoost 알고리즘 Docker Image 가져오기\n",
    "- 차원 축소된 입력 Train, Validation 데이터 준비하기\n",
    "- 학습하여 XGBoost 모델 생성하기\n",
    "- XGBoost 모델 아티팩트 및 XGboost docker image 경로 저장\n"
   ]
  },
  {
   "cell_type": "markdown",
   "metadata": {},
   "source": [
    "sagemaker sdk 를 업그레이드 합니다"
   ]
  },
  {
   "cell_type": "code",
   "execution_count": 1,
   "metadata": {},
   "outputs": [
    {
     "name": "stdout",
     "output_type": "stream",
     "text": [
      "Requirement already up-to-date: sagemaker in /home/ec2-user/anaconda3/envs/python3/lib/python3.6/site-packages (2.5.0)\n",
      "Requirement already satisfied, skipping upgrade: google-pasta in /home/ec2-user/anaconda3/envs/python3/lib/python3.6/site-packages (from sagemaker) (0.2.0)\n",
      "Requirement already satisfied, skipping upgrade: boto3>=1.14.12 in /home/ec2-user/anaconda3/envs/python3/lib/python3.6/site-packages (from sagemaker) (1.14.27)\n",
      "Requirement already satisfied, skipping upgrade: smdebug-rulesconfig==0.1.5 in /home/ec2-user/anaconda3/envs/python3/lib/python3.6/site-packages (from sagemaker) (0.1.5)\n",
      "Requirement already satisfied, skipping upgrade: packaging>=20.0 in /home/ec2-user/anaconda3/envs/python3/lib/python3.6/site-packages (from sagemaker) (20.3)\n",
      "Requirement already satisfied, skipping upgrade: numpy>=1.9.0 in /home/ec2-user/anaconda3/envs/python3/lib/python3.6/site-packages (from sagemaker) (1.18.1)\n",
      "Requirement already satisfied, skipping upgrade: importlib-metadata>=1.4.0 in /home/ec2-user/anaconda3/envs/python3/lib/python3.6/site-packages (from sagemaker) (1.5.0)\n",
      "Requirement already satisfied, skipping upgrade: protobuf3-to-dict>=0.1.5 in /home/ec2-user/anaconda3/envs/python3/lib/python3.6/site-packages (from sagemaker) (0.1.5)\n",
      "Requirement already satisfied, skipping upgrade: protobuf>=3.1 in /home/ec2-user/anaconda3/envs/python3/lib/python3.6/site-packages (from sagemaker) (3.12.2)\n",
      "Requirement already satisfied, skipping upgrade: six in /home/ec2-user/anaconda3/envs/python3/lib/python3.6/site-packages (from google-pasta->sagemaker) (1.14.0)\n",
      "Requirement already satisfied, skipping upgrade: botocore<1.18.0,>=1.17.27 in /home/ec2-user/anaconda3/envs/python3/lib/python3.6/site-packages (from boto3>=1.14.12->sagemaker) (1.17.27)\n",
      "Requirement already satisfied, skipping upgrade: s3transfer<0.4.0,>=0.3.0 in /home/ec2-user/anaconda3/envs/python3/lib/python3.6/site-packages (from boto3>=1.14.12->sagemaker) (0.3.3)\n",
      "Requirement already satisfied, skipping upgrade: jmespath<1.0.0,>=0.7.1 in /home/ec2-user/anaconda3/envs/python3/lib/python3.6/site-packages (from boto3>=1.14.12->sagemaker) (0.9.4)\n",
      "Requirement already satisfied, skipping upgrade: pyparsing>=2.0.2 in /home/ec2-user/anaconda3/envs/python3/lib/python3.6/site-packages (from packaging>=20.0->sagemaker) (2.4.6)\n",
      "Requirement already satisfied, skipping upgrade: zipp>=0.5 in /home/ec2-user/anaconda3/envs/python3/lib/python3.6/site-packages (from importlib-metadata>=1.4.0->sagemaker) (2.2.0)\n",
      "Requirement already satisfied, skipping upgrade: setuptools in /home/ec2-user/anaconda3/envs/python3/lib/python3.6/site-packages (from protobuf>=3.1->sagemaker) (46.1.3.post20200330)\n",
      "Requirement already satisfied, skipping upgrade: urllib3<1.26,>=1.20; python_version != \"3.4\" in /home/ec2-user/anaconda3/envs/python3/lib/python3.6/site-packages (from botocore<1.18.0,>=1.17.27->boto3>=1.14.12->sagemaker) (1.25.8)\n",
      "Requirement already satisfied, skipping upgrade: python-dateutil<3.0.0,>=2.1 in /home/ec2-user/anaconda3/envs/python3/lib/python3.6/site-packages (from botocore<1.18.0,>=1.17.27->boto3>=1.14.12->sagemaker) (2.8.1)\n",
      "Requirement already satisfied, skipping upgrade: docutils<0.16,>=0.10 in /home/ec2-user/anaconda3/envs/python3/lib/python3.6/site-packages (from botocore<1.18.0,>=1.17.27->boto3>=1.14.12->sagemaker) (0.15.2)\n"
     ]
    }
   ],
   "source": [
    "!pip install --upgrade sagemaker"
   ]
  },
  {
   "cell_type": "code",
   "execution_count": 2,
   "metadata": {},
   "outputs": [],
   "source": [
    "import sagemaker\n",
    "import pandas as pd\n",
    "import numpy as np\n",
    "import os\n",
    "import time\n",
    "import json\n",
    "from time import strftime, gmtime\n",
    "\n",
    "role = sagemaker.get_execution_role()"
   ]
  },
  {
   "cell_type": "code",
   "execution_count": 3,
   "metadata": {},
   "outputs": [],
   "source": [
    "%store -r"
   ]
  },
  {
   "cell_type": "markdown",
   "metadata": {},
   "source": [
    "## Built-in XGBoost 알고리즘 Docker Image 가져오기\n"
   ]
  },
  {
   "cell_type": "code",
   "execution_count": 4,
   "metadata": {},
   "outputs": [
    {
     "name": "stdout",
     "output_type": "stream",
     "text": [
      "xgb_image:  306986355934.dkr.ecr.ap-northeast-2.amazonaws.com/xgboost:latest\n"
     ]
    }
   ],
   "source": [
    "from sagemaker import image_uris, session\n",
    "xgb_image = image_uris.retrieve(\"xgboost\", session.Session().boto_region_name, version=\"latest\")\n",
    "print(\"xgb_image: \", xgb_image)"
   ]
  },
  {
   "cell_type": "markdown",
   "metadata": {},
   "source": [
    "## 차원 축소된 입력 Train, Validation 데이터 준비하기\n",
    "\n",
    "이전 노트북에서 차원이 축소된 Train, Validaion 데이타의 경로 및 파일 포맷등을 지정하는 오브젝트를 생성 합니다."
   ]
  },
  {
   "cell_type": "code",
   "execution_count": 5,
   "metadata": {},
   "outputs": [
    {
     "name": "stdout",
     "output_type": "stream",
     "text": [
      "S3 Train input: \n",
      "\n",
      "{'DataSource': {'S3DataSource': {'S3DataType': 'S3Prefix', 'S3Uri': 's3://sagemaker-ap-northeast-2-057716757052/Scikit-pca-custom/transformtrain-pca-train-output/pca-2020-08-26-07-40-44-612', 'S3DataDistributionType': 'FullyReplicated'}}, 'ContentType': 'text/csv'}\n",
      "\n",
      "S3 Validation input: \n",
      "\n",
      "{'DataSource': {'S3DataSource': {'S3DataType': 'S3Prefix', 'S3Uri': 's3://sagemaker-ap-northeast-2-057716757052/Scikit-pca-custom/transformtrain-pca-validation-output/pca-2020-08-26-10-50-14-889', 'S3DataDistributionType': 'FullyReplicated'}}, 'ContentType': 'text/csv'}\n"
     ]
    }
   ],
   "source": [
    "s3_input_train_processed = sagemaker.inputs.TrainingInput(\n",
    "    preprocessed_pca_train_path, \n",
    "    distribution='FullyReplicated',\n",
    "    content_type='text/csv', \n",
    "    s3_data_type='S3Prefix')\n",
    "print(\"S3 Train input: \\n\")\n",
    "print(s3_input_train_processed.config)\n",
    "s3_input_validation_processed = sagemaker.inputs.TrainingInput(\n",
    "    preprocessed_pca_validation_path, \n",
    "    distribution='FullyReplicated',\n",
    "    content_type='text/csv', \n",
    "    s3_data_type='S3Prefix')\n",
    "print(\"\\nS3 Validation input: \\n\")\n",
    "print(s3_input_validation_processed.config)"
   ]
  },
  {
   "cell_type": "markdown",
   "metadata": {},
   "source": [
    "## 학습하여 XGBoost 모델 생성하기\n",
    "\n",
    "#### 아래는 약 5분 정도가 소요 됩니다. 아래 셀의 [*] 의 표시가 [숫자] (에: [13])로 바뀔 때까지 기다려 주세요"
   ]
  },
  {
   "cell_type": "code",
   "execution_count": 6,
   "metadata": {},
   "outputs": [
    {
     "name": "stdout",
     "output_type": "stream",
     "text": [
      "2020-08-26 12:23:04 Starting - Starting the training job...\n",
      "2020-08-26 12:23:25 Starting - Launching requested ML instances......\n",
      "2020-08-26 12:24:31 Starting - Preparing the instances for training......\n",
      "2020-08-26 12:25:20 Downloading - Downloading input data\n",
      "2020-08-26 12:25:20 Training - Downloading the training image..\u001b[34mArguments: train\u001b[0m\n",
      "\u001b[34m[2020-08-26:12:25:40:INFO] Running standalone xgboost training.\u001b[0m\n",
      "\u001b[34m[2020-08-26:12:25:40:INFO] File size need to be processed in the node: 1.46mb. Available memory size in the node: 24453.21mb\u001b[0m\n",
      "\u001b[34m[2020-08-26:12:25:40:INFO] Determined delimiter of CSV input is ','\u001b[0m\n",
      "\u001b[34m[12:25:40] S3DistributionType set as FullyReplicated\u001b[0m\n",
      "\u001b[34m[12:25:40] 2333x25 matrix with 58325 entries loaded from /opt/ml/input/data/train?format=csv&label_column=0&delimiter=,\u001b[0m\n",
      "\u001b[34m[2020-08-26:12:25:40:INFO] Determined delimiter of CSV input is ','\u001b[0m\n",
      "\u001b[34m[12:25:40] S3DistributionType set as FullyReplicated\u001b[0m\n",
      "\u001b[34m[12:25:40] 666x25 matrix with 16650 entries loaded from /opt/ml/input/data/validation?format=csv&label_column=0&delimiter=,\u001b[0m\n",
      "\u001b[34m[12:25:40] src/tree/updater_prune.cc:74: tree pruning end, 1 roots, 26 extra nodes, 2 pruned nodes, max_depth=5\u001b[0m\n",
      "\u001b[34m[0]#011train-error:0.115731#011validation-error:0.148649\u001b[0m\n",
      "\u001b[34m[12:25:40] src/tree/updater_prune.cc:74: tree pruning end, 1 roots, 24 extra nodes, 0 pruned nodes, max_depth=5\u001b[0m\n",
      "\u001b[34m[1]#011train-error:0.117017#011validation-error:0.142643\u001b[0m\n",
      "\u001b[34m[12:25:40] src/tree/updater_prune.cc:74: tree pruning end, 1 roots, 28 extra nodes, 2 pruned nodes, max_depth=5\u001b[0m\n",
      "\u001b[34m[2]#011train-error:0.103729#011validation-error:0.142643\u001b[0m\n",
      "\u001b[34m[12:25:40] src/tree/updater_prune.cc:74: tree pruning end, 1 roots, 24 extra nodes, 0 pruned nodes, max_depth=5\u001b[0m\n",
      "\u001b[34m[3]#011train-error:0.096442#011validation-error:0.13964\u001b[0m\n",
      "\u001b[34m[12:25:40] src/tree/updater_prune.cc:74: tree pruning end, 1 roots, 20 extra nodes, 2 pruned nodes, max_depth=5\u001b[0m\n",
      "\u001b[34m[4]#011train-error:0.101586#011validation-error:0.144144\u001b[0m\n",
      "\u001b[34m[12:25:40] src/tree/updater_prune.cc:74: tree pruning end, 1 roots, 28 extra nodes, 4 pruned nodes, max_depth=5\u001b[0m\n",
      "\u001b[34m[5]#011train-error:0.099443#011validation-error:0.136637\u001b[0m\n",
      "\u001b[34m[12:25:40] src/tree/updater_prune.cc:74: tree pruning end, 1 roots, 24 extra nodes, 10 pruned nodes, max_depth=5\u001b[0m\n",
      "\u001b[34m[6]#011train-error:0.096014#011validation-error:0.136637\u001b[0m\n",
      "\u001b[34m[12:25:40] src/tree/updater_prune.cc:74: tree pruning end, 1 roots, 30 extra nodes, 6 pruned nodes, max_depth=5\u001b[0m\n",
      "\u001b[34m[7]#011train-error:0.091299#011validation-error:0.130631\u001b[0m\n",
      "\u001b[34m[12:25:40] src/tree/updater_prune.cc:74: tree pruning end, 1 roots, 32 extra nodes, 10 pruned nodes, max_depth=5\u001b[0m\n",
      "\u001b[34m[8]#011train-error:0.089584#011validation-error:0.132132\u001b[0m\n",
      "\u001b[34m[12:25:40] src/tree/updater_prune.cc:74: tree pruning end, 1 roots, 24 extra nodes, 4 pruned nodes, max_depth=5\u001b[0m\n",
      "\u001b[34m[9]#011train-error:0.084441#011validation-error:0.135135\u001b[0m\n",
      "\u001b[34m[12:25:40] src/tree/updater_prune.cc:74: tree pruning end, 1 roots, 34 extra nodes, 6 pruned nodes, max_depth=5\u001b[0m\n",
      "\u001b[34m[10]#011train-error:0.077583#011validation-error:0.13964\u001b[0m\n",
      "\u001b[34m[12:25:40] src/tree/updater_prune.cc:74: tree pruning end, 1 roots, 16 extra nodes, 4 pruned nodes, max_depth=5\u001b[0m\n",
      "\u001b[34m[11]#011train-error:0.080154#011validation-error:0.136637\u001b[0m\n",
      "\u001b[34m[12:25:40] src/tree/updater_prune.cc:74: tree pruning end, 1 roots, 16 extra nodes, 8 pruned nodes, max_depth=5\u001b[0m\n",
      "\u001b[34m[12]#011train-error:0.077154#011validation-error:0.136637\u001b[0m\n",
      "\u001b[34m[12:25:40] src/tree/updater_prune.cc:74: tree pruning end, 1 roots, 24 extra nodes, 4 pruned nodes, max_depth=5\u001b[0m\n",
      "\u001b[34m[13]#011train-error:0.072868#011validation-error:0.136637\u001b[0m\n",
      "\u001b[34m[12:25:40] src/tree/updater_prune.cc:74: tree pruning end, 1 roots, 20 extra nodes, 12 pruned nodes, max_depth=5\u001b[0m\n",
      "\u001b[34m[14]#011train-error:0.074153#011validation-error:0.138138\u001b[0m\n",
      "\u001b[34m[12:25:40] src/tree/updater_prune.cc:74: tree pruning end, 1 roots, 20 extra nodes, 8 pruned nodes, max_depth=5\u001b[0m\n",
      "\u001b[34m[15]#011train-error:0.069438#011validation-error:0.135135\u001b[0m\n",
      "\u001b[34m[12:25:40] src/tree/updater_prune.cc:74: tree pruning end, 1 roots, 24 extra nodes, 8 pruned nodes, max_depth=5\u001b[0m\n",
      "\u001b[34m[16]#011train-error:0.066438#011validation-error:0.138138\u001b[0m\n",
      "\u001b[34m[12:25:40] src/tree/updater_prune.cc:74: tree pruning end, 1 roots, 18 extra nodes, 12 pruned nodes, max_depth=5\u001b[0m\n",
      "\u001b[34m[17]#011train-error:0.064724#011validation-error:0.130631\u001b[0m\n",
      "\u001b[34m[12:25:40] src/tree/updater_prune.cc:74: tree pruning end, 1 roots, 18 extra nodes, 8 pruned nodes, max_depth=5\u001b[0m\n",
      "\u001b[34m[18]#011train-error:0.063438#011validation-error:0.130631\u001b[0m\n",
      "\u001b[34m[12:25:40] src/tree/updater_prune.cc:74: tree pruning end, 1 roots, 16 extra nodes, 4 pruned nodes, max_depth=5\u001b[0m\n",
      "\u001b[34m[19]#011train-error:0.06258#011validation-error:0.130631\u001b[0m\n",
      "\u001b[34m[12:25:40] src/tree/updater_prune.cc:74: tree pruning end, 1 roots, 16 extra nodes, 6 pruned nodes, max_depth=5\u001b[0m\n",
      "\u001b[34m[20]#011train-error:0.061723#011validation-error:0.127628\u001b[0m\n",
      "\u001b[34m[12:25:40] src/tree/updater_prune.cc:74: tree pruning end, 1 roots, 20 extra nodes, 6 pruned nodes, max_depth=5\u001b[0m\n",
      "\u001b[34m[21]#011train-error:0.05958#011validation-error:0.126126\u001b[0m\n",
      "\u001b[34m[12:25:40] src/tree/updater_prune.cc:74: tree pruning end, 1 roots, 12 extra nodes, 2 pruned nodes, max_depth=5\u001b[0m\n",
      "\u001b[34m[22]#011train-error:0.060437#011validation-error:0.126126\u001b[0m\n",
      "\u001b[34m[12:25:40] src/tree/updater_prune.cc:74: tree pruning end, 1 roots, 18 extra nodes, 4 pruned nodes, max_depth=5\u001b[0m\n",
      "\u001b[34m[23]#011train-error:0.057865#011validation-error:0.129129\u001b[0m\n",
      "\u001b[34m[12:25:40] src/tree/updater_prune.cc:74: tree pruning end, 1 roots, 22 extra nodes, 12 pruned nodes, max_depth=5\u001b[0m\n",
      "\u001b[34m[24]#011train-error:0.059151#011validation-error:0.127628\u001b[0m\n",
      "\u001b[34m[12:25:40] src/tree/updater_prune.cc:74: tree pruning end, 1 roots, 14 extra nodes, 10 pruned nodes, max_depth=5\u001b[0m\n",
      "\u001b[34m[25]#011train-error:0.058294#011validation-error:0.126126\u001b[0m\n",
      "\u001b[34m[12:25:40] src/tree/updater_prune.cc:74: tree pruning end, 1 roots, 12 extra nodes, 2 pruned nodes, max_depth=5\u001b[0m\n",
      "\u001b[34m[26]#011train-error:0.058723#011validation-error:0.126126\u001b[0m\n",
      "\u001b[34m[12:25:40] src/tree/updater_prune.cc:74: tree pruning end, 1 roots, 6 extra nodes, 12 pruned nodes, max_depth=3\u001b[0m\n",
      "\u001b[34m[27]#011train-error:0.055294#011validation-error:0.123123\u001b[0m\n",
      "\u001b[34m[12:25:40] src/tree/updater_prune.cc:74: tree pruning end, 1 roots, 12 extra nodes, 12 pruned nodes, max_depth=4\u001b[0m\n",
      "\u001b[34m[28]#011train-error:0.05658#011validation-error:0.126126\u001b[0m\n",
      "\u001b[34m[12:25:40] src/tree/updater_prune.cc:74: tree pruning end, 1 roots, 18 extra nodes, 6 pruned nodes, max_depth=5\u001b[0m\n",
      "\u001b[34m[29]#011train-error:0.053579#011validation-error:0.126126\u001b[0m\n",
      "\u001b[34m[12:25:40] src/tree/updater_prune.cc:74: tree pruning end, 1 roots, 8 extra nodes, 14 pruned nodes, max_depth=4\u001b[0m\n",
      "\u001b[34m[30]#011train-error:0.053579#011validation-error:0.123123\u001b[0m\n",
      "\u001b[34m[12:25:40] src/tree/updater_prune.cc:74: tree pruning end, 1 roots, 16 extra nodes, 14 pruned nodes, max_depth=4\u001b[0m\n",
      "\u001b[34m[31]#011train-error:0.05315#011validation-error:0.123123\u001b[0m\n",
      "\u001b[34m[12:25:40] src/tree/updater_prune.cc:74: tree pruning end, 1 roots, 14 extra nodes, 8 pruned nodes, max_depth=5\u001b[0m\n",
      "\u001b[34m[32]#011train-error:0.051007#011validation-error:0.124625\u001b[0m\n",
      "\u001b[34m[12:25:40] src/tree/updater_prune.cc:74: tree pruning end, 1 roots, 10 extra nodes, 12 pruned nodes, max_depth=4\u001b[0m\n",
      "\u001b[34m[33]#011train-error:0.049293#011validation-error:0.126126\u001b[0m\n",
      "\u001b[34m[12:25:40] src/tree/updater_prune.cc:74: tree pruning end, 1 roots, 12 extra nodes, 8 pruned nodes, max_depth=5\u001b[0m\n",
      "\u001b[34m[34]#011train-error:0.049721#011validation-error:0.126126\u001b[0m\n",
      "\u001b[34m[12:25:40] src/tree/updater_prune.cc:74: tree pruning end, 1 roots, 10 extra nodes, 16 pruned nodes, max_depth=4\u001b[0m\n",
      "\u001b[34m[35]#011train-error:0.04715#011validation-error:0.126126\u001b[0m\n",
      "\u001b[34m[12:25:40] src/tree/updater_prune.cc:74: tree pruning end, 1 roots, 12 extra nodes, 16 pruned nodes, max_depth=5\u001b[0m\n",
      "\u001b[34m[36]#011train-error:0.046721#011validation-error:0.124625\u001b[0m\n",
      "\u001b[34m[12:25:40] src/tree/updater_prune.cc:74: tree pruning end, 1 roots, 8 extra nodes, 16 pruned nodes, max_depth=3\u001b[0m\n",
      "\u001b[34m[37]#011train-error:0.045864#011validation-error:0.123123\u001b[0m\n",
      "\u001b[34m[12:25:40] src/tree/updater_prune.cc:74: tree pruning end, 1 roots, 0 extra nodes, 12 pruned nodes, max_depth=0\u001b[0m\n",
      "\u001b[34m[38]#011train-error:0.045864#011validation-error:0.123123\u001b[0m\n",
      "\u001b[34m[12:25:40] src/tree/updater_prune.cc:74: tree pruning end, 1 roots, 12 extra nodes, 6 pruned nodes, max_depth=5\u001b[0m\n",
      "\u001b[34m[39]#011train-error:0.045006#011validation-error:0.126126\u001b[0m\n",
      "\u001b[34m[12:25:40] src/tree/updater_prune.cc:74: tree pruning end, 1 roots, 14 extra nodes, 6 pruned nodes, max_depth=5\u001b[0m\n",
      "\u001b[34m[40]#011train-error:0.044149#011validation-error:0.123123\u001b[0m\n",
      "\u001b[34m[12:25:40] src/tree/updater_prune.cc:74: tree pruning end, 1 roots, 10 extra nodes, 6 pruned nodes, max_depth=5\u001b[0m\n",
      "\u001b[34m[41]#011train-error:0.044578#011validation-error:0.123123\u001b[0m\n",
      "\u001b[34m[12:25:40] src/tree/updater_prune.cc:74: tree pruning end, 1 roots, 8 extra nodes, 14 pruned nodes, max_depth=4\u001b[0m\n",
      "\u001b[34m[42]#011train-error:0.044578#011validation-error:0.123123\u001b[0m\n",
      "\u001b[34m[12:25:40] src/tree/updater_prune.cc:74: tree pruning end, 1 roots, 0 extra nodes, 22 pruned nodes, max_depth=0\u001b[0m\n",
      "\u001b[34m[43]#011train-error:0.044578#011validation-error:0.123123\u001b[0m\n",
      "\u001b[34m[12:25:40] src/tree/updater_prune.cc:74: tree pruning end, 1 roots, 16 extra nodes, 12 pruned nodes, max_depth=5\u001b[0m\n",
      "\u001b[34m[44]#011train-error:0.045864#011validation-error:0.123123\u001b[0m\n",
      "\u001b[34m[12:25:40] src/tree/updater_prune.cc:74: tree pruning end, 1 roots, 18 extra nodes, 10 pruned nodes, max_depth=4\u001b[0m\n",
      "\u001b[34m[45]#011train-error:0.044149#011validation-error:0.123123\u001b[0m\n",
      "\u001b[34m[12:25:40] src/tree/updater_prune.cc:74: tree pruning end, 1 roots, 6 extra nodes, 12 pruned nodes, max_depth=3\u001b[0m\n",
      "\u001b[34m[46]#011train-error:0.045006#011validation-error:0.123123\u001b[0m\n",
      "\u001b[34m[12:25:40] src/tree/updater_prune.cc:74: tree pruning end, 1 roots, 8 extra nodes, 8 pruned nodes, max_depth=4\u001b[0m\n",
      "\u001b[34m[47]#011train-error:0.042863#011validation-error:0.123123\u001b[0m\n",
      "\u001b[34m[12:25:40] src/tree/updater_prune.cc:74: tree pruning end, 1 roots, 0 extra nodes, 20 pruned nodes, max_depth=0\u001b[0m\n",
      "\u001b[34m[48]#011train-error:0.043292#011validation-error:0.121622\u001b[0m\n",
      "\u001b[34m[12:25:40] src/tree/updater_prune.cc:74: tree pruning end, 1 roots, 0 extra nodes, 16 pruned nodes, max_depth=0\u001b[0m\n",
      "\u001b[34m[49]#011train-error:0.043292#011validation-error:0.121622\u001b[0m\n",
      "\u001b[34m[12:25:40] src/tree/updater_prune.cc:74: tree pruning end, 1 roots, 14 extra nodes, 12 pruned nodes, max_depth=5\u001b[0m\n",
      "\u001b[34m[50]#011train-error:0.042006#011validation-error:0.123123\u001b[0m\n",
      "\u001b[34m[12:25:40] src/tree/updater_prune.cc:74: tree pruning end, 1 roots, 6 extra nodes, 14 pruned nodes, max_depth=3\u001b[0m\n",
      "\u001b[34m[51]#011train-error:0.042435#011validation-error:0.124625\u001b[0m\n",
      "\u001b[34m[12:25:40] src/tree/updater_prune.cc:74: tree pruning end, 1 roots, 14 extra nodes, 8 pruned nodes, max_depth=5\u001b[0m\n",
      "\u001b[34m[52]#011train-error:0.041149#011validation-error:0.12012\u001b[0m\n",
      "\u001b[34m[12:25:40] src/tree/updater_prune.cc:74: tree pruning end, 1 roots, 12 extra nodes, 6 pruned nodes, max_depth=5\u001b[0m\n",
      "\u001b[34m[53]#011train-error:0.039434#011validation-error:0.123123\u001b[0m\n",
      "\u001b[34m[12:25:40] src/tree/updater_prune.cc:74: tree pruning end, 1 roots, 14 extra nodes, 4 pruned nodes, max_depth=5\u001b[0m\n",
      "\u001b[34m[54]#011train-error:0.039434#011validation-error:0.118619\u001b[0m\n",
      "\u001b[34m[12:25:40] src/tree/updater_prune.cc:74: tree pruning end, 1 roots, 0 extra nodes, 14 pruned nodes, max_depth=0\u001b[0m\n",
      "\u001b[34m[55]#011train-error:0.039434#011validation-error:0.12012\u001b[0m\n",
      "\u001b[34m[12:25:40] src/tree/updater_prune.cc:74: tree pruning end, 1 roots, 10 extra nodes, 8 pruned nodes, max_depth=5\u001b[0m\n",
      "\u001b[34m[56]#011train-error:0.038577#011validation-error:0.117117\u001b[0m\n",
      "\u001b[34m[12:25:40] src/tree/updater_prune.cc:74: tree pruning end, 1 roots, 12 extra nodes, 8 pruned nodes, max_depth=5\u001b[0m\n",
      "\u001b[34m[57]#011train-error:0.038148#011validation-error:0.12012\u001b[0m\n",
      "\u001b[34m[12:25:40] src/tree/updater_prune.cc:74: tree pruning end, 1 roots, 8 extra nodes, 6 pruned nodes, max_depth=4\u001b[0m\n",
      "\u001b[34m[58]#011train-error:0.037291#011validation-error:0.121622\u001b[0m\n",
      "\u001b[34m[12:25:40] src/tree/updater_prune.cc:74: tree pruning end, 1 roots, 10 extra nodes, 16 pruned nodes, max_depth=5\u001b[0m\n",
      "\u001b[34m[59]#011train-error:0.036005#011validation-error:0.123123\u001b[0m\n",
      "\u001b[34m[12:25:40] src/tree/updater_prune.cc:74: tree pruning end, 1 roots, 0 extra nodes, 14 pruned nodes, max_depth=0\u001b[0m\n",
      "\u001b[34m[60]#011train-error:0.036434#011validation-error:0.121622\u001b[0m\n",
      "\u001b[34m[12:25:40] src/tree/updater_prune.cc:74: tree pruning end, 1 roots, 8 extra nodes, 18 pruned nodes, max_depth=4\u001b[0m\n",
      "\u001b[34m[61]#011train-error:0.035577#011validation-error:0.123123\u001b[0m\n",
      "\u001b[34m[12:25:40] src/tree/updater_prune.cc:74: tree pruning end, 1 roots, 0 extra nodes, 12 pruned nodes, max_depth=0\u001b[0m\n",
      "\u001b[34m[62]#011train-error:0.036434#011validation-error:0.123123\u001b[0m\n",
      "\u001b[34m[12:25:40] src/tree/updater_prune.cc:74: tree pruning end, 1 roots, 0 extra nodes, 22 pruned nodes, max_depth=0\u001b[0m\n",
      "\u001b[34m[63]#011train-error:0.036434#011validation-error:0.123123\u001b[0m\n",
      "\u001b[34m[12:25:40] src/tree/updater_prune.cc:74: tree pruning end, 1 roots, 8 extra nodes, 6 pruned nodes, max_depth=4\u001b[0m\n",
      "\u001b[34m[64]#011train-error:0.036434#011validation-error:0.123123\u001b[0m\n",
      "\u001b[34m[12:25:40] src/tree/updater_prune.cc:74: tree pruning end, 1 roots, 6 extra nodes, 12 pruned nodes, max_depth=3\u001b[0m\n",
      "\u001b[34m[65]#011train-error:0.035148#011validation-error:0.123123\u001b[0m\n",
      "\u001b[34m[12:25:40] src/tree/updater_prune.cc:74: tree pruning end, 1 roots, 8 extra nodes, 10 pruned nodes, max_depth=4\u001b[0m\n",
      "\u001b[34m[66]#011train-error:0.033862#011validation-error:0.123123\u001b[0m\n",
      "\u001b[34m[12:25:40] src/tree/updater_prune.cc:74: tree pruning end, 1 roots, 6 extra nodes, 10 pruned nodes, max_depth=3\u001b[0m\n",
      "\u001b[34m[67]#011train-error:0.033862#011validation-error:0.121622\u001b[0m\n",
      "\u001b[34m[12:25:40] src/tree/updater_prune.cc:74: tree pruning end, 1 roots, 0 extra nodes, 18 pruned nodes, max_depth=0\u001b[0m\n",
      "\u001b[34m[68]#011train-error:0.034291#011validation-error:0.12012\u001b[0m\n",
      "\u001b[34m[12:25:40] src/tree/updater_prune.cc:74: tree pruning end, 1 roots, 4 extra nodes, 16 pruned nodes, max_depth=2\u001b[0m\n",
      "\u001b[34m[69]#011train-error:0.033862#011validation-error:0.121622\u001b[0m\n",
      "\u001b[34m[12:25:40] src/tree/updater_prune.cc:74: tree pruning end, 1 roots, 0 extra nodes, 14 pruned nodes, max_depth=0\u001b[0m\n",
      "\u001b[34m[70]#011train-error:0.033862#011validation-error:0.121622\u001b[0m\n",
      "\u001b[34m[12:25:40] src/tree/updater_prune.cc:74: tree pruning end, 1 roots, 8 extra nodes, 18 pruned nodes, max_depth=4\u001b[0m\n",
      "\u001b[34m[71]#011train-error:0.033433#011validation-error:0.124625\u001b[0m\n",
      "\u001b[34m[12:25:40] src/tree/updater_prune.cc:74: tree pruning end, 1 roots, 6 extra nodes, 18 pruned nodes, max_depth=3\u001b[0m\n",
      "\u001b[34m[72]#011train-error:0.032576#011validation-error:0.124625\u001b[0m\n",
      "\u001b[34m[12:25:40] src/tree/updater_prune.cc:74: tree pruning end, 1 roots, 8 extra nodes, 12 pruned nodes, max_depth=4\u001b[0m\n",
      "\u001b[34m[73]#011train-error:0.033433#011validation-error:0.123123\u001b[0m\n",
      "\u001b[34m[12:25:40] src/tree/updater_prune.cc:74: tree pruning end, 1 roots, 0 extra nodes, 24 pruned nodes, max_depth=0\u001b[0m\n",
      "\u001b[34m[74]#011train-error:0.033433#011validation-error:0.123123\u001b[0m\n",
      "\u001b[34m[12:25:40] src/tree/updater_prune.cc:74: tree pruning end, 1 roots, 0 extra nodes, 20 pruned nodes, max_depth=0\u001b[0m\n",
      "\u001b[34m[75]#011train-error:0.033433#011validation-error:0.123123\u001b[0m\n",
      "\u001b[34m[12:25:40] src/tree/updater_prune.cc:74: tree pruning end, 1 roots, 0 extra nodes, 18 pruned nodes, max_depth=0\u001b[0m\n",
      "\u001b[34m[76]#011train-error:0.033433#011validation-error:0.123123\u001b[0m\n",
      "\u001b[34m[12:25:40] src/tree/updater_prune.cc:74: tree pruning end, 1 roots, 0 extra nodes, 14 pruned nodes, max_depth=0\u001b[0m\n",
      "\u001b[34m[77]#011train-error:0.033433#011validation-error:0.123123\u001b[0m\n",
      "\u001b[34m[12:25:40] src/tree/updater_prune.cc:74: tree pruning end, 1 roots, 8 extra nodes, 8 pruned nodes, max_depth=4\u001b[0m\n",
      "\u001b[34m[78]#011train-error:0.033433#011validation-error:0.123123\u001b[0m\n",
      "\u001b[34m[12:25:40] src/tree/updater_prune.cc:74: tree pruning end, 1 roots, 10 extra nodes, 10 pruned nodes, max_depth=5\u001b[0m\n",
      "\u001b[34m[79]#011train-error:0.03129#011validation-error:0.123123\u001b[0m\n",
      "\u001b[34m[12:25:40] src/tree/updater_prune.cc:74: tree pruning end, 1 roots, 10 extra nodes, 10 pruned nodes, max_depth=5\u001b[0m\n",
      "\u001b[34m[80]#011train-error:0.030862#011validation-error:0.12012\u001b[0m\n",
      "\u001b[34m[12:25:40] src/tree/updater_prune.cc:74: tree pruning end, 1 roots, 8 extra nodes, 6 pruned nodes, max_depth=4\u001b[0m\n",
      "\u001b[34m[81]#011train-error:0.030433#011validation-error:0.117117\u001b[0m\n",
      "\u001b[34m[12:25:40] src/tree/updater_prune.cc:74: tree pruning end, 1 roots, 0 extra nodes, 16 pruned nodes, max_depth=0\u001b[0m\n",
      "\u001b[34m[82]#011train-error:0.03129#011validation-error:0.117117\u001b[0m\n",
      "\u001b[34m[12:25:40] src/tree/updater_prune.cc:74: tree pruning end, 1 roots, 4 extra nodes, 14 pruned nodes, max_depth=2\u001b[0m\n",
      "\u001b[34m[83]#011train-error:0.030862#011validation-error:0.117117\u001b[0m\n",
      "\u001b[34m[12:25:40] src/tree/updater_prune.cc:74: tree pruning end, 1 roots, 0 extra nodes, 24 pruned nodes, max_depth=0\u001b[0m\n",
      "\u001b[34m[84]#011train-error:0.030862#011validation-error:0.117117\u001b[0m\n",
      "\u001b[34m[12:25:40] src/tree/updater_prune.cc:74: tree pruning end, 1 roots, 8 extra nodes, 16 pruned nodes, max_depth=4\u001b[0m\n",
      "\u001b[34m[85]#011train-error:0.031719#011validation-error:0.118619\u001b[0m\n",
      "\u001b[34m[12:25:40] src/tree/updater_prune.cc:74: tree pruning end, 1 roots, 0 extra nodes, 16 pruned nodes, max_depth=0\u001b[0m\n",
      "\u001b[34m[86]#011train-error:0.03129#011validation-error:0.118619\u001b[0m\n",
      "\u001b[34m[12:25:40] src/tree/updater_prune.cc:74: tree pruning end, 1 roots, 10 extra nodes, 16 pruned nodes, max_depth=4\u001b[0m\n",
      "\u001b[34m[87]#011train-error:0.033433#011validation-error:0.118619\u001b[0m\n",
      "\u001b[34m[12:25:40] src/tree/updater_prune.cc:74: tree pruning end, 1 roots, 0 extra nodes, 16 pruned nodes, max_depth=0\u001b[0m\n",
      "\u001b[34m[88]#011train-error:0.031719#011validation-error:0.118619\u001b[0m\n",
      "\u001b[34m[12:25:40] src/tree/updater_prune.cc:74: tree pruning end, 1 roots, 0 extra nodes, 12 pruned nodes, max_depth=0\u001b[0m\n",
      "\u001b[34m[89]#011train-error:0.033005#011validation-error:0.118619\u001b[0m\n",
      "\u001b[34m[12:25:40] src/tree/updater_prune.cc:74: tree pruning end, 1 roots, 6 extra nodes, 16 pruned nodes, max_depth=3\u001b[0m\n",
      "\u001b[34m[90]#011train-error:0.03129#011validation-error:0.118619\u001b[0m\n",
      "\u001b[34m[12:25:40] src/tree/updater_prune.cc:74: tree pruning end, 1 roots, 0 extra nodes, 24 pruned nodes, max_depth=0\u001b[0m\n",
      "\u001b[34m[91]#011train-error:0.03129#011validation-error:0.118619\u001b[0m\n",
      "\u001b[34m[12:25:40] src/tree/updater_prune.cc:74: tree pruning end, 1 roots, 4 extra nodes, 20 pruned nodes, max_depth=2\u001b[0m\n",
      "\u001b[34m[92]#011train-error:0.029147#011validation-error:0.118619\u001b[0m\n",
      "\u001b[34m[12:25:40] src/tree/updater_prune.cc:74: tree pruning end, 1 roots, 0 extra nodes, 14 pruned nodes, max_depth=0\u001b[0m\n",
      "\u001b[34m[93]#011train-error:0.029576#011validation-error:0.118619\u001b[0m\n",
      "\u001b[34m[12:25:40] src/tree/updater_prune.cc:74: tree pruning end, 1 roots, 8 extra nodes, 16 pruned nodes, max_depth=4\u001b[0m\n",
      "\u001b[34m[94]#011train-error:0.030004#011validation-error:0.12012\u001b[0m\n",
      "\u001b[34m[12:25:40] src/tree/updater_prune.cc:74: tree pruning end, 1 roots, 0 extra nodes, 14 pruned nodes, max_depth=0\u001b[0m\n",
      "\u001b[34m[95]#011train-error:0.030004#011validation-error:0.12012\u001b[0m\n",
      "\u001b[34m[12:25:40] src/tree/updater_prune.cc:74: tree pruning end, 1 roots, 0 extra nodes, 14 pruned nodes, max_depth=0\u001b[0m\n",
      "\u001b[34m[96]#011train-error:0.030004#011validation-error:0.12012\u001b[0m\n",
      "\u001b[34m[12:25:40] src/tree/updater_prune.cc:74: tree pruning end, 1 roots, 12 extra nodes, 8 pruned nodes, max_depth=4\u001b[0m\n",
      "\u001b[34m[97]#011train-error:0.029576#011validation-error:0.121622\u001b[0m\n",
      "\u001b[34m[12:25:40] src/tree/updater_prune.cc:74: tree pruning end, 1 roots, 0 extra nodes, 14 pruned nodes, max_depth=0\u001b[0m\n",
      "\u001b[34m[98]#011train-error:0.029576#011validation-error:0.121622\u001b[0m\n",
      "\u001b[34m[12:25:40] src/tree/updater_prune.cc:74: tree pruning end, 1 roots, 0 extra nodes, 12 pruned nodes, max_depth=0\u001b[0m\n",
      "\u001b[34m[99]#011train-error:0.029147#011validation-error:0.121622\u001b[0m\n",
      "\n",
      "2020-08-26 12:25:52 Uploading - Uploading generated training model\n",
      "2020-08-26 12:25:52 Completed - Training job completed\n",
      "Training seconds: 44\n",
      "Billable seconds: 44\n"
     ]
    }
   ],
   "source": [
    "sess = sagemaker.Session()\n",
    "instance_type = 'ml.m4.2xlarge'\n",
    "\n",
    "\n",
    "xgb = sagemaker.estimator.Estimator(xgb_image, # Built-in XGBoost Container\n",
    "                                    role, \n",
    "                                    instance_count=1, \n",
    "                                    instance_type= instance_type,\n",
    "                                    output_path='s3://{}/{}/output'.format(bucket, prefix),\n",
    "                                    sagemaker_session=sess\n",
    "                                   )\n",
    "xgb.set_hyperparameters(max_depth=5,\n",
    "                        eta=0.2,\n",
    "                        gamma=4,\n",
    "                        min_child_weight=6,\n",
    "                        subsample=0.8,\n",
    "                        silent=0,\n",
    "                        objective='binary:logistic',\n",
    "                        num_round=100,\n",
    "                       )\n",
    "\n",
    "\n",
    "xgb.fit({'train': s3_input_train_processed, 'validation': s3_input_validation_processed}) "
   ]
  },
  {
   "cell_type": "markdown",
   "metadata": {},
   "source": [
    "## XGBoost 모델 아티팩트 및 XGboost docker image 경로 저장\n",
    "\n",
    "추후에 inference pipeline을 만들기 위해 저장"
   ]
  },
  {
   "cell_type": "code",
   "execution_count": 8,
   "metadata": {},
   "outputs": [
    {
     "name": "stdout",
     "output_type": "stream",
     "text": [
      "xgb_model_data: \n",
      " s3://sagemaker-ap-northeast-2-057716757052/sagemaker/customer-churn/output/xgboost-2020-08-26-12-23-04-528/output/model.tar.gz\n",
      "xgb_image_uri: \n",
      " 306986355934.dkr.ecr.ap-northeast-2.amazonaws.com/xgboost:latest\n",
      "Stored 'xgb_model_data' (str)\n",
      "Stored 'xgb_image_uri' (str)\n"
     ]
    }
   ],
   "source": [
    "xgb_model_data = xgb.model_data\n",
    "xgb_image_uri = xgb.image_uri\n",
    "print(\"xgb_model_data: \\n\", xgb_model_data)\n",
    "print(\"xgb_image_uri: \\n\", xgb_image_uri)\n",
    "\n",
    "%store xgb_model_data\n",
    "%store xgb_image_uri"
   ]
  },
  {
   "cell_type": "code",
   "execution_count": null,
   "metadata": {},
   "outputs": [],
   "source": []
  },
  {
   "cell_type": "code",
   "execution_count": null,
   "metadata": {},
   "outputs": [],
   "source": []
  },
  {
   "cell_type": "code",
   "execution_count": null,
   "metadata": {},
   "outputs": [],
   "source": []
  }
 ],
 "metadata": {
  "celltoolbar": "Tags",
  "instance_type": "ml.t3.medium",
  "kernelspec": {
   "display_name": "conda_python3",
   "language": "python",
   "name": "conda_python3"
  },
  "language_info": {
   "codemirror_mode": {
    "name": "ipython",
    "version": 3
   },
   "file_extension": ".py",
   "mimetype": "text/x-python",
   "name": "python",
   "nbconvert_exporter": "python",
   "pygments_lexer": "ipython3",
   "version": "3.6.10"
  },
  "notice": "Copyright 2017 Amazon.com, Inc. or its affiliates. All Rights Reserved.  Licensed under the Apache License, Version 2.0 (the \"License\"). You may not use this file except in compliance with the License. A copy of the License is located at http://aws.amazon.com/apache2.0/ or in the \"license\" file accompanying this file. This file is distributed on an \"AS IS\" BASIS, WITHOUT WARRANTIES OR CONDITIONS OF ANY KIND, either express or implied. See the License for the specific language governing permissions and limitations under the License."
 },
 "nbformat": 4,
 "nbformat_minor": 4
}
