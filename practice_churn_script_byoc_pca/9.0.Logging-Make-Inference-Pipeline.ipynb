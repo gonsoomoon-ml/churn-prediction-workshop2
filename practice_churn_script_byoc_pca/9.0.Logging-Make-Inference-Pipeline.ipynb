{
 "cells": [
  {
   "cell_type": "markdown",
   "metadata": {},
   "source": [
    "# [Module 9.0] Inferencde Pipeline 생성 로그 확인"
   ]
  },
  {
   "cell_type": "markdown",
   "metadata": {},
   "source": [
    "- 이 노트북에서는 아래의 내용을 진행을 하고 추론에 대한 로그를 남기어서, Inference Pipeline Model 이 어떻게 작동을 하는지 알아 봅니다.\n",
    "    - Feature Transfomer(전처리 학습 모델) 생성\n",
    "    - Train 데이타를 Feature Transfomer를 통해서 전처리 데이타 생성\n",
    "    - Validation 데이타를 Feature Transfomer를 통해서 전처리 데이타 생성\n",
    "    - XGBoost를 학습\n",
    "    - Inference Pipeline Model 생성 (전처리, XGboost, 휴처리 모델)\n",
    "    - Realtime Endpoint 생성\n",
    "    - 한개의 테스트 데이터 추론\n",
    "- 소요 시간은 약 10분 걸립니다."
   ]
  },
  {
   "cell_type": "code",
   "execution_count": 1,
   "metadata": {},
   "outputs": [],
   "source": [
    "import sagemaker\n",
    "import pandas as pd\n",
    "import numpy as np\n",
    "import os\n",
    "import time\n",
    "import json\n",
    "from time import strftime, gmtime"
   ]
  },
  {
   "cell_type": "code",
   "execution_count": 2,
   "metadata": {},
   "outputs": [],
   "source": [
    "%store -r"
   ]
  },
  {
   "cell_type": "markdown",
   "metadata": {},
   "source": [
    "## Feature Transformer (전처리 학습 모델) 생성\n",
    "아래는 다음과 같은 작업을 합니다.\n",
    "- SKLearn 이라는 Estimator를 생성 합니다. \n",
    "    - s3_input_train의 학습 데이타를 SKLearn 입력으로 제공 합니다.\n",
    "    - \"전처리 학습 모델 (Featurizer)\" 을 생성할 수 있는 소스 코드 preprocessing.py 를 지정 합니다. \n",
    "    - 사용할 리소스로 instance_type = 'local' 를 지정 합니다. (이미 노트북 인스턴스에 설치된 Docker-compose를 이용 합니다.)\n",
    "        - **Local 이 아니라 SageMaker Cloud Instance도 사용 가능 합니다. (예: ml.m4.xlarge)**\n",
    "        - **아래 XGBoost 학습 알고리즘을 사용시에는 SageMaker Cloud Instance 사용함**\n",
    "- SKLearn의 \"전처리 학습 모델\"이 완료가 되면 결과인 모델 아티펙트 파일이 (model.tar.gz)  s3://{bucket_name}/{job_name}/output.tar.gz 에 저장 됩니다. \n",
    "    - (예: s3://sagemaker-us-east-2-057716757052/sagemaker-scikit-learn-2020-07-15-08-39-41-035/model.tar.gz)"
   ]
  },
  {
   "cell_type": "markdown",
   "metadata": {},
   "source": [
    "#### 아래는 약 1분 정도가 소요 됩니다. 아래 셀의 [*] 의 표시가 [숫자] (에: [3])로 바뀔 때까지 기다려 주세요"
   ]
  },
  {
   "cell_type": "code",
   "execution_count": 3,
   "metadata": {},
   "outputs": [
    {
     "name": "stdout",
     "output_type": "stream",
     "text": [
      "Creating tmp5fdd_cv4_algo-1-2vwla_1 ... \n",
      "\u001b[1BAttaching to tmp5fdd_cv4_algo-1-2vwla_12mdone\u001b[0m\n",
      "\u001b[36malgo-1-2vwla_1  |\u001b[0m 2020-08-14 00:18:33,734 sagemaker-containers INFO     Imported framework sagemaker_sklearn_container.training\n",
      "\u001b[36malgo-1-2vwla_1  |\u001b[0m 2020-08-14 00:18:33,736 sagemaker-containers INFO     No GPUs detected (normal if no gpus installed)\n",
      "\u001b[36malgo-1-2vwla_1  |\u001b[0m 2020-08-14 00:18:33,745 sagemaker_sklearn_container.training INFO     Invoking user training script.\n",
      "\u001b[36malgo-1-2vwla_1  |\u001b[0m 2020-08-14 00:18:33,851 sagemaker-containers INFO     Module log-preprocessing does not provide a setup.py. \n",
      "\u001b[36malgo-1-2vwla_1  |\u001b[0m Generating setup.py\n",
      "\u001b[36malgo-1-2vwla_1  |\u001b[0m 2020-08-14 00:18:33,852 sagemaker-containers INFO     Generating setup.cfg\n",
      "\u001b[36malgo-1-2vwla_1  |\u001b[0m 2020-08-14 00:18:33,852 sagemaker-containers INFO     Generating MANIFEST.in\n",
      "\u001b[36malgo-1-2vwla_1  |\u001b[0m 2020-08-14 00:18:33,852 sagemaker-containers INFO     Installing module with the following command:\n",
      "\u001b[36malgo-1-2vwla_1  |\u001b[0m /miniconda3/bin/python -m pip install . \n",
      "\u001b[36malgo-1-2vwla_1  |\u001b[0m Processing /opt/ml/code\n",
      "\u001b[36malgo-1-2vwla_1  |\u001b[0m Building wheels for collected packages: log-preprocessing\n",
      "\u001b[36malgo-1-2vwla_1  |\u001b[0m   Building wheel for log-preprocessing (setup.py) ... \u001b[?25ldone\n",
      "\u001b[36malgo-1-2vwla_1  |\u001b[0m \u001b[?25h  Created wheel for log-preprocessing: filename=log_preprocessing-1.0.0-py2.py3-none-any.whl size=10219 sha256=e6458c4328ccc4b828b2fd00cb142c207eebae67b3a50a25715ad32d3101331b\n",
      "\u001b[36malgo-1-2vwla_1  |\u001b[0m   Stored in directory: /tmp/pip-ephem-wheel-cache-6tz1uaou/wheels/35/24/16/37574d11bf9bde50616c67372a334f94fa8356bc7164af8ca3\n",
      "\u001b[36malgo-1-2vwla_1  |\u001b[0m Successfully built log-preprocessing\n",
      "\u001b[36malgo-1-2vwla_1  |\u001b[0m Installing collected packages: log-preprocessing\n",
      "\u001b[36malgo-1-2vwla_1  |\u001b[0m Successfully installed log-preprocessing-1.0.0\n",
      "\u001b[36malgo-1-2vwla_1  |\u001b[0m 2020-08-14 00:18:34,769 sagemaker-containers INFO     No GPUs detected (normal if no gpus installed)\n",
      "\u001b[36malgo-1-2vwla_1  |\u001b[0m 2020-08-14 00:18:34,778 sagemaker-containers INFO     Invoking user script\n",
      "\u001b[36malgo-1-2vwla_1  |\u001b[0m \n",
      "\u001b[36malgo-1-2vwla_1  |\u001b[0m Training Env:\n",
      "\u001b[36malgo-1-2vwla_1  |\u001b[0m \n",
      "\u001b[36malgo-1-2vwla_1  |\u001b[0m {\n",
      "\u001b[36malgo-1-2vwla_1  |\u001b[0m     \"additional_framework_parameters\": {},\n",
      "\u001b[36malgo-1-2vwla_1  |\u001b[0m     \"channel_input_dirs\": {\n",
      "\u001b[36malgo-1-2vwla_1  |\u001b[0m         \"train\": \"/opt/ml/input/data/train\"\n",
      "\u001b[36malgo-1-2vwla_1  |\u001b[0m     },\n",
      "\u001b[36malgo-1-2vwla_1  |\u001b[0m     \"current_host\": \"algo-1-2vwla\",\n",
      "\u001b[36malgo-1-2vwla_1  |\u001b[0m     \"framework_module\": \"sagemaker_sklearn_container.training:main\",\n",
      "\u001b[36malgo-1-2vwla_1  |\u001b[0m     \"hosts\": [\n",
      "\u001b[36malgo-1-2vwla_1  |\u001b[0m         \"algo-1-2vwla\"\n",
      "\u001b[36malgo-1-2vwla_1  |\u001b[0m     ],\n",
      "\u001b[36malgo-1-2vwla_1  |\u001b[0m     \"hyperparameters\": {},\n",
      "\u001b[36malgo-1-2vwla_1  |\u001b[0m     \"input_config_dir\": \"/opt/ml/input/config\",\n",
      "\u001b[36malgo-1-2vwla_1  |\u001b[0m     \"input_data_config\": {\n",
      "\u001b[36malgo-1-2vwla_1  |\u001b[0m         \"train\": {\n",
      "\u001b[36malgo-1-2vwla_1  |\u001b[0m             \"TrainingInputMode\": \"File\",\n",
      "\u001b[36malgo-1-2vwla_1  |\u001b[0m             \"ContentType\": \"csv\"\n",
      "\u001b[36malgo-1-2vwla_1  |\u001b[0m         }\n",
      "\u001b[36malgo-1-2vwla_1  |\u001b[0m     },\n",
      "\u001b[36malgo-1-2vwla_1  |\u001b[0m     \"input_dir\": \"/opt/ml/input\",\n",
      "\u001b[36malgo-1-2vwla_1  |\u001b[0m     \"is_master\": true,\n",
      "\u001b[36malgo-1-2vwla_1  |\u001b[0m     \"job_name\": \"sagemaker-scikit-learn-2020-08-14-00-18-31-787\",\n",
      "\u001b[36malgo-1-2vwla_1  |\u001b[0m     \"log_level\": 20,\n",
      "\u001b[36malgo-1-2vwla_1  |\u001b[0m     \"master_hostname\": \"algo-1-2vwla\",\n",
      "\u001b[36malgo-1-2vwla_1  |\u001b[0m     \"model_dir\": \"/opt/ml/model\",\n",
      "\u001b[36malgo-1-2vwla_1  |\u001b[0m     \"module_dir\": \"s3://sagemaker-us-east-2-057716757052/sagemaker-scikit-learn-2020-08-14-00-18-31-787/source/sourcedir.tar.gz\",\n",
      "\u001b[36malgo-1-2vwla_1  |\u001b[0m     \"module_name\": \"log-preprocessing\",\n",
      "\u001b[36malgo-1-2vwla_1  |\u001b[0m     \"network_interface_name\": \"eth0\",\n",
      "\u001b[36malgo-1-2vwla_1  |\u001b[0m     \"num_cpus\": 8,\n",
      "\u001b[36malgo-1-2vwla_1  |\u001b[0m     \"num_gpus\": 0,\n",
      "\u001b[36malgo-1-2vwla_1  |\u001b[0m     \"output_data_dir\": \"/opt/ml/output/data\",\n",
      "\u001b[36malgo-1-2vwla_1  |\u001b[0m     \"output_dir\": \"/opt/ml/output\",\n",
      "\u001b[36malgo-1-2vwla_1  |\u001b[0m     \"output_intermediate_dir\": \"/opt/ml/output/intermediate\",\n",
      "\u001b[36malgo-1-2vwla_1  |\u001b[0m     \"resource_config\": {\n",
      "\u001b[36malgo-1-2vwla_1  |\u001b[0m         \"current_host\": \"algo-1-2vwla\",\n",
      "\u001b[36malgo-1-2vwla_1  |\u001b[0m         \"hosts\": [\n",
      "\u001b[36malgo-1-2vwla_1  |\u001b[0m             \"algo-1-2vwla\"\n",
      "\u001b[36malgo-1-2vwla_1  |\u001b[0m         ]\n",
      "\u001b[36malgo-1-2vwla_1  |\u001b[0m     },\n",
      "\u001b[36malgo-1-2vwla_1  |\u001b[0m     \"user_entry_point\": \"log-preprocessing.py\"\n",
      "\u001b[36malgo-1-2vwla_1  |\u001b[0m }\n",
      "\u001b[36malgo-1-2vwla_1  |\u001b[0m \n",
      "\u001b[36malgo-1-2vwla_1  |\u001b[0m Environment variables:\n",
      "\u001b[36malgo-1-2vwla_1  |\u001b[0m \n",
      "\u001b[36malgo-1-2vwla_1  |\u001b[0m SM_HOSTS=[\"algo-1-2vwla\"]\n",
      "\u001b[36malgo-1-2vwla_1  |\u001b[0m SM_NETWORK_INTERFACE_NAME=eth0\n",
      "\u001b[36malgo-1-2vwla_1  |\u001b[0m SM_HPS={}\n",
      "\u001b[36malgo-1-2vwla_1  |\u001b[0m SM_USER_ENTRY_POINT=log-preprocessing.py\n",
      "\u001b[36malgo-1-2vwla_1  |\u001b[0m SM_FRAMEWORK_PARAMS={}\n",
      "\u001b[36malgo-1-2vwla_1  |\u001b[0m SM_RESOURCE_CONFIG={\"current_host\":\"algo-1-2vwla\",\"hosts\":[\"algo-1-2vwla\"]}\n",
      "\u001b[36malgo-1-2vwla_1  |\u001b[0m SM_INPUT_DATA_CONFIG={\"train\":{\"ContentType\":\"csv\",\"TrainingInputMode\":\"File\"}}\n",
      "\u001b[36malgo-1-2vwla_1  |\u001b[0m SM_OUTPUT_DATA_DIR=/opt/ml/output/data\n",
      "\u001b[36malgo-1-2vwla_1  |\u001b[0m SM_CHANNELS=[\"train\"]\n",
      "\u001b[36malgo-1-2vwla_1  |\u001b[0m SM_CURRENT_HOST=algo-1-2vwla\n",
      "\u001b[36malgo-1-2vwla_1  |\u001b[0m SM_MODULE_NAME=log-preprocessing\n",
      "\u001b[36malgo-1-2vwla_1  |\u001b[0m SM_LOG_LEVEL=20\n",
      "\u001b[36malgo-1-2vwla_1  |\u001b[0m SM_FRAMEWORK_MODULE=sagemaker_sklearn_container.training:main\n",
      "\u001b[36malgo-1-2vwla_1  |\u001b[0m SM_INPUT_DIR=/opt/ml/input\n",
      "\u001b[36malgo-1-2vwla_1  |\u001b[0m SM_INPUT_CONFIG_DIR=/opt/ml/input/config\n",
      "\u001b[36malgo-1-2vwla_1  |\u001b[0m SM_OUTPUT_DIR=/opt/ml/output\n",
      "\u001b[36malgo-1-2vwla_1  |\u001b[0m SM_NUM_CPUS=8\n",
      "\u001b[36malgo-1-2vwla_1  |\u001b[0m SM_NUM_GPUS=0\n",
      "\u001b[36malgo-1-2vwla_1  |\u001b[0m SM_MODEL_DIR=/opt/ml/model\n",
      "\u001b[36malgo-1-2vwla_1  |\u001b[0m SM_MODULE_DIR=s3://sagemaker-us-east-2-057716757052/sagemaker-scikit-learn-2020-08-14-00-18-31-787/source/sourcedir.tar.gz\n",
      "\u001b[36malgo-1-2vwla_1  |\u001b[0m SM_TRAINING_ENV={\"additional_framework_parameters\":{},\"channel_input_dirs\":{\"train\":\"/opt/ml/input/data/train\"},\"current_host\":\"algo-1-2vwla\",\"framework_module\":\"sagemaker_sklearn_container.training:main\",\"hosts\":[\"algo-1-2vwla\"],\"hyperparameters\":{},\"input_config_dir\":\"/opt/ml/input/config\",\"input_data_config\":{\"train\":{\"ContentType\":\"csv\",\"TrainingInputMode\":\"File\"}},\"input_dir\":\"/opt/ml/input\",\"is_master\":true,\"job_name\":\"sagemaker-scikit-learn-2020-08-14-00-18-31-787\",\"log_level\":20,\"master_hostname\":\"algo-1-2vwla\",\"model_dir\":\"/opt/ml/model\",\"module_dir\":\"s3://sagemaker-us-east-2-057716757052/sagemaker-scikit-learn-2020-08-14-00-18-31-787/source/sourcedir.tar.gz\",\"module_name\":\"log-preprocessing\",\"network_interface_name\":\"eth0\",\"num_cpus\":8,\"num_gpus\":0,\"output_data_dir\":\"/opt/ml/output/data\",\"output_dir\":\"/opt/ml/output\",\"output_intermediate_dir\":\"/opt/ml/output/intermediate\",\"resource_config\":{\"current_host\":\"algo-1-2vwla\",\"hosts\":[\"algo-1-2vwla\"]},\"user_entry_point\":\"log-preprocessing.py\"}\n",
      "\u001b[36malgo-1-2vwla_1  |\u001b[0m SM_USER_ARGS=[]\n",
      "\u001b[36malgo-1-2vwla_1  |\u001b[0m SM_OUTPUT_INTERMEDIATE_DIR=/opt/ml/output/intermediate\n",
      "\u001b[36malgo-1-2vwla_1  |\u001b[0m SM_CHANNEL_TRAIN=/opt/ml/input/data/train\n",
      "\u001b[36malgo-1-2vwla_1  |\u001b[0m PYTHONPATH=/miniconda3/bin:/miniconda3/lib/python37.zip:/miniconda3/lib/python3.7:/miniconda3/lib/python3.7/lib-dynload:/miniconda3/lib/python3.7/site-packages\n",
      "\u001b[36malgo-1-2vwla_1  |\u001b[0m \n",
      "\u001b[36malgo-1-2vwla_1  |\u001b[0m Invoking script with the following command:\n",
      "\u001b[36malgo-1-2vwla_1  |\u001b[0m \n",
      "\u001b[36malgo-1-2vwla_1  |\u001b[0m /miniconda3/bin/python -m log-preprocessing\n",
      "\u001b[36malgo-1-2vwla_1  |\u001b[0m \n",
      "\u001b[36malgo-1-2vwla_1  |\u001b[0m \n",
      "\u001b[36malgo-1-2vwla_1  |\u001b[0m /miniconda3/lib/python3.7/site-packages/sklearn/externals/joblib/externals/cloudpickle/cloudpickle.py:47: DeprecationWarning: the imp module is deprecated in favour of importlib; see the module's documentation for alternative uses\n",
      "\u001b[36malgo-1-2vwla_1  |\u001b[0m   import imp\n",
      "\u001b[36malgo-1-2vwla_1  |\u001b[0m   State  ...  Churn?\n",
      "\u001b[36malgo-1-2vwla_1  |\u001b[0m 0    ID  ...  False.\n",
      "\u001b[36malgo-1-2vwla_1  |\u001b[0m 1    WY  ...  False.\n",
      "\u001b[36malgo-1-2vwla_1  |\u001b[0m 2    NV  ...   True.\n",
      "\u001b[36malgo-1-2vwla_1  |\u001b[0m 3    OR  ...  False.\n",
      "\u001b[36malgo-1-2vwla_1  |\u001b[0m 4    NJ  ...  False.\n",
      "\u001b[36malgo-1-2vwla_1  |\u001b[0m \n",
      "\u001b[36malgo-1-2vwla_1  |\u001b[0m [5 rows x 21 columns]\n",
      "\u001b[36malgo-1-2vwla_1  |\u001b[0m saved model!\n",
      "\u001b[36malgo-1-2vwla_1  |\u001b[0m 2020-08-14 00:18:35,641 sagemaker-containers INFO     Reporting training SUCCESS\n"
     ]
    },
    {
     "name": "stderr",
     "output_type": "stream",
     "text": [
      "'upload_data' method will be deprecated in favor of 'S3Uploader' class (https://sagemaker.readthedocs.io/en/stable/s3.html#sagemaker.s3.S3Uploader) in SageMaker Python SDK v2.\n"
     ]
    },
    {
     "name": "stdout",
     "output_type": "stream",
     "text": [
      "\u001b[36mtmp5fdd_cv4_algo-1-2vwla_1 exited with code 0\n",
      "\u001b[0mAborting on container exit...\n",
      "===== Job Complete =====\n"
     ]
    }
   ],
   "source": [
    "from sagemaker.sklearn.estimator import SKLearn\n",
    "sagemaker_session = sagemaker.Session()\n",
    "from sagemaker import get_execution_role\n",
    "\n",
    "role = get_execution_role()\n",
    "\n",
    "script_path = 'log-preprocessing.py'\n",
    "# instance_type = 'ml.m4.2xlarge'\n",
    "instance_type = 'local'\n",
    "\n",
    "sklearn_preprocessor = SKLearn(\n",
    "    entry_point=script_path,\n",
    "    role=role,\n",
    "    train_instance_type = instance_type\n",
    ")\n",
    "sklearn_preprocessor.fit({'train': s3_input_train})"
   ]
  },
  {
   "cell_type": "markdown",
   "metadata": {},
   "source": [
    "## Feature Transfomer를 사용하여 전처리된 학습 및 검증 데이타 생성 "
   ]
  },
  {
   "cell_type": "markdown",
   "metadata": {},
   "source": [
    "![Transformer_Train](img/Fig2.1.transformer_train.png)"
   ]
  },
  {
   "cell_type": "markdown",
   "metadata": {},
   "source": [
    "### Preprocessed Training data (Feature) 만들기"
   ]
  },
  {
   "cell_type": "markdown",
   "metadata": {},
   "source": [
    "#### 아래는 약 1분 정도가 소요 됩니다. 아래 셀의 [*] 의 표시가 [숫자] (에: [4])로 바뀔 때까지 기다려 주세요"
   ]
  },
  {
   "cell_type": "code",
   "execution_count": 4,
   "metadata": {},
   "outputs": [
    {
     "name": "stderr",
     "output_type": "stream",
     "text": [
      "Parameter image will be renamed to image_uri in SageMaker Python SDK v2.\n"
     ]
    },
    {
     "name": "stdout",
     "output_type": "stream",
     "text": [
      "Attaching to tmpi33ktdqg_algo-1-ay2cc_1\n",
      "\u001b[36malgo-1-ay2cc_1  |\u001b[0m Processing /opt/ml/code\n",
      "\u001b[36malgo-1-ay2cc_1  |\u001b[0m Building wheels for collected packages: log-preprocessing\n",
      "\u001b[36malgo-1-ay2cc_1  |\u001b[0m   Building wheel for log-preprocessing (setup.py) ... \u001b[?25ldone\n",
      "\u001b[36malgo-1-ay2cc_1  |\u001b[0m \u001b[?25h  Created wheel for log-preprocessing: filename=log_preprocessing-1.0.0-py2.py3-none-any.whl size=10220 sha256=0be3305107fe083a23c8ce528b6cf8e075eb19d9178952d5f9ce196f10cb122d\n",
      "\u001b[36malgo-1-ay2cc_1  |\u001b[0m   Stored in directory: /tmp/pip-ephem-wheel-cache-xrm86uy8/wheels/35/24/16/37574d11bf9bde50616c67372a334f94fa8356bc7164af8ca3\n",
      "\u001b[36malgo-1-ay2cc_1  |\u001b[0m Successfully built log-preprocessing\n",
      "\u001b[36malgo-1-ay2cc_1  |\u001b[0m Installing collected packages: log-preprocessing\n",
      "\u001b[36malgo-1-ay2cc_1  |\u001b[0m Successfully installed log-preprocessing-1.0.0\n",
      "\u001b[36malgo-1-ay2cc_1  |\u001b[0m /miniconda3/lib/python3.7/site-packages/sklearn/externals/joblib/externals/cloudpickle/cloudpickle.py:47: DeprecationWarning: the imp module is deprecated in favour of importlib; see the module's documentation for alternative uses\n",
      "\u001b[36malgo-1-ay2cc_1  |\u001b[0m   import imp\n",
      "\u001b[36malgo-1-ay2cc_1  |\u001b[0m [2020-08-14 00:18:39 +0000] [48] [INFO] Starting gunicorn 19.9.0\n",
      "\u001b[36malgo-1-ay2cc_1  |\u001b[0m [2020-08-14 00:18:39 +0000] [48] [INFO] Listening at: unix:/tmp/gunicorn.sock (48)\n",
      "\u001b[36malgo-1-ay2cc_1  |\u001b[0m [2020-08-14 00:18:39 +0000] [48] [INFO] Using worker: gevent\n",
      "\u001b[36malgo-1-ay2cc_1  |\u001b[0m [2020-08-14 00:18:39 +0000] [51] [INFO] Booting worker with pid: 51\n",
      "\u001b[36malgo-1-ay2cc_1  |\u001b[0m [2020-08-14 00:18:39 +0000] [59] [INFO] Booting worker with pid: 59\n",
      "\u001b[36malgo-1-ay2cc_1  |\u001b[0m [2020-08-14 00:18:39 +0000] [60] [INFO] Booting worker with pid: 60\n",
      "\u001b[36malgo-1-ay2cc_1  |\u001b[0m [2020-08-14 00:18:39 +0000] [61] [INFO] Booting worker with pid: 61\n",
      "\u001b[36malgo-1-ay2cc_1  |\u001b[0m [2020-08-14 00:18:39 +0000] [69] [INFO] Booting worker with pid: 69\n",
      "\u001b[36malgo-1-ay2cc_1  |\u001b[0m [2020-08-14 00:18:39 +0000] [77] [INFO] Booting worker with pid: 77\n",
      "\u001b[36malgo-1-ay2cc_1  |\u001b[0m [2020-08-14 00:18:39 +0000] [78] [INFO] Booting worker with pid: 78\n",
      "\u001b[36malgo-1-ay2cc_1  |\u001b[0m [2020-08-14 00:18:39 +0000] [79] [INFO] Booting worker with pid: 79\n",
      "\u001b[36malgo-1-ay2cc_1  |\u001b[0m 2020-08-14 00:18:41,430 INFO - sagemaker-containers - No GPUs detected (normal if no gpus installed)\n",
      "\u001b[36malgo-1-ay2cc_1  |\u001b[0m /miniconda3/lib/python3.7/site-packages/sklearn/externals/joblib/externals/cloudpickle/cloudpickle.py:47: DeprecationWarning: the imp module is deprecated in favour of importlib; see the module's documentation for alternative uses\n",
      "\u001b[36malgo-1-ay2cc_1  |\u001b[0m   import imp\n",
      "\u001b[36malgo-1-ay2cc_1  |\u001b[0m 2020-08-14 00:18:41,764 INFO - root - model_fn, Mode: feature_transform\n",
      "\u001b[36malgo-1-ay2cc_1  |\u001b[0m 172.18.0.1 - - [14/Aug/2020:00:18:41 +0000] \"GET /ping HTTP/1.1\" 200 0 \"-\" \"-\"\n",
      "\u001b[36malgo-1-ay2cc_1  |\u001b[0m 2020-08-14 00:18:41,775 INFO - sagemaker-containers - No GPUs detected (normal if no gpus installed)\n",
      "\u001b[36malgo-1-ay2cc_1  |\u001b[0m /miniconda3/lib/python3.7/site-packages/sklearn/externals/joblib/externals/cloudpickle/cloudpickle.py:47: DeprecationWarning: the imp module is deprecated in favour of importlib; see the module's documentation for alternative uses\n",
      "\u001b[36malgo-1-ay2cc_1  |\u001b[0m   import imp\n",
      "\u001b[36malgo-1-ay2cc_1  |\u001b[0m 2020-08-14 00:18:42,110 INFO - root - model_fn, Mode: feature_transform\n",
      "\u001b[36malgo-1-ay2cc_1  |\u001b[0m 172.18.0.1 - - [14/Aug/2020:00:18:42 +0000] \"GET /execution-parameters HTTP/1.1\" 404 232 \"-\" \"-\"\n"
     ]
    },
    {
     "name": "stderr",
     "output_type": "stream",
     "text": [
      "'upload_data' method will be deprecated in favor of 'S3Uploader' class (https://sagemaker.readthedocs.io/en/stable/s3.html#sagemaker.s3.S3Uploader) in SageMaker Python SDK v2.\n"
     ]
    },
    {
     "name": "stdout",
     "output_type": "stream",
     "text": [
      "\u001b[36malgo-1-ay2cc_1  |\u001b[0m 2020-08-14 00:18:42,237 INFO - root - Input_fn, Mode: feature_transform\n",
      "\u001b[36malgo-1-ay2cc_1  |\u001b[0m 2020-08-14 00:18:42,246 INFO - root - predict_fn, Mode: feature_transform\n",
      "\u001b[36malgo-1-ay2cc_1  |\u001b[0m After trainsformation\n",
      "\u001b[36malgo-1-ay2cc_1  |\u001b[0m   (0, 0)\t0.11941369588439606\n",
      "\u001b[36malgo-1-ay2cc_1  |\u001b[0m   (0, 1)\t-0.5962380254245051\n",
      "\u001b[36malgo-1-ay2cc_1  |\u001b[0m   (0, 2)\t1.744368057672484\n",
      "\u001b[36malgo-1-ay2cc_1  |\u001b[0m   (0, 3)\t0.9789570533336895\n",
      "\u001b[36malgo-1-ay2cc_1  |\u001b[0m   (0, 4)\t-0.028992907038264654\n",
      "\u001b[36malgo-1-ay2cc_1  |\u001b[0m   (0, 5)\t-0.8931854019845896\n",
      "\u001b[36malgo-1-ay2cc_1  |\u001b[0m   (0, 6)\t-0.8017032037830547\n",
      "\u001b[36malgo-1-ay2cc_1  |\u001b[0m   (0, 7)\t-1.9825286353116254\n",
      "\u001b[36malgo-1-ay2cc_1  |\u001b[0m   (0, 8)\t-1.5305589315744583\n",
      "\u001b[36malgo-1-ay2cc_1  |\u001b[0m   (0, 9)\t-0.6008796483844902\n",
      "\u001b[36malgo-1-ay2cc_1  |\u001b[0m   (0, 10)\t-0.44388847702445833\n",
      "\u001b[36malgo-1-ay2cc_1  |\u001b[0m   (0, 24)\t1.0\n",
      "\u001b[36malgo-1-ay2cc_1  |\u001b[0m   (0, 65)\t1.0\n",
      "\u001b[36malgo-1-ay2cc_1  |\u001b[0m   (0, 67)\t1.0\n",
      "\u001b[36malgo-1-ay2cc_1  |\u001b[0m   (1, 0)\t-1.852651636257096\n",
      "\u001b[36malgo-1-ay2cc_1  |\u001b[0m   (1, 1)\t-0.5962380254245051\n",
      "\u001b[36malgo-1-ay2cc_1  |\u001b[0m   (1, 2)\t0.1402835015166359\n",
      "\u001b[36malgo-1-ay2cc_1  |\u001b[0m   (1, 3)\t-0.3104051644736047\n",
      "\u001b[36malgo-1-ay2cc_1  |\u001b[0m   (1, 4)\t0.9706886294263706\n",
      "\u001b[36malgo-1-ay2cc_1  |\u001b[0m   (1, 5)\t-0.6898876904889752\n",
      "\u001b[36malgo-1-ay2cc_1  |\u001b[0m   (1, 6)\t0.14638949529609316\n",
      "\u001b[36malgo-1-ay2cc_1  |\u001b[0m   (1, 7)\t1.2329005558357256\n",
      "\u001b[36malgo-1-ay2cc_1  |\u001b[0m   (1, 8)\t0.12485229372091076\n",
      "\u001b[36malgo-1-ay2cc_1  |\u001b[0m   (1, 9)\t0.2029346977628811\n",
      "\u001b[36malgo-1-ay2cc_1  |\u001b[0m   (1, 10)\t-1.2087273373627605\n",
      "\u001b[36malgo-1-ay2cc_1  |\u001b[0m   (1, 61)\t1.0\n",
      "\u001b[36malgo-1-ay2cc_1  |\u001b[0m   (1, 65)\t1.0\n",
      "\u001b[36malgo-1-ay2cc_1  |\u001b[0m   (1, 67)\t1.0\n",
      "\u001b[36malgo-1-ay2cc_1  |\u001b[0m After insering a label\n",
      "\u001b[36malgo-1-ay2cc_1  |\u001b[0m [[ 0.          0.1194137  -0.59623803  1.74436806  0.97895705 -0.02899291\n",
      "\u001b[36malgo-1-ay2cc_1  |\u001b[0m   -0.8931854  -0.8017032  -1.98252864 -1.53055893 -0.60087965 -0.44388848\n",
      "\u001b[36malgo-1-ay2cc_1  |\u001b[0m    0.          0.          0.          0.          0.          0.\n",
      "\u001b[36malgo-1-ay2cc_1  |\u001b[0m    0.          0.          0.          0.          0.          0.\n",
      "\u001b[36malgo-1-ay2cc_1  |\u001b[0m    0.          1.          0.          0.          0.          0.\n",
      "\u001b[36malgo-1-ay2cc_1  |\u001b[0m    0.          0.          0.          0.          0.          0.\n",
      "\u001b[36malgo-1-ay2cc_1  |\u001b[0m    0.          0.          0.          0.          0.          0.\n",
      "\u001b[36malgo-1-ay2cc_1  |\u001b[0m    0.          0.          0.          0.          0.          0.\n",
      "\u001b[36malgo-1-ay2cc_1  |\u001b[0m    0.          0.          0.          0.          0.          0.\n",
      "\u001b[36malgo-1-ay2cc_1  |\u001b[0m    0.          0.          0.          0.          0.          0.\n",
      "\u001b[36malgo-1-ay2cc_1  |\u001b[0m    0.          0.          0.          0.          0.          0.\n",
      "\u001b[36malgo-1-ay2cc_1  |\u001b[0m    1.          0.          1.          0.        ]\n",
      "\u001b[36malgo-1-ay2cc_1  |\u001b[0m  [ 0.         -1.85265164 -0.59623803  0.1402835  -0.31040516  0.97068863\n",
      "\u001b[36malgo-1-ay2cc_1  |\u001b[0m   -0.68988769  0.1463895   1.23290056  0.12485229  0.2029347  -1.20872734\n",
      "\u001b[36malgo-1-ay2cc_1  |\u001b[0m    0.          0.          0.          0.          0.          0.\n",
      "\u001b[36malgo-1-ay2cc_1  |\u001b[0m    0.          0.          0.          0.          0.          0.\n",
      "\u001b[36malgo-1-ay2cc_1  |\u001b[0m    0.          0.          0.          0.          0.          0.\n",
      "\u001b[36malgo-1-ay2cc_1  |\u001b[0m    0.          0.          0.          0.          0.          0.\n",
      "\u001b[36malgo-1-ay2cc_1  |\u001b[0m    0.          0.          0.          0.          0.          0.\n",
      "\u001b[36malgo-1-ay2cc_1  |\u001b[0m    0.          0.          0.          0.          0.          0.\n",
      "\u001b[36malgo-1-ay2cc_1  |\u001b[0m    0.          0.          0.          0.          0.          0.\n",
      "\u001b[36malgo-1-ay2cc_1  |\u001b[0m    0.          0.          0.          0.          0.          0.\n",
      "\u001b[36malgo-1-ay2cc_1  |\u001b[0m    0.          0.          1.          0.          0.          0.\n",
      "\u001b[36malgo-1-ay2cc_1  |\u001b[0m    1.          0.          1.          0.        ]]\n",
      "\u001b[36malgo-1-ay2cc_1  |\u001b[0m 2020-08-14 00:18:42,257 INFO - root - Output_fn: prdiction - '[[ 0.          0.1194137  -0.59623803 ...  0.          1.\n",
      "\u001b[36malgo-1-ay2cc_1  |\u001b[0m    0.        ]\n",
      "\u001b[36malgo-1-ay2cc_1  |\u001b[0m  [ 0.         -1.85265164 -0.59623803 ...  0.          1.\n",
      "\u001b[36malgo-1-ay2cc_1  |\u001b[0m    0.        ]\n",
      "\u001b[36malgo-1-ay2cc_1  |\u001b[0m  [ 1.          1.18129503 -0.59623803 ...  0.          1.\n",
      "\u001b[36malgo-1-ay2cc_1  |\u001b[0m    0.        ]\n",
      "\u001b[36malgo-1-ay2cc_1  |\u001b[0m  ...\n",
      "\u001b[36malgo-1-ay2cc_1  |\u001b[0m  [ 0.          0.70092014 -0.59623803 ...  0.          1.\n",
      "\u001b[36malgo-1-ay2cc_1  |\u001b[0m    0.        ]\n",
      "\u001b[36malgo-1-ay2cc_1  |\u001b[0m  [ 0.          1.45940681 -0.59623803 ...  0.          1.\n",
      "\u001b[36malgo-1-ay2cc_1  |\u001b[0m    0.        ]\n",
      "\u001b[36malgo-1-ay2cc_1  |\u001b[0m  [ 0.         -0.05756653  1.79907451 ...  0.          0.\n",
      "\u001b[36malgo-1-ay2cc_1  |\u001b[0m    1.        ]]' \n",
      "\u001b[36malgo-1-ay2cc_1  |\u001b[0m 172.18.0.1 - - [14/Aug/2020:00:18:42 +0000] \"POST /invocations HTTP/1.1\" 200 1054525 \"-\" \"-\"\n",
      "Gracefully stopping... (press Ctrl+C again to force)\n",
      "Waiting for transform job: sagemaker-scikit-learn-2020-08-14-00-18-2020-08-14-00-18-36-227\n",
      ".s3://sagemaker-us-east-2-057716757052/sagemaker/customer-churn/transformtrain-train-output/sagemaker-scikit-learn-2020-08-14-00-18-2020-08-14-00-18-36-227\n"
     ]
    }
   ],
   "source": [
    "# 아웃풋 경로 지정\n",
    "transform_train_output_path = 's3://{}/{}/{}/'.format(bucket, prefix, 'transformtrain-train-output')\n",
    "instance_type = 'local'\n",
    "# instance_type = 'ml.m4.2xlarge'\n",
    "\n",
    "# scikit_learn_inferencee_model 이름으로 전처리 학습 모델 생성\n",
    "# TRANSFORM_MODE의 환경 변수는 전처리 모드라는 것을 알려 줌.\n",
    "    # 추론시에는 환경 변수를 TRANSFORM_MODE\": \"inverse-label-transform\" 설정 함.\n",
    "    # 위의 두개의 과정을 분리할 수 있으나, 한개의 소스를 (preprocessor.py)를 사용하기 위해서, 환경 변수를 통해서 구분함.\n",
    "scikit_learn_inferencee_model = sklearn_preprocessor.create_model(\n",
    "    env={'TRANSFORM_MODE': 'feature-transform'})\n",
    "# scikit_learn_inferencee_model 에서 Train Transformer 생성\n",
    "transformer_train = scikit_learn_inferencee_model.transformer(\n",
    "    instance_count=1, \n",
    "    instance_type= instance_type,\n",
    "    assemble_with = 'Line',\n",
    "    output_path = transform_train_output_path,\n",
    "    accept = 'text/csv')\n",
    "\n",
    "\n",
    "# Preprocess training input\n",
    "transformer_train.transform(s3_input_train.config['DataSource']['S3DataSource']['S3Uri'], \n",
    "                            content_type='text/csv')\n",
    "print('Waiting for transform job: ' + transformer_train.latest_transform_job.job_name)\n",
    "transformer_train.wait()\n",
    "preprocessed_train_path = transformer_train.output_path + transformer_train.latest_transform_job.job_name\n",
    "print(preprocessed_train_path)"
   ]
  },
  {
   "cell_type": "markdown",
   "metadata": {},
   "source": [
    "#### Training 전처리된 학습 파일 확인"
   ]
  },
  {
   "cell_type": "code",
   "execution_count": 5,
   "metadata": {},
   "outputs": [
    {
     "name": "stdout",
     "output_type": "stream",
     "text": [
      "s3://sagemaker-us-east-2-057716757052/sagemaker/customer-churn/transformtrain-train-output/sagemaker-scikit-learn-2020-08-14-00-18-2020-08-14-00-18-36-227\n"
     ]
    }
   ],
   "source": [
    "print(preprocessed_train_path)"
   ]
  },
  {
   "cell_type": "code",
   "execution_count": 6,
   "metadata": {},
   "outputs": [
    {
     "name": "stdout",
     "output_type": "stream",
     "text": [
      "2020-08-14 00:18:43    1054526 sagemaker/customer-churn/transformtrain-train-output/sagemaker-scikit-learn-2020-08-14-00-18-2020-08-14-00-18-36-227/train.csv.out\n"
     ]
    }
   ],
   "source": [
    "! aws s3 ls {preprocessed_train_path} --recursive"
   ]
  },
  {
   "cell_type": "code",
   "execution_count": 7,
   "metadata": {},
   "outputs": [
    {
     "data": {
      "text/html": [
       "<div>\n",
       "<style scoped>\n",
       "    .dataframe tbody tr th:only-of-type {\n",
       "        vertical-align: middle;\n",
       "    }\n",
       "\n",
       "    .dataframe tbody tr th {\n",
       "        vertical-align: top;\n",
       "    }\n",
       "\n",
       "    .dataframe thead th {\n",
       "        text-align: right;\n",
       "    }\n",
       "</style>\n",
       "<table border=\"1\" class=\"dataframe\">\n",
       "  <thead>\n",
       "    <tr style=\"text-align: right;\">\n",
       "      <th></th>\n",
       "      <th>0.0</th>\n",
       "      <th>0.11941369588439606</th>\n",
       "      <th>-0.5962380254245051</th>\n",
       "      <th>1.744368057672484</th>\n",
       "      <th>0.9789570533336895</th>\n",
       "      <th>-0.028992907038264654</th>\n",
       "      <th>-0.8931854019845896</th>\n",
       "      <th>-0.8017032037830547</th>\n",
       "      <th>-1.9825286353116254</th>\n",
       "      <th>-1.5305589315744583</th>\n",
       "      <th>...</th>\n",
       "      <th>0.0.48</th>\n",
       "      <th>0.0.49</th>\n",
       "      <th>0.0.50</th>\n",
       "      <th>0.0.51</th>\n",
       "      <th>0.0.52</th>\n",
       "      <th>0.0.53</th>\n",
       "      <th>1.0.1</th>\n",
       "      <th>0.0.54</th>\n",
       "      <th>1.0.2</th>\n",
       "      <th>0.0.55</th>\n",
       "    </tr>\n",
       "  </thead>\n",
       "  <tbody>\n",
       "    <tr>\n",
       "      <th>0</th>\n",
       "      <td>0.0</td>\n",
       "      <td>-1.852652</td>\n",
       "      <td>-0.596238</td>\n",
       "      <td>0.140284</td>\n",
       "      <td>-0.310405</td>\n",
       "      <td>0.970689</td>\n",
       "      <td>-0.689888</td>\n",
       "      <td>0.146389</td>\n",
       "      <td>1.232901</td>\n",
       "      <td>0.124852</td>\n",
       "      <td>...</td>\n",
       "      <td>0.0</td>\n",
       "      <td>0.0</td>\n",
       "      <td>1.0</td>\n",
       "      <td>0.0</td>\n",
       "      <td>0.0</td>\n",
       "      <td>0.0</td>\n",
       "      <td>1.0</td>\n",
       "      <td>0.0</td>\n",
       "      <td>1.0</td>\n",
       "      <td>0.0</td>\n",
       "    </tr>\n",
       "    <tr>\n",
       "      <th>1</th>\n",
       "      <td>1.0</td>\n",
       "      <td>1.181295</td>\n",
       "      <td>-0.596238</td>\n",
       "      <td>1.835130</td>\n",
       "      <td>0.185503</td>\n",
       "      <td>0.030988</td>\n",
       "      <td>-0.639063</td>\n",
       "      <td>1.568529</td>\n",
       "      <td>-0.063643</td>\n",
       "      <td>-0.846802</td>\n",
       "      <td>...</td>\n",
       "      <td>0.0</td>\n",
       "      <td>0.0</td>\n",
       "      <td>0.0</td>\n",
       "      <td>0.0</td>\n",
       "      <td>0.0</td>\n",
       "      <td>0.0</td>\n",
       "      <td>1.0</td>\n",
       "      <td>0.0</td>\n",
       "      <td>1.0</td>\n",
       "      <td>0.0</td>\n",
       "    </tr>\n",
       "    <tr>\n",
       "      <th>2</th>\n",
       "      <td>0.0</td>\n",
       "      <td>0.776769</td>\n",
       "      <td>-0.596238</td>\n",
       "      <td>0.216227</td>\n",
       "      <td>0.334276</td>\n",
       "      <td>0.136954</td>\n",
       "      <td>1.393914</td>\n",
       "      <td>1.394712</td>\n",
       "      <td>-0.634123</td>\n",
       "      <td>0.844596</td>\n",
       "      <td>...</td>\n",
       "      <td>0.0</td>\n",
       "      <td>0.0</td>\n",
       "      <td>0.0</td>\n",
       "      <td>0.0</td>\n",
       "      <td>0.0</td>\n",
       "      <td>0.0</td>\n",
       "      <td>1.0</td>\n",
       "      <td>0.0</td>\n",
       "      <td>1.0</td>\n",
       "      <td>0.0</td>\n",
       "    </tr>\n",
       "    <tr>\n",
       "      <th>3</th>\n",
       "      <td>0.0</td>\n",
       "      <td>-0.234547</td>\n",
       "      <td>1.508734</td>\n",
       "      <td>-0.459859</td>\n",
       "      <td>0.483049</td>\n",
       "      <td>-0.230929</td>\n",
       "      <td>0.224952</td>\n",
       "      <td>1.056954</td>\n",
       "      <td>0.921730</td>\n",
       "      <td>-0.810815</td>\n",
       "      <td>...</td>\n",
       "      <td>0.0</td>\n",
       "      <td>0.0</td>\n",
       "      <td>0.0</td>\n",
       "      <td>0.0</td>\n",
       "      <td>0.0</td>\n",
       "      <td>0.0</td>\n",
       "      <td>1.0</td>\n",
       "      <td>0.0</td>\n",
       "      <td>0.0</td>\n",
       "      <td>1.0</td>\n",
       "    </tr>\n",
       "    <tr>\n",
       "      <th>4</th>\n",
       "      <td>0.0</td>\n",
       "      <td>0.751486</td>\n",
       "      <td>1.218393</td>\n",
       "      <td>0.231046</td>\n",
       "      <td>-0.756723</td>\n",
       "      <td>0.516833</td>\n",
       "      <td>0.275776</td>\n",
       "      <td>1.043127</td>\n",
       "      <td>-2.138114</td>\n",
       "      <td>0.232814</td>\n",
       "      <td>...</td>\n",
       "      <td>0.0</td>\n",
       "      <td>0.0</td>\n",
       "      <td>0.0</td>\n",
       "      <td>0.0</td>\n",
       "      <td>0.0</td>\n",
       "      <td>0.0</td>\n",
       "      <td>1.0</td>\n",
       "      <td>0.0</td>\n",
       "      <td>0.0</td>\n",
       "      <td>1.0</td>\n",
       "    </tr>\n",
       "  </tbody>\n",
       "</table>\n",
       "<p>5 rows × 70 columns</p>\n",
       "</div>"
      ],
      "text/plain": [
       "   0.0  0.11941369588439606  -0.5962380254245051  1.744368057672484  \\\n",
       "0  0.0            -1.852652            -0.596238           0.140284   \n",
       "1  1.0             1.181295            -0.596238           1.835130   \n",
       "2  0.0             0.776769            -0.596238           0.216227   \n",
       "3  0.0            -0.234547             1.508734          -0.459859   \n",
       "4  0.0             0.751486             1.218393           0.231046   \n",
       "\n",
       "   0.9789570533336895  -0.028992907038264654  -0.8931854019845896  \\\n",
       "0           -0.310405               0.970689            -0.689888   \n",
       "1            0.185503               0.030988            -0.639063   \n",
       "2            0.334276               0.136954             1.393914   \n",
       "3            0.483049              -0.230929             0.224952   \n",
       "4           -0.756723               0.516833             0.275776   \n",
       "\n",
       "   -0.8017032037830547  -1.9825286353116254  -1.5305589315744583  ...  0.0.48  \\\n",
       "0             0.146389             1.232901             0.124852  ...     0.0   \n",
       "1             1.568529            -0.063643            -0.846802  ...     0.0   \n",
       "2             1.394712            -0.634123             0.844596  ...     0.0   \n",
       "3             1.056954             0.921730            -0.810815  ...     0.0   \n",
       "4             1.043127            -2.138114             0.232814  ...     0.0   \n",
       "\n",
       "   0.0.49  0.0.50  0.0.51  0.0.52  0.0.53  1.0.1  0.0.54  1.0.2  0.0.55  \n",
       "0     0.0     1.0     0.0     0.0     0.0    1.0     0.0    1.0     0.0  \n",
       "1     0.0     0.0     0.0     0.0     0.0    1.0     0.0    1.0     0.0  \n",
       "2     0.0     0.0     0.0     0.0     0.0    1.0     0.0    1.0     0.0  \n",
       "3     0.0     0.0     0.0     0.0     0.0    1.0     0.0    0.0     1.0  \n",
       "4     0.0     0.0     0.0     0.0     0.0    1.0     0.0    0.0     1.0  \n",
       "\n",
       "[5 rows x 70 columns]"
      ]
     },
     "execution_count": 7,
     "metadata": {},
     "output_type": "execute_result"
    }
   ],
   "source": [
    "preprocessed_train_path_file = os.path.join (preprocessed_train_path, 'train.csv.out')\n",
    "df_pre_train = pd.read_csv(preprocessed_train_path_file)\n",
    "df_pre_train.head()\n"
   ]
  },
  {
   "cell_type": "markdown",
   "metadata": {},
   "source": [
    "### Preprocessed Validation data (Feature) 만들기"
   ]
  },
  {
   "cell_type": "code",
   "execution_count": 8,
   "metadata": {},
   "outputs": [
    {
     "name": "stdout",
     "output_type": "stream",
     "text": [
      "Attaching to tmp5y3eg35t_algo-1-x0oyv_1\n",
      "\u001b[36malgo-1-x0oyv_1  |\u001b[0m Processing /opt/ml/code\n",
      "\u001b[36malgo-1-x0oyv_1  |\u001b[0m Building wheels for collected packages: log-preprocessing\n",
      "\u001b[36malgo-1-x0oyv_1  |\u001b[0m   Building wheel for log-preprocessing (setup.py) ... \u001b[?25ldone\n",
      "\u001b[36malgo-1-x0oyv_1  |\u001b[0m \u001b[?25h  Created wheel for log-preprocessing: filename=log_preprocessing-1.0.0-py2.py3-none-any.whl size=10221 sha256=15529500a25acb817fedc5d24ac8ebbb26a830f405d325178a1b7a4450e64962\n",
      "\u001b[36malgo-1-x0oyv_1  |\u001b[0m   Stored in directory: /tmp/pip-ephem-wheel-cache-pue4xyno/wheels/35/24/16/37574d11bf9bde50616c67372a334f94fa8356bc7164af8ca3\n",
      "\u001b[36malgo-1-x0oyv_1  |\u001b[0m Successfully built log-preprocessing\n",
      "\u001b[36malgo-1-x0oyv_1  |\u001b[0m Installing collected packages: log-preprocessing\n",
      "\u001b[36malgo-1-x0oyv_1  |\u001b[0m Successfully installed log-preprocessing-1.0.0\n",
      "\u001b[36malgo-1-x0oyv_1  |\u001b[0m /miniconda3/lib/python3.7/site-packages/sklearn/externals/joblib/externals/cloudpickle/cloudpickle.py:47: DeprecationWarning: the imp module is deprecated in favour of importlib; see the module's documentation for alternative uses\n",
      "\u001b[36malgo-1-x0oyv_1  |\u001b[0m   import imp\n",
      "\u001b[36malgo-1-x0oyv_1  |\u001b[0m [2020-08-14 00:18:47 +0000] [48] [INFO] Starting gunicorn 19.9.0\n",
      "\u001b[36malgo-1-x0oyv_1  |\u001b[0m [2020-08-14 00:18:47 +0000] [48] [INFO] Listening at: unix:/tmp/gunicorn.sock (48)\n",
      "\u001b[36malgo-1-x0oyv_1  |\u001b[0m [2020-08-14 00:18:47 +0000] [48] [INFO] Using worker: gevent\n",
      "\u001b[36malgo-1-x0oyv_1  |\u001b[0m [2020-08-14 00:18:47 +0000] [51] [INFO] Booting worker with pid: 51\n",
      "\u001b[36malgo-1-x0oyv_1  |\u001b[0m [2020-08-14 00:18:47 +0000] [52] [INFO] Booting worker with pid: 52\n",
      "\u001b[36malgo-1-x0oyv_1  |\u001b[0m [2020-08-14 00:18:47 +0000] [60] [INFO] Booting worker with pid: 60\n",
      "\u001b[36malgo-1-x0oyv_1  |\u001b[0m [2020-08-14 00:18:47 +0000] [61] [INFO] Booting worker with pid: 61\n",
      "\u001b[36malgo-1-x0oyv_1  |\u001b[0m [2020-08-14 00:18:47 +0000] [69] [INFO] Booting worker with pid: 69\n",
      "\u001b[36malgo-1-x0oyv_1  |\u001b[0m [2020-08-14 00:18:47 +0000] [77] [INFO] Booting worker with pid: 77\n",
      "\u001b[36malgo-1-x0oyv_1  |\u001b[0m [2020-08-14 00:18:47 +0000] [85] [INFO] Booting worker with pid: 85\n",
      "\u001b[36malgo-1-x0oyv_1  |\u001b[0m [2020-08-14 00:18:47 +0000] [93] [INFO] Booting worker with pid: 93\n",
      "\u001b[36malgo-1-x0oyv_1  |\u001b[0m 2020-08-14 00:18:49,090 INFO - sagemaker-containers - No GPUs detected (normal if no gpus installed)\n",
      "\u001b[36malgo-1-x0oyv_1  |\u001b[0m /miniconda3/lib/python3.7/site-packages/sklearn/externals/joblib/externals/cloudpickle/cloudpickle.py:47: DeprecationWarning: the imp module is deprecated in favour of importlib; see the module's documentation for alternative uses\n",
      "\u001b[36malgo-1-x0oyv_1  |\u001b[0m   import imp\n",
      "\u001b[36malgo-1-x0oyv_1  |\u001b[0m 2020-08-14 00:18:49,419 INFO - root - model_fn, Mode: feature_transform\n",
      "\u001b[36malgo-1-x0oyv_1  |\u001b[0m 172.18.0.1 - - [14/Aug/2020:00:18:49 +0000] \"GET /ping HTTP/1.1\" 200 0 \"-\" \"-\"\n",
      "\u001b[36malgo-1-x0oyv_1  |\u001b[0m 172.18.0.1 - - [14/Aug/2020:00:18:49 +0000] \"GET /execution-parameters HTTP/1.1\" 404 232 \"-\" \"-\"\n"
     ]
    },
    {
     "name": "stderr",
     "output_type": "stream",
     "text": [
      "'upload_data' method will be deprecated in favor of 'S3Uploader' class (https://sagemaker.readthedocs.io/en/stable/s3.html#sagemaker.s3.S3Uploader) in SageMaker Python SDK v2.\n"
     ]
    },
    {
     "name": "stdout",
     "output_type": "stream",
     "text": [
      "\u001b[36malgo-1-x0oyv_1  |\u001b[0m 2020-08-14 00:18:49,542 INFO - root - Input_fn, Mode: feature_transform\n",
      "\u001b[36malgo-1-x0oyv_1  |\u001b[0m 2020-08-14 00:18:49,547 INFO - root - predict_fn, Mode: feature_transform\n",
      "\u001b[36malgo-1-x0oyv_1  |\u001b[0m After trainsformation\n",
      "\u001b[36malgo-1-x0oyv_1  |\u001b[0m   (0, 0)\t-1.3722767476585274\n",
      "\u001b[36malgo-1-x0oyv_1  |\u001b[0m   (0, 1)\t1.4361483643078248\n",
      "\u001b[36malgo-1-x0oyv_1  |\u001b[0m   (0, 2)\t-0.7210321088903731\n",
      "\u001b[36malgo-1-x0oyv_1  |\u001b[0m   (0, 3)\t-0.3104051644736047\n",
      "\u001b[36malgo-1-x0oyv_1  |\u001b[0m   (0, 4)\t-0.6407980073546213\n",
      "\u001b[36malgo-1-x0oyv_1  |\u001b[0m   (0, 5)\t0.4282497227369044\n",
      "\u001b[36malgo-1-x0oyv_1  |\u001b[0m   (0, 6)\t-1.7359695510006319\n",
      "\u001b[36malgo-1-x0oyv_1  |\u001b[0m   (0, 7)\t-0.8415698900657912\n",
      "\u001b[36malgo-1-x0oyv_1  |\u001b[0m   (0, 8)\t-0.8827893216762703\n",
      "\u001b[36malgo-1-x0oyv_1  |\u001b[0m   (0, 9)\t-1.0027868214581757\n",
      "\u001b[36malgo-1-x0oyv_1  |\u001b[0m   (0, 10)\t-0.44388847702445833\n",
      "\u001b[36malgo-1-x0oyv_1  |\u001b[0m   (0, 12)\t1.0\n",
      "\u001b[36malgo-1-x0oyv_1  |\u001b[0m   (0, 65)\t1.0\n",
      "\u001b[36malgo-1-x0oyv_1  |\u001b[0m   (0, 68)\t1.0\n",
      "\u001b[36malgo-1-x0oyv_1  |\u001b[0m   (1, 0)\t-1.8020858585098782\n",
      "\u001b[36malgo-1-x0oyv_1  |\u001b[0m   (1, 1)\t-0.5962380254245051\n",
      "\u001b[36malgo-1-x0oyv_1  |\u001b[0m   (1, 2)\t1.2442493161458343\n",
      "\u001b[36malgo-1-x0oyv_1  |\u001b[0m   (1, 3)\t0.33427594443004244\n",
      "\u001b[36malgo-1-x0oyv_1  |\u001b[0m   (1, 4)\t-0.4828483245932088\n",
      "\u001b[36malgo-1-x0oyv_1  |\u001b[0m   (1, 5)\t-1.1981319692280115\n",
      "\u001b[36malgo-1-x0oyv_1  |\u001b[0m   (1, 6)\t1.698891290038197\n",
      "\u001b[36malgo-1-x0oyv_1  |\u001b[0m   (1, 7)\t-0.5303993231805636\n",
      "\u001b[36malgo-1-x0oyv_1  |\u001b[0m   (1, 8)\t0.3767626975702064\n",
      "\u001b[36malgo-1-x0oyv_1  |\u001b[0m   (1, 9)\t-1.0027868214581757\n",
      "\u001b[36malgo-1-x0oyv_1  |\u001b[0m   (1, 10)\t-1.2087273373627605\n",
      "\u001b[36malgo-1-x0oyv_1  |\u001b[0m   (1, 52)\t1.0\n",
      "\u001b[36malgo-1-x0oyv_1  |\u001b[0m   (1, 65)\t1.0\n",
      "\u001b[36malgo-1-x0oyv_1  |\u001b[0m   (1, 67)\t1.0\n",
      "\u001b[36malgo-1-x0oyv_1  |\u001b[0m After insering a label\n",
      "\u001b[36malgo-1-x0oyv_1  |\u001b[0m [[ 0.         -1.37227675  1.43614836 -0.72103211 -0.31040516 -0.64079801\n",
      "\u001b[36malgo-1-x0oyv_1  |\u001b[0m    0.42824972 -1.73596955 -0.84156989 -0.88278932 -1.00278682 -0.44388848\n",
      "\u001b[36malgo-1-x0oyv_1  |\u001b[0m    0.          1.          0.          0.          0.          0.\n",
      "\u001b[36malgo-1-x0oyv_1  |\u001b[0m    0.          0.          0.          0.          0.          0.\n",
      "\u001b[36malgo-1-x0oyv_1  |\u001b[0m    0.          0.          0.          0.          0.          0.\n",
      "\u001b[36malgo-1-x0oyv_1  |\u001b[0m    0.          0.          0.          0.          0.          0.\n",
      "\u001b[36malgo-1-x0oyv_1  |\u001b[0m    0.          0.          0.          0.          0.          0.\n",
      "\u001b[36malgo-1-x0oyv_1  |\u001b[0m    0.          0.          0.          0.          0.          0.\n",
      "\u001b[36malgo-1-x0oyv_1  |\u001b[0m    0.          0.          0.          0.          0.          0.\n",
      "\u001b[36malgo-1-x0oyv_1  |\u001b[0m    0.          0.          0.          0.          0.          0.\n",
      "\u001b[36malgo-1-x0oyv_1  |\u001b[0m    0.          0.          0.          0.          0.          0.\n",
      "\u001b[36malgo-1-x0oyv_1  |\u001b[0m    1.          0.          0.          1.        ]\n",
      "\u001b[36malgo-1-x0oyv_1  |\u001b[0m  [ 0.         -1.80208586 -0.59623803  1.24424932  0.33427594 -0.48284832\n",
      "\u001b[36malgo-1-x0oyv_1  |\u001b[0m   -1.19813197  1.69889129 -0.53039932  0.3767627  -1.00278682 -1.20872734\n",
      "\u001b[36malgo-1-x0oyv_1  |\u001b[0m    0.          0.          0.          0.          0.          0.\n",
      "\u001b[36malgo-1-x0oyv_1  |\u001b[0m    0.          0.          0.          0.          0.          0.\n",
      "\u001b[36malgo-1-x0oyv_1  |\u001b[0m    0.          0.          0.          0.          0.          0.\n",
      "\u001b[36malgo-1-x0oyv_1  |\u001b[0m    0.          0.          0.          0.          0.          0.\n",
      "\u001b[36malgo-1-x0oyv_1  |\u001b[0m    0.          0.          0.          0.          0.          0.\n",
      "\u001b[36malgo-1-x0oyv_1  |\u001b[0m    0.          0.          0.          0.          0.          0.\n",
      "\u001b[36malgo-1-x0oyv_1  |\u001b[0m    0.          0.          0.          0.          0.          1.\n",
      "\u001b[36malgo-1-x0oyv_1  |\u001b[0m    0.          0.          0.          0.          0.          0.\n",
      "\u001b[36malgo-1-x0oyv_1  |\u001b[0m    0.          0.          0.          0.          0.          0.\n",
      "\u001b[36malgo-1-x0oyv_1  |\u001b[0m    1.          0.          1.          0.        ]]\n",
      "\u001b[36malgo-1-x0oyv_1  |\u001b[0m 2020-08-14 00:18:49,555 INFO - root - Output_fn: prdiction - '[[ 0.         -1.37227675  1.43614836 ...  0.          0.\n",
      "\u001b[36malgo-1-x0oyv_1  |\u001b[0m    1.        ]\n",
      "\u001b[36malgo-1-x0oyv_1  |\u001b[0m  [ 0.         -1.80208586 -0.59623803 ...  0.          1.\n",
      "\u001b[36malgo-1-x0oyv_1  |\u001b[0m    0.        ]\n",
      "\u001b[36malgo-1-x0oyv_1  |\u001b[0m  [ 0.          0.1194137   1.72648928 ...  0.          0.\n",
      "\u001b[36malgo-1-x0oyv_1  |\u001b[0m    1.        ]\n",
      "\u001b[36malgo-1-x0oyv_1  |\u001b[0m  ...\n",
      "\u001b[36malgo-1-x0oyv_1  |\u001b[0m  [ 0.          0.27111103  1.58131882 ...  0.          0.\n",
      "\u001b[36malgo-1-x0oyv_1  |\u001b[0m    1.        ]\n",
      "\u001b[36malgo-1-x0oyv_1  |\u001b[0m  [ 0.         -0.7907703  -0.59623803 ...  0.          1.\n",
      "\u001b[36malgo-1-x0oyv_1  |\u001b[0m    0.        ]\n",
      "\u001b[36malgo-1-x0oyv_1  |\u001b[0m  [ 0.         -0.51265853  2.74268247 ...  0.          0.\n",
      "\u001b[36malgo-1-x0oyv_1  |\u001b[0m    1.        ]]' \n",
      "\u001b[36malgo-1-x0oyv_1  |\u001b[0m 172.18.0.1 - - [14/Aug/2020:00:18:49 +0000] \"POST /invocations HTTP/1.1\" 200 300974 \"-\" \"-\"\n",
      "Gracefully stopping... (press Ctrl+C again to force)\n",
      "Waiting for transform job: sagemaker-scikit-learn-2020-08-14-00-18-2020-08-14-00-18-43-936\n",
      ".s3://sagemaker-us-east-2-057716757052/sagemaker/customer-churn/transformtrain-validation-output/sagemaker-scikit-learn-2020-08-14-00-18-2020-08-14-00-18-43-936\n"
     ]
    }
   ],
   "source": [
    "# 아웃풋 경로 지정\n",
    "transform_validation_output_path = 's3://{}/{}/{}/'.format(bucket, prefix, 'transformtrain-validation-output')\n",
    "# scikit_learn_inferencee_model 에서 Validation Transformer 생성\n",
    "transformer_validation = scikit_learn_inferencee_model.transformer(\n",
    "    instance_count=1, \n",
    "    instance_type= instance_type,\n",
    "    assemble_with = 'Line',\n",
    "    output_path = transform_validation_output_path,\n",
    "    accept = 'text/csv')\n",
    "# Preprocess validation input\n",
    "transformer_validation.transform(s3_input_validation.config['DataSource']['S3DataSource']['S3Uri'], content_type='text/csv')\n",
    "print('Waiting for transform job: ' + transformer_validation.latest_transform_job.job_name)\n",
    "transformer_validation.wait()\n",
    "preprocessed_validation_path = transformer_validation.output_path+transformer_validation.latest_transform_job.job_name\n",
    "print(preprocessed_validation_path)\n",
    "\n"
   ]
  },
  {
   "cell_type": "code",
   "execution_count": null,
   "metadata": {},
   "outputs": [],
   "source": []
  },
  {
   "cell_type": "markdown",
   "metadata": {},
   "source": [
    "## PCA 학습"
   ]
  },
  {
   "cell_type": "code",
   "execution_count": 9,
   "metadata": {},
   "outputs": [
    {
     "name": "stdout",
     "output_type": "stream",
     "text": [
      "057716757052\n",
      "us-east-2\n",
      "arn:aws:iam::057716757052:role/service-role/AmazonSageMaker-ExecutionRole-20191128T110038\n",
      "sagemaker-us-east-2-057716757052\n"
     ]
    }
   ],
   "source": [
    "import boto3\n",
    "import sagemaker\n",
    "from sagemaker import get_execution_role\n",
    "\n",
    "ecr_namespace = 'sagemaker-training-containers/'\n",
    "prefix = 'pca'\n",
    "\n",
    "ecr_repository_name = ecr_namespace + prefix\n",
    "role = get_execution_role()\n",
    "account_id = role.split(':')[4]\n",
    "region = boto3.Session().region_name\n",
    "sagemaker_session = sagemaker.session.Session()\n",
    "bucket = sagemaker_session.default_bucket()\n",
    "\n",
    "print(account_id)\n",
    "print(region)\n",
    "print(role)\n",
    "print(bucket)"
   ]
  },
  {
   "cell_type": "code",
   "execution_count": 10,
   "metadata": {},
   "outputs": [],
   "source": [
    "! cp pca_byoc_train.py docker/code/"
   ]
  },
  {
   "cell_type": "code",
   "execution_count": 11,
   "metadata": {},
   "outputs": [
    {
     "name": "stdout",
     "output_type": "stream",
     "text": [
      "Overwriting docker/Dockerfile\n"
     ]
    }
   ],
   "source": [
    "%%writefile docker/Dockerfile\n",
    "\n",
    "FROM 257758044811.dkr.ecr.us-east-2.amazonaws.com/sagemaker-scikit-learn:0.20.0-cpu-py3\n",
    "    \n",
    "# install python package\n",
    "RUN pip install joblib\n",
    "\n",
    "\n",
    "ENV PYTHONUNBUFFERED=TRUE\n",
    "ENV PYTHONDONTWRITEBYTECODE=TRUE\n",
    "\n",
    "ENV PATH=\"/opt/ml/code:${PATH}\"\n",
    "\n",
    "# Copy training code\n",
    "COPY code/* /opt/ml/code/\n",
    " \n",
    "WORKDIR /opt/ml/code\n",
    "\n",
    "# ENTRYPOINT [\"python\", \"pca_train.py\"]\n",
    "# In order to use SageMaker Env varaibles, use the statement below\n",
    "ENV SAGEMAKER_PROGRAM pca_byoc_train.py"
   ]
  },
  {
   "cell_type": "code",
   "execution_count": 12,
   "metadata": {},
   "outputs": [],
   "source": [
    "import os\n",
    "os.environ['account_id'] = account_id\n",
    "os.environ['region'] = region\n",
    "os.environ['ecr_repository_name'] = ecr_repository_name"
   ]
  },
  {
   "cell_type": "code",
   "execution_count": 13,
   "metadata": {},
   "outputs": [
    {
     "name": "stdout",
     "output_type": "stream",
     "text": [
      "us-east-2\n",
      "057716757052\n",
      "sagemaker-training-containers/pca\n",
      "Login Succeeded\n",
      "Sending build context to Docker daemon  10.75kB\n",
      "Step 1/8 : FROM 257758044811.dkr.ecr.us-east-2.amazonaws.com/sagemaker-scikit-learn:0.20.0-cpu-py3\n",
      " ---> 30adb1aa9af5\n",
      "Step 2/8 : RUN pip install joblib\n",
      " ---> Using cache\n",
      " ---> 26bceed11435\n",
      "Step 3/8 : ENV PYTHONUNBUFFERED=TRUE\n",
      " ---> Using cache\n",
      " ---> d2cbe65e931a\n",
      "Step 4/8 : ENV PYTHONDONTWRITEBYTECODE=TRUE\n",
      " ---> Using cache\n",
      " ---> 3ed49376f0e2\n",
      "Step 5/8 : ENV PATH=\"/opt/ml/code:${PATH}\"\n",
      " ---> Using cache\n",
      " ---> 03be6787c4b2\n",
      "Step 6/8 : COPY code/* /opt/ml/code/\n",
      " ---> 828314a328d9\n",
      "Step 7/8 : WORKDIR /opt/ml/code\n",
      " ---> Running in 9423cfef15d2\n",
      "Removing intermediate container 9423cfef15d2\n",
      " ---> 58e673f3732e\n",
      "Step 8/8 : ENV SAGEMAKER_PROGRAM pca_byoc_train.py\n",
      " ---> Running in fd9c7fee31fd\n",
      "Removing intermediate container fd9c7fee31fd\n",
      " ---> b3f3fbb0be44\n",
      "Successfully built b3f3fbb0be44\n",
      "Successfully tagged sagemaker-training-containers/pca:latest\n",
      "Login Succeeded\n",
      "{\n",
      "    \"repositories\": [\n",
      "        {\n",
      "            \"repositoryArn\": \"arn:aws:ecr:us-east-2:057716757052:repository/sagemaker-training-containers/pca\",\n",
      "            \"registryId\": \"057716757052\",\n",
      "            \"repositoryName\": \"sagemaker-training-containers/pca\",\n",
      "            \"repositoryUri\": \"057716757052.dkr.ecr.us-east-2.amazonaws.com/sagemaker-training-containers/pca\",\n",
      "            \"createdAt\": 1597127900.0,\n",
      "            \"imageTagMutability\": \"MUTABLE\",\n",
      "            \"imageScanningConfiguration\": {\n",
      "                \"scanOnPush\": false\n",
      "            }\n",
      "        }\n",
      "    ]\n",
      "}\n",
      "The push refers to repository [057716757052.dkr.ecr.us-east-2.amazonaws.com/sagemaker-training-containers/pca]\n",
      "b57e8f66e87c: Preparing\n",
      "04a68cd3aea1: Preparing\n",
      "969e46b772a5: Preparing\n",
      "cfe0cbc5dd2c: Preparing\n",
      "23b3530769e5: Preparing\n",
      "8be6c85c96e4: Preparing\n",
      "a5a688002069: Preparing\n",
      "4b7dff825027: Preparing\n",
      "ccdb13a20bf2: Preparing\n",
      "9513cdf4e497: Preparing\n",
      "7f083f9454c0: Preparing\n",
      "29f36b5893dc: Preparing\n",
      "8be6c85c96e4: Waiting\n",
      "a5a688002069: Waiting\n",
      "4b7dff825027: Waiting\n",
      "ccdb13a20bf2: Waiting\n",
      "9513cdf4e497: Waiting\n",
      "7f083f9454c0: Waiting\n",
      "29f36b5893dc: Waiting\n",
      "969e46b772a5: Layer already exists\n",
      "cfe0cbc5dd2c: Layer already exists\n",
      "23b3530769e5: Layer already exists\n",
      "04a68cd3aea1: Layer already exists\n",
      "8be6c85c96e4: Layer already exists\n",
      "4b7dff825027: Layer already exists\n",
      "a5a688002069: Layer already exists\n",
      "ccdb13a20bf2: Layer already exists\n",
      "9513cdf4e497: Layer already exists\n",
      "7f083f9454c0: Layer already exists\n",
      "29f36b5893dc: Layer already exists\n",
      "b57e8f66e87c: Pushed\n",
      "latest: digest: sha256:6d8a2432c32ed10466b28c365cf3637cf034456bb7a85924cb8928cdc20e5399 size: 2840\n"
     ]
    },
    {
     "name": "stderr",
     "output_type": "stream",
     "text": [
      "WARNING! Using --password via the CLI is insecure. Use --password-stdin.\n",
      "WARNING! Your password will be stored unencrypted in /home/ec2-user/.docker/config.json.\n",
      "Configure a credential helper to remove this warning. See\n",
      "https://docs.docker.com/engine/reference/commandline/login/#credentials-store\n",
      "\n",
      "WARNING! Using --password via the CLI is insecure. Use --password-stdin.\n",
      "WARNING! Your password will be stored unencrypted in /home/ec2-user/.docker/config.json.\n",
      "Configure a credential helper to remove this warning. See\n",
      "https://docs.docker.com/engine/reference/commandline/login/#credentials-store\n",
      "\n"
     ]
    }
   ],
   "source": [
    "%%sh\n",
    "\n",
    "ACCOUNT_ID=${account_id}\n",
    "REGION=${region}\n",
    "REPO_NAME=${ecr_repository_name}\n",
    "\n",
    "echo $REGION\n",
    "echo $ACCOUNT_ID\n",
    "echo $REPO_NAME\n",
    "\n",
    "\n",
    "# Get the login command from ECR in order to pull down the Tensorflow-gpu:1.5 image\n",
    "$(aws ecr get-login --registry-ids 257758044811 --region ${region} --no-include-email)\n",
    "\n",
    "\n",
    "\n",
    "docker build -f docker/Dockerfile -t $REPO_NAME docker\n",
    "\n",
    "docker tag $REPO_NAME $ACCOUNT_ID.dkr.ecr.$REGION.amazonaws.com/$REPO_NAME:latest\n",
    "\n",
    "$(aws ecr get-login --no-include-email --registry-ids $ACCOUNT_ID)\n",
    "\n",
    "aws ecr describe-repositories --repository-names $REPO_NAME || aws ecr create-repository --repository-name $REPO_NAME\n",
    "\n",
    "docker push $ACCOUNT_ID.dkr.ecr.$REGION.amazonaws.com/$REPO_NAME:latest\n",
    "\n"
   ]
  },
  {
   "cell_type": "code",
   "execution_count": 14,
   "metadata": {},
   "outputs": [
    {
     "name": "stdout",
     "output_type": "stream",
     "text": [
      "057716757052.dkr.ecr.us-east-2.amazonaws.com/sagemaker-training-containers/pca:latest\n"
     ]
    }
   ],
   "source": [
    "container_image_uri = '{0}.dkr.ecr.{1}.amazonaws.com/{2}:latest'.format(account_id, region, ecr_repository_name)\n",
    "print(container_image_uri)"
   ]
  },
  {
   "cell_type": "code",
   "execution_count": 15,
   "metadata": {},
   "outputs": [
    {
     "name": "stdout",
     "output_type": "stream",
     "text": [
      "preprocessed_train_path_file: \n",
      " s3://sagemaker-us-east-2-057716757052/sagemaker/customer-churn/transformtrain-train-output/sagemaker-scikit-learn-2020-08-14-00-18-2020-08-14-00-18-36-227/train.csv.out\n",
      "preprocessed_validation_path_file: \n",
      " s3://sagemaker-us-east-2-057716757052/sagemaker/customer-churn/transformtrain-validation-output/sagemaker-scikit-learn-2020-08-14-00-18-2020-08-14-00-18-43-936/validation.csv.out\n"
     ]
    }
   ],
   "source": [
    "preprocessed_train_path_file = '{}/train.csv.out'.format(preprocessed_train_path)\n",
    "preprocessed_validation_path_file = '{}/validation.csv.out'.format(preprocessed_validation_path)\n",
    "print(\"preprocessed_train_path_file: \\n\", preprocessed_train_path_file)\n",
    "print(\"preprocessed_validation_path_file: \\n\", preprocessed_validation_path_file)"
   ]
  },
  {
   "cell_type": "markdown",
   "metadata": {},
   "source": [
    "## PCA 학습"
   ]
  },
  {
   "cell_type": "code",
   "execution_count": 16,
   "metadata": {},
   "outputs": [
    {
     "name": "stdout",
     "output_type": "stream",
     "text": [
      "(2333, 70)\n",
      "num_cols:  70\n"
     ]
    }
   ],
   "source": [
    "import pandas as pd\n",
    "\n",
    "preprocessed_train_path_file = '{}/train.csv.out'.format(preprocessed_train_path)\n",
    "pre_df = pd.read_csv(preprocessed_train_path_file, header=None)\n",
    "print(pre_df.shape)\n",
    "num_cols = pre_df.shape[1]\n",
    "print(\"num_cols: \", num_cols)"
   ]
  },
  {
   "cell_type": "code",
   "execution_count": 17,
   "metadata": {},
   "outputs": [
    {
     "name": "stderr",
     "output_type": "stream",
     "text": [
      "'upload_data' method will be deprecated in favor of 'S3Uploader' class (https://sagemaker.readthedocs.io/en/stable/s3.html#sagemaker.s3.S3Uploader) in SageMaker Python SDK v2.\n"
     ]
    },
    {
     "name": "stdout",
     "output_type": "stream",
     "text": [
      "Shape of train_X:  (2333, 69)\n",
      "Shape of train_y:  (2333,)\n",
      "train_input:  s3://sagemaker-us-east-2-057716757052/Scikit-pca-custom/data\n"
     ]
    }
   ],
   "source": [
    "import pandas as pd\n",
    "# preprocessed_train_path_file = 's3://sagemaker-us-east-2-057716757052/sagemaker/customer-churn/transformtrain-train-output/sagemaker-scikit-learn-2020-08-12-07-07-2020-08-12-07-07-08-229/train.csv.out'\n",
    "\n",
    "churn_df = pd.read_csv(preprocessed_train_path_file, header=None)\n",
    "churn_df.head()\n",
    "train_y = churn_df.iloc[:,0]\n",
    "train_X = churn_df.iloc[:,1:]\n",
    "\n",
    "print(\"Shape of train_X: \", train_X.shape)\n",
    "print(\"Shape of train_y: \", train_y.shape)\n",
    "\n",
    "os.makedirs('./data', exist_ok =True)\n",
    "np.savetxt('./data/churn-preprocessed.csv', train_X, delimiter=',',\n",
    "           fmt='%1.5f'\n",
    "          )\n",
    "\n",
    "WORK_DIRECTORY = 'data'\n",
    "prefix = 'Scikit-pca-custom'\n",
    "train_input = sagemaker_session.upload_data(WORK_DIRECTORY,\n",
    "                                            key_prefix=\"{}/{}\".format(prefix, WORK_DIRECTORY)\n",
    "                                           )\n",
    "print(\"train_input: \", train_input)\n"
   ]
  },
  {
   "cell_type": "code",
   "execution_count": 18,
   "metadata": {},
   "outputs": [
    {
     "name": "stderr",
     "output_type": "stream",
     "text": [
      "WARNING:root:Parameter image_name will be renamed to image_uri in SageMaker Python SDK v2.\n",
      "WARNING:sagemaker:'s3_input' class will be renamed to 'TrainingInput' in SageMaker Python SDK v2.\n"
     ]
    },
    {
     "name": "stdout",
     "output_type": "stream",
     "text": [
      "Creating tmpi83lmrc3_algo-1-y0nck_1 ... \n",
      "\u001b[1BAttaching to tmpi83lmrc3_algo-1-y0nck_12mdone\u001b[0m\n",
      "\u001b[36malgo-1-y0nck_1  |\u001b[0m 2020-08-14 00:18:56,347 sagemaker-containers INFO     Imported framework sagemaker_sklearn_container.training\n",
      "\u001b[36malgo-1-y0nck_1  |\u001b[0m 2020-08-14 00:18:56,349 sagemaker-containers INFO     No GPUs detected (normal if no gpus installed)\n",
      "\u001b[36malgo-1-y0nck_1  |\u001b[0m 2020-08-14 00:18:56,357 sagemaker_sklearn_container.training INFO     Invoking user training script.\n",
      "\u001b[36malgo-1-y0nck_1  |\u001b[0m 2020-08-14 00:18:56,358 sagemaker-containers INFO     Module pca_byoc_train does not provide a setup.py. \n",
      "\u001b[36malgo-1-y0nck_1  |\u001b[0m Generating setup.py\n",
      "\u001b[36malgo-1-y0nck_1  |\u001b[0m 2020-08-14 00:18:56,358 sagemaker-containers INFO     Generating setup.cfg\n",
      "\u001b[36malgo-1-y0nck_1  |\u001b[0m 2020-08-14 00:18:56,358 sagemaker-containers INFO     Generating MANIFEST.in\n",
      "\u001b[36malgo-1-y0nck_1  |\u001b[0m 2020-08-14 00:18:56,358 sagemaker-containers INFO     Installing module with the following command:\n",
      "\u001b[36malgo-1-y0nck_1  |\u001b[0m /miniconda3/bin/python -m pip install . \n",
      "\u001b[36malgo-1-y0nck_1  |\u001b[0m Processing /opt/ml/code\n",
      "\u001b[36malgo-1-y0nck_1  |\u001b[0m Building wheels for collected packages: pca-byoc-train\n",
      "\u001b[36malgo-1-y0nck_1  |\u001b[0m   Building wheel for pca-byoc-train (setup.py) ... \u001b[?25ldone\n",
      "\u001b[36malgo-1-y0nck_1  |\u001b[0m \u001b[?25h  Created wheel for pca-byoc-train: filename=pca_byoc_train-1.0.0-py2.py3-none-any.whl size=9349 sha256=81312c72fd40ca60a5e33c53a731957dfb613f61b2acf9fa2591487ab894589c\n",
      "\u001b[36malgo-1-y0nck_1  |\u001b[0m   Stored in directory: /tmp/pip-ephem-wheel-cache-zh6n7y5j/wheels/35/24/16/37574d11bf9bde50616c67372a334f94fa8356bc7164af8ca3\n",
      "\u001b[36malgo-1-y0nck_1  |\u001b[0m Successfully built pca-byoc-train\n",
      "\u001b[36malgo-1-y0nck_1  |\u001b[0m Installing collected packages: pca-byoc-train\n",
      "\u001b[36malgo-1-y0nck_1  |\u001b[0m Successfully installed pca-byoc-train-1.0.0\n",
      "\u001b[36malgo-1-y0nck_1  |\u001b[0m 2020-08-14 00:18:57,164 sagemaker-containers INFO     No GPUs detected (normal if no gpus installed)\n",
      "\u001b[36malgo-1-y0nck_1  |\u001b[0m 2020-08-14 00:18:57,173 sagemaker-containers INFO     Invoking user script\n",
      "\u001b[36malgo-1-y0nck_1  |\u001b[0m \n",
      "\u001b[36malgo-1-y0nck_1  |\u001b[0m Training Env:\n",
      "\u001b[36malgo-1-y0nck_1  |\u001b[0m \n",
      "\u001b[36malgo-1-y0nck_1  |\u001b[0m {\n",
      "\u001b[36malgo-1-y0nck_1  |\u001b[0m     \"additional_framework_parameters\": {},\n",
      "\u001b[36malgo-1-y0nck_1  |\u001b[0m     \"channel_input_dirs\": {\n",
      "\u001b[36malgo-1-y0nck_1  |\u001b[0m         \"train\": \"/opt/ml/input/data/train\"\n",
      "\u001b[36malgo-1-y0nck_1  |\u001b[0m     },\n",
      "\u001b[36malgo-1-y0nck_1  |\u001b[0m     \"current_host\": \"algo-1-y0nck\",\n",
      "\u001b[36malgo-1-y0nck_1  |\u001b[0m     \"framework_module\": \"sagemaker_sklearn_container.training:main\",\n",
      "\u001b[36malgo-1-y0nck_1  |\u001b[0m     \"hosts\": [\n",
      "\u001b[36malgo-1-y0nck_1  |\u001b[0m         \"algo-1-y0nck\"\n",
      "\u001b[36malgo-1-y0nck_1  |\u001b[0m     ],\n",
      "\u001b[36malgo-1-y0nck_1  |\u001b[0m     \"hyperparameters\": {\n",
      "\u001b[36malgo-1-y0nck_1  |\u001b[0m         \"n_components\": 15\n",
      "\u001b[36malgo-1-y0nck_1  |\u001b[0m     },\n",
      "\u001b[36malgo-1-y0nck_1  |\u001b[0m     \"input_config_dir\": \"/opt/ml/input/config\",\n",
      "\u001b[36malgo-1-y0nck_1  |\u001b[0m     \"input_data_config\": {\n",
      "\u001b[36malgo-1-y0nck_1  |\u001b[0m         \"train\": {\n",
      "\u001b[36malgo-1-y0nck_1  |\u001b[0m             \"TrainingInputMode\": \"File\",\n",
      "\u001b[36malgo-1-y0nck_1  |\u001b[0m             \"ContentType\": \"text/csv\"\n",
      "\u001b[36malgo-1-y0nck_1  |\u001b[0m         }\n",
      "\u001b[36malgo-1-y0nck_1  |\u001b[0m     },\n",
      "\u001b[36malgo-1-y0nck_1  |\u001b[0m     \"input_dir\": \"/opt/ml/input\",\n",
      "\u001b[36malgo-1-y0nck_1  |\u001b[0m     \"is_master\": true,\n",
      "\u001b[36malgo-1-y0nck_1  |\u001b[0m     \"job_name\": \"Scikit-pca-custom-2020-08-14-00-18-54-346\",\n",
      "\u001b[36malgo-1-y0nck_1  |\u001b[0m     \"log_level\": 20,\n",
      "\u001b[36malgo-1-y0nck_1  |\u001b[0m     \"master_hostname\": \"algo-1-y0nck\",\n",
      "\u001b[36malgo-1-y0nck_1  |\u001b[0m     \"model_dir\": \"/opt/ml/model\",\n",
      "\u001b[36malgo-1-y0nck_1  |\u001b[0m     \"module_dir\": \"/opt/ml/code\",\n",
      "\u001b[36malgo-1-y0nck_1  |\u001b[0m     \"module_name\": \"pca_byoc_train\",\n",
      "\u001b[36malgo-1-y0nck_1  |\u001b[0m     \"network_interface_name\": \"eth0\",\n",
      "\u001b[36malgo-1-y0nck_1  |\u001b[0m     \"num_cpus\": 8,\n",
      "\u001b[36malgo-1-y0nck_1  |\u001b[0m     \"num_gpus\": 0,\n",
      "\u001b[36malgo-1-y0nck_1  |\u001b[0m     \"output_data_dir\": \"/opt/ml/output/data\",\n",
      "\u001b[36malgo-1-y0nck_1  |\u001b[0m     \"output_dir\": \"/opt/ml/output\",\n",
      "\u001b[36malgo-1-y0nck_1  |\u001b[0m     \"output_intermediate_dir\": \"/opt/ml/output/intermediate\",\n",
      "\u001b[36malgo-1-y0nck_1  |\u001b[0m     \"resource_config\": {\n",
      "\u001b[36malgo-1-y0nck_1  |\u001b[0m         \"current_host\": \"algo-1-y0nck\",\n",
      "\u001b[36malgo-1-y0nck_1  |\u001b[0m         \"hosts\": [\n",
      "\u001b[36malgo-1-y0nck_1  |\u001b[0m             \"algo-1-y0nck\"\n",
      "\u001b[36malgo-1-y0nck_1  |\u001b[0m         ]\n",
      "\u001b[36malgo-1-y0nck_1  |\u001b[0m     },\n",
      "\u001b[36malgo-1-y0nck_1  |\u001b[0m     \"user_entry_point\": \"pca_byoc_train.py\"\n",
      "\u001b[36malgo-1-y0nck_1  |\u001b[0m }\n",
      "\u001b[36malgo-1-y0nck_1  |\u001b[0m \n",
      "\u001b[36malgo-1-y0nck_1  |\u001b[0m Environment variables:\n",
      "\u001b[36malgo-1-y0nck_1  |\u001b[0m \n",
      "\u001b[36malgo-1-y0nck_1  |\u001b[0m SM_HOSTS=[\"algo-1-y0nck\"]\n",
      "\u001b[36malgo-1-y0nck_1  |\u001b[0m SM_NETWORK_INTERFACE_NAME=eth0\n",
      "\u001b[36malgo-1-y0nck_1  |\u001b[0m SM_HPS={\"n_components\":15}\n",
      "\u001b[36malgo-1-y0nck_1  |\u001b[0m SM_USER_ENTRY_POINT=pca_byoc_train.py\n",
      "\u001b[36malgo-1-y0nck_1  |\u001b[0m SM_FRAMEWORK_PARAMS={}\n",
      "\u001b[36malgo-1-y0nck_1  |\u001b[0m SM_RESOURCE_CONFIG={\"current_host\":\"algo-1-y0nck\",\"hosts\":[\"algo-1-y0nck\"]}\n",
      "\u001b[36malgo-1-y0nck_1  |\u001b[0m SM_INPUT_DATA_CONFIG={\"train\":{\"ContentType\":\"text/csv\",\"TrainingInputMode\":\"File\"}}\n",
      "\u001b[36malgo-1-y0nck_1  |\u001b[0m SM_OUTPUT_DATA_DIR=/opt/ml/output/data\n",
      "\u001b[36malgo-1-y0nck_1  |\u001b[0m SM_CHANNELS=[\"train\"]\n",
      "\u001b[36malgo-1-y0nck_1  |\u001b[0m SM_CURRENT_HOST=algo-1-y0nck\n",
      "\u001b[36malgo-1-y0nck_1  |\u001b[0m SM_MODULE_NAME=pca_byoc_train\n",
      "\u001b[36malgo-1-y0nck_1  |\u001b[0m SM_LOG_LEVEL=20\n",
      "\u001b[36malgo-1-y0nck_1  |\u001b[0m SM_FRAMEWORK_MODULE=sagemaker_sklearn_container.training:main\n",
      "\u001b[36malgo-1-y0nck_1  |\u001b[0m SM_INPUT_DIR=/opt/ml/input\n",
      "\u001b[36malgo-1-y0nck_1  |\u001b[0m SM_INPUT_CONFIG_DIR=/opt/ml/input/config\n",
      "\u001b[36malgo-1-y0nck_1  |\u001b[0m SM_OUTPUT_DIR=/opt/ml/output\n",
      "\u001b[36malgo-1-y0nck_1  |\u001b[0m SM_NUM_CPUS=8\n",
      "\u001b[36malgo-1-y0nck_1  |\u001b[0m SM_NUM_GPUS=0\n",
      "\u001b[36malgo-1-y0nck_1  |\u001b[0m SM_MODEL_DIR=/opt/ml/model\n",
      "\u001b[36malgo-1-y0nck_1  |\u001b[0m SM_MODULE_DIR=/opt/ml/code\n",
      "\u001b[36malgo-1-y0nck_1  |\u001b[0m SM_TRAINING_ENV={\"additional_framework_parameters\":{},\"channel_input_dirs\":{\"train\":\"/opt/ml/input/data/train\"},\"current_host\":\"algo-1-y0nck\",\"framework_module\":\"sagemaker_sklearn_container.training:main\",\"hosts\":[\"algo-1-y0nck\"],\"hyperparameters\":{\"n_components\":15},\"input_config_dir\":\"/opt/ml/input/config\",\"input_data_config\":{\"train\":{\"ContentType\":\"text/csv\",\"TrainingInputMode\":\"File\"}},\"input_dir\":\"/opt/ml/input\",\"is_master\":true,\"job_name\":\"Scikit-pca-custom-2020-08-14-00-18-54-346\",\"log_level\":20,\"master_hostname\":\"algo-1-y0nck\",\"model_dir\":\"/opt/ml/model\",\"module_dir\":\"/opt/ml/code\",\"module_name\":\"pca_byoc_train\",\"network_interface_name\":\"eth0\",\"num_cpus\":8,\"num_gpus\":0,\"output_data_dir\":\"/opt/ml/output/data\",\"output_dir\":\"/opt/ml/output\",\"output_intermediate_dir\":\"/opt/ml/output/intermediate\",\"resource_config\":{\"current_host\":\"algo-1-y0nck\",\"hosts\":[\"algo-1-y0nck\"]},\"user_entry_point\":\"pca_byoc_train.py\"}\n",
      "\u001b[36malgo-1-y0nck_1  |\u001b[0m SM_USER_ARGS=[\"--n_components\",\"15\"]\n",
      "\u001b[36malgo-1-y0nck_1  |\u001b[0m SM_OUTPUT_INTERMEDIATE_DIR=/opt/ml/output/intermediate\n",
      "\u001b[36malgo-1-y0nck_1  |\u001b[0m SM_CHANNEL_TRAIN=/opt/ml/input/data/train\n",
      "\u001b[36malgo-1-y0nck_1  |\u001b[0m SM_HP_N_COMPONENTS=15\n",
      "\u001b[36malgo-1-y0nck_1  |\u001b[0m PYTHONPATH=/miniconda3/bin:/miniconda3/lib/python37.zip:/miniconda3/lib/python3.7:/miniconda3/lib/python3.7/lib-dynload:/miniconda3/lib/python3.7/site-packages\n",
      "\u001b[36malgo-1-y0nck_1  |\u001b[0m \n",
      "\u001b[36malgo-1-y0nck_1  |\u001b[0m Invoking script with the following command:\n",
      "\u001b[36malgo-1-y0nck_1  |\u001b[0m \n",
      "\u001b[36malgo-1-y0nck_1  |\u001b[0m /miniconda3/bin/python -m pca_byoc_train --n_components 15\n",
      "\u001b[36malgo-1-y0nck_1  |\u001b[0m \n",
      "\u001b[36malgo-1-y0nck_1  |\u001b[0m \n",
      "\u001b[36malgo-1-y0nck_1  |\u001b[0m /miniconda3/lib/python3.7/site-packages/sklearn/externals/joblib/externals/cloudpickle/cloudpickle.py:47: DeprecationWarning: the imp module is deprecated in favour of importlib; see the module's documentation for alternative uses\n",
      "\u001b[36malgo-1-y0nck_1  |\u001b[0m   import imp\n",
      "\u001b[36malgo-1-y0nck_1  |\u001b[0m train shape:  (6999, 69)\n",
      "\u001b[36malgo-1-y0nck_1  |\u001b[0m Component Variability: \n",
      "\u001b[36malgo-1-y0nck_1  |\u001b[0m  [0.11037054 0.08930514 0.08530902 0.08398641 0.08100946 0.07891911\n",
      "\u001b[36malgo-1-y0nck_1  |\u001b[0m  0.0784487  0.0757067  0.0754758  0.07404293 0.07360349 0.01442162\n",
      "\u001b[36malgo-1-y0nck_1  |\u001b[0m  0.0026844  0.00205333 0.00189599]\n",
      "\u001b[36malgo-1-y0nck_1  |\u001b[0m 2020-08-14 00:18:58,078 sagemaker-containers INFO     Reporting training SUCCESS\n"
     ]
    },
    {
     "name": "stderr",
     "output_type": "stream",
     "text": [
      "WARNING:sagemaker:'upload_data' method will be deprecated in favor of 'S3Uploader' class (https://sagemaker.readthedocs.io/en/stable/s3.html#sagemaker.s3.S3Uploader) in SageMaker Python SDK v2.\n"
     ]
    },
    {
     "name": "stdout",
     "output_type": "stream",
     "text": [
      "\u001b[36mtmpi83lmrc3_algo-1-y0nck_1 exited with code 0\n",
      "\u001b[0mAborting on container exit...\n",
      "===== Job Complete =====\n",
      "CPU times: user 148 ms, sys: 47.2 ms, total: 195 ms\n",
      "Wall time: 4.26 s\n"
     ]
    }
   ],
   "source": [
    "%%time\n",
    "\n",
    "import sagemaker\n",
    "\n",
    "instance_type = 'local'\n",
    "# instance_type = 'ml.m4.xlarge'\n",
    "\n",
    "pca_estimator = sagemaker.estimator.Estimator(container_image_uri,\n",
    "                                    role, \n",
    "                                    train_instance_count=1, \n",
    "                                    train_instance_type= instance_type,\n",
    "                                    base_job_name=prefix)\n",
    "\n",
    "pca_estimator.set_hyperparameters(n_components= 15)\n",
    "\n",
    "train_config = sagemaker.session.s3_input(train_input, content_type='text/csv')\n",
    "\n",
    "pca_estimator.fit({'train': train_config})"
   ]
  },
  {
   "cell_type": "markdown",
   "metadata": {},
   "source": [
    "# Transforming Train PCA"
   ]
  },
  {
   "cell_type": "code",
   "execution_count": 19,
   "metadata": {},
   "outputs": [
    {
     "name": "stdout",
     "output_type": "stream",
     "text": [
      "(2333, 70)\n",
      "num_cols:  70\n"
     ]
    }
   ],
   "source": [
    "import pandas as pd\n",
    "\n",
    "preprocessed_train_path_file = '{}/train.csv.out'.format(preprocessed_train_path)\n",
    "pre_df = pd.read_csv(preprocessed_train_path_file, header=None)\n",
    "print(pre_df.shape)\n",
    "num_cols = pre_df.shape[1]\n",
    "print(\"num_cols: \", num_cols)"
   ]
  },
  {
   "cell_type": "code",
   "execution_count": 20,
   "metadata": {},
   "outputs": [
    {
     "name": "stderr",
     "output_type": "stream",
     "text": [
      "WARNING:sagemaker:Parameter image will be renamed to image_uri in SageMaker Python SDK v2.\n",
      "WARNING:urllib3.connectionpool:Retrying (Retry(total=2, connect=None, read=None, redirect=None, status=None)) after connection broken by 'NewConnectionError('<urllib3.connection.HTTPConnection object at 0x7f3b3c236358>: Failed to establish a new connection: [Errno 111] Connection refused',)': /ping\n",
      "WARNING:urllib3.connectionpool:Retrying (Retry(total=1, connect=None, read=None, redirect=None, status=None)) after connection broken by 'NewConnectionError('<urllib3.connection.HTTPConnection object at 0x7f3b3c236b00>: Failed to establish a new connection: [Errno 111] Connection refused',)': /ping\n",
      "WARNING:urllib3.connectionpool:Retrying (Retry(total=0, connect=None, read=None, redirect=None, status=None)) after connection broken by 'NewConnectionError('<urllib3.connection.HTTPConnection object at 0x7f3b3c2364e0>: Failed to establish a new connection: [Errno 111] Connection refused',)': /ping\n"
     ]
    },
    {
     "name": "stdout",
     "output_type": "stream",
     "text": [
      "Attaching to tmpzpzopgzi_algo-1-unzqj_1\n",
      "\u001b[36malgo-1-unzqj_1  |\u001b[0m Processing /opt/ml/code\n",
      "\u001b[36malgo-1-unzqj_1  |\u001b[0m Building wheels for collected packages: pca-byoc-train\n",
      "\u001b[36malgo-1-unzqj_1  |\u001b[0m   Building wheel for pca-byoc-train (setup.py) ... \u001b[?25ldone\n",
      "\u001b[36malgo-1-unzqj_1  |\u001b[0m \u001b[?25h  Created wheel for pca-byoc-train: filename=pca_byoc_train-1.0.0-py2.py3-none-any.whl size=9350 sha256=b17074f07aa8b4f97d6d73f53e1d7255a36849069a38c3d7df64c82fbb4c0020\n",
      "\u001b[36malgo-1-unzqj_1  |\u001b[0m   Stored in directory: /tmp/pip-ephem-wheel-cache-1qziqcmx/wheels/35/24/16/37574d11bf9bde50616c67372a334f94fa8356bc7164af8ca3\n",
      "\u001b[36malgo-1-unzqj_1  |\u001b[0m Successfully built pca-byoc-train\n",
      "\u001b[36malgo-1-unzqj_1  |\u001b[0m Installing collected packages: pca-byoc-train\n",
      "\u001b[36malgo-1-unzqj_1  |\u001b[0m Successfully installed pca-byoc-train-1.0.0\n",
      "\u001b[36malgo-1-unzqj_1  |\u001b[0m /miniconda3/lib/python3.7/site-packages/sklearn/externals/joblib/externals/cloudpickle/cloudpickle.py:47: DeprecationWarning: the imp module is deprecated in favour of importlib; see the module's documentation for alternative uses\n",
      "\u001b[36malgo-1-unzqj_1  |\u001b[0m   import imp\n",
      "\u001b[36malgo-1-unzqj_1  |\u001b[0m [2020-08-14 00:19:01 +0000] [44] [INFO] Starting gunicorn 19.9.0\n",
      "\u001b[36malgo-1-unzqj_1  |\u001b[0m [2020-08-14 00:19:01 +0000] [44] [INFO] Listening at: unix:/tmp/gunicorn.sock (44)\n",
      "\u001b[36malgo-1-unzqj_1  |\u001b[0m [2020-08-14 00:19:01 +0000] [44] [INFO] Using worker: gevent\n",
      "\u001b[36malgo-1-unzqj_1  |\u001b[0m [2020-08-14 00:19:01 +0000] [47] [INFO] Booting worker with pid: 47\n",
      "\u001b[36malgo-1-unzqj_1  |\u001b[0m [2020-08-14 00:19:01 +0000] [55] [INFO] Booting worker with pid: 55\n",
      "\u001b[36malgo-1-unzqj_1  |\u001b[0m [2020-08-14 00:19:01 +0000] [56] [INFO] Booting worker with pid: 56\n",
      "\u001b[36malgo-1-unzqj_1  |\u001b[0m [2020-08-14 00:19:01 +0000] [57] [INFO] Booting worker with pid: 57\n",
      "\u001b[36malgo-1-unzqj_1  |\u001b[0m [2020-08-14 00:19:01 +0000] [79] [INFO] Booting worker with pid: 79\n",
      "\u001b[36malgo-1-unzqj_1  |\u001b[0m [2020-08-14 00:19:02 +0000] [80] [INFO] Booting worker with pid: 80\n",
      "\u001b[36malgo-1-unzqj_1  |\u001b[0m [2020-08-14 00:19:02 +0000] [81] [INFO] Booting worker with pid: 81\n",
      "\u001b[36malgo-1-unzqj_1  |\u001b[0m [2020-08-14 00:19:02 +0000] [96] [INFO] Booting worker with pid: 96\n",
      "\u001b[36malgo-1-unzqj_1  |\u001b[0m 2020-08-14 00:19:03,923 INFO - sagemaker-containers - No GPUs detected (normal if no gpus installed)\n",
      "\u001b[36malgo-1-unzqj_1  |\u001b[0m /miniconda3/lib/python3.7/site-packages/sklearn/externals/joblib/externals/cloudpickle/cloudpickle.py:47: DeprecationWarning: the imp module is deprecated in favour of importlib; see the module's documentation for alternative uses\n",
      "\u001b[36malgo-1-unzqj_1  |\u001b[0m   import imp\n",
      "\u001b[36malgo-1-unzqj_1  |\u001b[0m 172.18.0.1 - - [14/Aug/2020:00:19:04 +0000] \"GET /ping HTTP/1.1\" 200 0 \"-\" \"-\"\n",
      "\u001b[36malgo-1-unzqj_1  |\u001b[0m 172.18.0.1 - - [14/Aug/2020:00:19:04 +0000] \"GET /execution-parameters HTTP/1.1\" 404 232 \"-\" \"-\"\n",
      "\u001b[36malgo-1-unzqj_1  |\u001b[0m input_fn: Starting\n",
      "\u001b[36malgo-1-unzqj_1  |\u001b[0m type of input_data:  <class 'str'>\n",
      "\u001b[36malgo-1-unzqj_1  |\u001b[0m request_content_type:  text/csv\n",
      "\u001b[36malgo-1-unzqj_1  |\u001b[0m 2020-08-14 00:19:04,415 INFO - root - input_fn: \n",
      "\u001b[36malgo-1-unzqj_1  |\u001b[0m 2020-08-14 00:19:04,415 INFO - root - shape of requested data: '(2333, 70)'\n",
      "\u001b[36malgo-1-unzqj_1  |\u001b[0m 2020-08-14 00:19:04,480 INFO - root - requested data: '       0   ...   69\n",
      "\u001b[36malgo-1-unzqj_1  |\u001b[0m 0     0.0  ...  0.0\n",
      "\u001b[36malgo-1-unzqj_1  |\u001b[0m 1     0.0  ...  0.0\n",
      "\u001b[36malgo-1-unzqj_1  |\u001b[0m 2     1.0  ...  0.0\n",
      "\u001b[36malgo-1-unzqj_1  |\u001b[0m 3     0.0  ...  0.0\n",
      "\u001b[36malgo-1-unzqj_1  |\u001b[0m 4     0.0  ...  1.0\n",
      "\u001b[36malgo-1-unzqj_1  |\u001b[0m ...   ...  ...  ...\n",
      "\u001b[36malgo-1-unzqj_1  |\u001b[0m 2328  0.0  ...  0.0\n",
      "\u001b[36malgo-1-unzqj_1  |\u001b[0m 2329  1.0  ...  0.0\n",
      "\u001b[36malgo-1-unzqj_1  |\u001b[0m 2330  0.0  ...  0.0\n",
      "\u001b[36malgo-1-unzqj_1  |\u001b[0m 2331  0.0  ...  0.0\n",
      "\u001b[36malgo-1-unzqj_1  |\u001b[0m 2332  0.0  ...  1.0\n",
      "\u001b[36malgo-1-unzqj_1  |\u001b[0m \n",
      "\u001b[36malgo-1-unzqj_1  |\u001b[0m [2333 rows x 70 columns]'\n",
      "\u001b[36malgo-1-unzqj_1  |\u001b[0m prdict_fn: Staring\n",
      "\u001b[36malgo-1-unzqj_1  |\u001b[0m os.getenv('TRANSFORM_MODE'):  feature-transform\n",
      "\u001b[36malgo-1-unzqj_1  |\u001b[0m predcit_fn - TRANSFORM_MODE:  feature-transform\n",
      "\u001b[36malgo-1-unzqj_1  |\u001b[0m 2020-08-14 00:19:04,543 INFO - root - predict_fn: input_data - '       0   ...   69\n",
      "\u001b[36malgo-1-unzqj_1  |\u001b[0m 0     0.0  ...  0.0\n",
      "\u001b[36malgo-1-unzqj_1  |\u001b[0m 1     0.0  ...  0.0\n",
      "\u001b[36malgo-1-unzqj_1  |\u001b[0m 2     1.0  ...  0.0\n",
      "\u001b[36malgo-1-unzqj_1  |\u001b[0m 3     0.0  ...  0.0\n",
      "\u001b[36malgo-1-unzqj_1  |\u001b[0m 4     0.0  ...  1.0\n",
      "\u001b[36malgo-1-unzqj_1  |\u001b[0m ...   ...  ...  ...\n",
      "\u001b[36malgo-1-unzqj_1  |\u001b[0m 2328  0.0  ...  0.0\n",
      "\u001b[36malgo-1-unzqj_1  |\u001b[0m 2329  1.0  ...  0.0\n",
      "\u001b[36malgo-1-unzqj_1  |\u001b[0m 2330  0.0  ...  0.0\n",
      "\u001b[36malgo-1-unzqj_1  |\u001b[0m 2331  0.0  ...  0.0\n",
      "\u001b[36malgo-1-unzqj_1  |\u001b[0m 2332  0.0  ...  1.0\n",
      "\u001b[36malgo-1-unzqj_1  |\u001b[0m \n",
      "\u001b[36malgo-1-unzqj_1  |\u001b[0m [2333 rows x 70 columns]'\n",
      "\u001b[36malgo-1-unzqj_1  |\u001b[0m type of input_data:  <class 'pandas.core.frame.DataFrame'>\n",
      "\u001b[36malgo-1-unzqj_1  |\u001b[0m shape of input_data:  (2333, 70)\n",
      "\u001b[36malgo-1-unzqj_1  |\u001b[0m head of input_data: \n"
     ]
    },
    {
     "name": "stderr",
     "output_type": "stream",
     "text": [
      "WARNING:sagemaker:'upload_data' method will be deprecated in favor of 'S3Uploader' class (https://sagemaker.readthedocs.io/en/stable/s3.html#sagemaker.s3.S3Uploader) in SageMaker Python SDK v2.\n"
     ]
    },
    {
     "name": "stdout",
     "output_type": "stream",
     "text": [
      "\u001b[36malgo-1-unzqj_1  |\u001b[0m       0   ...   69\n",
      "\u001b[36malgo-1-unzqj_1  |\u001b[0m 0  0.0  ...  0.0\n",
      "\u001b[36malgo-1-unzqj_1  |\u001b[0m 1  0.0  ...  0.0\n",
      "\u001b[36malgo-1-unzqj_1  |\u001b[0m \n",
      "\u001b[36malgo-1-unzqj_1  |\u001b[0m [2 rows x 70 columns]\n",
      "\u001b[36malgo-1-unzqj_1  |\u001b[0m os.getenv('LENGTH_COLS') :  70\n",
      "\u001b[36malgo-1-unzqj_1  |\u001b[0m type: os.getenv('LENGTH_COLS'):  <class 'str'>\n",
      "\u001b[36malgo-1-unzqj_1  |\u001b[0m type of components:  <class 'numpy.ndarray'>\n",
      "\u001b[36malgo-1-unzqj_1  |\u001b[0m shape of components:  (2333, 15)\n",
      "\u001b[36malgo-1-unzqj_1  |\u001b[0m 2020-08-14 00:19:04,610 INFO - root - predict_fn: PCA components: \n",
      "\u001b[36malgo-1-unzqj_1  |\u001b[0m '[[ 0.00000000e+00 -8.23085436e-01 -1.08811131e-01 ... -8.97586642e-02\n",
      "\u001b[36malgo-1-unzqj_1  |\u001b[0m    1.23154298e-01 -2.92905938e-02]\n",
      "\u001b[36malgo-1-unzqj_1  |\u001b[0m  [ 0.00000000e+00 -3.43474253e-01  9.14233019e-02 ... -1.94063749e-03\n",
      "\u001b[36malgo-1-unzqj_1  |\u001b[0m   -2.39721330e-03  2.59974799e-01]\n",
      "\u001b[36malgo-1-unzqj_1  |\u001b[0m  [ 1.00000000e+00 -7.64309081e-01  1.16037613e-02 ... -7.88591803e-03\n",
      "\u001b[36malgo-1-unzqj_1  |\u001b[0m   -4.15647178e-03 -2.31732173e-01]\n",
      "\u001b[36malgo-1-unzqj_1  |\u001b[0m  ...\n",
      "\u001b[36malgo-1-unzqj_1  |\u001b[0m  [ 0.00000000e+00 -7.35732199e-01 -1.46967771e-01 ...  2.57410658e-02\n",
      "\u001b[36malgo-1-unzqj_1  |\u001b[0m    1.19166916e-02  2.79825531e-01]\n",
      "\u001b[36malgo-1-unzqj_1  |\u001b[0m  [ 0.00000000e+00 -8.64785375e-01 -6.92610347e-01 ... -1.74985365e-03\n",
      "\u001b[36malgo-1-unzqj_1  |\u001b[0m   -2.14875245e-02 -5.28605688e-02]\n",
      "\u001b[36malgo-1-unzqj_1  |\u001b[0m  [ 0.00000000e+00  1.94313344e+00  1.04687587e+00 ... -1.32227298e-02\n",
      "\u001b[36malgo-1-unzqj_1  |\u001b[0m   -6.40296497e-02 -9.73267411e-02]]'\n",
      "\u001b[36malgo-1-unzqj_1  |\u001b[0m 2020-08-14 00:19:04,611 INFO - root - Output_fn: prdiction - '[[ 0.00000000e+00 -8.23085436e-01 -1.08811131e-01 ... -8.97586642e-02\n",
      "\u001b[36malgo-1-unzqj_1  |\u001b[0m    1.23154298e-01 -2.92905938e-02]\n",
      "\u001b[36malgo-1-unzqj_1  |\u001b[0m  [ 0.00000000e+00 -3.43474253e-01  9.14233019e-02 ... -1.94063749e-03\n",
      "\u001b[36malgo-1-unzqj_1  |\u001b[0m   -2.39721330e-03  2.59974799e-01]\n",
      "\u001b[36malgo-1-unzqj_1  |\u001b[0m  [ 1.00000000e+00 -7.64309081e-01  1.16037613e-02 ... -7.88591803e-03\n",
      "\u001b[36malgo-1-unzqj_1  |\u001b[0m   -4.15647178e-03 -2.31732173e-01]\n",
      "\u001b[36malgo-1-unzqj_1  |\u001b[0m  ...\n",
      "\u001b[36malgo-1-unzqj_1  |\u001b[0m  [ 0.00000000e+00 -7.35732199e-01 -1.46967771e-01 ...  2.57410658e-02\n",
      "\u001b[36malgo-1-unzqj_1  |\u001b[0m    1.19166916e-02  2.79825531e-01]\n",
      "\u001b[36malgo-1-unzqj_1  |\u001b[0m  [ 0.00000000e+00 -8.64785375e-01 -6.92610347e-01 ... -1.74985365e-03\n",
      "\u001b[36malgo-1-unzqj_1  |\u001b[0m   -2.14875245e-02 -5.28605688e-02]\n",
      "\u001b[36malgo-1-unzqj_1  |\u001b[0m  [ 0.00000000e+00  1.94313344e+00  1.04687587e+00 ... -1.32227298e-02\n",
      "\u001b[36malgo-1-unzqj_1  |\u001b[0m   -6.40296497e-02 -9.73267411e-02]]' \n",
      "\u001b[36malgo-1-unzqj_1  |\u001b[0m type of accept:  text/csv\n",
      "\u001b[36malgo-1-unzqj_1  |\u001b[0m 2020-08-14 00:19:04,611 ERROR - pca_byoc_train - Exception on /invocations [POST]\n",
      "\u001b[36malgo-1-unzqj_1  |\u001b[0m Traceback (most recent call last):\n",
      "\u001b[36malgo-1-unzqj_1  |\u001b[0m   File \"/miniconda3/lib/python3.7/site-packages/sagemaker_containers/_functions.py\", line 93, in wrapper\n",
      "\u001b[36malgo-1-unzqj_1  |\u001b[0m     return fn(*args, **kwargs)\n",
      "\u001b[36malgo-1-unzqj_1  |\u001b[0m   File \"/opt/ml/code/pca_byoc_train.py\", line 184, in output_fn\n",
      "\u001b[36malgo-1-unzqj_1  |\u001b[0m     return worker.Response(encoders.encode(prediction, accept), mimetype=accept)\n",
      "\u001b[36malgo-1-unzqj_1  |\u001b[0m NameError: name 'worker' is not defined\n",
      "\u001b[36malgo-1-unzqj_1  |\u001b[0m \n",
      "\u001b[36malgo-1-unzqj_1  |\u001b[0m During handling of the above exception, another exception occurred:\n",
      "\u001b[36malgo-1-unzqj_1  |\u001b[0m \n",
      "\u001b[36malgo-1-unzqj_1  |\u001b[0m Traceback (most recent call last):\n",
      "\u001b[36malgo-1-unzqj_1  |\u001b[0m   File \"/miniconda3/lib/python3.7/site-packages/flask/app.py\", line 2446, in wsgi_app\n",
      "\u001b[36malgo-1-unzqj_1  |\u001b[0m     response = self.full_dispatch_request()\n",
      "\u001b[36malgo-1-unzqj_1  |\u001b[0m   File \"/miniconda3/lib/python3.7/site-packages/flask/app.py\", line 1951, in full_dispatch_request\n",
      "\u001b[36malgo-1-unzqj_1  |\u001b[0m     rv = self.handle_user_exception(e)\n",
      "\u001b[36malgo-1-unzqj_1  |\u001b[0m   File \"/miniconda3/lib/python3.7/site-packages/flask/app.py\", line 1820, in handle_user_exception\n",
      "\u001b[36malgo-1-unzqj_1  |\u001b[0m     reraise(exc_type, exc_value, tb)\n",
      "\u001b[36malgo-1-unzqj_1  |\u001b[0m   File \"/miniconda3/lib/python3.7/site-packages/flask/_compat.py\", line 39, in reraise\n",
      "\u001b[36malgo-1-unzqj_1  |\u001b[0m     raise value\n",
      "\u001b[36malgo-1-unzqj_1  |\u001b[0m   File \"/miniconda3/lib/python3.7/site-packages/flask/app.py\", line 1949, in full_dispatch_request\n",
      "\u001b[36malgo-1-unzqj_1  |\u001b[0m     rv = self.dispatch_request()\n",
      "\u001b[36malgo-1-unzqj_1  |\u001b[0m   File \"/miniconda3/lib/python3.7/site-packages/flask/app.py\", line 1935, in dispatch_request\n",
      "\u001b[36malgo-1-unzqj_1  |\u001b[0m     return self.view_functions[rule.endpoint](**req.view_args)\n",
      "\u001b[36malgo-1-unzqj_1  |\u001b[0m   File \"/miniconda3/lib/python3.7/site-packages/sagemaker_containers/_transformer.py\", line 200, in transform\n",
      "\u001b[36malgo-1-unzqj_1  |\u001b[0m     self._model, request.content, request.content_type, request.accept\n",
      "\u001b[36malgo-1-unzqj_1  |\u001b[0m   File \"/miniconda3/lib/python3.7/site-packages/sagemaker_containers/_transformer.py\", line 234, in _default_transform_fn\n",
      "\u001b[36malgo-1-unzqj_1  |\u001b[0m     result = self._output_fn(prediction, accept)\n",
      "\u001b[36malgo-1-unzqj_1  |\u001b[0m   File \"/miniconda3/lib/python3.7/site-packages/sagemaker_containers/_functions.py\", line 95, in wrapper\n",
      "\u001b[36malgo-1-unzqj_1  |\u001b[0m     six.reraise(error_class, error_class(e), sys.exc_info()[2])\n",
      "\u001b[36malgo-1-unzqj_1  |\u001b[0m   File \"/miniconda3/lib/python3.7/site-packages/six.py\", line 692, in reraise\n",
      "\u001b[36malgo-1-unzqj_1  |\u001b[0m     raise value.with_traceback(tb)\n",
      "\u001b[36malgo-1-unzqj_1  |\u001b[0m   File \"/miniconda3/lib/python3.7/site-packages/sagemaker_containers/_functions.py\", line 93, in wrapper\n",
      "\u001b[36malgo-1-unzqj_1  |\u001b[0m     return fn(*args, **kwargs)\n",
      "\u001b[36malgo-1-unzqj_1  |\u001b[0m   File \"/opt/ml/code/pca_byoc_train.py\", line 184, in output_fn\n",
      "\u001b[36malgo-1-unzqj_1  |\u001b[0m     return worker.Response(encoders.encode(prediction, accept), mimetype=accept)\n",
      "\u001b[36malgo-1-unzqj_1  |\u001b[0m sagemaker_containers._errors.ClientError: name 'worker' is not defined\n",
      "\u001b[36malgo-1-unzqj_1  |\u001b[0m 172.18.0.1 - - [14/Aug/2020:00:19:04 +0000] \"POST /invocations HTTP/1.1\" 500 290 \"-\" \"-\"\n",
      "Gracefully stopping... (press Ctrl+C again to force)\n",
      "Waiting for transform job: pca-2020-08-14-00-18-58-657-2020-08-14-00-18-58-657\n",
      "."
     ]
    }
   ],
   "source": [
    "instance_type = 'local'\n",
    "# instance_type = 'ml.m4.2xlarge'\n",
    "transform_train_output_path = 's3://{}/{}/{}/'.format(bucket, prefix, 'transformtrain-pca-train-output')\n",
    "\n",
    "pca_model = pca_estimator.create_model(\n",
    "    env={'TRANSFORM_MODE': 'feature-transform', 'LENGTH_COLS': str(num_cols)})\n",
    "\n",
    "# scikit_learn_inferencee_model 에서 Train Transformer 생성\n",
    "transformer_train = pca_model.transformer(\n",
    "    instance_count=1, \n",
    "    instance_type= instance_type,\n",
    "    assemble_with = 'Line',\n",
    "    output_path = transform_train_output_path,\n",
    "    accept = 'text/csv')\n",
    "\n",
    "\n",
    "# Preprocess training input\n",
    "transformer_train.transform(preprocessed_train_path_file, \n",
    "                            content_type='text/csv',                            \n",
    "                           )\n",
    "\n",
    "print('Waiting for transform job: ' + transformer_train.latest_transform_job.job_name)\n",
    "transformer_train.wait()\n",
    "\n",
    "preprocessed_pca_train_path = transformer_train.output_path + transformer_train.latest_transform_job.job_name\n"
   ]
  },
  {
   "cell_type": "code",
   "execution_count": 21,
   "metadata": {},
   "outputs": [
    {
     "name": "stdout",
     "output_type": "stream",
     "text": [
      "s3://sagemaker-us-east-2-057716757052/Scikit-pca-custom/transformtrain-pca-train-output/pca-2020-08-14-00-18-58-657-2020-08-14-00-18-58-657\n"
     ]
    }
   ],
   "source": [
    "print(preprocessed_pca_train_path)"
   ]
  },
  {
   "cell_type": "code",
   "execution_count": 22,
   "metadata": {},
   "outputs": [
    {
     "name": "stdout",
     "output_type": "stream",
     "text": [
      "2020-08-13 01:27:28     707835 Scikit-pca-custom/transformtrain-pca-train-output/pca-2020-08-13-01-27-21-375-2020-08-13-01-27-21-375/train.csv.out.out\n"
     ]
    }
   ],
   "source": [
    "! aws s3 ls s3://sagemaker-us-east-2-057716757052/Scikit-pca-custom/transformtrain-pca-train-output/pca-2020-08-13-01-27-21-375-2020-08-13-01-27-21-375 --recursive"
   ]
  },
  {
   "cell_type": "code",
   "execution_count": 23,
   "metadata": {},
   "outputs": [
    {
     "data": {
      "text/html": [
       "<div>\n",
       "<style scoped>\n",
       "    .dataframe tbody tr th:only-of-type {\n",
       "        vertical-align: middle;\n",
       "    }\n",
       "\n",
       "    .dataframe tbody tr th {\n",
       "        vertical-align: top;\n",
       "    }\n",
       "\n",
       "    .dataframe thead th {\n",
       "        text-align: right;\n",
       "    }\n",
       "</style>\n",
       "<table border=\"1\" class=\"dataframe\">\n",
       "  <thead>\n",
       "    <tr style=\"text-align: right;\">\n",
       "      <th></th>\n",
       "      <th>0</th>\n",
       "    </tr>\n",
       "  </thead>\n",
       "  <tbody>\n",
       "    <tr>\n",
       "      <th>0</th>\n",
       "      <td>&lt;!DOCTYPE HTML PUBLIC \"-//W3C//DTD HTML 3.2 Fi...</td>\n",
       "    </tr>\n",
       "    <tr>\n",
       "      <th>1</th>\n",
       "      <td>&lt;title&gt;500 Internal Server Error&lt;/title&gt;</td>\n",
       "    </tr>\n",
       "    <tr>\n",
       "      <th>2</th>\n",
       "      <td>&lt;h1&gt;Internal Server Error&lt;/h1&gt;</td>\n",
       "    </tr>\n",
       "    <tr>\n",
       "      <th>3</th>\n",
       "      <td>&lt;p&gt;The server encountered an internal error an...</td>\n",
       "    </tr>\n",
       "  </tbody>\n",
       "</table>\n",
       "</div>"
      ],
      "text/plain": [
       "                                                   0\n",
       "0  <!DOCTYPE HTML PUBLIC \"-//W3C//DTD HTML 3.2 Fi...\n",
       "1           <title>500 Internal Server Error</title>\n",
       "2                     <h1>Internal Server Error</h1>\n",
       "3  <p>The server encountered an internal error an..."
      ]
     },
     "execution_count": 23,
     "metadata": {},
     "output_type": "execute_result"
    }
   ],
   "source": [
    "preprocessed_pca_train_path_file = '{}/train.csv.out.out'.format(preprocessed_pca_train_path)\n",
    "pca_preoc_df = pd.read_csv(preprocessed_pca_train_path_file, header=None)\n",
    "pca_preoc_df.head()"
   ]
  },
  {
   "cell_type": "markdown",
   "metadata": {},
   "source": [
    "## PCA Validation Transforming"
   ]
  },
  {
   "cell_type": "code",
   "execution_count": 24,
   "metadata": {},
   "outputs": [
    {
     "data": {
      "text/plain": [
       "'s3://sagemaker-us-east-2-057716757052/sagemaker/customer-churn/transformtrain-validation-output/sagemaker-scikit-learn-2020-08-14-00-18-2020-08-14-00-18-43-936'"
      ]
     },
     "execution_count": 24,
     "metadata": {},
     "output_type": "execute_result"
    }
   ],
   "source": [
    "preprocessed_validation_path"
   ]
  },
  {
   "cell_type": "code",
   "execution_count": 25,
   "metadata": {},
   "outputs": [
    {
     "name": "stdout",
     "output_type": "stream",
     "text": [
      "(666, 70)\n",
      "num_cols:  70\n"
     ]
    }
   ],
   "source": [
    "import pandas as pd\n",
    "\n",
    "preprocessed_validation_path_file = '{}/validation.csv.out'.format(preprocessed_validation_path)\n",
    "pre_df = pd.read_csv(preprocessed_validation_path_file, header=None)\n",
    "print(pre_df.shape)\n",
    "num_cols = pre_df.shape[1]\n",
    "print(\"num_cols: \", num_cols)"
   ]
  },
  {
   "cell_type": "code",
   "execution_count": 26,
   "metadata": {},
   "outputs": [
    {
     "name": "stderr",
     "output_type": "stream",
     "text": [
      "WARNING:sagemaker:Parameter image will be renamed to image_uri in SageMaker Python SDK v2.\n",
      "WARNING:urllib3.connectionpool:Retrying (Retry(total=2, connect=None, read=None, redirect=None, status=None)) after connection broken by 'NewConnectionError('<urllib3.connection.HTTPConnection object at 0x7f3b3c6616a0>: Failed to establish a new connection: [Errno 111] Connection refused',)': /ping\n",
      "WARNING:urllib3.connectionpool:Retrying (Retry(total=1, connect=None, read=None, redirect=None, status=None)) after connection broken by 'NewConnectionError('<urllib3.connection.HTTPConnection object at 0x7f3b3c6610f0>: Failed to establish a new connection: [Errno 111] Connection refused',)': /ping\n",
      "WARNING:urllib3.connectionpool:Retrying (Retry(total=0, connect=None, read=None, redirect=None, status=None)) after connection broken by 'NewConnectionError('<urllib3.connection.HTTPConnection object at 0x7f3b3c661c18>: Failed to establish a new connection: [Errno 111] Connection refused',)': /ping\n"
     ]
    },
    {
     "name": "stdout",
     "output_type": "stream",
     "text": [
      "Attaching to tmpifu9sv6c_algo-1-95j6k_1\n",
      "\u001b[36malgo-1-95j6k_1  |\u001b[0m Processing /opt/ml/code\n",
      "\u001b[36malgo-1-95j6k_1  |\u001b[0m Building wheels for collected packages: pca-byoc-train\n",
      "\u001b[36malgo-1-95j6k_1  |\u001b[0m   Building wheel for pca-byoc-train (setup.py) ... \u001b[?25ldone\n",
      "\u001b[36malgo-1-95j6k_1  |\u001b[0m \u001b[?25h  Created wheel for pca-byoc-train: filename=pca_byoc_train-1.0.0-py2.py3-none-any.whl size=9351 sha256=2d7d181bf322ebbaaf01413f4490eb28d0af67f4c125ee6e33b26d0057effaa4\n",
      "\u001b[36malgo-1-95j6k_1  |\u001b[0m   Stored in directory: /tmp/pip-ephem-wheel-cache-umec59su/wheels/35/24/16/37574d11bf9bde50616c67372a334f94fa8356bc7164af8ca3\n",
      "\u001b[36malgo-1-95j6k_1  |\u001b[0m Successfully built pca-byoc-train\n",
      "\u001b[36malgo-1-95j6k_1  |\u001b[0m Installing collected packages: pca-byoc-train\n",
      "\u001b[36malgo-1-95j6k_1  |\u001b[0m Successfully installed pca-byoc-train-1.0.0\n",
      "\u001b[36malgo-1-95j6k_1  |\u001b[0m /miniconda3/lib/python3.7/site-packages/sklearn/externals/joblib/externals/cloudpickle/cloudpickle.py:47: DeprecationWarning: the imp module is deprecated in favour of importlib; see the module's documentation for alternative uses\n",
      "\u001b[36malgo-1-95j6k_1  |\u001b[0m   import imp\n",
      "\u001b[36malgo-1-95j6k_1  |\u001b[0m [2020-08-14 00:19:09 +0000] [44] [INFO] Starting gunicorn 19.9.0\n",
      "\u001b[36malgo-1-95j6k_1  |\u001b[0m [2020-08-14 00:19:09 +0000] [44] [INFO] Listening at: unix:/tmp/gunicorn.sock (44)\n",
      "\u001b[36malgo-1-95j6k_1  |\u001b[0m [2020-08-14 00:19:09 +0000] [44] [INFO] Using worker: gevent\n",
      "\u001b[36malgo-1-95j6k_1  |\u001b[0m [2020-08-14 00:19:09 +0000] [47] [INFO] Booting worker with pid: 47\n",
      "\u001b[36malgo-1-95j6k_1  |\u001b[0m [2020-08-14 00:19:09 +0000] [48] [INFO] Booting worker with pid: 48\n",
      "\u001b[36malgo-1-95j6k_1  |\u001b[0m [2020-08-14 00:19:09 +0000] [56] [INFO] Booting worker with pid: 56\n",
      "\u001b[36malgo-1-95j6k_1  |\u001b[0m [2020-08-14 00:19:09 +0000] [64] [INFO] Booting worker with pid: 64\n",
      "\u001b[36malgo-1-95j6k_1  |\u001b[0m [2020-08-14 00:19:09 +0000] [72] [INFO] Booting worker with pid: 72\n",
      "\u001b[36malgo-1-95j6k_1  |\u001b[0m [2020-08-14 00:19:09 +0000] [73] [INFO] Booting worker with pid: 73\n",
      "\u001b[36malgo-1-95j6k_1  |\u001b[0m [2020-08-14 00:19:09 +0000] [88] [INFO] Booting worker with pid: 88\n",
      "\u001b[36malgo-1-95j6k_1  |\u001b[0m [2020-08-14 00:19:09 +0000] [96] [INFO] Booting worker with pid: 96\n",
      "\u001b[36malgo-1-95j6k_1  |\u001b[0m 2020-08-14 00:19:11,303 INFO - sagemaker-containers - No GPUs detected (normal if no gpus installed)\n",
      "\u001b[36malgo-1-95j6k_1  |\u001b[0m /miniconda3/lib/python3.7/site-packages/sklearn/externals/joblib/externals/cloudpickle/cloudpickle.py:47: DeprecationWarning: the imp module is deprecated in favour of importlib; see the module's documentation for alternative uses\n",
      "\u001b[36malgo-1-95j6k_1  |\u001b[0m   import imp\n",
      "\u001b[36malgo-1-95j6k_1  |\u001b[0m 172.18.0.1 - - [14/Aug/2020:00:19:11 +0000] \"GET /ping HTTP/1.1\" 200 0 \"-\" \"-\"\n",
      "\u001b[36malgo-1-95j6k_1  |\u001b[0m 172.18.0.1 - - [14/Aug/2020:00:19:11 +0000] \"GET /execution-parameters HTTP/1.1\" 404 232 \"-\" \"-\"\n",
      "\u001b[36malgo-1-95j6k_1  |\u001b[0m input_fn: Starting\n",
      "\u001b[36malgo-1-95j6k_1  |\u001b[0m type of input_data:  <class 'str'>\n",
      "\u001b[36malgo-1-95j6k_1  |\u001b[0m request_content_type:  text/csv\n",
      "\u001b[36malgo-1-95j6k_1  |\u001b[0m 2020-08-14 00:19:11,799 INFO - root - input_fn: \n",
      "\u001b[36malgo-1-95j6k_1  |\u001b[0m 2020-08-14 00:19:11,800 INFO - root - shape of requested data: '(666, 70)'\n",
      "\u001b[36malgo-1-95j6k_1  |\u001b[0m 2020-08-14 00:19:11,863 INFO - root - requested data: '      0   ...   69\n",
      "\u001b[36malgo-1-95j6k_1  |\u001b[0m 0    0.0  ...  1.0\n",
      "\u001b[36malgo-1-95j6k_1  |\u001b[0m 1    0.0  ...  0.0\n",
      "\u001b[36malgo-1-95j6k_1  |\u001b[0m 2    0.0  ...  1.0\n",
      "\u001b[36malgo-1-95j6k_1  |\u001b[0m 3    0.0  ...  0.0\n",
      "\u001b[36malgo-1-95j6k_1  |\u001b[0m 4    0.0  ...  1.0\n",
      "\u001b[36malgo-1-95j6k_1  |\u001b[0m ..   ...  ...  ...\n",
      "\u001b[36malgo-1-95j6k_1  |\u001b[0m 661  0.0  ...  0.0\n",
      "\u001b[36malgo-1-95j6k_1  |\u001b[0m 662  0.0  ...  0.0\n",
      "\u001b[36malgo-1-95j6k_1  |\u001b[0m 663  0.0  ...  1.0\n",
      "\u001b[36malgo-1-95j6k_1  |\u001b[0m 664  0.0  ...  0.0\n",
      "\u001b[36malgo-1-95j6k_1  |\u001b[0m 665  0.0  ...  1.0\n",
      "\u001b[36malgo-1-95j6k_1  |\u001b[0m \n",
      "\u001b[36malgo-1-95j6k_1  |\u001b[0m [666 rows x 70 columns]'\n",
      "\u001b[36malgo-1-95j6k_1  |\u001b[0m prdict_fn: Staring\n",
      "\u001b[36malgo-1-95j6k_1  |\u001b[0m os.getenv('TRANSFORM_MODE'):  feature-transform\n",
      "\u001b[36malgo-1-95j6k_1  |\u001b[0m predcit_fn - TRANSFORM_MODE:  feature-transform\n",
      "\u001b[36malgo-1-95j6k_1  |\u001b[0m 2020-08-14 00:19:11,925 INFO - root - predict_fn: input_data - '      0   ...   69\n",
      "\u001b[36malgo-1-95j6k_1  |\u001b[0m 0    0.0  ...  1.0\n",
      "\u001b[36malgo-1-95j6k_1  |\u001b[0m 1    0.0  ...  0.0\n",
      "\u001b[36malgo-1-95j6k_1  |\u001b[0m 2    0.0  ...  1.0\n",
      "\u001b[36malgo-1-95j6k_1  |\u001b[0m 3    0.0  ...  0.0\n",
      "\u001b[36malgo-1-95j6k_1  |\u001b[0m 4    0.0  ...  1.0\n",
      "\u001b[36malgo-1-95j6k_1  |\u001b[0m ..   ...  ...  ...\n",
      "\u001b[36malgo-1-95j6k_1  |\u001b[0m 661  0.0  ...  0.0\n",
      "\u001b[36malgo-1-95j6k_1  |\u001b[0m 662  0.0  ...  0.0\n",
      "\u001b[36malgo-1-95j6k_1  |\u001b[0m 663  0.0  ...  1.0\n",
      "\u001b[36malgo-1-95j6k_1  |\u001b[0m 664  0.0  ...  0.0\n",
      "\u001b[36malgo-1-95j6k_1  |\u001b[0m 665  0.0  ...  1.0\n",
      "\u001b[36malgo-1-95j6k_1  |\u001b[0m \n",
      "\u001b[36malgo-1-95j6k_1  |\u001b[0m [666 rows x 70 columns]'\n",
      "\u001b[36malgo-1-95j6k_1  |\u001b[0m type of input_data:  <class 'pandas.core.frame.DataFrame'>\n",
      "\u001b[36malgo-1-95j6k_1  |\u001b[0m shape of input_data:  (666, 70)\n",
      "\u001b[36malgo-1-95j6k_1  |\u001b[0m head of input_data: \n",
      "\u001b[36malgo-1-95j6k_1  |\u001b[0m       0   ...   69\n",
      "\u001b[36malgo-1-95j6k_1  |\u001b[0m 0  0.0  ...  1.0\n",
      "\u001b[36malgo-1-95j6k_1  |\u001b[0m 1  0.0  ...  0.0\n",
      "\u001b[36malgo-1-95j6k_1  |\u001b[0m \n",
      "\u001b[36malgo-1-95j6k_1  |\u001b[0m [2 rows x 70 columns]\n",
      "\u001b[36malgo-1-95j6k_1  |\u001b[0m os.getenv('LENGTH_COLS') :  70\n",
      "\u001b[36malgo-1-95j6k_1  |\u001b[0m type: os.getenv('LENGTH_COLS'):  <class 'str'>\n",
      "\u001b[36malgo-1-95j6k_1  |\u001b[0m type of components:  <class 'numpy.ndarray'>\n",
      "\u001b[36malgo-1-95j6k_1  |\u001b[0m shape of components:  (666, 15)\n"
     ]
    },
    {
     "name": "stderr",
     "output_type": "stream",
     "text": [
      "WARNING:sagemaker:'upload_data' method will be deprecated in favor of 'S3Uploader' class (https://sagemaker.readthedocs.io/en/stable/s3.html#sagemaker.s3.S3Uploader) in SageMaker Python SDK v2.\n"
     ]
    },
    {
     "name": "stdout",
     "output_type": "stream",
     "text": [
      "\u001b[36malgo-1-95j6k_1  |\u001b[0m 2020-08-14 00:19:11,990 INFO - root - predict_fn: PCA components: \n",
      "\u001b[36malgo-1-95j6k_1  |\u001b[0m '[[ 0.00000000e+00  1.64752263e+00  1.32131166e+00 ... -6.49167408e-02\n",
      "\u001b[36malgo-1-95j6k_1  |\u001b[0m    7.07399882e-03  1.44464795e-01]\n",
      "\u001b[36malgo-1-95j6k_1  |\u001b[0m  [ 0.00000000e+00 -5.68755662e-01  2.09781518e-01 ... -4.23991349e-02\n",
      "\u001b[36malgo-1-95j6k_1  |\u001b[0m   -7.48107359e-02 -1.31678355e-02]\n",
      "\u001b[36malgo-1-95j6k_1  |\u001b[0m  [ 0.00000000e+00  1.85617085e+00 -5.58974510e-01 ... -1.76052781e-02\n",
      "\u001b[36malgo-1-95j6k_1  |\u001b[0m   -6.54819107e-02 -8.70081054e-02]\n",
      "\u001b[36malgo-1-95j6k_1  |\u001b[0m  ...\n",
      "\u001b[36malgo-1-95j6k_1  |\u001b[0m  [ 0.00000000e+00  1.82761578e+00 -1.00779899e+00 ... -1.09015285e-01\n",
      "\u001b[36malgo-1-95j6k_1  |\u001b[0m    1.87648603e-01 -9.06573970e-02]\n",
      "\u001b[36malgo-1-95j6k_1  |\u001b[0m  [ 0.00000000e+00 -4.22450286e-01  5.32203378e-01 ... -2.54986077e-02\n",
      "\u001b[36malgo-1-95j6k_1  |\u001b[0m   -5.69610933e-02 -1.61262599e-04]\n",
      "\u001b[36malgo-1-95j6k_1  |\u001b[0m  [ 0.00000000e+00  2.79442241e+00  1.44731324e+00 ...  5.20296004e-02\n",
      "\u001b[36malgo-1-95j6k_1  |\u001b[0m   -2.87291783e-01 -5.07910907e-01]]'\n",
      "\u001b[36malgo-1-95j6k_1  |\u001b[0m 2020-08-14 00:19:11,991 INFO - root - Output_fn: prdiction - '[[ 0.00000000e+00  1.64752263e+00  1.32131166e+00 ... -6.49167408e-02\n",
      "\u001b[36malgo-1-95j6k_1  |\u001b[0m    7.07399882e-03  1.44464795e-01]\n",
      "\u001b[36malgo-1-95j6k_1  |\u001b[0m  [ 0.00000000e+00 -5.68755662e-01  2.09781518e-01 ... -4.23991349e-02\n",
      "\u001b[36malgo-1-95j6k_1  |\u001b[0m   -7.48107359e-02 -1.31678355e-02]\n",
      "\u001b[36malgo-1-95j6k_1  |\u001b[0m  [ 0.00000000e+00  1.85617085e+00 -5.58974510e-01 ... -1.76052781e-02\n",
      "\u001b[36malgo-1-95j6k_1  |\u001b[0m   -6.54819107e-02 -8.70081054e-02]\n",
      "\u001b[36malgo-1-95j6k_1  |\u001b[0m  ...\n",
      "\u001b[36malgo-1-95j6k_1  |\u001b[0m  [ 0.00000000e+00  1.82761578e+00 -1.00779899e+00 ... -1.09015285e-01\n",
      "\u001b[36malgo-1-95j6k_1  |\u001b[0m    1.87648603e-01 -9.06573970e-02]\n",
      "\u001b[36malgo-1-95j6k_1  |\u001b[0m  [ 0.00000000e+00 -4.22450286e-01  5.32203378e-01 ... -2.54986077e-02\n",
      "\u001b[36malgo-1-95j6k_1  |\u001b[0m   -5.69610933e-02 -1.61262599e-04]\n",
      "\u001b[36malgo-1-95j6k_1  |\u001b[0m  [ 0.00000000e+00  2.79442241e+00  1.44731324e+00 ...  5.20296004e-02\n",
      "\u001b[36malgo-1-95j6k_1  |\u001b[0m   -2.87291783e-01 -5.07910907e-01]]' \n",
      "\u001b[36malgo-1-95j6k_1  |\u001b[0m type of accept:  text/csv\n",
      "\u001b[36malgo-1-95j6k_1  |\u001b[0m 2020-08-14 00:19:11,992 ERROR - pca_byoc_train - Exception on /invocations [POST]\n",
      "\u001b[36malgo-1-95j6k_1  |\u001b[0m Traceback (most recent call last):\n",
      "\u001b[36malgo-1-95j6k_1  |\u001b[0m   File \"/miniconda3/lib/python3.7/site-packages/sagemaker_containers/_functions.py\", line 93, in wrapper\n",
      "\u001b[36malgo-1-95j6k_1  |\u001b[0m     return fn(*args, **kwargs)\n",
      "\u001b[36malgo-1-95j6k_1  |\u001b[0m   File \"/opt/ml/code/pca_byoc_train.py\", line 184, in output_fn\n",
      "\u001b[36malgo-1-95j6k_1  |\u001b[0m     return worker.Response(encoders.encode(prediction, accept), mimetype=accept)\n",
      "\u001b[36malgo-1-95j6k_1  |\u001b[0m NameError: name 'worker' is not defined\n",
      "\u001b[36malgo-1-95j6k_1  |\u001b[0m \n",
      "\u001b[36malgo-1-95j6k_1  |\u001b[0m During handling of the above exception, another exception occurred:\n",
      "\u001b[36malgo-1-95j6k_1  |\u001b[0m \n",
      "\u001b[36malgo-1-95j6k_1  |\u001b[0m Traceback (most recent call last):\n",
      "\u001b[36malgo-1-95j6k_1  |\u001b[0m   File \"/miniconda3/lib/python3.7/site-packages/flask/app.py\", line 2446, in wsgi_app\n",
      "\u001b[36malgo-1-95j6k_1  |\u001b[0m     response = self.full_dispatch_request()\n",
      "\u001b[36malgo-1-95j6k_1  |\u001b[0m   File \"/miniconda3/lib/python3.7/site-packages/flask/app.py\", line 1951, in full_dispatch_request\n",
      "\u001b[36malgo-1-95j6k_1  |\u001b[0m     rv = self.handle_user_exception(e)\n",
      "\u001b[36malgo-1-95j6k_1  |\u001b[0m   File \"/miniconda3/lib/python3.7/site-packages/flask/app.py\", line 1820, in handle_user_exception\n",
      "\u001b[36malgo-1-95j6k_1  |\u001b[0m     reraise(exc_type, exc_value, tb)\n",
      "\u001b[36malgo-1-95j6k_1  |\u001b[0m   File \"/miniconda3/lib/python3.7/site-packages/flask/_compat.py\", line 39, in reraise\n",
      "\u001b[36malgo-1-95j6k_1  |\u001b[0m     raise value\n",
      "\u001b[36malgo-1-95j6k_1  |\u001b[0m   File \"/miniconda3/lib/python3.7/site-packages/flask/app.py\", line 1949, in full_dispatch_request\n",
      "\u001b[36malgo-1-95j6k_1  |\u001b[0m     rv = self.dispatch_request()\n",
      "\u001b[36malgo-1-95j6k_1  |\u001b[0m   File \"/miniconda3/lib/python3.7/site-packages/flask/app.py\", line 1935, in dispatch_request\n",
      "\u001b[36malgo-1-95j6k_1  |\u001b[0m     return self.view_functions[rule.endpoint](**req.view_args)\n",
      "\u001b[36malgo-1-95j6k_1  |\u001b[0m   File \"/miniconda3/lib/python3.7/site-packages/sagemaker_containers/_transformer.py\", line 200, in transform\n",
      "\u001b[36malgo-1-95j6k_1  |\u001b[0m     self._model, request.content, request.content_type, request.accept\n",
      "\u001b[36malgo-1-95j6k_1  |\u001b[0m   File \"/miniconda3/lib/python3.7/site-packages/sagemaker_containers/_transformer.py\", line 234, in _default_transform_fn\n",
      "\u001b[36malgo-1-95j6k_1  |\u001b[0m     result = self._output_fn(prediction, accept)\n",
      "\u001b[36malgo-1-95j6k_1  |\u001b[0m   File \"/miniconda3/lib/python3.7/site-packages/sagemaker_containers/_functions.py\", line 95, in wrapper\n",
      "\u001b[36malgo-1-95j6k_1  |\u001b[0m     six.reraise(error_class, error_class(e), sys.exc_info()[2])\n",
      "\u001b[36malgo-1-95j6k_1  |\u001b[0m   File \"/miniconda3/lib/python3.7/site-packages/six.py\", line 692, in reraise\n",
      "\u001b[36malgo-1-95j6k_1  |\u001b[0m     raise value.with_traceback(tb)\n",
      "\u001b[36malgo-1-95j6k_1  |\u001b[0m   File \"/miniconda3/lib/python3.7/site-packages/sagemaker_containers/_functions.py\", line 93, in wrapper\n",
      "\u001b[36malgo-1-95j6k_1  |\u001b[0m     return fn(*args, **kwargs)\n",
      "\u001b[36malgo-1-95j6k_1  |\u001b[0m   File \"/opt/ml/code/pca_byoc_train.py\", line 184, in output_fn\n",
      "\u001b[36malgo-1-95j6k_1  |\u001b[0m     return worker.Response(encoders.encode(prediction, accept), mimetype=accept)\n",
      "\u001b[36malgo-1-95j6k_1  |\u001b[0m sagemaker_containers._errors.ClientError: name 'worker' is not defined\n",
      "\u001b[36malgo-1-95j6k_1  |\u001b[0m 172.18.0.1 - - [14/Aug/2020:00:19:11 +0000] \"POST /invocations HTTP/1.1\" 500 290 \"-\" \"-\"\n",
      "Gracefully stopping... (press Ctrl+C again to force)\n",
      "Waiting for transform job: pca-2020-08-14-00-19-06-059-2020-08-14-00-19-06-059\n",
      ".s3://sagemaker-us-east-2-057716757052/Scikit-pca-custom/transformtrain-pca-validation-output/pca-2020-08-14-00-19-06-059-2020-08-14-00-19-06-059\n"
     ]
    }
   ],
   "source": [
    "\n",
    "\n",
    "instance_type = 'local'\n",
    "# instance_type = 'ml.m4.2xlarge'\n",
    "transform_validation_output_path = 's3://{}/{}/{}/'.format(bucket, prefix, 'transformtrain-pca-validation-output')\n",
    "\n",
    "pca_model = pca_estimator.create_model(\n",
    "    env={'TRANSFORM_MODE': 'feature-transform', 'LENGTH_COLS': str(num_cols)})\n",
    "\n",
    "# scikit_learn_inferencee_model 에서 Train Transformer 생성\n",
    "transformer_validation = pca_model.transformer(\n",
    "    instance_count=1, \n",
    "    instance_type= instance_type,\n",
    "    assemble_with = 'Line',\n",
    "    output_path = transform_validation_output_path,\n",
    "    accept = 'text/csv')\n",
    "\n",
    "\n",
    "# Preprocess training input\n",
    "transformer_validation.transform(preprocessed_validation_path_file, \n",
    "                            content_type='text/csv',                            \n",
    "                           )\n",
    "\n",
    "print('Waiting for transform job: ' + transformer_validation.latest_transform_job.job_name)\n",
    "transformer_validation.wait()\n",
    "\n",
    "preprocessed_pca_validation_path = transformer_validation.output_path + transformer_validation.latest_transform_job.job_name\n",
    "print(preprocessed_pca_validation_path)"
   ]
  },
  {
   "cell_type": "code",
   "execution_count": 27,
   "metadata": {},
   "outputs": [
    {
     "data": {
      "text/html": [
       "<div>\n",
       "<style scoped>\n",
       "    .dataframe tbody tr th:only-of-type {\n",
       "        vertical-align: middle;\n",
       "    }\n",
       "\n",
       "    .dataframe tbody tr th {\n",
       "        vertical-align: top;\n",
       "    }\n",
       "\n",
       "    .dataframe thead th {\n",
       "        text-align: right;\n",
       "    }\n",
       "</style>\n",
       "<table border=\"1\" class=\"dataframe\">\n",
       "  <thead>\n",
       "    <tr style=\"text-align: right;\">\n",
       "      <th></th>\n",
       "      <th>0</th>\n",
       "    </tr>\n",
       "  </thead>\n",
       "  <tbody>\n",
       "    <tr>\n",
       "      <th>0</th>\n",
       "      <td>&lt;!DOCTYPE HTML PUBLIC \"-//W3C//DTD HTML 3.2 Fi...</td>\n",
       "    </tr>\n",
       "    <tr>\n",
       "      <th>1</th>\n",
       "      <td>&lt;title&gt;500 Internal Server Error&lt;/title&gt;</td>\n",
       "    </tr>\n",
       "    <tr>\n",
       "      <th>2</th>\n",
       "      <td>&lt;h1&gt;Internal Server Error&lt;/h1&gt;</td>\n",
       "    </tr>\n",
       "    <tr>\n",
       "      <th>3</th>\n",
       "      <td>&lt;p&gt;The server encountered an internal error an...</td>\n",
       "    </tr>\n",
       "  </tbody>\n",
       "</table>\n",
       "</div>"
      ],
      "text/plain": [
       "                                                   0\n",
       "0  <!DOCTYPE HTML PUBLIC \"-//W3C//DTD HTML 3.2 Fi...\n",
       "1           <title>500 Internal Server Error</title>\n",
       "2                     <h1>Internal Server Error</h1>\n",
       "3  <p>The server encountered an internal error an..."
      ]
     },
     "execution_count": 27,
     "metadata": {},
     "output_type": "execute_result"
    }
   ],
   "source": [
    "preprocessed_pca_validation_path_file = '{}/validation.csv.out.out'.format(preprocessed_pca_validation_path)\n",
    "pca_val_preoc_df = pd.read_csv(preprocessed_pca_validation_path_file, header=None)\n",
    "pca_val_preoc_df.head()"
   ]
  },
  {
   "cell_type": "markdown",
   "metadata": {},
   "source": [
    "---\n",
    "## Train with XGBoost on SageMaker Cloud Instance\n",
    "아 과정은 위의 전처리된 데이타를 가지고 실제 SageMaker Built-in Algorithm XGBoost를 이용하여 학습을 수행 합니다.<br>\n",
    "실제의 학습 과정은 SageMaker Cloud Instance에서 실제 학습니 됩니다.\n",
    "\n",
    "\n",
    "Built-in XGboost 알고리즘 컨테이너를 가져옵니다."
   ]
  },
  {
   "cell_type": "code",
   "execution_count": 28,
   "metadata": {},
   "outputs": [
    {
     "name": "stderr",
     "output_type": "stream",
     "text": [
      "WARNING:sagemaker.amazon.amazon_estimator:'get_image_uri' method will be deprecated in favor of 'ImageURIProvider' class in SageMaker Python SDK v2.\n"
     ]
    }
   ],
   "source": [
    "import boto3\n",
    "\n",
    "from sagemaker.amazon.amazon_estimator import get_image_uri\n",
    "container = get_image_uri(boto3.Session().region_name, 'xgboost', '1.0-1')"
   ]
  },
  {
   "cell_type": "markdown",
   "metadata": {},
   "source": [
    "S3에 있는 Train, Validation 전처리된 (Features) 데이타의 경로 및 파일 포맷등을 지정하는 오브젝트를 생성 합니다."
   ]
  },
  {
   "cell_type": "code",
   "execution_count": 29,
   "metadata": {},
   "outputs": [
    {
     "name": "stderr",
     "output_type": "stream",
     "text": [
      "WARNING:sagemaker:'s3_input' class will be renamed to 'TrainingInput' in SageMaker Python SDK v2.\n",
      "WARNING:sagemaker:'s3_input' class will be renamed to 'TrainingInput' in SageMaker Python SDK v2.\n"
     ]
    },
    {
     "name": "stdout",
     "output_type": "stream",
     "text": [
      "S3 Train input: \n",
      "\n",
      "{'DataSource': {'S3DataSource': {'S3DataType': 'S3Prefix', 'S3Uri': 's3://sagemaker-us-east-2-057716757052/Scikit-pca-custom/transformtrain-pca-train-output/pca-2020-08-14-00-18-58-657-2020-08-14-00-18-58-657', 'S3DataDistributionType': 'FullyReplicated'}}, 'ContentType': 'text/csv'}\n",
      "\n",
      "S3 Validation input: \n",
      "\n",
      "{'DataSource': {'S3DataSource': {'S3DataType': 'S3Prefix', 'S3Uri': 's3://sagemaker-us-east-2-057716757052/Scikit-pca-custom/transformtrain-pca-validation-output/pca-2020-08-14-00-19-06-059-2020-08-14-00-19-06-059', 'S3DataDistributionType': 'FullyReplicated'}}, 'ContentType': 'text/csv'}\n"
     ]
    }
   ],
   "source": [
    "s3_input_train_processed = sagemaker.session.s3_input(\n",
    "    preprocessed_pca_train_path, \n",
    "    distribution='FullyReplicated',\n",
    "    content_type='text/csv', \n",
    "    s3_data_type='S3Prefix')\n",
    "print(\"S3 Train input: \\n\")\n",
    "print(s3_input_train_processed.config)\n",
    "s3_input_validation_processed = sagemaker.session.s3_input(\n",
    "    preprocessed_pca_validation_path, \n",
    "    distribution='FullyReplicated',\n",
    "    content_type='text/csv', \n",
    "    s3_data_type='S3Prefix')\n",
    "print(\"\\nS3 Validation input: \\n\")\n",
    "print(s3_input_validation_processed.config)"
   ]
  },
  {
   "cell_type": "markdown",
   "metadata": {},
   "source": [
    "#### 아래는 약 5분 정도가 소요 됩니다. 아래 셀의 [*] 의 표시가 [숫자] (에: [13])로 바뀔 때까지 기다려 주세요"
   ]
  },
  {
   "cell_type": "code",
   "execution_count": null,
   "metadata": {},
   "outputs": [
    {
     "name": "stderr",
     "output_type": "stream",
     "text": [
      "WARNING:root:Parameter image_name will be renamed to image_uri in SageMaker Python SDK v2.\n"
     ]
    },
    {
     "name": "stdout",
     "output_type": "stream",
     "text": [
      "2020-08-14 00:19:12 Starting - Starting the training job...\n",
      "2020-08-14 00:19:14 Starting - Launching requested ML instances......\n",
      "2020-08-14 00:20:17 Starting - Preparing the instances for training...\n",
      "2020-08-14 00:21:06 Downloading - Downloading input data...\n",
      "2020-08-14 00:21:33 Training - Downloading the training image.."
     ]
    }
   ],
   "source": [
    "sess = sagemaker.Session()\n",
    "instance_type = 'ml.m4.2xlarge'\n",
    "\n",
    "\n",
    "xgb = sagemaker.estimator.Estimator(container, # Built-in XGBoost Container\n",
    "                                    role, \n",
    "                                    train_instance_count=1, \n",
    "                                    train_instance_type= instance_type,\n",
    "                                    output_path='s3://{}/{}/output'.format(bucket, prefix),\n",
    "                                    sagemaker_session=sess\n",
    "                                   )\n",
    "xgb.set_hyperparameters(max_depth=5,\n",
    "                        eta=0.2,\n",
    "                        gamma=4,\n",
    "                        min_child_weight=6,\n",
    "                        subsample=0.8,\n",
    "                        silent=0,\n",
    "                        objective='binary:logistic',\n",
    "                        num_round=100,\n",
    "                       )\n",
    "\n",
    "\n",
    "xgb.fit({'train': s3_input_train_processed, 'validation': s3_input_validation_processed}) "
   ]
  },
  {
   "cell_type": "markdown",
   "metadata": {},
   "source": [
    "## Inference Pipeline <a class=\"anchor\" id=\"pipeline_setup\"></a>\n",
    "\n",
    "아래 그림과 같이 위에서 생성한 전처리, 알고리즘 학습, 후처리의 세가지 모델을 가지고 1개의 단일 모델을 만들어 Inference Pipleline을 생성 합니다. <br>\n",
    "**입력 데이타 가공이 없이 실제 데이타가 입력이 되면, 1개의 단일 모델을 통해서 최종적으로 예측 결과인 True, False의 결과 값이 제공 됩니다.**\n",
    "\n",
    "![Inference-pipeline](img/Fig2.2.inference_pipeline.png)\n",
    "\n",
    "\n",
    "**Machine Learning Model Pipeline (Inference Pipeline)는 create_model() 를 호출하여 만들 수 있습니다.** <br>\n",
    "예를 들어 여기서는 the fitted Scikit-learn inference model, the fitted Xgboost model and the psotprocessing model 의 세가지 모델을 가지고 만듦니다."
   ]
  },
  {
   "cell_type": "markdown",
   "metadata": {},
   "source": [
    "아래는 세개 모델을 생성함. 전처리, 후처리 모델 생성시에는 환경 변수를 제공 함"
   ]
  },
  {
   "cell_type": "markdown",
   "metadata": {},
   "source": [
    "## 4개의 모델 파이프라인"
   ]
  },
  {
   "cell_type": "code",
   "execution_count": null,
   "metadata": {},
   "outputs": [],
   "source": [
    "# 전처리 모델\n",
    "scikit_learn_pre_process_model = sklearn_preprocessor.create_model(\n",
    "    env={'TRANSFORM_MODE': 'feature-transform'})    \n",
    "\n",
    "# PCA 전처리 모델\n",
    "pca_infer_model = pca_estimator.create_model(\n",
    "    env={'TRANSFORM_MODE': 'inverse-label-transform', 'LENGTH_COLS': '69'})\n",
    "\n",
    "# 학습 모델\n",
    "xgb_model = xgb.create_model()\n",
    "\n",
    "# 후처리 모델\n",
    "scikit_learn_post_process_model = sklearn_preprocessor.create_model(\n",
    "    env={'TRANSFORM_MODE': 'inverse-label-transform'})"
   ]
  },
  {
   "cell_type": "code",
   "execution_count": null,
   "metadata": {},
   "outputs": [],
   "source": [
    "print(\"Feature Transformer Model:\\n {}\".format(scikit_learn_pre_process_model.model_data))\n",
    "print(\"\\nPCA Model:\\n {}\".format(pca_infer_model.model_data))\n",
    "print(\"\\nXGBoost Model:\\n {}\".format(xgb_model.model_data))\n",
    "print(\"\\nPost-Processing Model :\\n {}\".format(scikit_learn_post_process_model.model_data))\n",
    "\n",
    "\n",
    "print(\"env: \", pca_infer_model.env)\n",
    "print(\"model_data: \", pca_infer_model.model_data)\n",
    "print(\"name: \", pca_infer_model.name)"
   ]
  },
  {
   "cell_type": "markdown",
   "metadata": {},
   "source": [
    "전처리 모델의 기타 설정 변수 확인"
   ]
  },
  {
   "cell_type": "markdown",
   "metadata": {},
   "source": [
    "\n",
    "**아래와 같은 에러가 나올시에 ECR --> 해당 리파지토리 선택 (생성한 다커 이미지) --> Permission --> 아래 정책 추가 를 해주세요**\n",
    "\"The repository of your image  does not grant ecr:GetDownloadUrlForLayer, ecr:BatchGetImage, ecr:BatchCheckLayerAvailability permission to sagemaker.amazonaws.com service principal\"\n",
    "\n",
    "```\n",
    "{\n",
    "    \"Version\": \"2008-10-17\",\n",
    "    \"Statement\": [\n",
    "        {\n",
    "            \"Sid\": \"allowSageMakerToPull\",\n",
    "            \"Effect\": \"Allow\",\n",
    "            \"Principal\": {\n",
    "                \"Service\": \"sagemaker.amazonaws.com\"\n",
    "            },\n",
    "            \"Action\": [\n",
    "                \"ecr:GetDownloadUrlForLayer\",\n",
    "                \"ecr:BatchGetImage\",\n",
    "                \"ecr:BatchCheckLayerAvailability\"\n",
    "            ]\n",
    "        }\n",
    "    ]\n",
    "}\n",
    "```\n",
    "참고 자료: \n",
    "\n",
    "Troubleshoot Amazon ECR Permissions for Inference Pipelines\n",
    "- https://docs.aws.amazon.com/sagemaker/latest/dg/inference-pipeline-troubleshoot.html\n",
    "Setting a Repository Policy Statement\n",
    "- https://docs.aws.amazon.com/AmazonECR/latest/userguide/set-repository-policy.html"
   ]
  },
  {
   "cell_type": "code",
   "execution_count": null,
   "metadata": {},
   "outputs": [],
   "source": [
    "from sagemaker.model import Model\n",
    "from sagemaker.pipeline import PipelineModel\n",
    "import boto3\n",
    "\n",
    "from time import gmtime, strftime\n",
    "\n",
    "timestamp_prefix = strftime(\"%Y-%m-%d-%H-%M-%S\", gmtime())\n",
    "model_name = 'churn-model-inference-pipeline-' + timestamp_prefix\n",
    "\n",
    "\n",
    "sklearn_preprocessor.create_model\n",
    "\n",
    "pipeline_model = PipelineModel(\n",
    "    name = model_name,\n",
    "    role = role,\n",
    "    models = [\n",
    "        scikit_learn_pre_process_model,\n",
    "        pca_infer_model,        \n",
    "        xgb_model,\n",
    "        scikit_learn_post_process_model        \n",
    "    ]\n",
    ")"
   ]
  },
  {
   "cell_type": "code",
   "execution_count": null,
   "metadata": {},
   "outputs": [],
   "source": [
    "%%time\n",
    "\n",
    "instance_type='ml.t2.medium'\n",
    "# instance_type='local'\n",
    "endpoint_name= 'churn-model-pipeline-endpoint-' + timestamp_prefix\n",
    "\n",
    "deployed_model = pipeline_model.deploy(\n",
    "    initial_instance_count=1, \n",
    "    instance_type= instance_type, \n",
    "    endpoint_name = endpoint_name,        \n",
    "    wait = True\n",
    ")"
   ]
  },
  {
   "cell_type": "markdown",
   "metadata": {},
   "source": [
    "아래의 local endpoint는 에러가 발생함. \n",
    "추정되는 이유는 전처리 모델, 후처리 모델은 'local' mode 로 생성이 되었고 <br>\n",
    "xgboost 모델은 Sagemaker Host mode 로 생성이 되었을 겻으로 추정 함"
   ]
  },
  {
   "cell_type": "code",
   "execution_count": null,
   "metadata": {},
   "outputs": [],
   "source": [
    "from sagemaker.predictor import json_serializer, csv_serializer, json_deserializer, RealTimePredictor\n",
    "from sagemaker.content_types import CONTENT_TYPE_CSV, CONTENT_TYPE_JSON\n",
    "import sagemaker\n",
    "sagemaker_session = sagemaker.Session()\n",
    "\n",
    "predictor = RealTimePredictor(\n",
    "    endpoint = endpoint_name,\n",
    "    sagemaker_session = sagemaker_session,\n",
    "    serializer = csv_serializer,\n",
    "    content_type = CONTENT_TYPE_CSV,\n",
    "    accept = CONTENT_TYPE_JSON\n",
    ")\n",
    "\n"
   ]
  },
  {
   "cell_type": "code",
   "execution_count": null,
   "metadata": {},
   "outputs": [],
   "source": [
    "\n",
    "def make_inference_format(sample):\n",
    "    instance = str()\n",
    "    for i, token in enumerate(sample):\n",
    "        # print(token)\n",
    "        if i > 0:\n",
    "            instance = instance  + ',' + str(token) \n",
    "        else:\n",
    "            instance = instance  +  str(token) \n",
    "    return instance\n"
   ]
  },
  {
   "cell_type": "code",
   "execution_count": null,
   "metadata": {},
   "outputs": [],
   "source": [
    "test_df = pd.read_csv(\"churn_data/batch_transform_test.csv\", header=None)\n",
    "\n",
    "for i in range(10):\n",
    "    sample = test_df.iloc[i,:]\n",
    "    instance = make_inference_format(sample)\n",
    "    print(\"instance: \\n\", instance)\n",
    "\n",
    "    payload = instance\n",
    "    churn_result = predictor.predict(payload)\n",
    "    print(\"Churn result?: \\n\", churn_result)\n",
    "    print(\"\")\n",
    "    break"
   ]
  },
  {
   "cell_type": "code",
   "execution_count": null,
   "metadata": {},
   "outputs": [],
   "source": []
  },
  {
   "cell_type": "code",
   "execution_count": null,
   "metadata": {},
   "outputs": [],
   "source": []
  }
 ],
 "metadata": {
  "celltoolbar": "Tags",
  "instance_type": "ml.t3.medium",
  "kernelspec": {
   "display_name": "conda_python3",
   "language": "python",
   "name": "conda_python3"
  },
  "language_info": {
   "codemirror_mode": {
    "name": "ipython",
    "version": 3
   },
   "file_extension": ".py",
   "mimetype": "text/x-python",
   "name": "python",
   "nbconvert_exporter": "python",
   "pygments_lexer": "ipython3",
   "version": "3.6.10"
  },
  "notice": "Copyright 2017 Amazon.com, Inc. or its affiliates. All Rights Reserved.  Licensed under the Apache License, Version 2.0 (the \"License\"). You may not use this file except in compliance with the License. A copy of the License is located at http://aws.amazon.com/apache2.0/ or in the \"license\" file accompanying this file. This file is distributed on an \"AS IS\" BASIS, WITHOUT WARRANTIES OR CONDITIONS OF ANY KIND, either express or implied. See the License for the specific language governing permissions and limitations under the License."
 },
 "nbformat": 4,
 "nbformat_minor": 4
}
