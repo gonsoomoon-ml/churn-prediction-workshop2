{
 "cells": [
  {
   "cell_type": "markdown",
   "metadata": {},
   "source": [
    "# [Module 8.0] Two Models with Inferencde Pipeline"
   ]
  },
  {
   "cell_type": "markdown",
   "metadata": {},
   "source": [
    "Inout Pipeline의 Input, Output 약속\n",
    "\n",
    "\n",
    "Preprocessor\n",
    "CSV\n",
    "    "
   ]
  },
  {
   "cell_type": "code",
   "execution_count": 73,
   "metadata": {},
   "outputs": [],
   "source": [
    "import sagemaker\n",
    "import pandas as pd\n",
    "import numpy as np\n",
    "import os\n",
    "import time\n",
    "import json\n",
    "from time import strftime, gmtime"
   ]
  },
  {
   "cell_type": "code",
   "execution_count": 74,
   "metadata": {},
   "outputs": [],
   "source": [
    "%store -r"
   ]
  },
  {
   "cell_type": "markdown",
   "metadata": {},
   "source": [
    "#### 아래는 약 1분 정도가 소요 됩니다. 아래 셀의 [*] 의 표시가 [숫자] (에: [3])로 바뀔 때까지 기다려 주세요"
   ]
  },
  {
   "cell_type": "code",
   "execution_count": 75,
   "metadata": {},
   "outputs": [
    {
     "name": "stdout",
     "output_type": "stream",
     "text": [
      "Creating tmpmmkz_cuo_algo-1-8rq87_1 ... \n",
      "\u001b[1BAttaching to tmpmmkz_cuo_algo-1-8rq87_12mdone\u001b[0m\n",
      "\u001b[36malgo-1-8rq87_1  |\u001b[0m 2020-08-14 01:50:08,448 sagemaker-containers INFO     Imported framework sagemaker_sklearn_container.training\n",
      "\u001b[36malgo-1-8rq87_1  |\u001b[0m 2020-08-14 01:50:08,450 sagemaker-containers INFO     No GPUs detected (normal if no gpus installed)\n",
      "\u001b[36malgo-1-8rq87_1  |\u001b[0m 2020-08-14 01:50:08,459 sagemaker_sklearn_container.training INFO     Invoking user training script.\n",
      "\u001b[36malgo-1-8rq87_1  |\u001b[0m 2020-08-14 01:50:08,597 sagemaker-containers INFO     Module log-preprocessing does not provide a setup.py. \n",
      "\u001b[36malgo-1-8rq87_1  |\u001b[0m Generating setup.py\n",
      "\u001b[36malgo-1-8rq87_1  |\u001b[0m 2020-08-14 01:50:08,597 sagemaker-containers INFO     Generating setup.cfg\n",
      "\u001b[36malgo-1-8rq87_1  |\u001b[0m 2020-08-14 01:50:08,597 sagemaker-containers INFO     Generating MANIFEST.in\n",
      "\u001b[36malgo-1-8rq87_1  |\u001b[0m 2020-08-14 01:50:08,597 sagemaker-containers INFO     Installing module with the following command:\n",
      "\u001b[36malgo-1-8rq87_1  |\u001b[0m /miniconda3/bin/python -m pip install . \n",
      "\u001b[36malgo-1-8rq87_1  |\u001b[0m Processing /opt/ml/code\n",
      "\u001b[36malgo-1-8rq87_1  |\u001b[0m Building wheels for collected packages: log-preprocessing\n",
      "\u001b[36malgo-1-8rq87_1  |\u001b[0m   Building wheel for log-preprocessing (setup.py) ... \u001b[?25ldone\n",
      "\u001b[36malgo-1-8rq87_1  |\u001b[0m \u001b[?25h  Created wheel for log-preprocessing: filename=log_preprocessing-1.0.0-py2.py3-none-any.whl size=10220 sha256=8e1fbdf87bc099640fa1203db41a7d020a6b87daffd7ddf1d0a526e46e39ed1c\n",
      "\u001b[36malgo-1-8rq87_1  |\u001b[0m   Stored in directory: /tmp/pip-ephem-wheel-cache-r16n82zi/wheels/35/24/16/37574d11bf9bde50616c67372a334f94fa8356bc7164af8ca3\n",
      "\u001b[36malgo-1-8rq87_1  |\u001b[0m Successfully built log-preprocessing\n",
      "\u001b[36malgo-1-8rq87_1  |\u001b[0m Installing collected packages: log-preprocessing\n",
      "\u001b[36malgo-1-8rq87_1  |\u001b[0m Successfully installed log-preprocessing-1.0.0\n",
      "\u001b[36malgo-1-8rq87_1  |\u001b[0m 2020-08-14 01:50:09,651 sagemaker-containers INFO     No GPUs detected (normal if no gpus installed)\n",
      "\u001b[36malgo-1-8rq87_1  |\u001b[0m 2020-08-14 01:50:09,660 sagemaker-containers INFO     Invoking user script\n",
      "\u001b[36malgo-1-8rq87_1  |\u001b[0m \n",
      "\u001b[36malgo-1-8rq87_1  |\u001b[0m Training Env:\n",
      "\u001b[36malgo-1-8rq87_1  |\u001b[0m \n",
      "\u001b[36malgo-1-8rq87_1  |\u001b[0m {\n",
      "\u001b[36malgo-1-8rq87_1  |\u001b[0m     \"additional_framework_parameters\": {},\n",
      "\u001b[36malgo-1-8rq87_1  |\u001b[0m     \"channel_input_dirs\": {\n",
      "\u001b[36malgo-1-8rq87_1  |\u001b[0m         \"train\": \"/opt/ml/input/data/train\"\n",
      "\u001b[36malgo-1-8rq87_1  |\u001b[0m     },\n",
      "\u001b[36malgo-1-8rq87_1  |\u001b[0m     \"current_host\": \"algo-1-8rq87\",\n",
      "\u001b[36malgo-1-8rq87_1  |\u001b[0m     \"framework_module\": \"sagemaker_sklearn_container.training:main\",\n",
      "\u001b[36malgo-1-8rq87_1  |\u001b[0m     \"hosts\": [\n",
      "\u001b[36malgo-1-8rq87_1  |\u001b[0m         \"algo-1-8rq87\"\n",
      "\u001b[36malgo-1-8rq87_1  |\u001b[0m     ],\n",
      "\u001b[36malgo-1-8rq87_1  |\u001b[0m     \"hyperparameters\": {},\n",
      "\u001b[36malgo-1-8rq87_1  |\u001b[0m     \"input_config_dir\": \"/opt/ml/input/config\",\n",
      "\u001b[36malgo-1-8rq87_1  |\u001b[0m     \"input_data_config\": {\n",
      "\u001b[36malgo-1-8rq87_1  |\u001b[0m         \"train\": {\n",
      "\u001b[36malgo-1-8rq87_1  |\u001b[0m             \"TrainingInputMode\": \"File\",\n",
      "\u001b[36malgo-1-8rq87_1  |\u001b[0m             \"ContentType\": \"csv\"\n",
      "\u001b[36malgo-1-8rq87_1  |\u001b[0m         }\n",
      "\u001b[36malgo-1-8rq87_1  |\u001b[0m     },\n",
      "\u001b[36malgo-1-8rq87_1  |\u001b[0m     \"input_dir\": \"/opt/ml/input\",\n",
      "\u001b[36malgo-1-8rq87_1  |\u001b[0m     \"is_master\": true,\n",
      "\u001b[36malgo-1-8rq87_1  |\u001b[0m     \"job_name\": \"sagemaker-scikit-learn-2020-08-14-01-50-06-333\",\n",
      "\u001b[36malgo-1-8rq87_1  |\u001b[0m     \"log_level\": 20,\n",
      "\u001b[36malgo-1-8rq87_1  |\u001b[0m     \"master_hostname\": \"algo-1-8rq87\",\n",
      "\u001b[36malgo-1-8rq87_1  |\u001b[0m     \"model_dir\": \"/opt/ml/model\",\n",
      "\u001b[36malgo-1-8rq87_1  |\u001b[0m     \"module_dir\": \"s3://sagemaker-us-east-2-057716757052/sagemaker-scikit-learn-2020-08-14-01-50-06-333/source/sourcedir.tar.gz\",\n",
      "\u001b[36malgo-1-8rq87_1  |\u001b[0m     \"module_name\": \"log-preprocessing\",\n",
      "\u001b[36malgo-1-8rq87_1  |\u001b[0m     \"network_interface_name\": \"eth0\",\n",
      "\u001b[36malgo-1-8rq87_1  |\u001b[0m     \"num_cpus\": 8,\n",
      "\u001b[36malgo-1-8rq87_1  |\u001b[0m     \"num_gpus\": 0,\n",
      "\u001b[36malgo-1-8rq87_1  |\u001b[0m     \"output_data_dir\": \"/opt/ml/output/data\",\n",
      "\u001b[36malgo-1-8rq87_1  |\u001b[0m     \"output_dir\": \"/opt/ml/output\",\n",
      "\u001b[36malgo-1-8rq87_1  |\u001b[0m     \"output_intermediate_dir\": \"/opt/ml/output/intermediate\",\n",
      "\u001b[36malgo-1-8rq87_1  |\u001b[0m     \"resource_config\": {\n",
      "\u001b[36malgo-1-8rq87_1  |\u001b[0m         \"current_host\": \"algo-1-8rq87\",\n",
      "\u001b[36malgo-1-8rq87_1  |\u001b[0m         \"hosts\": [\n",
      "\u001b[36malgo-1-8rq87_1  |\u001b[0m             \"algo-1-8rq87\"\n",
      "\u001b[36malgo-1-8rq87_1  |\u001b[0m         ]\n",
      "\u001b[36malgo-1-8rq87_1  |\u001b[0m     },\n",
      "\u001b[36malgo-1-8rq87_1  |\u001b[0m     \"user_entry_point\": \"log-preprocessing.py\"\n",
      "\u001b[36malgo-1-8rq87_1  |\u001b[0m }\n",
      "\u001b[36malgo-1-8rq87_1  |\u001b[0m \n",
      "\u001b[36malgo-1-8rq87_1  |\u001b[0m Environment variables:\n",
      "\u001b[36malgo-1-8rq87_1  |\u001b[0m \n",
      "\u001b[36malgo-1-8rq87_1  |\u001b[0m SM_HOSTS=[\"algo-1-8rq87\"]\n",
      "\u001b[36malgo-1-8rq87_1  |\u001b[0m SM_NETWORK_INTERFACE_NAME=eth0\n",
      "\u001b[36malgo-1-8rq87_1  |\u001b[0m SM_HPS={}\n",
      "\u001b[36malgo-1-8rq87_1  |\u001b[0m SM_USER_ENTRY_POINT=log-preprocessing.py\n",
      "\u001b[36malgo-1-8rq87_1  |\u001b[0m SM_FRAMEWORK_PARAMS={}\n",
      "\u001b[36malgo-1-8rq87_1  |\u001b[0m SM_RESOURCE_CONFIG={\"current_host\":\"algo-1-8rq87\",\"hosts\":[\"algo-1-8rq87\"]}\n",
      "\u001b[36malgo-1-8rq87_1  |\u001b[0m SM_INPUT_DATA_CONFIG={\"train\":{\"ContentType\":\"csv\",\"TrainingInputMode\":\"File\"}}\n",
      "\u001b[36malgo-1-8rq87_1  |\u001b[0m SM_OUTPUT_DATA_DIR=/opt/ml/output/data\n",
      "\u001b[36malgo-1-8rq87_1  |\u001b[0m SM_CHANNELS=[\"train\"]\n",
      "\u001b[36malgo-1-8rq87_1  |\u001b[0m SM_CURRENT_HOST=algo-1-8rq87\n",
      "\u001b[36malgo-1-8rq87_1  |\u001b[0m SM_MODULE_NAME=log-preprocessing\n",
      "\u001b[36malgo-1-8rq87_1  |\u001b[0m SM_LOG_LEVEL=20\n",
      "\u001b[36malgo-1-8rq87_1  |\u001b[0m SM_FRAMEWORK_MODULE=sagemaker_sklearn_container.training:main\n",
      "\u001b[36malgo-1-8rq87_1  |\u001b[0m SM_INPUT_DIR=/opt/ml/input\n",
      "\u001b[36malgo-1-8rq87_1  |\u001b[0m SM_INPUT_CONFIG_DIR=/opt/ml/input/config\n",
      "\u001b[36malgo-1-8rq87_1  |\u001b[0m SM_OUTPUT_DIR=/opt/ml/output\n",
      "\u001b[36malgo-1-8rq87_1  |\u001b[0m SM_NUM_CPUS=8\n",
      "\u001b[36malgo-1-8rq87_1  |\u001b[0m SM_NUM_GPUS=0\n",
      "\u001b[36malgo-1-8rq87_1  |\u001b[0m SM_MODEL_DIR=/opt/ml/model\n",
      "\u001b[36malgo-1-8rq87_1  |\u001b[0m SM_MODULE_DIR=s3://sagemaker-us-east-2-057716757052/sagemaker-scikit-learn-2020-08-14-01-50-06-333/source/sourcedir.tar.gz\n",
      "\u001b[36malgo-1-8rq87_1  |\u001b[0m SM_TRAINING_ENV={\"additional_framework_parameters\":{},\"channel_input_dirs\":{\"train\":\"/opt/ml/input/data/train\"},\"current_host\":\"algo-1-8rq87\",\"framework_module\":\"sagemaker_sklearn_container.training:main\",\"hosts\":[\"algo-1-8rq87\"],\"hyperparameters\":{},\"input_config_dir\":\"/opt/ml/input/config\",\"input_data_config\":{\"train\":{\"ContentType\":\"csv\",\"TrainingInputMode\":\"File\"}},\"input_dir\":\"/opt/ml/input\",\"is_master\":true,\"job_name\":\"sagemaker-scikit-learn-2020-08-14-01-50-06-333\",\"log_level\":20,\"master_hostname\":\"algo-1-8rq87\",\"model_dir\":\"/opt/ml/model\",\"module_dir\":\"s3://sagemaker-us-east-2-057716757052/sagemaker-scikit-learn-2020-08-14-01-50-06-333/source/sourcedir.tar.gz\",\"module_name\":\"log-preprocessing\",\"network_interface_name\":\"eth0\",\"num_cpus\":8,\"num_gpus\":0,\"output_data_dir\":\"/opt/ml/output/data\",\"output_dir\":\"/opt/ml/output\",\"output_intermediate_dir\":\"/opt/ml/output/intermediate\",\"resource_config\":{\"current_host\":\"algo-1-8rq87\",\"hosts\":[\"algo-1-8rq87\"]},\"user_entry_point\":\"log-preprocessing.py\"}\n",
      "\u001b[36malgo-1-8rq87_1  |\u001b[0m SM_USER_ARGS=[]\n",
      "\u001b[36malgo-1-8rq87_1  |\u001b[0m SM_OUTPUT_INTERMEDIATE_DIR=/opt/ml/output/intermediate\n",
      "\u001b[36malgo-1-8rq87_1  |\u001b[0m SM_CHANNEL_TRAIN=/opt/ml/input/data/train\n",
      "\u001b[36malgo-1-8rq87_1  |\u001b[0m PYTHONPATH=/miniconda3/bin:/miniconda3/lib/python37.zip:/miniconda3/lib/python3.7:/miniconda3/lib/python3.7/lib-dynload:/miniconda3/lib/python3.7/site-packages\n",
      "\u001b[36malgo-1-8rq87_1  |\u001b[0m \n",
      "\u001b[36malgo-1-8rq87_1  |\u001b[0m Invoking script with the following command:\n",
      "\u001b[36malgo-1-8rq87_1  |\u001b[0m \n",
      "\u001b[36malgo-1-8rq87_1  |\u001b[0m /miniconda3/bin/python -m log-preprocessing\n",
      "\u001b[36malgo-1-8rq87_1  |\u001b[0m \n",
      "\u001b[36malgo-1-8rq87_1  |\u001b[0m \n",
      "\u001b[36malgo-1-8rq87_1  |\u001b[0m /miniconda3/lib/python3.7/site-packages/sklearn/externals/joblib/externals/cloudpickle/cloudpickle.py:47: DeprecationWarning: the imp module is deprecated in favour of importlib; see the module's documentation for alternative uses\n",
      "\u001b[36malgo-1-8rq87_1  |\u001b[0m   import imp\n",
      "\u001b[36malgo-1-8rq87_1  |\u001b[0m   State  ...  Churn?\n",
      "\u001b[36malgo-1-8rq87_1  |\u001b[0m 0    ID  ...  False.\n",
      "\u001b[36malgo-1-8rq87_1  |\u001b[0m 1    WY  ...  False.\n",
      "\u001b[36malgo-1-8rq87_1  |\u001b[0m 2    NV  ...   True.\n",
      "\u001b[36malgo-1-8rq87_1  |\u001b[0m 3    OR  ...  False.\n",
      "\u001b[36malgo-1-8rq87_1  |\u001b[0m 4    NJ  ...  False.\n",
      "\u001b[36malgo-1-8rq87_1  |\u001b[0m \n",
      "\u001b[36malgo-1-8rq87_1  |\u001b[0m [5 rows x 21 columns]\n",
      "\u001b[36malgo-1-8rq87_1  |\u001b[0m saved model!\n",
      "\u001b[36malgo-1-8rq87_1  |\u001b[0m 2020-08-14 01:50:10,588 sagemaker-containers INFO     Reporting training SUCCESS\n"
     ]
    },
    {
     "name": "stderr",
     "output_type": "stream",
     "text": [
      "WARNING:sagemaker:'upload_data' method will be deprecated in favor of 'S3Uploader' class (https://sagemaker.readthedocs.io/en/stable/s3.html#sagemaker.s3.S3Uploader) in SageMaker Python SDK v2.\n"
     ]
    },
    {
     "name": "stdout",
     "output_type": "stream",
     "text": [
      "\u001b[36mtmpmmkz_cuo_algo-1-8rq87_1 exited with code 0\n",
      "\u001b[0mAborting on container exit...\n",
      "===== Job Complete =====\n"
     ]
    }
   ],
   "source": [
    "from sagemaker.sklearn.estimator import SKLearn\n",
    "sagemaker_session = sagemaker.Session()\n",
    "from sagemaker import get_execution_role\n",
    "\n",
    "role = get_execution_role()\n",
    "\n",
    "script_path = 'log-preprocessing.py'\n",
    "# instance_type = 'ml.m4.2xlarge'\n",
    "instance_type = 'local'\n",
    "\n",
    "sklearn_preprocessor = SKLearn(\n",
    "    entry_point=script_path,\n",
    "    role=role,\n",
    "    train_instance_type = instance_type\n",
    ")\n",
    "sklearn_preprocessor.fit({'train': s3_input_train})"
   ]
  },
  {
   "cell_type": "markdown",
   "metadata": {},
   "source": [
    "## Feature Transfomer를 사용하여 전처리된 학습 및 검증 데이타 생성 "
   ]
  },
  {
   "cell_type": "markdown",
   "metadata": {},
   "source": [
    "![Transformer_Train](img/Fig2.1.transformer_train.png)"
   ]
  },
  {
   "cell_type": "markdown",
   "metadata": {},
   "source": [
    "### Preprocessed Training data (Feature) 만들기"
   ]
  },
  {
   "cell_type": "markdown",
   "metadata": {},
   "source": [
    "#### 아래는 약 1분 정도가 소요 됩니다. 아래 셀의 [*] 의 표시가 [숫자] (에: [4])로 바뀔 때까지 기다려 주세요"
   ]
  },
  {
   "cell_type": "code",
   "execution_count": 76,
   "metadata": {},
   "outputs": [
    {
     "name": "stderr",
     "output_type": "stream",
     "text": [
      "WARNING:sagemaker:Parameter image will be renamed to image_uri in SageMaker Python SDK v2.\n",
      "WARNING:urllib3.connectionpool:Retrying (Retry(total=2, connect=None, read=None, redirect=None, status=None)) after connection broken by 'NewConnectionError('<urllib3.connection.HTTPConnection object at 0x7f20717dc860>: Failed to establish a new connection: [Errno 111] Connection refused',)': /ping\n",
      "WARNING:urllib3.connectionpool:Retrying (Retry(total=1, connect=None, read=None, redirect=None, status=None)) after connection broken by 'NewConnectionError('<urllib3.connection.HTTPConnection object at 0x7f20717dc8d0>: Failed to establish a new connection: [Errno 111] Connection refused',)': /ping\n",
      "WARNING:urllib3.connectionpool:Retrying (Retry(total=0, connect=None, read=None, redirect=None, status=None)) after connection broken by 'NewConnectionError('<urllib3.connection.HTTPConnection object at 0x7f205bc837b8>: Failed to establish a new connection: [Errno 111] Connection refused',)': /ping\n"
     ]
    },
    {
     "name": "stdout",
     "output_type": "stream",
     "text": [
      "Attaching to tmpad_s4x6w_algo-1-rvt2j_1\n",
      "\u001b[36malgo-1-rvt2j_1  |\u001b[0m Processing /opt/ml/code\n",
      "\u001b[36malgo-1-rvt2j_1  |\u001b[0m Building wheels for collected packages: log-preprocessing\n",
      "\u001b[36malgo-1-rvt2j_1  |\u001b[0m   Building wheel for log-preprocessing (setup.py) ... \u001b[?25ldone\n",
      "\u001b[36malgo-1-rvt2j_1  |\u001b[0m \u001b[?25h  Created wheel for log-preprocessing: filename=log_preprocessing-1.0.0-py2.py3-none-any.whl size=10218 sha256=9b26cd88078276593bafbe0a19a3ee3e1ae8a4bddf731e050a72ffa5b2f864b3\n",
      "\u001b[36malgo-1-rvt2j_1  |\u001b[0m   Stored in directory: /tmp/pip-ephem-wheel-cache-s7zoi4ye/wheels/35/24/16/37574d11bf9bde50616c67372a334f94fa8356bc7164af8ca3\n",
      "\u001b[36malgo-1-rvt2j_1  |\u001b[0m Successfully built log-preprocessing\n",
      "\u001b[36malgo-1-rvt2j_1  |\u001b[0m Installing collected packages: log-preprocessing\n",
      "\u001b[36malgo-1-rvt2j_1  |\u001b[0m Successfully installed log-preprocessing-1.0.0\n",
      "\u001b[36malgo-1-rvt2j_1  |\u001b[0m /miniconda3/lib/python3.7/site-packages/sklearn/externals/joblib/externals/cloudpickle/cloudpickle.py:47: DeprecationWarning: the imp module is deprecated in favour of importlib; see the module's documentation for alternative uses\n",
      "\u001b[36malgo-1-rvt2j_1  |\u001b[0m   import imp\n",
      "\u001b[36malgo-1-rvt2j_1  |\u001b[0m [2020-08-14 01:50:14 +0000] [48] [INFO] Starting gunicorn 19.9.0\n",
      "\u001b[36malgo-1-rvt2j_1  |\u001b[0m [2020-08-14 01:50:14 +0000] [48] [INFO] Listening at: unix:/tmp/gunicorn.sock (48)\n",
      "\u001b[36malgo-1-rvt2j_1  |\u001b[0m [2020-08-14 01:50:14 +0000] [48] [INFO] Using worker: gevent\n",
      "\u001b[36malgo-1-rvt2j_1  |\u001b[0m [2020-08-14 01:50:14 +0000] [51] [INFO] Booting worker with pid: 51\n",
      "\u001b[36malgo-1-rvt2j_1  |\u001b[0m [2020-08-14 01:50:14 +0000] [52] [INFO] Booting worker with pid: 52\n",
      "\u001b[36malgo-1-rvt2j_1  |\u001b[0m [2020-08-14 01:50:14 +0000] [67] [INFO] Booting worker with pid: 67\n",
      "\u001b[36malgo-1-rvt2j_1  |\u001b[0m [2020-08-14 01:50:14 +0000] [75] [INFO] Booting worker with pid: 75\n",
      "\u001b[36malgo-1-rvt2j_1  |\u001b[0m [2020-08-14 01:50:14 +0000] [76] [INFO] Booting worker with pid: 76\n",
      "\u001b[36malgo-1-rvt2j_1  |\u001b[0m [2020-08-14 01:50:14 +0000] [77] [INFO] Booting worker with pid: 77\n",
      "\u001b[36malgo-1-rvt2j_1  |\u001b[0m [2020-08-14 01:50:14 +0000] [85] [INFO] Booting worker with pid: 85\n",
      "\u001b[36malgo-1-rvt2j_1  |\u001b[0m [2020-08-14 01:50:14 +0000] [93] [INFO] Booting worker with pid: 93\n",
      "\u001b[36malgo-1-rvt2j_1  |\u001b[0m 2020-08-14 01:50:16,422 INFO - sagemaker-containers - No GPUs detected (normal if no gpus installed)\n",
      "\u001b[36malgo-1-rvt2j_1  |\u001b[0m /miniconda3/lib/python3.7/site-packages/sklearn/externals/joblib/externals/cloudpickle/cloudpickle.py:47: DeprecationWarning: the imp module is deprecated in favour of importlib; see the module's documentation for alternative uses\n",
      "\u001b[36malgo-1-rvt2j_1  |\u001b[0m   import imp\n",
      "\u001b[36malgo-1-rvt2j_1  |\u001b[0m 2020-08-14 01:50:16,779 INFO - root - model_fn, Mode: feature_transform\n",
      "\u001b[36malgo-1-rvt2j_1  |\u001b[0m 172.18.0.1 - - [14/Aug/2020:01:50:16 +0000] \"GET /ping HTTP/1.1\" 200 0 \"-\" \"-\"\n",
      "\u001b[36malgo-1-rvt2j_1  |\u001b[0m 172.18.0.1 - - [14/Aug/2020:01:50:16 +0000] \"GET /execution-parameters HTTP/1.1\" 404 232 \"-\" \"-\"\n"
     ]
    },
    {
     "name": "stderr",
     "output_type": "stream",
     "text": [
      "WARNING:sagemaker:'upload_data' method will be deprecated in favor of 'S3Uploader' class (https://sagemaker.readthedocs.io/en/stable/s3.html#sagemaker.s3.S3Uploader) in SageMaker Python SDK v2.\n"
     ]
    },
    {
     "name": "stdout",
     "output_type": "stream",
     "text": [
      "\u001b[36malgo-1-rvt2j_1  |\u001b[0m 2020-08-14 01:50:16,917 INFO - root - Input_fn, Mode: feature_transform\n",
      "\u001b[36malgo-1-rvt2j_1  |\u001b[0m 2020-08-14 01:50:16,926 INFO - root - predict_fn, Mode: feature_transform\n",
      "\u001b[36malgo-1-rvt2j_1  |\u001b[0m After trainsformation\n",
      "\u001b[36malgo-1-rvt2j_1  |\u001b[0m   (0, 0)\t0.11941369588439606\n",
      "\u001b[36malgo-1-rvt2j_1  |\u001b[0m   (0, 1)\t-0.5962380254245051\n",
      "\u001b[36malgo-1-rvt2j_1  |\u001b[0m   (0, 2)\t1.744368057672484\n",
      "\u001b[36malgo-1-rvt2j_1  |\u001b[0m   (0, 3)\t0.9789570533336895\n",
      "\u001b[36malgo-1-rvt2j_1  |\u001b[0m   (0, 4)\t-0.028992907038264654\n",
      "\u001b[36malgo-1-rvt2j_1  |\u001b[0m   (0, 5)\t-0.8931854019845896\n",
      "\u001b[36malgo-1-rvt2j_1  |\u001b[0m   (0, 6)\t-0.8017032037830547\n",
      "\u001b[36malgo-1-rvt2j_1  |\u001b[0m   (0, 7)\t-1.9825286353116254\n",
      "\u001b[36malgo-1-rvt2j_1  |\u001b[0m   (0, 8)\t-1.5305589315744583\n",
      "\u001b[36malgo-1-rvt2j_1  |\u001b[0m   (0, 9)\t-0.6008796483844902\n",
      "\u001b[36malgo-1-rvt2j_1  |\u001b[0m   (0, 10)\t-0.44388847702445833\n",
      "\u001b[36malgo-1-rvt2j_1  |\u001b[0m   (0, 24)\t1.0\n",
      "\u001b[36malgo-1-rvt2j_1  |\u001b[0m   (0, 65)\t1.0\n",
      "\u001b[36malgo-1-rvt2j_1  |\u001b[0m   (0, 67)\t1.0\n",
      "\u001b[36malgo-1-rvt2j_1  |\u001b[0m   (1, 0)\t-1.852651636257096\n",
      "\u001b[36malgo-1-rvt2j_1  |\u001b[0m   (1, 1)\t-0.5962380254245051\n",
      "\u001b[36malgo-1-rvt2j_1  |\u001b[0m   (1, 2)\t0.1402835015166359\n",
      "\u001b[36malgo-1-rvt2j_1  |\u001b[0m   (1, 3)\t-0.3104051644736047\n",
      "\u001b[36malgo-1-rvt2j_1  |\u001b[0m   (1, 4)\t0.9706886294263706\n",
      "\u001b[36malgo-1-rvt2j_1  |\u001b[0m   (1, 5)\t-0.6898876904889752\n",
      "\u001b[36malgo-1-rvt2j_1  |\u001b[0m   (1, 6)\t0.14638949529609316\n",
      "\u001b[36malgo-1-rvt2j_1  |\u001b[0m   (1, 7)\t1.2329005558357256\n",
      "\u001b[36malgo-1-rvt2j_1  |\u001b[0m   (1, 8)\t0.12485229372091076\n",
      "\u001b[36malgo-1-rvt2j_1  |\u001b[0m   (1, 9)\t0.2029346977628811\n",
      "\u001b[36malgo-1-rvt2j_1  |\u001b[0m   (1, 10)\t-1.2087273373627605\n",
      "\u001b[36malgo-1-rvt2j_1  |\u001b[0m   (1, 61)\t1.0\n",
      "\u001b[36malgo-1-rvt2j_1  |\u001b[0m   (1, 65)\t1.0\n",
      "\u001b[36malgo-1-rvt2j_1  |\u001b[0m   (1, 67)\t1.0\n",
      "\u001b[36malgo-1-rvt2j_1  |\u001b[0m After insering a label\n",
      "\u001b[36malgo-1-rvt2j_1  |\u001b[0m [[ 0.          0.1194137  -0.59623803  1.74436806  0.97895705 -0.02899291\n",
      "\u001b[36malgo-1-rvt2j_1  |\u001b[0m   -0.8931854  -0.8017032  -1.98252864 -1.53055893 -0.60087965 -0.44388848\n",
      "\u001b[36malgo-1-rvt2j_1  |\u001b[0m    0.          0.          0.          0.          0.          0.\n",
      "\u001b[36malgo-1-rvt2j_1  |\u001b[0m    0.          0.          0.          0.          0.          0.\n",
      "\u001b[36malgo-1-rvt2j_1  |\u001b[0m    0.          1.          0.          0.          0.          0.\n",
      "\u001b[36malgo-1-rvt2j_1  |\u001b[0m    0.          0.          0.          0.          0.          0.\n",
      "\u001b[36malgo-1-rvt2j_1  |\u001b[0m    0.          0.          0.          0.          0.          0.\n",
      "\u001b[36malgo-1-rvt2j_1  |\u001b[0m    0.          0.          0.          0.          0.          0.\n",
      "\u001b[36malgo-1-rvt2j_1  |\u001b[0m    0.          0.          0.          0.          0.          0.\n",
      "\u001b[36malgo-1-rvt2j_1  |\u001b[0m    0.          0.          0.          0.          0.          0.\n",
      "\u001b[36malgo-1-rvt2j_1  |\u001b[0m    0.          0.          0.          0.          0.          0.\n",
      "\u001b[36malgo-1-rvt2j_1  |\u001b[0m    1.          0.          1.          0.        ]\n",
      "\u001b[36malgo-1-rvt2j_1  |\u001b[0m  [ 0.         -1.85265164 -0.59623803  0.1402835  -0.31040516  0.97068863\n",
      "\u001b[36malgo-1-rvt2j_1  |\u001b[0m   -0.68988769  0.1463895   1.23290056  0.12485229  0.2029347  -1.20872734\n",
      "\u001b[36malgo-1-rvt2j_1  |\u001b[0m    0.          0.          0.          0.          0.          0.\n",
      "\u001b[36malgo-1-rvt2j_1  |\u001b[0m    0.          0.          0.          0.          0.          0.\n",
      "\u001b[36malgo-1-rvt2j_1  |\u001b[0m    0.          0.          0.          0.          0.          0.\n",
      "\u001b[36malgo-1-rvt2j_1  |\u001b[0m    0.          0.          0.          0.          0.          0.\n",
      "\u001b[36malgo-1-rvt2j_1  |\u001b[0m    0.          0.          0.          0.          0.          0.\n",
      "\u001b[36malgo-1-rvt2j_1  |\u001b[0m    0.          0.          0.          0.          0.          0.\n",
      "\u001b[36malgo-1-rvt2j_1  |\u001b[0m    0.          0.          0.          0.          0.          0.\n",
      "\u001b[36malgo-1-rvt2j_1  |\u001b[0m    0.          0.          0.          0.          0.          0.\n",
      "\u001b[36malgo-1-rvt2j_1  |\u001b[0m    0.          0.          1.          0.          0.          0.\n",
      "\u001b[36malgo-1-rvt2j_1  |\u001b[0m    1.          0.          1.          0.        ]]\n",
      "\u001b[36malgo-1-rvt2j_1  |\u001b[0m 2020-08-14 01:50:16,941 INFO - root - Output_fn: prdiction - '[[ 0.          0.1194137  -0.59623803 ...  0.          1.\n",
      "\u001b[36malgo-1-rvt2j_1  |\u001b[0m    0.        ]\n",
      "\u001b[36malgo-1-rvt2j_1  |\u001b[0m  [ 0.         -1.85265164 -0.59623803 ...  0.          1.\n",
      "\u001b[36malgo-1-rvt2j_1  |\u001b[0m    0.        ]\n",
      "\u001b[36malgo-1-rvt2j_1  |\u001b[0m  [ 1.          1.18129503 -0.59623803 ...  0.          1.\n",
      "\u001b[36malgo-1-rvt2j_1  |\u001b[0m    0.        ]\n",
      "\u001b[36malgo-1-rvt2j_1  |\u001b[0m  ...\n",
      "\u001b[36malgo-1-rvt2j_1  |\u001b[0m  [ 0.          0.70092014 -0.59623803 ...  0.          1.\n",
      "\u001b[36malgo-1-rvt2j_1  |\u001b[0m    0.        ]\n",
      "\u001b[36malgo-1-rvt2j_1  |\u001b[0m  [ 0.          1.45940681 -0.59623803 ...  0.          1.\n",
      "\u001b[36malgo-1-rvt2j_1  |\u001b[0m    0.        ]\n",
      "\u001b[36malgo-1-rvt2j_1  |\u001b[0m  [ 0.         -0.05756653  1.79907451 ...  0.          0.\n",
      "\u001b[36malgo-1-rvt2j_1  |\u001b[0m    1.        ]]' \n",
      "\u001b[36malgo-1-rvt2j_1  |\u001b[0m 172.18.0.1 - - [14/Aug/2020:01:50:16 +0000] \"POST /invocations HTTP/1.1\" 200 1054525 \"-\" \"-\"\n",
      "Gracefully stopping... (press Ctrl+C again to force)\n",
      "Waiting for transform job: sagemaker-scikit-learn-2020-08-14-01-50-2020-08-14-01-50-11-263\n",
      ".s3://sagemaker-us-east-2-057716757052/sagemaker/customer-churn/transformtrain-train-output/sagemaker-scikit-learn-2020-08-14-01-50-2020-08-14-01-50-11-263\n"
     ]
    }
   ],
   "source": [
    "# 아웃풋 경로 지정\n",
    "transform_train_output_path = 's3://{}/{}/{}/'.format(bucket, prefix, 'transformtrain-train-output')\n",
    "instance_type = 'local'\n",
    "# instance_type = 'ml.m4.2xlarge'\n",
    "\n",
    "# scikit_learn_inferencee_model 이름으로 전처리 학습 모델 생성\n",
    "# TRANSFORM_MODE의 환경 변수는 전처리 모드라는 것을 알려 줌.\n",
    "    # 추론시에는 환경 변수를 TRANSFORM_MODE\": \"inverse-label-transform\" 설정 함.\n",
    "    # 위의 두개의 과정을 분리할 수 있으나, 한개의 소스를 (preprocessor.py)를 사용하기 위해서, 환경 변수를 통해서 구분함.\n",
    "scikit_learn_inferencee_model = sklearn_preprocessor.create_model(\n",
    "    env={'TRANSFORM_MODE': 'feature-transform'})\n",
    "# scikit_learn_inferencee_model 에서 Train Transformer 생성\n",
    "transformer_train = scikit_learn_inferencee_model.transformer(\n",
    "    instance_count=1, \n",
    "    instance_type= instance_type,\n",
    "    assemble_with = 'Line',\n",
    "    output_path = transform_train_output_path,\n",
    "    accept = 'text/csv')\n",
    "\n",
    "\n",
    "# Preprocess training input\n",
    "transformer_train.transform(s3_input_train.config['DataSource']['S3DataSource']['S3Uri'], \n",
    "                            content_type='text/csv')\n",
    "print('Waiting for transform job: ' + transformer_train.latest_transform_job.job_name)\n",
    "transformer_train.wait()\n",
    "preprocessed_train_path = transformer_train.output_path + transformer_train.latest_transform_job.job_name\n",
    "print(preprocessed_train_path)"
   ]
  },
  {
   "cell_type": "markdown",
   "metadata": {},
   "source": [
    "#### Training 전처리된 학습 파일 확인"
   ]
  },
  {
   "cell_type": "code",
   "execution_count": 77,
   "metadata": {},
   "outputs": [
    {
     "name": "stdout",
     "output_type": "stream",
     "text": [
      "s3://sagemaker-us-east-2-057716757052/sagemaker/customer-churn/transformtrain-train-output/sagemaker-scikit-learn-2020-08-14-01-50-2020-08-14-01-50-11-263\n"
     ]
    }
   ],
   "source": [
    "print(preprocessed_train_path)"
   ]
  },
  {
   "cell_type": "code",
   "execution_count": 78,
   "metadata": {},
   "outputs": [
    {
     "name": "stdout",
     "output_type": "stream",
     "text": [
      "2020-08-14 01:50:18    1054526 sagemaker/customer-churn/transformtrain-train-output/sagemaker-scikit-learn-2020-08-14-01-50-2020-08-14-01-50-11-263/train.csv.out\n"
     ]
    }
   ],
   "source": [
    "! aws s3 ls {preprocessed_train_path} --recursive"
   ]
  },
  {
   "cell_type": "code",
   "execution_count": 79,
   "metadata": {},
   "outputs": [
    {
     "data": {
      "text/html": [
       "<div>\n",
       "<style scoped>\n",
       "    .dataframe tbody tr th:only-of-type {\n",
       "        vertical-align: middle;\n",
       "    }\n",
       "\n",
       "    .dataframe tbody tr th {\n",
       "        vertical-align: top;\n",
       "    }\n",
       "\n",
       "    .dataframe thead th {\n",
       "        text-align: right;\n",
       "    }\n",
       "</style>\n",
       "<table border=\"1\" class=\"dataframe\">\n",
       "  <thead>\n",
       "    <tr style=\"text-align: right;\">\n",
       "      <th></th>\n",
       "      <th>0.0</th>\n",
       "      <th>0.11941369588439606</th>\n",
       "      <th>-0.5962380254245051</th>\n",
       "      <th>1.744368057672484</th>\n",
       "      <th>0.9789570533336895</th>\n",
       "      <th>-0.028992907038264654</th>\n",
       "      <th>-0.8931854019845896</th>\n",
       "      <th>-0.8017032037830547</th>\n",
       "      <th>-1.9825286353116254</th>\n",
       "      <th>-1.5305589315744583</th>\n",
       "      <th>...</th>\n",
       "      <th>0.0.48</th>\n",
       "      <th>0.0.49</th>\n",
       "      <th>0.0.50</th>\n",
       "      <th>0.0.51</th>\n",
       "      <th>0.0.52</th>\n",
       "      <th>0.0.53</th>\n",
       "      <th>1.0.1</th>\n",
       "      <th>0.0.54</th>\n",
       "      <th>1.0.2</th>\n",
       "      <th>0.0.55</th>\n",
       "    </tr>\n",
       "  </thead>\n",
       "  <tbody>\n",
       "    <tr>\n",
       "      <th>0</th>\n",
       "      <td>0.0</td>\n",
       "      <td>-1.852652</td>\n",
       "      <td>-0.596238</td>\n",
       "      <td>0.140284</td>\n",
       "      <td>-0.310405</td>\n",
       "      <td>0.970689</td>\n",
       "      <td>-0.689888</td>\n",
       "      <td>0.146389</td>\n",
       "      <td>1.232901</td>\n",
       "      <td>0.124852</td>\n",
       "      <td>...</td>\n",
       "      <td>0.0</td>\n",
       "      <td>0.0</td>\n",
       "      <td>1.0</td>\n",
       "      <td>0.0</td>\n",
       "      <td>0.0</td>\n",
       "      <td>0.0</td>\n",
       "      <td>1.0</td>\n",
       "      <td>0.0</td>\n",
       "      <td>1.0</td>\n",
       "      <td>0.0</td>\n",
       "    </tr>\n",
       "    <tr>\n",
       "      <th>1</th>\n",
       "      <td>1.0</td>\n",
       "      <td>1.181295</td>\n",
       "      <td>-0.596238</td>\n",
       "      <td>1.835130</td>\n",
       "      <td>0.185503</td>\n",
       "      <td>0.030988</td>\n",
       "      <td>-0.639063</td>\n",
       "      <td>1.568529</td>\n",
       "      <td>-0.063643</td>\n",
       "      <td>-0.846802</td>\n",
       "      <td>...</td>\n",
       "      <td>0.0</td>\n",
       "      <td>0.0</td>\n",
       "      <td>0.0</td>\n",
       "      <td>0.0</td>\n",
       "      <td>0.0</td>\n",
       "      <td>0.0</td>\n",
       "      <td>1.0</td>\n",
       "      <td>0.0</td>\n",
       "      <td>1.0</td>\n",
       "      <td>0.0</td>\n",
       "    </tr>\n",
       "    <tr>\n",
       "      <th>2</th>\n",
       "      <td>0.0</td>\n",
       "      <td>0.776769</td>\n",
       "      <td>-0.596238</td>\n",
       "      <td>0.216227</td>\n",
       "      <td>0.334276</td>\n",
       "      <td>0.136954</td>\n",
       "      <td>1.393914</td>\n",
       "      <td>1.394712</td>\n",
       "      <td>-0.634123</td>\n",
       "      <td>0.844596</td>\n",
       "      <td>...</td>\n",
       "      <td>0.0</td>\n",
       "      <td>0.0</td>\n",
       "      <td>0.0</td>\n",
       "      <td>0.0</td>\n",
       "      <td>0.0</td>\n",
       "      <td>0.0</td>\n",
       "      <td>1.0</td>\n",
       "      <td>0.0</td>\n",
       "      <td>1.0</td>\n",
       "      <td>0.0</td>\n",
       "    </tr>\n",
       "    <tr>\n",
       "      <th>3</th>\n",
       "      <td>0.0</td>\n",
       "      <td>-0.234547</td>\n",
       "      <td>1.508734</td>\n",
       "      <td>-0.459859</td>\n",
       "      <td>0.483049</td>\n",
       "      <td>-0.230929</td>\n",
       "      <td>0.224952</td>\n",
       "      <td>1.056954</td>\n",
       "      <td>0.921730</td>\n",
       "      <td>-0.810815</td>\n",
       "      <td>...</td>\n",
       "      <td>0.0</td>\n",
       "      <td>0.0</td>\n",
       "      <td>0.0</td>\n",
       "      <td>0.0</td>\n",
       "      <td>0.0</td>\n",
       "      <td>0.0</td>\n",
       "      <td>1.0</td>\n",
       "      <td>0.0</td>\n",
       "      <td>0.0</td>\n",
       "      <td>1.0</td>\n",
       "    </tr>\n",
       "    <tr>\n",
       "      <th>4</th>\n",
       "      <td>0.0</td>\n",
       "      <td>0.751486</td>\n",
       "      <td>1.218393</td>\n",
       "      <td>0.231046</td>\n",
       "      <td>-0.756723</td>\n",
       "      <td>0.516833</td>\n",
       "      <td>0.275776</td>\n",
       "      <td>1.043127</td>\n",
       "      <td>-2.138114</td>\n",
       "      <td>0.232814</td>\n",
       "      <td>...</td>\n",
       "      <td>0.0</td>\n",
       "      <td>0.0</td>\n",
       "      <td>0.0</td>\n",
       "      <td>0.0</td>\n",
       "      <td>0.0</td>\n",
       "      <td>0.0</td>\n",
       "      <td>1.0</td>\n",
       "      <td>0.0</td>\n",
       "      <td>0.0</td>\n",
       "      <td>1.0</td>\n",
       "    </tr>\n",
       "  </tbody>\n",
       "</table>\n",
       "<p>5 rows × 70 columns</p>\n",
       "</div>"
      ],
      "text/plain": [
       "   0.0  0.11941369588439606  -0.5962380254245051  1.744368057672484  \\\n",
       "0  0.0            -1.852652            -0.596238           0.140284   \n",
       "1  1.0             1.181295            -0.596238           1.835130   \n",
       "2  0.0             0.776769            -0.596238           0.216227   \n",
       "3  0.0            -0.234547             1.508734          -0.459859   \n",
       "4  0.0             0.751486             1.218393           0.231046   \n",
       "\n",
       "   0.9789570533336895  -0.028992907038264654  -0.8931854019845896  \\\n",
       "0           -0.310405               0.970689            -0.689888   \n",
       "1            0.185503               0.030988            -0.639063   \n",
       "2            0.334276               0.136954             1.393914   \n",
       "3            0.483049              -0.230929             0.224952   \n",
       "4           -0.756723               0.516833             0.275776   \n",
       "\n",
       "   -0.8017032037830547  -1.9825286353116254  -1.5305589315744583  ...  0.0.48  \\\n",
       "0             0.146389             1.232901             0.124852  ...     0.0   \n",
       "1             1.568529            -0.063643            -0.846802  ...     0.0   \n",
       "2             1.394712            -0.634123             0.844596  ...     0.0   \n",
       "3             1.056954             0.921730            -0.810815  ...     0.0   \n",
       "4             1.043127            -2.138114             0.232814  ...     0.0   \n",
       "\n",
       "   0.0.49  0.0.50  0.0.51  0.0.52  0.0.53  1.0.1  0.0.54  1.0.2  0.0.55  \n",
       "0     0.0     1.0     0.0     0.0     0.0    1.0     0.0    1.0     0.0  \n",
       "1     0.0     0.0     0.0     0.0     0.0    1.0     0.0    1.0     0.0  \n",
       "2     0.0     0.0     0.0     0.0     0.0    1.0     0.0    1.0     0.0  \n",
       "3     0.0     0.0     0.0     0.0     0.0    1.0     0.0    0.0     1.0  \n",
       "4     0.0     0.0     0.0     0.0     0.0    1.0     0.0    0.0     1.0  \n",
       "\n",
       "[5 rows x 70 columns]"
      ]
     },
     "execution_count": 79,
     "metadata": {},
     "output_type": "execute_result"
    }
   ],
   "source": [
    "preprocessed_train_path_file = os.path.join (preprocessed_train_path, 'train.csv.out')\n",
    "df_pre_train = pd.read_csv(preprocessed_train_path_file)\n",
    "df_pre_train.head()\n"
   ]
  },
  {
   "cell_type": "markdown",
   "metadata": {},
   "source": [
    "### Preprocessed Validation data (Feature) 만들기"
   ]
  },
  {
   "cell_type": "code",
   "execution_count": 80,
   "metadata": {},
   "outputs": [
    {
     "name": "stderr",
     "output_type": "stream",
     "text": [
      "WARNING:urllib3.connectionpool:Retrying (Retry(total=2, connect=None, read=None, redirect=None, status=None)) after connection broken by 'NewConnectionError('<urllib3.connection.HTTPConnection object at 0x7f205b9f3630>: Failed to establish a new connection: [Errno 111] Connection refused',)': /ping\n",
      "WARNING:urllib3.connectionpool:Retrying (Retry(total=1, connect=None, read=None, redirect=None, status=None)) after connection broken by 'NewConnectionError('<urllib3.connection.HTTPConnection object at 0x7f205b9f3080>: Failed to establish a new connection: [Errno 111] Connection refused',)': /ping\n",
      "WARNING:urllib3.connectionpool:Retrying (Retry(total=0, connect=None, read=None, redirect=None, status=None)) after connection broken by 'NewConnectionError('<urllib3.connection.HTTPConnection object at 0x7f205b9f3f98>: Failed to establish a new connection: [Errno 111] Connection refused',)': /ping\n"
     ]
    },
    {
     "name": "stdout",
     "output_type": "stream",
     "text": [
      "Attaching to tmp3_h72zp9_algo-1-0tl73_1\n",
      "\u001b[36malgo-1-0tl73_1  |\u001b[0m Processing /opt/ml/code\n",
      "\u001b[36malgo-1-0tl73_1  |\u001b[0m Building wheels for collected packages: log-preprocessing\n",
      "\u001b[36malgo-1-0tl73_1  |\u001b[0m   Building wheel for log-preprocessing (setup.py) ... \u001b[?25ldone\n",
      "\u001b[36malgo-1-0tl73_1  |\u001b[0m \u001b[?25h  Created wheel for log-preprocessing: filename=log_preprocessing-1.0.0-py2.py3-none-any.whl size=10218 sha256=03e5dff206def81203f11560df33cd37d452ee42a76c8948e49b0e3ff7c45616\n",
      "\u001b[36malgo-1-0tl73_1  |\u001b[0m   Stored in directory: /tmp/pip-ephem-wheel-cache-ablwie8x/wheels/35/24/16/37574d11bf9bde50616c67372a334f94fa8356bc7164af8ca3\n",
      "\u001b[36malgo-1-0tl73_1  |\u001b[0m Successfully built log-preprocessing\n",
      "\u001b[36malgo-1-0tl73_1  |\u001b[0m Installing collected packages: log-preprocessing\n",
      "\u001b[36malgo-1-0tl73_1  |\u001b[0m Successfully installed log-preprocessing-1.0.0\n",
      "\u001b[36malgo-1-0tl73_1  |\u001b[0m /miniconda3/lib/python3.7/site-packages/sklearn/externals/joblib/externals/cloudpickle/cloudpickle.py:47: DeprecationWarning: the imp module is deprecated in favour of importlib; see the module's documentation for alternative uses\n",
      "\u001b[36malgo-1-0tl73_1  |\u001b[0m   import imp\n",
      "\u001b[36malgo-1-0tl73_1  |\u001b[0m [2020-08-14 01:50:21 +0000] [49] [INFO] Starting gunicorn 19.9.0\n",
      "\u001b[36malgo-1-0tl73_1  |\u001b[0m [2020-08-14 01:50:21 +0000] [49] [INFO] Listening at: unix:/tmp/gunicorn.sock (49)\n",
      "\u001b[36malgo-1-0tl73_1  |\u001b[0m [2020-08-14 01:50:21 +0000] [49] [INFO] Using worker: gevent\n",
      "\u001b[36malgo-1-0tl73_1  |\u001b[0m [2020-08-14 01:50:21 +0000] [52] [INFO] Booting worker with pid: 52\n",
      "\u001b[36malgo-1-0tl73_1  |\u001b[0m [2020-08-14 01:50:21 +0000] [53] [INFO] Booting worker with pid: 53\n",
      "\u001b[36malgo-1-0tl73_1  |\u001b[0m [2020-08-14 01:50:21 +0000] [54] [INFO] Booting worker with pid: 54\n",
      "\u001b[36malgo-1-0tl73_1  |\u001b[0m [2020-08-14 01:50:21 +0000] [69] [INFO] Booting worker with pid: 69\n",
      "\u001b[36malgo-1-0tl73_1  |\u001b[0m [2020-08-14 01:50:22 +0000] [70] [INFO] Booting worker with pid: 70\n",
      "\u001b[36malgo-1-0tl73_1  |\u001b[0m [2020-08-14 01:50:22 +0000] [71] [INFO] Booting worker with pid: 71\n",
      "\u001b[36malgo-1-0tl73_1  |\u001b[0m [2020-08-14 01:50:22 +0000] [79] [INFO] Booting worker with pid: 79\n",
      "\u001b[36malgo-1-0tl73_1  |\u001b[0m [2020-08-14 01:50:22 +0000] [87] [INFO] Booting worker with pid: 87\n",
      "\u001b[36malgo-1-0tl73_1  |\u001b[0m 2020-08-14 01:50:23,761 INFO - sagemaker-containers - No GPUs detected (normal if no gpus installed)\n",
      "\u001b[36malgo-1-0tl73_1  |\u001b[0m /miniconda3/lib/python3.7/site-packages/sklearn/externals/joblib/externals/cloudpickle/cloudpickle.py:47: DeprecationWarning: the imp module is deprecated in favour of importlib; see the module's documentation for alternative uses\n",
      "\u001b[36malgo-1-0tl73_1  |\u001b[0m   import imp\n",
      "\u001b[36malgo-1-0tl73_1  |\u001b[0m 2020-08-14 01:50:24,115 INFO - root - model_fn, Mode: feature_transform\n",
      "\u001b[36malgo-1-0tl73_1  |\u001b[0m 172.18.0.1 - - [14/Aug/2020:01:50:24 +0000] \"GET /ping HTTP/1.1\" 200 0 \"-\" \"-\"\n",
      "\u001b[36malgo-1-0tl73_1  |\u001b[0m 172.18.0.1 - - [14/Aug/2020:01:50:24 +0000] \"GET /execution-parameters HTTP/1.1\" 404 232 \"-\" \"-\"\n"
     ]
    },
    {
     "name": "stderr",
     "output_type": "stream",
     "text": [
      "WARNING:sagemaker:'upload_data' method will be deprecated in favor of 'S3Uploader' class (https://sagemaker.readthedocs.io/en/stable/s3.html#sagemaker.s3.S3Uploader) in SageMaker Python SDK v2.\n"
     ]
    },
    {
     "name": "stdout",
     "output_type": "stream",
     "text": [
      "\u001b[36malgo-1-0tl73_1  |\u001b[0m 2020-08-14 01:50:24,257 INFO - root - Input_fn, Mode: feature_transform\n",
      "\u001b[36malgo-1-0tl73_1  |\u001b[0m 2020-08-14 01:50:24,262 INFO - root - predict_fn, Mode: feature_transform\n",
      "\u001b[36malgo-1-0tl73_1  |\u001b[0m After trainsformation\n",
      "\u001b[36malgo-1-0tl73_1  |\u001b[0m   (0, 0)\t-1.3722767476585274\n",
      "\u001b[36malgo-1-0tl73_1  |\u001b[0m   (0, 1)\t1.4361483643078248\n",
      "\u001b[36malgo-1-0tl73_1  |\u001b[0m   (0, 2)\t-0.7210321088903731\n",
      "\u001b[36malgo-1-0tl73_1  |\u001b[0m   (0, 3)\t-0.3104051644736047\n",
      "\u001b[36malgo-1-0tl73_1  |\u001b[0m   (0, 4)\t-0.6407980073546213\n",
      "\u001b[36malgo-1-0tl73_1  |\u001b[0m   (0, 5)\t0.4282497227369044\n",
      "\u001b[36malgo-1-0tl73_1  |\u001b[0m   (0, 6)\t-1.7359695510006319\n",
      "\u001b[36malgo-1-0tl73_1  |\u001b[0m   (0, 7)\t-0.8415698900657912\n",
      "\u001b[36malgo-1-0tl73_1  |\u001b[0m   (0, 8)\t-0.8827893216762703\n",
      "\u001b[36malgo-1-0tl73_1  |\u001b[0m   (0, 9)\t-1.0027868214581757\n",
      "\u001b[36malgo-1-0tl73_1  |\u001b[0m   (0, 10)\t-0.44388847702445833\n",
      "\u001b[36malgo-1-0tl73_1  |\u001b[0m   (0, 12)\t1.0\n",
      "\u001b[36malgo-1-0tl73_1  |\u001b[0m   (0, 65)\t1.0\n",
      "\u001b[36malgo-1-0tl73_1  |\u001b[0m   (0, 68)\t1.0\n",
      "\u001b[36malgo-1-0tl73_1  |\u001b[0m   (1, 0)\t-1.8020858585098782\n",
      "\u001b[36malgo-1-0tl73_1  |\u001b[0m   (1, 1)\t-0.5962380254245051\n",
      "\u001b[36malgo-1-0tl73_1  |\u001b[0m   (1, 2)\t1.2442493161458343\n",
      "\u001b[36malgo-1-0tl73_1  |\u001b[0m   (1, 3)\t0.33427594443004244\n",
      "\u001b[36malgo-1-0tl73_1  |\u001b[0m   (1, 4)\t-0.4828483245932088\n",
      "\u001b[36malgo-1-0tl73_1  |\u001b[0m   (1, 5)\t-1.1981319692280115\n",
      "\u001b[36malgo-1-0tl73_1  |\u001b[0m   (1, 6)\t1.698891290038197\n",
      "\u001b[36malgo-1-0tl73_1  |\u001b[0m   (1, 7)\t-0.5303993231805636\n",
      "\u001b[36malgo-1-0tl73_1  |\u001b[0m   (1, 8)\t0.3767626975702064\n",
      "\u001b[36malgo-1-0tl73_1  |\u001b[0m   (1, 9)\t-1.0027868214581757\n",
      "\u001b[36malgo-1-0tl73_1  |\u001b[0m   (1, 10)\t-1.2087273373627605\n",
      "\u001b[36malgo-1-0tl73_1  |\u001b[0m   (1, 52)\t1.0\n",
      "\u001b[36malgo-1-0tl73_1  |\u001b[0m   (1, 65)\t1.0\n",
      "\u001b[36malgo-1-0tl73_1  |\u001b[0m   (1, 67)\t1.0\n",
      "\u001b[36malgo-1-0tl73_1  |\u001b[0m After insering a label\n",
      "\u001b[36malgo-1-0tl73_1  |\u001b[0m [[ 0.         -1.37227675  1.43614836 -0.72103211 -0.31040516 -0.64079801\n",
      "\u001b[36malgo-1-0tl73_1  |\u001b[0m    0.42824972 -1.73596955 -0.84156989 -0.88278932 -1.00278682 -0.44388848\n",
      "\u001b[36malgo-1-0tl73_1  |\u001b[0m    0.          1.          0.          0.          0.          0.\n",
      "\u001b[36malgo-1-0tl73_1  |\u001b[0m    0.          0.          0.          0.          0.          0.\n",
      "\u001b[36malgo-1-0tl73_1  |\u001b[0m    0.          0.          0.          0.          0.          0.\n",
      "\u001b[36malgo-1-0tl73_1  |\u001b[0m    0.          0.          0.          0.          0.          0.\n",
      "\u001b[36malgo-1-0tl73_1  |\u001b[0m    0.          0.          0.          0.          0.          0.\n",
      "\u001b[36malgo-1-0tl73_1  |\u001b[0m    0.          0.          0.          0.          0.          0.\n",
      "\u001b[36malgo-1-0tl73_1  |\u001b[0m    0.          0.          0.          0.          0.          0.\n",
      "\u001b[36malgo-1-0tl73_1  |\u001b[0m    0.          0.          0.          0.          0.          0.\n",
      "\u001b[36malgo-1-0tl73_1  |\u001b[0m    0.          0.          0.          0.          0.          0.\n",
      "\u001b[36malgo-1-0tl73_1  |\u001b[0m    1.          0.          0.          1.        ]\n",
      "\u001b[36malgo-1-0tl73_1  |\u001b[0m  [ 0.         -1.80208586 -0.59623803  1.24424932  0.33427594 -0.48284832\n",
      "\u001b[36malgo-1-0tl73_1  |\u001b[0m   -1.19813197  1.69889129 -0.53039932  0.3767627  -1.00278682 -1.20872734\n",
      "\u001b[36malgo-1-0tl73_1  |\u001b[0m    0.          0.          0.          0.          0.          0.\n",
      "\u001b[36malgo-1-0tl73_1  |\u001b[0m    0.          0.          0.          0.          0.          0.\n",
      "\u001b[36malgo-1-0tl73_1  |\u001b[0m    0.          0.          0.          0.          0.          0.\n",
      "\u001b[36malgo-1-0tl73_1  |\u001b[0m    0.          0.          0.          0.          0.          0.\n",
      "\u001b[36malgo-1-0tl73_1  |\u001b[0m    0.          0.          0.          0.          0.          0.\n",
      "\u001b[36malgo-1-0tl73_1  |\u001b[0m    0.          0.          0.          0.          0.          0.\n",
      "\u001b[36malgo-1-0tl73_1  |\u001b[0m    0.          0.          0.          0.          0.          1.\n",
      "\u001b[36malgo-1-0tl73_1  |\u001b[0m    0.          0.          0.          0.          0.          0.\n",
      "\u001b[36malgo-1-0tl73_1  |\u001b[0m    0.          0.          0.          0.          0.          0.\n",
      "\u001b[36malgo-1-0tl73_1  |\u001b[0m    1.          0.          1.          0.        ]]\n",
      "\u001b[36malgo-1-0tl73_1  |\u001b[0m 2020-08-14 01:50:24,271 INFO - root - Output_fn: prdiction - '[[ 0.         -1.37227675  1.43614836 ...  0.          0.\n",
      "\u001b[36malgo-1-0tl73_1  |\u001b[0m    1.        ]\n",
      "\u001b[36malgo-1-0tl73_1  |\u001b[0m  [ 0.         -1.80208586 -0.59623803 ...  0.          1.\n",
      "\u001b[36malgo-1-0tl73_1  |\u001b[0m    0.        ]\n",
      "\u001b[36malgo-1-0tl73_1  |\u001b[0m  [ 0.          0.1194137   1.72648928 ...  0.          0.\n",
      "\u001b[36malgo-1-0tl73_1  |\u001b[0m    1.        ]\n",
      "\u001b[36malgo-1-0tl73_1  |\u001b[0m  ...\n",
      "\u001b[36malgo-1-0tl73_1  |\u001b[0m  [ 0.          0.27111103  1.58131882 ...  0.          0.\n",
      "\u001b[36malgo-1-0tl73_1  |\u001b[0m    1.        ]\n",
      "\u001b[36malgo-1-0tl73_1  |\u001b[0m  [ 0.         -0.7907703  -0.59623803 ...  0.          1.\n",
      "\u001b[36malgo-1-0tl73_1  |\u001b[0m    0.        ]\n",
      "\u001b[36malgo-1-0tl73_1  |\u001b[0m  [ 0.         -0.51265853  2.74268247 ...  0.          0.\n",
      "\u001b[36malgo-1-0tl73_1  |\u001b[0m    1.        ]]' \n",
      "\u001b[36malgo-1-0tl73_1  |\u001b[0m 172.18.0.1 - - [14/Aug/2020:01:50:24 +0000] \"POST /invocations HTTP/1.1\" 200 300974 \"-\" \"-\"\n",
      "Gracefully stopping... (press Ctrl+C again to force)\n",
      "Waiting for transform job: sagemaker-scikit-learn-2020-08-14-01-50-2020-08-14-01-50-18-598\n",
      ".s3://sagemaker-us-east-2-057716757052/sagemaker/customer-churn/transformtrain-validation-output/sagemaker-scikit-learn-2020-08-14-01-50-2020-08-14-01-50-18-598\n"
     ]
    }
   ],
   "source": [
    "# 아웃풋 경로 지정\n",
    "transform_validation_output_path = 's3://{}/{}/{}/'.format(bucket, prefix, 'transformtrain-validation-output')\n",
    "# scikit_learn_inferencee_model 에서 Validation Transformer 생성\n",
    "transformer_validation = scikit_learn_inferencee_model.transformer(\n",
    "    instance_count=1, \n",
    "    instance_type= instance_type,\n",
    "    assemble_with = 'Line',\n",
    "    output_path = transform_validation_output_path,\n",
    "    accept = 'text/csv')\n",
    "# Preprocess validation input\n",
    "transformer_validation.transform(s3_input_validation.config['DataSource']['S3DataSource']['S3Uri'], content_type='text/csv')\n",
    "print('Waiting for transform job: ' + transformer_validation.latest_transform_job.job_name)\n",
    "transformer_validation.wait()\n",
    "preprocessed_validation_path = transformer_validation.output_path+transformer_validation.latest_transform_job.job_name\n",
    "print(preprocessed_validation_path)\n",
    "\n"
   ]
  },
  {
   "cell_type": "code",
   "execution_count": null,
   "metadata": {},
   "outputs": [],
   "source": []
  },
  {
   "cell_type": "markdown",
   "metadata": {},
   "source": [
    "## PCA 모델 생성"
   ]
  },
  {
   "cell_type": "code",
   "execution_count": 81,
   "metadata": {},
   "outputs": [
    {
     "name": "stdout",
     "output_type": "stream",
     "text": [
      "057716757052\n",
      "us-east-2\n",
      "arn:aws:iam::057716757052:role/service-role/AmazonSageMaker-ExecutionRole-20191128T110038\n",
      "sagemaker-us-east-2-057716757052\n"
     ]
    }
   ],
   "source": [
    "import boto3\n",
    "import sagemaker\n",
    "from sagemaker import get_execution_role\n",
    "\n",
    "ecr_namespace = 'sagemaker-training-containers/'\n",
    "prefix = 'pca'\n",
    "\n",
    "ecr_repository_name = ecr_namespace + prefix\n",
    "role = get_execution_role()\n",
    "account_id = role.split(':')[4]\n",
    "region = boto3.Session().region_name\n",
    "sagemaker_session = sagemaker.session.Session()\n",
    "bucket = sagemaker_session.default_bucket()\n",
    "\n",
    "print(account_id)\n",
    "print(region)\n",
    "print(role)\n",
    "print(bucket)"
   ]
  },
  {
   "cell_type": "code",
   "execution_count": 82,
   "metadata": {},
   "outputs": [],
   "source": [
    "! cp pca_byoc_train.py docker/code/"
   ]
  },
  {
   "cell_type": "code",
   "execution_count": 83,
   "metadata": {},
   "outputs": [
    {
     "name": "stdout",
     "output_type": "stream",
     "text": [
      "Overwriting docker/Dockerfile\n"
     ]
    }
   ],
   "source": [
    "%%writefile docker/Dockerfile\n",
    "\n",
    "FROM 257758044811.dkr.ecr.us-east-2.amazonaws.com/sagemaker-scikit-learn:0.20.0-cpu-py3\n",
    "    \n",
    "# install python package\n",
    "RUN pip install joblib\n",
    "\n",
    "\n",
    "ENV PYTHONUNBUFFERED=TRUE\n",
    "ENV PYTHONDONTWRITEBYTECODE=TRUE\n",
    "\n",
    "ENV PATH=\"/opt/ml/code:${PATH}\"\n",
    "\n",
    "# Copy training code\n",
    "COPY code/* /opt/ml/code/\n",
    " \n",
    "WORKDIR /opt/ml/code\n",
    "\n",
    "# ENTRYPOINT [\"python\", \"pca_train.py\"]\n",
    "# In order to use SageMaker Env varaibles, use the statement below\n",
    "ENV SAGEMAKER_PROGRAM pca_byoc_train.py"
   ]
  },
  {
   "cell_type": "code",
   "execution_count": 84,
   "metadata": {},
   "outputs": [],
   "source": [
    "import os\n",
    "os.environ['account_id'] = account_id\n",
    "os.environ['region'] = region\n",
    "os.environ['ecr_repository_name'] = ecr_repository_name"
   ]
  },
  {
   "cell_type": "code",
   "execution_count": 85,
   "metadata": {},
   "outputs": [
    {
     "name": "stdout",
     "output_type": "stream",
     "text": [
      "us-east-2\n",
      "057716757052\n",
      "sagemaker-training-containers/pca\n",
      "Login Succeeded\n",
      "Sending build context to Docker daemon  10.75kB\n",
      "Step 1/8 : FROM 257758044811.dkr.ecr.us-east-2.amazonaws.com/sagemaker-scikit-learn:0.20.0-cpu-py3\n",
      " ---> 30adb1aa9af5\n",
      "Step 2/8 : RUN pip install joblib\n",
      " ---> Using cache\n",
      " ---> 26bceed11435\n",
      "Step 3/8 : ENV PYTHONUNBUFFERED=TRUE\n",
      " ---> Using cache\n",
      " ---> d2cbe65e931a\n",
      "Step 4/8 : ENV PYTHONDONTWRITEBYTECODE=TRUE\n",
      " ---> Using cache\n",
      " ---> 3ed49376f0e2\n",
      "Step 5/8 : ENV PATH=\"/opt/ml/code:${PATH}\"\n",
      " ---> Using cache\n",
      " ---> 03be6787c4b2\n",
      "Step 6/8 : COPY code/* /opt/ml/code/\n",
      " ---> 568de0241677\n",
      "Step 7/8 : WORKDIR /opt/ml/code\n",
      " ---> Running in 34ca4686ab46\n",
      "Removing intermediate container 34ca4686ab46\n",
      " ---> a2af672796d8\n",
      "Step 8/8 : ENV SAGEMAKER_PROGRAM pca_byoc_train.py\n",
      " ---> Running in 44bfb54e730d\n",
      "Removing intermediate container 44bfb54e730d\n",
      " ---> 65b4edd687ea\n",
      "Successfully built 65b4edd687ea\n",
      "Successfully tagged sagemaker-training-containers/pca:latest\n",
      "Login Succeeded\n",
      "{\n",
      "    \"repositories\": [\n",
      "        {\n",
      "            \"repositoryArn\": \"arn:aws:ecr:us-east-2:057716757052:repository/sagemaker-training-containers/pca\",\n",
      "            \"registryId\": \"057716757052\",\n",
      "            \"repositoryName\": \"sagemaker-training-containers/pca\",\n",
      "            \"repositoryUri\": \"057716757052.dkr.ecr.us-east-2.amazonaws.com/sagemaker-training-containers/pca\",\n",
      "            \"createdAt\": 1597127900.0,\n",
      "            \"imageTagMutability\": \"MUTABLE\",\n",
      "            \"imageScanningConfiguration\": {\n",
      "                \"scanOnPush\": false\n",
      "            }\n",
      "        }\n",
      "    ]\n",
      "}\n",
      "The push refers to repository [057716757052.dkr.ecr.us-east-2.amazonaws.com/sagemaker-training-containers/pca]\n",
      "ddf00d650231: Preparing\n",
      "04a68cd3aea1: Preparing\n",
      "969e46b772a5: Preparing\n",
      "cfe0cbc5dd2c: Preparing\n",
      "23b3530769e5: Preparing\n",
      "8be6c85c96e4: Preparing\n",
      "a5a688002069: Preparing\n",
      "4b7dff825027: Preparing\n",
      "ccdb13a20bf2: Preparing\n",
      "9513cdf4e497: Preparing\n",
      "7f083f9454c0: Preparing\n",
      "29f36b5893dc: Preparing\n",
      "8be6c85c96e4: Waiting\n",
      "9513cdf4e497: Waiting\n",
      "7f083f9454c0: Waiting\n",
      "4b7dff825027: Waiting\n",
      "ccdb13a20bf2: Waiting\n",
      "29f36b5893dc: Waiting\n",
      "a5a688002069: Waiting\n",
      "23b3530769e5: Layer already exists\n",
      "cfe0cbc5dd2c: Layer already exists\n",
      "04a68cd3aea1: Layer already exists\n",
      "969e46b772a5: Layer already exists\n",
      "8be6c85c96e4: Layer already exists\n",
      "4b7dff825027: Layer already exists\n",
      "a5a688002069: Layer already exists\n",
      "ccdb13a20bf2: Layer already exists\n",
      "9513cdf4e497: Layer already exists\n",
      "29f36b5893dc: Layer already exists\n",
      "7f083f9454c0: Layer already exists\n",
      "ddf00d650231: Pushed\n",
      "latest: digest: sha256:c3523017f314bff1440fd8deeecfb32c2e70d599bc60a44e2048b546a6e216bc size: 2840\n"
     ]
    },
    {
     "name": "stderr",
     "output_type": "stream",
     "text": [
      "WARNING! Using --password via the CLI is insecure. Use --password-stdin.\n",
      "WARNING! Your password will be stored unencrypted in /home/ec2-user/.docker/config.json.\n",
      "Configure a credential helper to remove this warning. See\n",
      "https://docs.docker.com/engine/reference/commandline/login/#credentials-store\n",
      "\n",
      "WARNING! Using --password via the CLI is insecure. Use --password-stdin.\n",
      "WARNING! Your password will be stored unencrypted in /home/ec2-user/.docker/config.json.\n",
      "Configure a credential helper to remove this warning. See\n",
      "https://docs.docker.com/engine/reference/commandline/login/#credentials-store\n",
      "\n"
     ]
    }
   ],
   "source": [
    "%%sh\n",
    "\n",
    "ACCOUNT_ID=${account_id}\n",
    "REGION=${region}\n",
    "REPO_NAME=${ecr_repository_name}\n",
    "\n",
    "echo $REGION\n",
    "echo $ACCOUNT_ID\n",
    "echo $REPO_NAME\n",
    "\n",
    "\n",
    "# Get the login command from ECR in order to pull down the Tensorflow-gpu:1.5 image\n",
    "$(aws ecr get-login --registry-ids 257758044811 --region ${region} --no-include-email)\n",
    "\n",
    "\n",
    "\n",
    "docker build -f docker/Dockerfile -t $REPO_NAME docker\n",
    "\n",
    "docker tag $REPO_NAME $ACCOUNT_ID.dkr.ecr.$REGION.amazonaws.com/$REPO_NAME:latest\n",
    "\n",
    "$(aws ecr get-login --no-include-email --registry-ids $ACCOUNT_ID)\n",
    "\n",
    "aws ecr describe-repositories --repository-names $REPO_NAME || aws ecr create-repository --repository-name $REPO_NAME\n",
    "\n",
    "docker push $ACCOUNT_ID.dkr.ecr.$REGION.amazonaws.com/$REPO_NAME:latest\n",
    "\n"
   ]
  },
  {
   "cell_type": "code",
   "execution_count": 86,
   "metadata": {},
   "outputs": [
    {
     "name": "stdout",
     "output_type": "stream",
     "text": [
      "057716757052.dkr.ecr.us-east-2.amazonaws.com/sagemaker-training-containers/pca:latest\n"
     ]
    }
   ],
   "source": [
    "container_image_uri = '{0}.dkr.ecr.{1}.amazonaws.com/{2}:latest'.format(account_id, region, ecr_repository_name)\n",
    "print(container_image_uri)"
   ]
  },
  {
   "cell_type": "code",
   "execution_count": 87,
   "metadata": {},
   "outputs": [
    {
     "name": "stdout",
     "output_type": "stream",
     "text": [
      "preprocessed_train_path_file: \n",
      " s3://sagemaker-us-east-2-057716757052/sagemaker/customer-churn/transformtrain-train-output/sagemaker-scikit-learn-2020-08-14-01-50-2020-08-14-01-50-11-263/train.csv.out\n",
      "preprocessed_validation_path_file: \n",
      " s3://sagemaker-us-east-2-057716757052/sagemaker/customer-churn/transformtrain-validation-output/sagemaker-scikit-learn-2020-08-14-01-50-2020-08-14-01-50-18-598/validation.csv.out\n"
     ]
    }
   ],
   "source": [
    "preprocessed_train_path_file = '{}/train.csv.out'.format(preprocessed_train_path)\n",
    "preprocessed_validation_path_file = '{}/validation.csv.out'.format(preprocessed_validation_path)\n",
    "print(\"preprocessed_train_path_file: \\n\", preprocessed_train_path_file)\n",
    "print(\"preprocessed_validation_path_file: \\n\", preprocessed_validation_path_file)"
   ]
  },
  {
   "cell_type": "markdown",
   "metadata": {},
   "source": [
    "## PCA 학습"
   ]
  },
  {
   "cell_type": "code",
   "execution_count": 88,
   "metadata": {},
   "outputs": [
    {
     "name": "stdout",
     "output_type": "stream",
     "text": [
      "(2333, 70)\n",
      "num_cols:  70\n"
     ]
    }
   ],
   "source": [
    "import pandas as pd\n",
    "\n",
    "preprocessed_train_path_file = '{}/train.csv.out'.format(preprocessed_train_path)\n",
    "pre_df = pd.read_csv(preprocessed_train_path_file, header=None)\n",
    "print(pre_df.shape)\n",
    "num_cols = pre_df.shape[1]\n",
    "print(\"num_cols: \", num_cols)"
   ]
  },
  {
   "cell_type": "code",
   "execution_count": 89,
   "metadata": {},
   "outputs": [
    {
     "name": "stderr",
     "output_type": "stream",
     "text": [
      "WARNING:sagemaker:'upload_data' method will be deprecated in favor of 'S3Uploader' class (https://sagemaker.readthedocs.io/en/stable/s3.html#sagemaker.s3.S3Uploader) in SageMaker Python SDK v2.\n"
     ]
    },
    {
     "name": "stdout",
     "output_type": "stream",
     "text": [
      "Shape of train_X:  (2333, 69)\n",
      "Shape of train_y:  (2333,)\n",
      "train_input:  s3://sagemaker-us-east-2-057716757052/Scikit-pca-custom/data\n"
     ]
    }
   ],
   "source": [
    "import pandas as pd\n",
    "# preprocessed_train_path_file = 's3://sagemaker-us-east-2-057716757052/sagemaker/customer-churn/transformtrain-train-output/sagemaker-scikit-learn-2020-08-12-07-07-2020-08-12-07-07-08-229/train.csv.out'\n",
    "\n",
    "churn_df = pd.read_csv(preprocessed_train_path_file, header=None)\n",
    "churn_df.head()\n",
    "train_y = churn_df.iloc[:,0]\n",
    "train_X = churn_df.iloc[:,1:]\n",
    "\n",
    "print(\"Shape of train_X: \", train_X.shape)\n",
    "print(\"Shape of train_y: \", train_y.shape)\n",
    "\n",
    "os.makedirs('./data', exist_ok =True)\n",
    "np.savetxt('./data/churn-preprocessed.csv', train_X, delimiter=',',\n",
    "           fmt='%1.5f'\n",
    "          )\n",
    "\n",
    "WORK_DIRECTORY = 'data'\n",
    "prefix = 'Scikit-pca-custom'\n",
    "train_input = sagemaker_session.upload_data(WORK_DIRECTORY,\n",
    "                                            key_prefix=\"{}/{}\".format(prefix, WORK_DIRECTORY)\n",
    "                                           )\n",
    "print(\"train_input: \", train_input)\n"
   ]
  },
  {
   "cell_type": "code",
   "execution_count": 90,
   "metadata": {},
   "outputs": [
    {
     "name": "stderr",
     "output_type": "stream",
     "text": [
      "WARNING:root:Parameter image_name will be renamed to image_uri in SageMaker Python SDK v2.\n",
      "WARNING:sagemaker:'s3_input' class will be renamed to 'TrainingInput' in SageMaker Python SDK v2.\n"
     ]
    },
    {
     "name": "stdout",
     "output_type": "stream",
     "text": [
      "Creating tmp_ivom6e8_algo-1-lsow7_1 ... \n",
      "\u001b[1BAttaching to tmp_ivom6e8_algo-1-lsow7_12mdone\u001b[0m\n",
      "\u001b[36malgo-1-lsow7_1  |\u001b[0m 2020-08-14 01:50:31,641 sagemaker-containers INFO     Imported framework sagemaker_sklearn_container.training\n",
      "\u001b[36malgo-1-lsow7_1  |\u001b[0m 2020-08-14 01:50:31,643 sagemaker-containers INFO     No GPUs detected (normal if no gpus installed)\n",
      "\u001b[36malgo-1-lsow7_1  |\u001b[0m 2020-08-14 01:50:31,652 sagemaker_sklearn_container.training INFO     Invoking user training script.\n",
      "\u001b[36malgo-1-lsow7_1  |\u001b[0m 2020-08-14 01:50:31,653 sagemaker-containers INFO     Module pca_byoc_train does not provide a setup.py. \n",
      "\u001b[36malgo-1-lsow7_1  |\u001b[0m Generating setup.py\n",
      "\u001b[36malgo-1-lsow7_1  |\u001b[0m 2020-08-14 01:50:31,653 sagemaker-containers INFO     Generating setup.cfg\n",
      "\u001b[36malgo-1-lsow7_1  |\u001b[0m 2020-08-14 01:50:31,653 sagemaker-containers INFO     Generating MANIFEST.in\n",
      "\u001b[36malgo-1-lsow7_1  |\u001b[0m 2020-08-14 01:50:31,653 sagemaker-containers INFO     Installing module with the following command:\n",
      "\u001b[36malgo-1-lsow7_1  |\u001b[0m /miniconda3/bin/python -m pip install . \n",
      "\u001b[36malgo-1-lsow7_1  |\u001b[0m Processing /opt/ml/code\n",
      "\u001b[36malgo-1-lsow7_1  |\u001b[0m Building wheels for collected packages: pca-byoc-train\n",
      "\u001b[36malgo-1-lsow7_1  |\u001b[0m   Building wheel for pca-byoc-train (setup.py) ... \u001b[?25ldone\n",
      "\u001b[36malgo-1-lsow7_1  |\u001b[0m \u001b[?25h  Created wheel for pca-byoc-train: filename=pca_byoc_train-1.0.0-py2.py3-none-any.whl size=9372 sha256=144a0c6aebe04eb92bba512e471904f07561838376aec5a4abba30b56c10937f\n",
      "\u001b[36malgo-1-lsow7_1  |\u001b[0m   Stored in directory: /tmp/pip-ephem-wheel-cache-ik0qnmrj/wheels/35/24/16/37574d11bf9bde50616c67372a334f94fa8356bc7164af8ca3\n",
      "\u001b[36malgo-1-lsow7_1  |\u001b[0m Successfully built pca-byoc-train\n",
      "\u001b[36malgo-1-lsow7_1  |\u001b[0m Installing collected packages: pca-byoc-train\n",
      "\u001b[36malgo-1-lsow7_1  |\u001b[0m Successfully installed pca-byoc-train-1.0.0\n",
      "\u001b[36malgo-1-lsow7_1  |\u001b[0m 2020-08-14 01:50:32,524 sagemaker-containers INFO     No GPUs detected (normal if no gpus installed)\n",
      "\u001b[36malgo-1-lsow7_1  |\u001b[0m 2020-08-14 01:50:32,533 sagemaker-containers INFO     Invoking user script\n",
      "\u001b[36malgo-1-lsow7_1  |\u001b[0m \n",
      "\u001b[36malgo-1-lsow7_1  |\u001b[0m Training Env:\n",
      "\u001b[36malgo-1-lsow7_1  |\u001b[0m \n",
      "\u001b[36malgo-1-lsow7_1  |\u001b[0m {\n",
      "\u001b[36malgo-1-lsow7_1  |\u001b[0m     \"additional_framework_parameters\": {},\n",
      "\u001b[36malgo-1-lsow7_1  |\u001b[0m     \"channel_input_dirs\": {\n",
      "\u001b[36malgo-1-lsow7_1  |\u001b[0m         \"train\": \"/opt/ml/input/data/train\"\n",
      "\u001b[36malgo-1-lsow7_1  |\u001b[0m     },\n",
      "\u001b[36malgo-1-lsow7_1  |\u001b[0m     \"current_host\": \"algo-1-lsow7\",\n",
      "\u001b[36malgo-1-lsow7_1  |\u001b[0m     \"framework_module\": \"sagemaker_sklearn_container.training:main\",\n",
      "\u001b[36malgo-1-lsow7_1  |\u001b[0m     \"hosts\": [\n",
      "\u001b[36malgo-1-lsow7_1  |\u001b[0m         \"algo-1-lsow7\"\n",
      "\u001b[36malgo-1-lsow7_1  |\u001b[0m     ],\n",
      "\u001b[36malgo-1-lsow7_1  |\u001b[0m     \"hyperparameters\": {\n",
      "\u001b[36malgo-1-lsow7_1  |\u001b[0m         \"n_components\": 15\n",
      "\u001b[36malgo-1-lsow7_1  |\u001b[0m     },\n",
      "\u001b[36malgo-1-lsow7_1  |\u001b[0m     \"input_config_dir\": \"/opt/ml/input/config\",\n",
      "\u001b[36malgo-1-lsow7_1  |\u001b[0m     \"input_data_config\": {\n",
      "\u001b[36malgo-1-lsow7_1  |\u001b[0m         \"train\": {\n",
      "\u001b[36malgo-1-lsow7_1  |\u001b[0m             \"TrainingInputMode\": \"File\",\n",
      "\u001b[36malgo-1-lsow7_1  |\u001b[0m             \"ContentType\": \"text/csv\"\n",
      "\u001b[36malgo-1-lsow7_1  |\u001b[0m         }\n",
      "\u001b[36malgo-1-lsow7_1  |\u001b[0m     },\n",
      "\u001b[36malgo-1-lsow7_1  |\u001b[0m     \"input_dir\": \"/opt/ml/input\",\n",
      "\u001b[36malgo-1-lsow7_1  |\u001b[0m     \"is_master\": true,\n",
      "\u001b[36malgo-1-lsow7_1  |\u001b[0m     \"job_name\": \"Scikit-pca-custom-2020-08-14-01-50-29-353\",\n",
      "\u001b[36malgo-1-lsow7_1  |\u001b[0m     \"log_level\": 20,\n",
      "\u001b[36malgo-1-lsow7_1  |\u001b[0m     \"master_hostname\": \"algo-1-lsow7\",\n",
      "\u001b[36malgo-1-lsow7_1  |\u001b[0m     \"model_dir\": \"/opt/ml/model\",\n",
      "\u001b[36malgo-1-lsow7_1  |\u001b[0m     \"module_dir\": \"/opt/ml/code\",\n",
      "\u001b[36malgo-1-lsow7_1  |\u001b[0m     \"module_name\": \"pca_byoc_train\",\n",
      "\u001b[36malgo-1-lsow7_1  |\u001b[0m     \"network_interface_name\": \"eth0\",\n",
      "\u001b[36malgo-1-lsow7_1  |\u001b[0m     \"num_cpus\": 8,\n",
      "\u001b[36malgo-1-lsow7_1  |\u001b[0m     \"num_gpus\": 0,\n",
      "\u001b[36malgo-1-lsow7_1  |\u001b[0m     \"output_data_dir\": \"/opt/ml/output/data\",\n",
      "\u001b[36malgo-1-lsow7_1  |\u001b[0m     \"output_dir\": \"/opt/ml/output\",\n",
      "\u001b[36malgo-1-lsow7_1  |\u001b[0m     \"output_intermediate_dir\": \"/opt/ml/output/intermediate\",\n",
      "\u001b[36malgo-1-lsow7_1  |\u001b[0m     \"resource_config\": {\n",
      "\u001b[36malgo-1-lsow7_1  |\u001b[0m         \"current_host\": \"algo-1-lsow7\",\n",
      "\u001b[36malgo-1-lsow7_1  |\u001b[0m         \"hosts\": [\n",
      "\u001b[36malgo-1-lsow7_1  |\u001b[0m             \"algo-1-lsow7\"\n",
      "\u001b[36malgo-1-lsow7_1  |\u001b[0m         ]\n",
      "\u001b[36malgo-1-lsow7_1  |\u001b[0m     },\n",
      "\u001b[36malgo-1-lsow7_1  |\u001b[0m     \"user_entry_point\": \"pca_byoc_train.py\"\n",
      "\u001b[36malgo-1-lsow7_1  |\u001b[0m }\n",
      "\u001b[36malgo-1-lsow7_1  |\u001b[0m \n",
      "\u001b[36malgo-1-lsow7_1  |\u001b[0m Environment variables:\n",
      "\u001b[36malgo-1-lsow7_1  |\u001b[0m \n",
      "\u001b[36malgo-1-lsow7_1  |\u001b[0m SM_HOSTS=[\"algo-1-lsow7\"]\n",
      "\u001b[36malgo-1-lsow7_1  |\u001b[0m SM_NETWORK_INTERFACE_NAME=eth0\n",
      "\u001b[36malgo-1-lsow7_1  |\u001b[0m SM_HPS={\"n_components\":15}\n",
      "\u001b[36malgo-1-lsow7_1  |\u001b[0m SM_USER_ENTRY_POINT=pca_byoc_train.py\n",
      "\u001b[36malgo-1-lsow7_1  |\u001b[0m SM_FRAMEWORK_PARAMS={}\n",
      "\u001b[36malgo-1-lsow7_1  |\u001b[0m SM_RESOURCE_CONFIG={\"current_host\":\"algo-1-lsow7\",\"hosts\":[\"algo-1-lsow7\"]}\n",
      "\u001b[36malgo-1-lsow7_1  |\u001b[0m SM_INPUT_DATA_CONFIG={\"train\":{\"ContentType\":\"text/csv\",\"TrainingInputMode\":\"File\"}}\n",
      "\u001b[36malgo-1-lsow7_1  |\u001b[0m SM_OUTPUT_DATA_DIR=/opt/ml/output/data\n",
      "\u001b[36malgo-1-lsow7_1  |\u001b[0m SM_CHANNELS=[\"train\"]\n",
      "\u001b[36malgo-1-lsow7_1  |\u001b[0m SM_CURRENT_HOST=algo-1-lsow7\n",
      "\u001b[36malgo-1-lsow7_1  |\u001b[0m SM_MODULE_NAME=pca_byoc_train\n",
      "\u001b[36malgo-1-lsow7_1  |\u001b[0m SM_LOG_LEVEL=20\n",
      "\u001b[36malgo-1-lsow7_1  |\u001b[0m SM_FRAMEWORK_MODULE=sagemaker_sklearn_container.training:main\n",
      "\u001b[36malgo-1-lsow7_1  |\u001b[0m SM_INPUT_DIR=/opt/ml/input\n",
      "\u001b[36malgo-1-lsow7_1  |\u001b[0m SM_INPUT_CONFIG_DIR=/opt/ml/input/config\n",
      "\u001b[36malgo-1-lsow7_1  |\u001b[0m SM_OUTPUT_DIR=/opt/ml/output\n",
      "\u001b[36malgo-1-lsow7_1  |\u001b[0m SM_NUM_CPUS=8\n",
      "\u001b[36malgo-1-lsow7_1  |\u001b[0m SM_NUM_GPUS=0\n",
      "\u001b[36malgo-1-lsow7_1  |\u001b[0m SM_MODEL_DIR=/opt/ml/model\n",
      "\u001b[36malgo-1-lsow7_1  |\u001b[0m SM_MODULE_DIR=/opt/ml/code\n",
      "\u001b[36malgo-1-lsow7_1  |\u001b[0m SM_TRAINING_ENV={\"additional_framework_parameters\":{},\"channel_input_dirs\":{\"train\":\"/opt/ml/input/data/train\"},\"current_host\":\"algo-1-lsow7\",\"framework_module\":\"sagemaker_sklearn_container.training:main\",\"hosts\":[\"algo-1-lsow7\"],\"hyperparameters\":{\"n_components\":15},\"input_config_dir\":\"/opt/ml/input/config\",\"input_data_config\":{\"train\":{\"ContentType\":\"text/csv\",\"TrainingInputMode\":\"File\"}},\"input_dir\":\"/opt/ml/input\",\"is_master\":true,\"job_name\":\"Scikit-pca-custom-2020-08-14-01-50-29-353\",\"log_level\":20,\"master_hostname\":\"algo-1-lsow7\",\"model_dir\":\"/opt/ml/model\",\"module_dir\":\"/opt/ml/code\",\"module_name\":\"pca_byoc_train\",\"network_interface_name\":\"eth0\",\"num_cpus\":8,\"num_gpus\":0,\"output_data_dir\":\"/opt/ml/output/data\",\"output_dir\":\"/opt/ml/output\",\"output_intermediate_dir\":\"/opt/ml/output/intermediate\",\"resource_config\":{\"current_host\":\"algo-1-lsow7\",\"hosts\":[\"algo-1-lsow7\"]},\"user_entry_point\":\"pca_byoc_train.py\"}\n",
      "\u001b[36malgo-1-lsow7_1  |\u001b[0m SM_USER_ARGS=[\"--n_components\",\"15\"]\n",
      "\u001b[36malgo-1-lsow7_1  |\u001b[0m SM_OUTPUT_INTERMEDIATE_DIR=/opt/ml/output/intermediate\n",
      "\u001b[36malgo-1-lsow7_1  |\u001b[0m SM_CHANNEL_TRAIN=/opt/ml/input/data/train\n",
      "\u001b[36malgo-1-lsow7_1  |\u001b[0m SM_HP_N_COMPONENTS=15\n",
      "\u001b[36malgo-1-lsow7_1  |\u001b[0m PYTHONPATH=/miniconda3/bin:/miniconda3/lib/python37.zip:/miniconda3/lib/python3.7:/miniconda3/lib/python3.7/lib-dynload:/miniconda3/lib/python3.7/site-packages\n",
      "\u001b[36malgo-1-lsow7_1  |\u001b[0m \n",
      "\u001b[36malgo-1-lsow7_1  |\u001b[0m Invoking script with the following command:\n",
      "\u001b[36malgo-1-lsow7_1  |\u001b[0m \n",
      "\u001b[36malgo-1-lsow7_1  |\u001b[0m /miniconda3/bin/python -m pca_byoc_train --n_components 15\n",
      "\u001b[36malgo-1-lsow7_1  |\u001b[0m \n",
      "\u001b[36malgo-1-lsow7_1  |\u001b[0m \n",
      "\u001b[36malgo-1-lsow7_1  |\u001b[0m /miniconda3/lib/python3.7/site-packages/sklearn/externals/joblib/externals/cloudpickle/cloudpickle.py:47: DeprecationWarning: the imp module is deprecated in favour of importlib; see the module's documentation for alternative uses\n",
      "\u001b[36malgo-1-lsow7_1  |\u001b[0m   import imp\n",
      "\u001b[36malgo-1-lsow7_1  |\u001b[0m train shape:  (6999, 69)\n",
      "\u001b[36malgo-1-lsow7_1  |\u001b[0m Component Variability: \n",
      "\u001b[36malgo-1-lsow7_1  |\u001b[0m  [0.11037054 0.08930514 0.08530902 0.08398641 0.08100946 0.07891911\n",
      "\u001b[36malgo-1-lsow7_1  |\u001b[0m  0.0784487  0.0757067  0.0754758  0.07404293 0.07360349 0.01442162\n",
      "\u001b[36malgo-1-lsow7_1  |\u001b[0m  0.0026667  0.00203678 0.00188782]\n",
      "\u001b[36malgo-1-lsow7_1  |\u001b[0m 2020-08-14 01:50:33,544 sagemaker-containers INFO     Reporting training SUCCESS\n"
     ]
    },
    {
     "name": "stderr",
     "output_type": "stream",
     "text": [
      "WARNING:sagemaker:'upload_data' method will be deprecated in favor of 'S3Uploader' class (https://sagemaker.readthedocs.io/en/stable/s3.html#sagemaker.s3.S3Uploader) in SageMaker Python SDK v2.\n"
     ]
    },
    {
     "name": "stdout",
     "output_type": "stream",
     "text": [
      "\u001b[36mtmp_ivom6e8_algo-1-lsow7_1 exited with code 0\n",
      "\u001b[0mAborting on container exit...\n",
      "===== Job Complete =====\n",
      "CPU times: user 179 ms, sys: 40.7 ms, total: 219 ms\n",
      "Wall time: 4.78 s\n"
     ]
    }
   ],
   "source": [
    "%%time\n",
    "\n",
    "import sagemaker\n",
    "\n",
    "instance_type = 'local'\n",
    "# instance_type = 'ml.m4.xlarge'\n",
    "\n",
    "pca_estimator = sagemaker.estimator.Estimator(container_image_uri,\n",
    "                                    role, \n",
    "                                    train_instance_count=1, \n",
    "                                    train_instance_type= instance_type,\n",
    "                                    base_job_name=prefix)\n",
    "\n",
    "pca_estimator.set_hyperparameters(n_components= 15)\n",
    "\n",
    "train_config = sagemaker.session.s3_input(train_input, content_type='text/csv')\n",
    "\n",
    "pca_estimator.fit({'train': train_config})"
   ]
  },
  {
   "cell_type": "markdown",
   "metadata": {},
   "source": [
    "# Transforming Train PCA"
   ]
  },
  {
   "cell_type": "code",
   "execution_count": 91,
   "metadata": {},
   "outputs": [
    {
     "name": "stdout",
     "output_type": "stream",
     "text": [
      "(2333, 70)\n",
      "num_cols:  70\n"
     ]
    }
   ],
   "source": [
    "import pandas as pd\n",
    "\n",
    "preprocessed_train_path_file = '{}/train.csv.out'.format(preprocessed_train_path)\n",
    "pre_df = pd.read_csv(preprocessed_train_path_file, header=None)\n",
    "print(pre_df.shape)\n",
    "num_cols = pre_df.shape[1]\n",
    "print(\"num_cols: \", num_cols)"
   ]
  },
  {
   "cell_type": "code",
   "execution_count": 92,
   "metadata": {},
   "outputs": [
    {
     "name": "stderr",
     "output_type": "stream",
     "text": [
      "WARNING:sagemaker:Parameter image will be renamed to image_uri in SageMaker Python SDK v2.\n",
      "WARNING:urllib3.connectionpool:Retrying (Retry(total=2, connect=None, read=None, redirect=None, status=None)) after connection broken by 'NewConnectionError('<urllib3.connection.HTTPConnection object at 0x7f205a6b5208>: Failed to establish a new connection: [Errno 111] Connection refused',)': /ping\n",
      "WARNING:urllib3.connectionpool:Retrying (Retry(total=1, connect=None, read=None, redirect=None, status=None)) after connection broken by 'NewConnectionError('<urllib3.connection.HTTPConnection object at 0x7f205a6b5b00>: Failed to establish a new connection: [Errno 111] Connection refused',)': /ping\n",
      "WARNING:urllib3.connectionpool:Retrying (Retry(total=0, connect=None, read=None, redirect=None, status=None)) after connection broken by 'NewConnectionError('<urllib3.connection.HTTPConnection object at 0x7f205a6b5908>: Failed to establish a new connection: [Errno 111] Connection refused',)': /ping\n"
     ]
    },
    {
     "name": "stdout",
     "output_type": "stream",
     "text": [
      "Attaching to tmpogi6luff_algo-1-5fdi1_1\n",
      "\u001b[36malgo-1-5fdi1_1  |\u001b[0m Processing /opt/ml/code\n",
      "\u001b[36malgo-1-5fdi1_1  |\u001b[0m Building wheels for collected packages: pca-byoc-train\n",
      "\u001b[36malgo-1-5fdi1_1  |\u001b[0m   Building wheel for pca-byoc-train (setup.py) ... \u001b[?25ldone\n",
      "\u001b[36malgo-1-5fdi1_1  |\u001b[0m \u001b[?25h  Created wheel for pca-byoc-train: filename=pca_byoc_train-1.0.0-py2.py3-none-any.whl size=9371 sha256=7bd2f416a234d3668ebefb3a45844a11e634607c0573df51bc7cd9a7c766e8a5\n",
      "\u001b[36malgo-1-5fdi1_1  |\u001b[0m   Stored in directory: /tmp/pip-ephem-wheel-cache-n9423v8i/wheels/35/24/16/37574d11bf9bde50616c67372a334f94fa8356bc7164af8ca3\n",
      "\u001b[36malgo-1-5fdi1_1  |\u001b[0m Successfully built pca-byoc-train\n",
      "\u001b[36malgo-1-5fdi1_1  |\u001b[0m Installing collected packages: pca-byoc-train\n",
      "\u001b[36malgo-1-5fdi1_1  |\u001b[0m Successfully installed pca-byoc-train-1.0.0\n",
      "\u001b[36malgo-1-5fdi1_1  |\u001b[0m /miniconda3/lib/python3.7/site-packages/sklearn/externals/joblib/externals/cloudpickle/cloudpickle.py:47: DeprecationWarning: the imp module is deprecated in favour of importlib; see the module's documentation for alternative uses\n",
      "\u001b[36malgo-1-5fdi1_1  |\u001b[0m   import imp\n",
      "\u001b[36malgo-1-5fdi1_1  |\u001b[0m [2020-08-14 01:50:37 +0000] [44] [INFO] Starting gunicorn 19.9.0\n",
      "\u001b[36malgo-1-5fdi1_1  |\u001b[0m [2020-08-14 01:50:37 +0000] [44] [INFO] Listening at: unix:/tmp/gunicorn.sock (44)\n",
      "\u001b[36malgo-1-5fdi1_1  |\u001b[0m [2020-08-14 01:50:37 +0000] [44] [INFO] Using worker: gevent\n",
      "\u001b[36malgo-1-5fdi1_1  |\u001b[0m [2020-08-14 01:50:37 +0000] [47] [INFO] Booting worker with pid: 47\n",
      "\u001b[36malgo-1-5fdi1_1  |\u001b[0m [2020-08-14 01:50:37 +0000] [48] [INFO] Booting worker with pid: 48\n",
      "\u001b[36malgo-1-5fdi1_1  |\u001b[0m [2020-08-14 01:50:37 +0000] [56] [INFO] Booting worker with pid: 56\n",
      "\u001b[36malgo-1-5fdi1_1  |\u001b[0m [2020-08-14 01:50:37 +0000] [64] [INFO] Booting worker with pid: 64\n",
      "\u001b[36malgo-1-5fdi1_1  |\u001b[0m [2020-08-14 01:50:37 +0000] [65] [INFO] Booting worker with pid: 65\n",
      "\u001b[36malgo-1-5fdi1_1  |\u001b[0m [2020-08-14 01:50:37 +0000] [73] [INFO] Booting worker with pid: 73\n",
      "\u001b[36malgo-1-5fdi1_1  |\u001b[0m [2020-08-14 01:50:37 +0000] [81] [INFO] Booting worker with pid: 81\n",
      "\u001b[36malgo-1-5fdi1_1  |\u001b[0m [2020-08-14 01:50:37 +0000] [89] [INFO] Booting worker with pid: 89\n",
      "\u001b[36malgo-1-5fdi1_1  |\u001b[0m 2020-08-14 01:50:39,362 INFO - sagemaker-containers - No GPUs detected (normal if no gpus installed)\n",
      "\u001b[36malgo-1-5fdi1_1  |\u001b[0m /miniconda3/lib/python3.7/site-packages/sklearn/externals/joblib/externals/cloudpickle/cloudpickle.py:47: DeprecationWarning: the imp module is deprecated in favour of importlib; see the module's documentation for alternative uses\n",
      "\u001b[36malgo-1-5fdi1_1  |\u001b[0m   import imp\n",
      "\u001b[36malgo-1-5fdi1_1  |\u001b[0m 172.18.0.1 - - [14/Aug/2020:01:50:39 +0000] \"GET /ping HTTP/1.1\" 200 0 \"-\" \"-\"\n",
      "\u001b[36malgo-1-5fdi1_1  |\u001b[0m 172.18.0.1 - - [14/Aug/2020:01:50:39 +0000] \"GET /execution-parameters HTTP/1.1\" 404 232 \"-\" \"-\"\n",
      "\u001b[36malgo-1-5fdi1_1  |\u001b[0m input_fn: Starting\n",
      "\u001b[36malgo-1-5fdi1_1  |\u001b[0m type of input_data:  <class 'str'>\n",
      "\u001b[36malgo-1-5fdi1_1  |\u001b[0m request_content_type:  text/csv\n",
      "\u001b[36malgo-1-5fdi1_1  |\u001b[0m 2020-08-14 01:50:39,872 INFO - root - input_fn: \n",
      "\u001b[36malgo-1-5fdi1_1  |\u001b[0m 2020-08-14 01:50:39,872 INFO - root - shape of requested data: '(2333, 70)'\n",
      "\u001b[36malgo-1-5fdi1_1  |\u001b[0m 2020-08-14 01:50:39,937 INFO - root - requested data: '       0   ...   69\n",
      "\u001b[36malgo-1-5fdi1_1  |\u001b[0m 0     0.0  ...  0.0\n",
      "\u001b[36malgo-1-5fdi1_1  |\u001b[0m 1     0.0  ...  0.0\n",
      "\u001b[36malgo-1-5fdi1_1  |\u001b[0m 2     1.0  ...  0.0\n",
      "\u001b[36malgo-1-5fdi1_1  |\u001b[0m 3     0.0  ...  0.0\n",
      "\u001b[36malgo-1-5fdi1_1  |\u001b[0m 4     0.0  ...  1.0\n",
      "\u001b[36malgo-1-5fdi1_1  |\u001b[0m ...   ...  ...  ...\n",
      "\u001b[36malgo-1-5fdi1_1  |\u001b[0m 2328  0.0  ...  0.0\n",
      "\u001b[36malgo-1-5fdi1_1  |\u001b[0m 2329  1.0  ...  0.0\n",
      "\u001b[36malgo-1-5fdi1_1  |\u001b[0m 2330  0.0  ...  0.0\n",
      "\u001b[36malgo-1-5fdi1_1  |\u001b[0m 2331  0.0  ...  0.0\n",
      "\u001b[36malgo-1-5fdi1_1  |\u001b[0m 2332  0.0  ...  1.0\n",
      "\u001b[36malgo-1-5fdi1_1  |\u001b[0m \n",
      "\u001b[36malgo-1-5fdi1_1  |\u001b[0m [2333 rows x 70 columns]'\n",
      "\u001b[36malgo-1-5fdi1_1  |\u001b[0m prdict_fn: Staring\n",
      "\u001b[36malgo-1-5fdi1_1  |\u001b[0m os.getenv('TRANSFORM_MODE'):  feature-transform\n",
      "\u001b[36malgo-1-5fdi1_1  |\u001b[0m predcit_fn - TRANSFORM_MODE:  feature-transform\n",
      "\u001b[36malgo-1-5fdi1_1  |\u001b[0m 2020-08-14 01:50:40,001 INFO - root - predict_fn: input_data - '       0   ...   69\n",
      "\u001b[36malgo-1-5fdi1_1  |\u001b[0m 0     0.0  ...  0.0\n",
      "\u001b[36malgo-1-5fdi1_1  |\u001b[0m 1     0.0  ...  0.0\n",
      "\u001b[36malgo-1-5fdi1_1  |\u001b[0m 2     1.0  ...  0.0\n",
      "\u001b[36malgo-1-5fdi1_1  |\u001b[0m 3     0.0  ...  0.0\n",
      "\u001b[36malgo-1-5fdi1_1  |\u001b[0m 4     0.0  ...  1.0\n",
      "\u001b[36malgo-1-5fdi1_1  |\u001b[0m ...   ...  ...  ...\n",
      "\u001b[36malgo-1-5fdi1_1  |\u001b[0m 2328  0.0  ...  0.0\n",
      "\u001b[36malgo-1-5fdi1_1  |\u001b[0m 2329  1.0  ...  0.0\n",
      "\u001b[36malgo-1-5fdi1_1  |\u001b[0m 2330  0.0  ...  0.0\n",
      "\u001b[36malgo-1-5fdi1_1  |\u001b[0m 2331  0.0  ...  0.0\n",
      "\u001b[36malgo-1-5fdi1_1  |\u001b[0m 2332  0.0  ...  1.0\n",
      "\u001b[36malgo-1-5fdi1_1  |\u001b[0m \n",
      "\u001b[36malgo-1-5fdi1_1  |\u001b[0m [2333 rows x 70 columns]'\n",
      "\u001b[36malgo-1-5fdi1_1  |\u001b[0m type of input_data:  <class 'pandas.core.frame.DataFrame'>\n",
      "\u001b[36malgo-1-5fdi1_1  |\u001b[0m shape of input_data:  (2333, 70)\n",
      "\u001b[36malgo-1-5fdi1_1  |\u001b[0m head of input_data: \n"
     ]
    },
    {
     "name": "stderr",
     "output_type": "stream",
     "text": [
      "WARNING:sagemaker:'upload_data' method will be deprecated in favor of 'S3Uploader' class (https://sagemaker.readthedocs.io/en/stable/s3.html#sagemaker.s3.S3Uploader) in SageMaker Python SDK v2.\n"
     ]
    },
    {
     "name": "stdout",
     "output_type": "stream",
     "text": [
      "\u001b[36malgo-1-5fdi1_1  |\u001b[0m       0   ...   69\n",
      "\u001b[36malgo-1-5fdi1_1  |\u001b[0m 0  0.0  ...  0.0\n",
      "\u001b[36malgo-1-5fdi1_1  |\u001b[0m 1  0.0  ...  0.0\n",
      "\u001b[36malgo-1-5fdi1_1  |\u001b[0m \n",
      "\u001b[36malgo-1-5fdi1_1  |\u001b[0m [2 rows x 70 columns]\n",
      "\u001b[36malgo-1-5fdi1_1  |\u001b[0m os.getenv('LENGTH_COLS') :  70\n",
      "\u001b[36malgo-1-5fdi1_1  |\u001b[0m type: os.getenv('LENGTH_COLS'):  <class 'str'>\n",
      "\u001b[36malgo-1-5fdi1_1  |\u001b[0m type of components:  <class 'numpy.ndarray'>\n",
      "\u001b[36malgo-1-5fdi1_1  |\u001b[0m shape of components:  (2333, 15)\n",
      "\u001b[36malgo-1-5fdi1_1  |\u001b[0m 2020-08-14 01:50:40,065 INFO - root - predict_fn: PCA components: \n",
      "\u001b[36malgo-1-5fdi1_1  |\u001b[0m '[[ 0.00000000e+00 -8.23085436e-01 -1.08811131e-01 ... -6.63877079e-02\n",
      "\u001b[36malgo-1-5fdi1_1  |\u001b[0m   -1.18330736e-02 -2.74103073e-01]\n",
      "\u001b[36malgo-1-5fdi1_1  |\u001b[0m  [ 0.00000000e+00 -3.43474254e-01  9.14233023e-02 ... -1.93403653e-02\n",
      "\u001b[36malgo-1-5fdi1_1  |\u001b[0m   -1.81654019e-01 -2.05599485e-03]\n",
      "\u001b[36malgo-1-5fdi1_1  |\u001b[0m  [ 1.00000000e+00 -7.64309081e-01  1.16037618e-02 ... -2.22513681e-02\n",
      "\u001b[36malgo-1-5fdi1_1  |\u001b[0m   -3.33721163e-04  1.38533867e-01]\n",
      "\u001b[36malgo-1-5fdi1_1  |\u001b[0m  ...\n",
      "\u001b[36malgo-1-5fdi1_1  |\u001b[0m  [ 0.00000000e+00 -7.35732199e-01 -1.46967771e-01 ...  5.16924002e-03\n",
      "\u001b[36malgo-1-5fdi1_1  |\u001b[0m   -1.71493477e-01 -1.85660068e-02]\n",
      "\u001b[36malgo-1-5fdi1_1  |\u001b[0m  [ 0.00000000e+00 -8.64785375e-01 -6.92610348e-01 ...  1.03813629e-02\n",
      "\u001b[36malgo-1-5fdi1_1  |\u001b[0m   -3.38109238e-03 -1.99764788e-02]\n",
      "\u001b[36malgo-1-5fdi1_1  |\u001b[0m  [ 0.00000000e+00  1.94313344e+00  1.04687587e+00 ... -1.18519368e-02\n",
      "\u001b[36malgo-1-5fdi1_1  |\u001b[0m   -1.61409480e-02  7.57019492e-02]]'\n",
      "\u001b[36malgo-1-5fdi1_1  |\u001b[0m 2020-08-14 01:50:40,066 INFO - root - Output_fn: prdiction - '[[ 0.00000000e+00 -8.23085436e-01 -1.08811131e-01 ... -6.63877079e-02\n",
      "\u001b[36malgo-1-5fdi1_1  |\u001b[0m   -1.18330736e-02 -2.74103073e-01]\n",
      "\u001b[36malgo-1-5fdi1_1  |\u001b[0m  [ 0.00000000e+00 -3.43474254e-01  9.14233023e-02 ... -1.93403653e-02\n",
      "\u001b[36malgo-1-5fdi1_1  |\u001b[0m   -1.81654019e-01 -2.05599485e-03]\n",
      "\u001b[36malgo-1-5fdi1_1  |\u001b[0m  [ 1.00000000e+00 -7.64309081e-01  1.16037618e-02 ... -2.22513681e-02\n",
      "\u001b[36malgo-1-5fdi1_1  |\u001b[0m   -3.33721163e-04  1.38533867e-01]\n",
      "\u001b[36malgo-1-5fdi1_1  |\u001b[0m  ...\n",
      "\u001b[36malgo-1-5fdi1_1  |\u001b[0m  [ 0.00000000e+00 -7.35732199e-01 -1.46967771e-01 ...  5.16924002e-03\n",
      "\u001b[36malgo-1-5fdi1_1  |\u001b[0m   -1.71493477e-01 -1.85660068e-02]\n",
      "\u001b[36malgo-1-5fdi1_1  |\u001b[0m  [ 0.00000000e+00 -8.64785375e-01 -6.92610348e-01 ...  1.03813629e-02\n",
      "\u001b[36malgo-1-5fdi1_1  |\u001b[0m   -3.38109238e-03 -1.99764788e-02]\n",
      "\u001b[36malgo-1-5fdi1_1  |\u001b[0m  [ 0.00000000e+00  1.94313344e+00  1.04687587e+00 ... -1.18519368e-02\n",
      "\u001b[36malgo-1-5fdi1_1  |\u001b[0m   -1.61409480e-02  7.57019492e-02]]' \n",
      "\u001b[36malgo-1-5fdi1_1  |\u001b[0m type of accept:  text/csv\n",
      "\u001b[36malgo-1-5fdi1_1  |\u001b[0m 2020-08-14 01:50:40,066 ERROR - pca_byoc_train - Exception on /invocations [POST]\n",
      "\u001b[36malgo-1-5fdi1_1  |\u001b[0m Traceback (most recent call last):\n",
      "\u001b[36malgo-1-5fdi1_1  |\u001b[0m   File \"/miniconda3/lib/python3.7/site-packages/sagemaker_containers/_functions.py\", line 93, in wrapper\n",
      "\u001b[36malgo-1-5fdi1_1  |\u001b[0m     return fn(*args, **kwargs)\n",
      "\u001b[36malgo-1-5fdi1_1  |\u001b[0m   File \"/opt/ml/code/pca_byoc_train.py\", line 185, in output_fn\n",
      "\u001b[36malgo-1-5fdi1_1  |\u001b[0m     return encoders.encode(prediction, accept)\n",
      "\u001b[36malgo-1-5fdi1_1  |\u001b[0m NameError: name 'encoders' is not defined\n",
      "\u001b[36malgo-1-5fdi1_1  |\u001b[0m \n",
      "\u001b[36malgo-1-5fdi1_1  |\u001b[0m During handling of the above exception, another exception occurred:\n",
      "\u001b[36malgo-1-5fdi1_1  |\u001b[0m \n",
      "\u001b[36malgo-1-5fdi1_1  |\u001b[0m Traceback (most recent call last):\n",
      "\u001b[36malgo-1-5fdi1_1  |\u001b[0m   File \"/miniconda3/lib/python3.7/site-packages/flask/app.py\", line 2446, in wsgi_app\n",
      "\u001b[36malgo-1-5fdi1_1  |\u001b[0m     response = self.full_dispatch_request()\n",
      "\u001b[36malgo-1-5fdi1_1  |\u001b[0m   File \"/miniconda3/lib/python3.7/site-packages/flask/app.py\", line 1951, in full_dispatch_request\n",
      "\u001b[36malgo-1-5fdi1_1  |\u001b[0m     rv = self.handle_user_exception(e)\n",
      "\u001b[36malgo-1-5fdi1_1  |\u001b[0m   File \"/miniconda3/lib/python3.7/site-packages/flask/app.py\", line 1820, in handle_user_exception\n",
      "\u001b[36malgo-1-5fdi1_1  |\u001b[0m     reraise(exc_type, exc_value, tb)\n",
      "\u001b[36malgo-1-5fdi1_1  |\u001b[0m   File \"/miniconda3/lib/python3.7/site-packages/flask/_compat.py\", line 39, in reraise\n",
      "\u001b[36malgo-1-5fdi1_1  |\u001b[0m     raise value\n",
      "\u001b[36malgo-1-5fdi1_1  |\u001b[0m   File \"/miniconda3/lib/python3.7/site-packages/flask/app.py\", line 1949, in full_dispatch_request\n",
      "\u001b[36malgo-1-5fdi1_1  |\u001b[0m     rv = self.dispatch_request()\n",
      "\u001b[36malgo-1-5fdi1_1  |\u001b[0m   File \"/miniconda3/lib/python3.7/site-packages/flask/app.py\", line 1935, in dispatch_request\n",
      "\u001b[36malgo-1-5fdi1_1  |\u001b[0m     return self.view_functions[rule.endpoint](**req.view_args)\n",
      "\u001b[36malgo-1-5fdi1_1  |\u001b[0m   File \"/miniconda3/lib/python3.7/site-packages/sagemaker_containers/_transformer.py\", line 200, in transform\n",
      "\u001b[36malgo-1-5fdi1_1  |\u001b[0m     self._model, request.content, request.content_type, request.accept\n",
      "\u001b[36malgo-1-5fdi1_1  |\u001b[0m   File \"/miniconda3/lib/python3.7/site-packages/sagemaker_containers/_transformer.py\", line 234, in _default_transform_fn\n",
      "\u001b[36malgo-1-5fdi1_1  |\u001b[0m     result = self._output_fn(prediction, accept)\n",
      "\u001b[36malgo-1-5fdi1_1  |\u001b[0m   File \"/miniconda3/lib/python3.7/site-packages/sagemaker_containers/_functions.py\", line 95, in wrapper\n",
      "\u001b[36malgo-1-5fdi1_1  |\u001b[0m     six.reraise(error_class, error_class(e), sys.exc_info()[2])\n",
      "\u001b[36malgo-1-5fdi1_1  |\u001b[0m   File \"/miniconda3/lib/python3.7/site-packages/six.py\", line 692, in reraise\n",
      "\u001b[36malgo-1-5fdi1_1  |\u001b[0m     raise value.with_traceback(tb)\n",
      "\u001b[36malgo-1-5fdi1_1  |\u001b[0m   File \"/miniconda3/lib/python3.7/site-packages/sagemaker_containers/_functions.py\", line 93, in wrapper\n",
      "\u001b[36malgo-1-5fdi1_1  |\u001b[0m     return fn(*args, **kwargs)\n",
      "\u001b[36malgo-1-5fdi1_1  |\u001b[0m   File \"/opt/ml/code/pca_byoc_train.py\", line 185, in output_fn\n",
      "\u001b[36malgo-1-5fdi1_1  |\u001b[0m     return encoders.encode(prediction, accept)\n",
      "\u001b[36malgo-1-5fdi1_1  |\u001b[0m sagemaker_containers._errors.ClientError: name 'encoders' is not defined\n",
      "\u001b[36malgo-1-5fdi1_1  |\u001b[0m 172.18.0.1 - - [14/Aug/2020:01:50:40 +0000] \"POST /invocations HTTP/1.1\" 500 290 \"-\" \"-\"\n",
      "Gracefully stopping... (press Ctrl+C again to force)\n",
      "Waiting for transform job: pca-2020-08-14-01-50-34-180-2020-08-14-01-50-34-180\n",
      "."
     ]
    }
   ],
   "source": [
    "instance_type = 'local'\n",
    "# instance_type = 'ml.m4.2xlarge'\n",
    "transform_train_output_path = 's3://{}/{}/{}/'.format(bucket, prefix, 'transformtrain-pca-train-output')\n",
    "\n",
    "pca_model = pca_estimator.create_model(\n",
    "    env={'TRANSFORM_MODE': 'feature-transform', 'LENGTH_COLS': str(num_cols)})\n",
    "\n",
    "# scikit_learn_inferencee_model 에서 Train Transformer 생성\n",
    "transformer_train = pca_model.transformer(\n",
    "    instance_count=1, \n",
    "    instance_type= instance_type,\n",
    "    assemble_with = 'Line',\n",
    "    output_path = transform_train_output_path,\n",
    "    accept = 'text/csv')\n",
    "\n",
    "\n",
    "# Preprocess training input\n",
    "transformer_train.transform(preprocessed_train_path_file, \n",
    "                            content_type='text/csv',                            \n",
    "                           )\n",
    "\n",
    "print('Waiting for transform job: ' + transformer_train.latest_transform_job.job_name)\n",
    "transformer_train.wait()\n",
    "\n",
    "preprocessed_pca_train_path = transformer_train.output_path + transformer_train.latest_transform_job.job_name\n"
   ]
  },
  {
   "cell_type": "code",
   "execution_count": 93,
   "metadata": {},
   "outputs": [
    {
     "name": "stdout",
     "output_type": "stream",
     "text": [
      "s3://sagemaker-us-east-2-057716757052/Scikit-pca-custom/transformtrain-pca-train-output/pca-2020-08-14-01-50-34-180-2020-08-14-01-50-34-180\n"
     ]
    }
   ],
   "source": [
    "print(preprocessed_pca_train_path)"
   ]
  },
  {
   "cell_type": "code",
   "execution_count": 94,
   "metadata": {},
   "outputs": [
    {
     "name": "stdout",
     "output_type": "stream",
     "text": [
      "2020-08-13 01:27:28     707835 Scikit-pca-custom/transformtrain-pca-train-output/pca-2020-08-13-01-27-21-375-2020-08-13-01-27-21-375/train.csv.out.out\n"
     ]
    }
   ],
   "source": [
    "! aws s3 ls s3://sagemaker-us-east-2-057716757052/Scikit-pca-custom/transformtrain-pca-train-output/pca-2020-08-13-01-27-21-375-2020-08-13-01-27-21-375 --recursive"
   ]
  },
  {
   "cell_type": "code",
   "execution_count": 95,
   "metadata": {},
   "outputs": [
    {
     "data": {
      "text/html": [
       "<div>\n",
       "<style scoped>\n",
       "    .dataframe tbody tr th:only-of-type {\n",
       "        vertical-align: middle;\n",
       "    }\n",
       "\n",
       "    .dataframe tbody tr th {\n",
       "        vertical-align: top;\n",
       "    }\n",
       "\n",
       "    .dataframe thead th {\n",
       "        text-align: right;\n",
       "    }\n",
       "</style>\n",
       "<table border=\"1\" class=\"dataframe\">\n",
       "  <thead>\n",
       "    <tr style=\"text-align: right;\">\n",
       "      <th></th>\n",
       "      <th>0</th>\n",
       "    </tr>\n",
       "  </thead>\n",
       "  <tbody>\n",
       "    <tr>\n",
       "      <th>0</th>\n",
       "      <td>&lt;!DOCTYPE HTML PUBLIC \"-//W3C//DTD HTML 3.2 Fi...</td>\n",
       "    </tr>\n",
       "    <tr>\n",
       "      <th>1</th>\n",
       "      <td>&lt;title&gt;500 Internal Server Error&lt;/title&gt;</td>\n",
       "    </tr>\n",
       "    <tr>\n",
       "      <th>2</th>\n",
       "      <td>&lt;h1&gt;Internal Server Error&lt;/h1&gt;</td>\n",
       "    </tr>\n",
       "    <tr>\n",
       "      <th>3</th>\n",
       "      <td>&lt;p&gt;The server encountered an internal error an...</td>\n",
       "    </tr>\n",
       "  </tbody>\n",
       "</table>\n",
       "</div>"
      ],
      "text/plain": [
       "                                                   0\n",
       "0  <!DOCTYPE HTML PUBLIC \"-//W3C//DTD HTML 3.2 Fi...\n",
       "1           <title>500 Internal Server Error</title>\n",
       "2                     <h1>Internal Server Error</h1>\n",
       "3  <p>The server encountered an internal error an..."
      ]
     },
     "execution_count": 95,
     "metadata": {},
     "output_type": "execute_result"
    }
   ],
   "source": [
    "preprocessed_pca_train_path_file = '{}/train.csv.out.out'.format(preprocessed_pca_train_path)\n",
    "pca_preoc_df = pd.read_csv(preprocessed_pca_train_path_file, header=None)\n",
    "pca_preoc_df.head()"
   ]
  },
  {
   "cell_type": "markdown",
   "metadata": {},
   "source": [
    "## PCA Validation Transforming"
   ]
  },
  {
   "cell_type": "code",
   "execution_count": 96,
   "metadata": {},
   "outputs": [
    {
     "data": {
      "text/plain": [
       "'s3://sagemaker-us-east-2-057716757052/sagemaker/customer-churn/transformtrain-validation-output/sagemaker-scikit-learn-2020-08-14-01-50-2020-08-14-01-50-18-598'"
      ]
     },
     "execution_count": 96,
     "metadata": {},
     "output_type": "execute_result"
    }
   ],
   "source": [
    "preprocessed_validation_path"
   ]
  },
  {
   "cell_type": "code",
   "execution_count": 97,
   "metadata": {},
   "outputs": [
    {
     "name": "stdout",
     "output_type": "stream",
     "text": [
      "(666, 70)\n",
      "num_cols:  70\n"
     ]
    }
   ],
   "source": [
    "import pandas as pd\n",
    "\n",
    "preprocessed_validation_path_file = '{}/validation.csv.out'.format(preprocessed_validation_path)\n",
    "pre_df = pd.read_csv(preprocessed_validation_path_file, header=None)\n",
    "print(pre_df.shape)\n",
    "num_cols = pre_df.shape[1]\n",
    "print(\"num_cols: \", num_cols)"
   ]
  },
  {
   "cell_type": "code",
   "execution_count": 98,
   "metadata": {},
   "outputs": [
    {
     "name": "stderr",
     "output_type": "stream",
     "text": [
      "WARNING:sagemaker:Parameter image will be renamed to image_uri in SageMaker Python SDK v2.\n",
      "WARNING:urllib3.connectionpool:Retrying (Retry(total=2, connect=None, read=None, redirect=None, status=None)) after connection broken by 'NewConnectionError('<urllib3.connection.HTTPConnection object at 0x7f2071ea2048>: Failed to establish a new connection: [Errno 111] Connection refused',)': /ping\n",
      "WARNING:urllib3.connectionpool:Retrying (Retry(total=1, connect=None, read=None, redirect=None, status=None)) after connection broken by 'NewConnectionError('<urllib3.connection.HTTPConnection object at 0x7f2071ec74e0>: Failed to establish a new connection: [Errno 111] Connection refused',)': /ping\n",
      "WARNING:urllib3.connectionpool:Retrying (Retry(total=0, connect=None, read=None, redirect=None, status=None)) after connection broken by 'NewConnectionError('<urllib3.connection.HTTPConnection object at 0x7f2071ec70b8>: Failed to establish a new connection: [Errno 111] Connection refused',)': /ping\n"
     ]
    },
    {
     "name": "stdout",
     "output_type": "stream",
     "text": [
      "Attaching to tmp806stlsz_algo-1-o44bq_1\n",
      "\u001b[36malgo-1-o44bq_1  |\u001b[0m Processing /opt/ml/code\n",
      "\u001b[36malgo-1-o44bq_1  |\u001b[0m Building wheels for collected packages: pca-byoc-train\n",
      "\u001b[36malgo-1-o44bq_1  |\u001b[0m   Building wheel for pca-byoc-train (setup.py) ... \u001b[?25ldone\n",
      "\u001b[36malgo-1-o44bq_1  |\u001b[0m \u001b[?25h  Created wheel for pca-byoc-train: filename=pca_byoc_train-1.0.0-py2.py3-none-any.whl size=9372 sha256=04c85128f58215f21130865b37f71591a6da7789016a42a12be41ba752280000\n",
      "\u001b[36malgo-1-o44bq_1  |\u001b[0m   Stored in directory: /tmp/pip-ephem-wheel-cache-9a9o_s1o/wheels/35/24/16/37574d11bf9bde50616c67372a334f94fa8356bc7164af8ca3\n",
      "\u001b[36malgo-1-o44bq_1  |\u001b[0m Successfully built pca-byoc-train\n",
      "\u001b[36malgo-1-o44bq_1  |\u001b[0m Installing collected packages: pca-byoc-train\n",
      "\u001b[36malgo-1-o44bq_1  |\u001b[0m Successfully installed pca-byoc-train-1.0.0\n",
      "\u001b[36malgo-1-o44bq_1  |\u001b[0m /miniconda3/lib/python3.7/site-packages/sklearn/externals/joblib/externals/cloudpickle/cloudpickle.py:47: DeprecationWarning: the imp module is deprecated in favour of importlib; see the module's documentation for alternative uses\n",
      "\u001b[36malgo-1-o44bq_1  |\u001b[0m   import imp\n",
      "\u001b[36malgo-1-o44bq_1  |\u001b[0m [2020-08-14 01:50:44 +0000] [44] [INFO] Starting gunicorn 19.9.0\n",
      "\u001b[36malgo-1-o44bq_1  |\u001b[0m [2020-08-14 01:50:44 +0000] [44] [INFO] Listening at: unix:/tmp/gunicorn.sock (44)\n",
      "\u001b[36malgo-1-o44bq_1  |\u001b[0m [2020-08-14 01:50:44 +0000] [44] [INFO] Using worker: gevent\n",
      "\u001b[36malgo-1-o44bq_1  |\u001b[0m [2020-08-14 01:50:44 +0000] [47] [INFO] Booting worker with pid: 47\n",
      "\u001b[36malgo-1-o44bq_1  |\u001b[0m [2020-08-14 01:50:44 +0000] [48] [INFO] Booting worker with pid: 48\n",
      "\u001b[36malgo-1-o44bq_1  |\u001b[0m [2020-08-14 01:50:44 +0000] [63] [INFO] Booting worker with pid: 63\n",
      "\u001b[36malgo-1-o44bq_1  |\u001b[0m [2020-08-14 01:50:44 +0000] [64] [INFO] Booting worker with pid: 64\n",
      "\u001b[36malgo-1-o44bq_1  |\u001b[0m [2020-08-14 01:50:44 +0000] [65] [INFO] Booting worker with pid: 65\n",
      "\u001b[36malgo-1-o44bq_1  |\u001b[0m [2020-08-14 01:50:44 +0000] [73] [INFO] Booting worker with pid: 73\n",
      "\u001b[36malgo-1-o44bq_1  |\u001b[0m [2020-08-14 01:50:45 +0000] [81] [INFO] Booting worker with pid: 81\n",
      "\u001b[36malgo-1-o44bq_1  |\u001b[0m [2020-08-14 01:50:45 +0000] [82] [INFO] Booting worker with pid: 82\n",
      "\u001b[36malgo-1-o44bq_1  |\u001b[0m 2020-08-14 01:50:46,744 INFO - sagemaker-containers - No GPUs detected (normal if no gpus installed)\n",
      "\u001b[36malgo-1-o44bq_1  |\u001b[0m /miniconda3/lib/python3.7/site-packages/sklearn/externals/joblib/externals/cloudpickle/cloudpickle.py:47: DeprecationWarning: the imp module is deprecated in favour of importlib; see the module's documentation for alternative uses\n",
      "\u001b[36malgo-1-o44bq_1  |\u001b[0m   import imp\n",
      "\u001b[36malgo-1-o44bq_1  |\u001b[0m 172.18.0.1 - - [14/Aug/2020:01:50:47 +0000] \"GET /ping HTTP/1.1\" 200 0 \"-\" \"-\"\n",
      "\u001b[36malgo-1-o44bq_1  |\u001b[0m 172.18.0.1 - - [14/Aug/2020:01:50:47 +0000] \"GET /execution-parameters HTTP/1.1\" 404 232 \"-\" \"-\"\n",
      "\u001b[36malgo-1-o44bq_1  |\u001b[0m 2020-08-14 01:50:47,221 INFO - sagemaker-containers - No GPUs detected (normal if no gpus installed)\n",
      "\u001b[36malgo-1-o44bq_1  |\u001b[0m /miniconda3/lib/python3.7/site-packages/sklearn/externals/joblib/externals/cloudpickle/cloudpickle.py:47: DeprecationWarning: the imp module is deprecated in favour of importlib; see the module's documentation for alternative uses\n",
      "\u001b[36malgo-1-o44bq_1  |\u001b[0m   import imp\n",
      "\u001b[36malgo-1-o44bq_1  |\u001b[0m input_fn: Starting\n",
      "\u001b[36malgo-1-o44bq_1  |\u001b[0m type of input_data:  <class 'str'>\n",
      "\u001b[36malgo-1-o44bq_1  |\u001b[0m request_content_type:  text/csv\n",
      "\u001b[36malgo-1-o44bq_1  |\u001b[0m 2020-08-14 01:50:47,627 INFO - root - input_fn: \n",
      "\u001b[36malgo-1-o44bq_1  |\u001b[0m 2020-08-14 01:50:47,627 INFO - root - shape of requested data: '(666, 70)'\n"
     ]
    },
    {
     "name": "stderr",
     "output_type": "stream",
     "text": [
      "WARNING:sagemaker:'upload_data' method will be deprecated in favor of 'S3Uploader' class (https://sagemaker.readthedocs.io/en/stable/s3.html#sagemaker.s3.S3Uploader) in SageMaker Python SDK v2.\n"
     ]
    },
    {
     "name": "stdout",
     "output_type": "stream",
     "text": [
      "\u001b[36malgo-1-o44bq_1  |\u001b[0m 2020-08-14 01:50:47,692 INFO - root - requested data: '      0   ...   69\n",
      "\u001b[36malgo-1-o44bq_1  |\u001b[0m 0    0.0  ...  1.0\n",
      "\u001b[36malgo-1-o44bq_1  |\u001b[0m 1    0.0  ...  0.0\n",
      "\u001b[36malgo-1-o44bq_1  |\u001b[0m 2    0.0  ...  1.0\n",
      "\u001b[36malgo-1-o44bq_1  |\u001b[0m 3    0.0  ...  0.0\n",
      "\u001b[36malgo-1-o44bq_1  |\u001b[0m 4    0.0  ...  1.0\n",
      "\u001b[36malgo-1-o44bq_1  |\u001b[0m ..   ...  ...  ...\n",
      "\u001b[36malgo-1-o44bq_1  |\u001b[0m 661  0.0  ...  0.0\n",
      "\u001b[36malgo-1-o44bq_1  |\u001b[0m 662  0.0  ...  0.0\n",
      "\u001b[36malgo-1-o44bq_1  |\u001b[0m 663  0.0  ...  1.0\n",
      "\u001b[36malgo-1-o44bq_1  |\u001b[0m 664  0.0  ...  0.0\n",
      "\u001b[36malgo-1-o44bq_1  |\u001b[0m 665  0.0  ...  1.0\n",
      "\u001b[36malgo-1-o44bq_1  |\u001b[0m \n",
      "\u001b[36malgo-1-o44bq_1  |\u001b[0m [666 rows x 70 columns]'\n",
      "\u001b[36malgo-1-o44bq_1  |\u001b[0m prdict_fn: Staring\n",
      "\u001b[36malgo-1-o44bq_1  |\u001b[0m os.getenv('TRANSFORM_MODE'):  feature-transform\n",
      "\u001b[36malgo-1-o44bq_1  |\u001b[0m predcit_fn - TRANSFORM_MODE:  feature-transform\n",
      "\u001b[36malgo-1-o44bq_1  |\u001b[0m 2020-08-14 01:50:47,755 INFO - root - predict_fn: input_data - '      0   ...   69\n",
      "\u001b[36malgo-1-o44bq_1  |\u001b[0m 0    0.0  ...  1.0\n",
      "\u001b[36malgo-1-o44bq_1  |\u001b[0m 1    0.0  ...  0.0\n",
      "\u001b[36malgo-1-o44bq_1  |\u001b[0m 2    0.0  ...  1.0\n",
      "\u001b[36malgo-1-o44bq_1  |\u001b[0m 3    0.0  ...  0.0\n",
      "\u001b[36malgo-1-o44bq_1  |\u001b[0m 4    0.0  ...  1.0\n",
      "\u001b[36malgo-1-o44bq_1  |\u001b[0m ..   ...  ...  ...\n",
      "\u001b[36malgo-1-o44bq_1  |\u001b[0m 661  0.0  ...  0.0\n",
      "\u001b[36malgo-1-o44bq_1  |\u001b[0m 662  0.0  ...  0.0\n",
      "\u001b[36malgo-1-o44bq_1  |\u001b[0m 663  0.0  ...  1.0\n",
      "\u001b[36malgo-1-o44bq_1  |\u001b[0m 664  0.0  ...  0.0\n",
      "\u001b[36malgo-1-o44bq_1  |\u001b[0m 665  0.0  ...  1.0\n",
      "\u001b[36malgo-1-o44bq_1  |\u001b[0m \n",
      "\u001b[36malgo-1-o44bq_1  |\u001b[0m [666 rows x 70 columns]'\n",
      "\u001b[36malgo-1-o44bq_1  |\u001b[0m type of input_data:  <class 'pandas.core.frame.DataFrame'>\n",
      "\u001b[36malgo-1-o44bq_1  |\u001b[0m shape of input_data:  (666, 70)\n",
      "\u001b[36malgo-1-o44bq_1  |\u001b[0m head of input_data: \n",
      "\u001b[36malgo-1-o44bq_1  |\u001b[0m       0   ...   69\n",
      "\u001b[36malgo-1-o44bq_1  |\u001b[0m 0  0.0  ...  1.0\n",
      "\u001b[36malgo-1-o44bq_1  |\u001b[0m 1  0.0  ...  0.0\n",
      "\u001b[36malgo-1-o44bq_1  |\u001b[0m \n",
      "\u001b[36malgo-1-o44bq_1  |\u001b[0m [2 rows x 70 columns]\n",
      "\u001b[36malgo-1-o44bq_1  |\u001b[0m os.getenv('LENGTH_COLS') :  70\n",
      "\u001b[36malgo-1-o44bq_1  |\u001b[0m type: os.getenv('LENGTH_COLS'):  <class 'str'>\n",
      "\u001b[36malgo-1-o44bq_1  |\u001b[0m type of components:  <class 'numpy.ndarray'>\n",
      "\u001b[36malgo-1-o44bq_1  |\u001b[0m shape of components:  (666, 15)\n",
      "\u001b[36malgo-1-o44bq_1  |\u001b[0m 2020-08-14 01:50:47,823 INFO - root - predict_fn: PCA components: \n",
      "\u001b[36malgo-1-o44bq_1  |\u001b[0m '[[ 0.00000000e+00  1.64752263e+00  1.32131166e+00 ... -3.12474792e-02\n",
      "\u001b[36malgo-1-o44bq_1  |\u001b[0m   -1.43168746e-01 -2.76660749e-01]\n",
      "\u001b[36malgo-1-o44bq_1  |\u001b[0m  [ 0.00000000e+00 -5.68755661e-01  2.09781517e-01 ... -4.71337989e-02\n",
      "\u001b[36malgo-1-o44bq_1  |\u001b[0m   -2.00401194e-02  3.64076977e-02]\n",
      "\u001b[36malgo-1-o44bq_1  |\u001b[0m  [ 0.00000000e+00  1.85617085e+00 -5.58974510e-01 ... -3.79160959e-02\n",
      "\u001b[36malgo-1-o44bq_1  |\u001b[0m    5.18437198e-02  5.83110426e-02]\n",
      "\u001b[36malgo-1-o44bq_1  |\u001b[0m  ...\n",
      "\u001b[36malgo-1-o44bq_1  |\u001b[0m  [ 0.00000000e+00  1.82761578e+00 -1.00779899e+00 ... -4.85619849e-02\n",
      "\u001b[36malgo-1-o44bq_1  |\u001b[0m    1.68082415e-02 -2.90708773e-02]\n",
      "\u001b[36malgo-1-o44bq_1  |\u001b[0m  [ 0.00000000e+00 -4.22450285e-01  5.32203379e-01 ... -3.06106754e-02\n",
      "\u001b[36malgo-1-o44bq_1  |\u001b[0m   -3.27803218e-02 -4.85089664e-03]\n",
      "\u001b[36malgo-1-o44bq_1  |\u001b[0m  [ 0.00000000e+00  2.79442241e+00  1.44731324e+00 ...  6.50900482e-02\n",
      "\u001b[36malgo-1-o44bq_1  |\u001b[0m    2.73177414e-03  4.60879977e-01]]'\n",
      "\u001b[36malgo-1-o44bq_1  |\u001b[0m 2020-08-14 01:50:47,824 INFO - root - Output_fn: prdiction - '[[ 0.00000000e+00  1.64752263e+00  1.32131166e+00 ... -3.12474792e-02\n",
      "\u001b[36malgo-1-o44bq_1  |\u001b[0m   -1.43168746e-01 -2.76660749e-01]\n",
      "\u001b[36malgo-1-o44bq_1  |\u001b[0m  [ 0.00000000e+00 -5.68755661e-01  2.09781517e-01 ... -4.71337989e-02\n",
      "\u001b[36malgo-1-o44bq_1  |\u001b[0m   -2.00401194e-02  3.64076977e-02]\n",
      "\u001b[36malgo-1-o44bq_1  |\u001b[0m  [ 0.00000000e+00  1.85617085e+00 -5.58974510e-01 ... -3.79160959e-02\n",
      "\u001b[36malgo-1-o44bq_1  |\u001b[0m    5.18437198e-02  5.83110426e-02]\n",
      "\u001b[36malgo-1-o44bq_1  |\u001b[0m  ...\n",
      "\u001b[36malgo-1-o44bq_1  |\u001b[0m  [ 0.00000000e+00  1.82761578e+00 -1.00779899e+00 ... -4.85619849e-02\n",
      "\u001b[36malgo-1-o44bq_1  |\u001b[0m    1.68082415e-02 -2.90708773e-02]\n",
      "\u001b[36malgo-1-o44bq_1  |\u001b[0m  [ 0.00000000e+00 -4.22450285e-01  5.32203379e-01 ... -3.06106754e-02\n",
      "\u001b[36malgo-1-o44bq_1  |\u001b[0m   -3.27803218e-02 -4.85089664e-03]\n",
      "\u001b[36malgo-1-o44bq_1  |\u001b[0m  [ 0.00000000e+00  2.79442241e+00  1.44731324e+00 ...  6.50900482e-02\n",
      "\u001b[36malgo-1-o44bq_1  |\u001b[0m    2.73177414e-03  4.60879977e-01]]' \n",
      "\u001b[36malgo-1-o44bq_1  |\u001b[0m type of accept:  text/csv\n",
      "\u001b[36malgo-1-o44bq_1  |\u001b[0m 2020-08-14 01:50:47,824 ERROR - pca_byoc_train - Exception on /invocations [POST]\n",
      "\u001b[36malgo-1-o44bq_1  |\u001b[0m Traceback (most recent call last):\n",
      "\u001b[36malgo-1-o44bq_1  |\u001b[0m   File \"/miniconda3/lib/python3.7/site-packages/sagemaker_containers/_functions.py\", line 93, in wrapper\n",
      "\u001b[36malgo-1-o44bq_1  |\u001b[0m     return fn(*args, **kwargs)\n",
      "\u001b[36malgo-1-o44bq_1  |\u001b[0m   File \"/opt/ml/code/pca_byoc_train.py\", line 185, in output_fn\n",
      "\u001b[36malgo-1-o44bq_1  |\u001b[0m     return encoders.encode(prediction, accept)\n",
      "\u001b[36malgo-1-o44bq_1  |\u001b[0m NameError: name 'encoders' is not defined\n",
      "\u001b[36malgo-1-o44bq_1  |\u001b[0m \n",
      "\u001b[36malgo-1-o44bq_1  |\u001b[0m During handling of the above exception, another exception occurred:\n",
      "\u001b[36malgo-1-o44bq_1  |\u001b[0m \n",
      "\u001b[36malgo-1-o44bq_1  |\u001b[0m Traceback (most recent call last):\n",
      "\u001b[36malgo-1-o44bq_1  |\u001b[0m   File \"/miniconda3/lib/python3.7/site-packages/flask/app.py\", line 2446, in wsgi_app\n",
      "\u001b[36malgo-1-o44bq_1  |\u001b[0m     response = self.full_dispatch_request()\n",
      "\u001b[36malgo-1-o44bq_1  |\u001b[0m   File \"/miniconda3/lib/python3.7/site-packages/flask/app.py\", line 1951, in full_dispatch_request\n",
      "\u001b[36malgo-1-o44bq_1  |\u001b[0m     rv = self.handle_user_exception(e)\n",
      "\u001b[36malgo-1-o44bq_1  |\u001b[0m   File \"/miniconda3/lib/python3.7/site-packages/flask/app.py\", line 1820, in handle_user_exception\n",
      "\u001b[36malgo-1-o44bq_1  |\u001b[0m     reraise(exc_type, exc_value, tb)\n",
      "\u001b[36malgo-1-o44bq_1  |\u001b[0m   File \"/miniconda3/lib/python3.7/site-packages/flask/_compat.py\", line 39, in reraise\n",
      "\u001b[36malgo-1-o44bq_1  |\u001b[0m     raise value\n",
      "\u001b[36malgo-1-o44bq_1  |\u001b[0m   File \"/miniconda3/lib/python3.7/site-packages/flask/app.py\", line 1949, in full_dispatch_request\n",
      "\u001b[36malgo-1-o44bq_1  |\u001b[0m     rv = self.dispatch_request()\n",
      "\u001b[36malgo-1-o44bq_1  |\u001b[0m   File \"/miniconda3/lib/python3.7/site-packages/flask/app.py\", line 1935, in dispatch_request\n",
      "\u001b[36malgo-1-o44bq_1  |\u001b[0m     return self.view_functions[rule.endpoint](**req.view_args)\n",
      "\u001b[36malgo-1-o44bq_1  |\u001b[0m   File \"/miniconda3/lib/python3.7/site-packages/sagemaker_containers/_transformer.py\", line 200, in transform\n",
      "\u001b[36malgo-1-o44bq_1  |\u001b[0m     self._model, request.content, request.content_type, request.accept\n",
      "\u001b[36malgo-1-o44bq_1  |\u001b[0m   File \"/miniconda3/lib/python3.7/site-packages/sagemaker_containers/_transformer.py\", line 234, in _default_transform_fn\n",
      "\u001b[36malgo-1-o44bq_1  |\u001b[0m     result = self._output_fn(prediction, accept)\n",
      "\u001b[36malgo-1-o44bq_1  |\u001b[0m   File \"/miniconda3/lib/python3.7/site-packages/sagemaker_containers/_functions.py\", line 95, in wrapper\n",
      "\u001b[36malgo-1-o44bq_1  |\u001b[0m     six.reraise(error_class, error_class(e), sys.exc_info()[2])\n",
      "\u001b[36malgo-1-o44bq_1  |\u001b[0m   File \"/miniconda3/lib/python3.7/site-packages/six.py\", line 692, in reraise\n",
      "\u001b[36malgo-1-o44bq_1  |\u001b[0m     raise value.with_traceback(tb)\n",
      "\u001b[36malgo-1-o44bq_1  |\u001b[0m   File \"/miniconda3/lib/python3.7/site-packages/sagemaker_containers/_functions.py\", line 93, in wrapper\n",
      "\u001b[36malgo-1-o44bq_1  |\u001b[0m     return fn(*args, **kwargs)\n",
      "\u001b[36malgo-1-o44bq_1  |\u001b[0m   File \"/opt/ml/code/pca_byoc_train.py\", line 185, in output_fn\n",
      "\u001b[36malgo-1-o44bq_1  |\u001b[0m     return encoders.encode(prediction, accept)\n",
      "\u001b[36malgo-1-o44bq_1  |\u001b[0m sagemaker_containers._errors.ClientError: name 'encoders' is not defined\n",
      "\u001b[36malgo-1-o44bq_1  |\u001b[0m 172.18.0.1 - - [14/Aug/2020:01:50:47 +0000] \"POST /invocations HTTP/1.1\" 500 290 \"-\" \"-\"\n",
      "Gracefully stopping... (press Ctrl+C again to force)\n",
      "Waiting for transform job: pca-2020-08-14-01-50-41-569-2020-08-14-01-50-41-570\n",
      ".s3://sagemaker-us-east-2-057716757052/Scikit-pca-custom/transformtrain-pca-validation-output/pca-2020-08-14-01-50-41-569-2020-08-14-01-50-41-570\n"
     ]
    }
   ],
   "source": [
    "\n",
    "\n",
    "instance_type = 'local'\n",
    "# instance_type = 'ml.m4.2xlarge'\n",
    "transform_validation_output_path = 's3://{}/{}/{}/'.format(bucket, prefix, 'transformtrain-pca-validation-output')\n",
    "\n",
    "pca_model = pca_estimator.create_model(\n",
    "    env={'TRANSFORM_MODE': 'feature-transform', 'LENGTH_COLS': str(num_cols)})\n",
    "\n",
    "# scikit_learn_inferencee_model 에서 Train Transformer 생성\n",
    "transformer_validation = pca_model.transformer(\n",
    "    instance_count=1, \n",
    "    instance_type= instance_type,\n",
    "    assemble_with = 'Line',\n",
    "    output_path = transform_validation_output_path,\n",
    "    accept = 'text/csv')\n",
    "\n",
    "\n",
    "# Preprocess training input\n",
    "transformer_validation.transform(preprocessed_validation_path_file, \n",
    "                            content_type='text/csv',                            \n",
    "                           )\n",
    "\n",
    "print('Waiting for transform job: ' + transformer_validation.latest_transform_job.job_name)\n",
    "transformer_validation.wait()\n",
    "\n",
    "preprocessed_pca_validation_path = transformer_validation.output_path + transformer_validation.latest_transform_job.job_name\n",
    "print(preprocessed_pca_validation_path)"
   ]
  },
  {
   "cell_type": "code",
   "execution_count": 99,
   "metadata": {},
   "outputs": [
    {
     "data": {
      "text/html": [
       "<div>\n",
       "<style scoped>\n",
       "    .dataframe tbody tr th:only-of-type {\n",
       "        vertical-align: middle;\n",
       "    }\n",
       "\n",
       "    .dataframe tbody tr th {\n",
       "        vertical-align: top;\n",
       "    }\n",
       "\n",
       "    .dataframe thead th {\n",
       "        text-align: right;\n",
       "    }\n",
       "</style>\n",
       "<table border=\"1\" class=\"dataframe\">\n",
       "  <thead>\n",
       "    <tr style=\"text-align: right;\">\n",
       "      <th></th>\n",
       "      <th>0</th>\n",
       "    </tr>\n",
       "  </thead>\n",
       "  <tbody>\n",
       "    <tr>\n",
       "      <th>0</th>\n",
       "      <td>&lt;!DOCTYPE HTML PUBLIC \"-//W3C//DTD HTML 3.2 Fi...</td>\n",
       "    </tr>\n",
       "    <tr>\n",
       "      <th>1</th>\n",
       "      <td>&lt;title&gt;500 Internal Server Error&lt;/title&gt;</td>\n",
       "    </tr>\n",
       "    <tr>\n",
       "      <th>2</th>\n",
       "      <td>&lt;h1&gt;Internal Server Error&lt;/h1&gt;</td>\n",
       "    </tr>\n",
       "    <tr>\n",
       "      <th>3</th>\n",
       "      <td>&lt;p&gt;The server encountered an internal error an...</td>\n",
       "    </tr>\n",
       "  </tbody>\n",
       "</table>\n",
       "</div>"
      ],
      "text/plain": [
       "                                                   0\n",
       "0  <!DOCTYPE HTML PUBLIC \"-//W3C//DTD HTML 3.2 Fi...\n",
       "1           <title>500 Internal Server Error</title>\n",
       "2                     <h1>Internal Server Error</h1>\n",
       "3  <p>The server encountered an internal error an..."
      ]
     },
     "execution_count": 99,
     "metadata": {},
     "output_type": "execute_result"
    }
   ],
   "source": [
    "preprocessed_pca_validation_path_file = '{}/validation.csv.out.out'.format(preprocessed_pca_validation_path)\n",
    "pca_val_preoc_df = pd.read_csv(preprocessed_pca_validation_path_file, header=None)\n",
    "pca_val_preoc_df.head()"
   ]
  },
  {
   "cell_type": "markdown",
   "metadata": {},
   "source": [
    "## Inference Pipeline <a class=\"anchor\" id=\"pipeline_setup\"></a>\n",
    "\n",
    "아래 그림과 같이 위에서 생성한 전처리, 알고리즘 학습, 후처리의 세가지 모델을 가지고 1개의 단일 모델을 만들어 Inference Pipleline을 생성 합니다. <br>\n",
    "**입력 데이타 가공이 없이 실제 데이타가 입력이 되면, 1개의 단일 모델을 통해서 최종적으로 예측 결과인 True, False의 결과 값이 제공 됩니다.**\n",
    "\n",
    "![Inference-pipeline](img/Fig2.2.inference_pipeline.png)\n",
    "\n",
    "\n",
    "**Machine Learning Model Pipeline (Inference Pipeline)는 create_model() 를 호출하여 만들 수 있습니다.** <br>\n",
    "예를 들어 여기서는 the fitted Scikit-learn inference model, the fitted Xgboost model and the psotprocessing model 의 세가지 모델을 가지고 만듦니다."
   ]
  },
  {
   "cell_type": "markdown",
   "metadata": {},
   "source": [
    "아래는 세개 모델을 생성함. 전처리, 후처리 모델 생성시에는 환경 변수를 제공 함"
   ]
  },
  {
   "cell_type": "code",
   "execution_count": 100,
   "metadata": {},
   "outputs": [
    {
     "name": "stderr",
     "output_type": "stream",
     "text": [
      "WARNING:sagemaker:Parameter image will be renamed to image_uri in SageMaker Python SDK v2.\n",
      "WARNING:sagemaker:Parameter image will be renamed to image_uri in SageMaker Python SDK v2.\n"
     ]
    }
   ],
   "source": [
    "# 전처리 모델\n",
    "scikit_learn_pre_process_model = sklearn_preprocessor.create_model(\n",
    "    env={'TRANSFORM_MODE': 'feature-transform'})    \n",
    "\n",
    "# PCA 전처리 모델\n",
    "pca_infer_model = pca_estimator.create_model(\n",
    "    env={'TRANSFORM_MODE': 'inverse-label-transform', 'LENGTH_COLS': '69'})\n"
   ]
  },
  {
   "cell_type": "code",
   "execution_count": 101,
   "metadata": {},
   "outputs": [],
   "source": [
    "from sagemaker.model import Model\n",
    "from sagemaker.pipeline import PipelineModel\n",
    "import boto3\n",
    "\n",
    "from time import gmtime, strftime\n",
    "\n",
    "timestamp_prefix = strftime(\"%Y-%m-%d-%H-%M-%S\", gmtime())\n",
    "model_name = 'churn-model-inference-pipeline-' + timestamp_prefix\n",
    "\n",
    "\n",
    "sklearn_preprocessor.create_model\n",
    "\n",
    "pipeline_model = PipelineModel(\n",
    "    name = model_name,\n",
    "    role = role,\n",
    "    models = [\n",
    "        scikit_learn_pre_process_model,\n",
    "        pca_infer_model,        \n",
    "    ]\n",
    ")"
   ]
  },
  {
   "cell_type": "code",
   "execution_count": 102,
   "metadata": {},
   "outputs": [
    {
     "name": "stdout",
     "output_type": "stream",
     "text": [
      "-------------------!CPU times: user 311 ms, sys: 3.53 ms, total: 315 ms\n",
      "Wall time: 9min 32s\n"
     ]
    }
   ],
   "source": [
    "%%time\n",
    "\n",
    "instance_type='ml.t2.medium'\n",
    "# instance_type='local'\n",
    "endpoint_name= 'churn-model-pipeline-endpoint-' + timestamp_prefix\n",
    "\n",
    "deployed_model = pipeline_model.deploy(\n",
    "    initial_instance_count=1, \n",
    "    instance_type= instance_type, \n",
    "    endpoint_name = endpoint_name,        \n",
    "    wait = True\n",
    ")"
   ]
  },
  {
   "cell_type": "code",
   "execution_count": 103,
   "metadata": {},
   "outputs": [],
   "source": [
    "from sagemaker.predictor import json_serializer, csv_serializer, json_deserializer, RealTimePredictor\n",
    "from sagemaker.content_types import CONTENT_TYPE_CSV, CONTENT_TYPE_JSON\n",
    "import sagemaker\n",
    "sagemaker_session = sagemaker.Session()\n",
    "\n",
    "predictor = RealTimePredictor(\n",
    "    endpoint = endpoint_name,\n",
    "    sagemaker_session = sagemaker_session,\n",
    "    serializer = csv_serializer,\n",
    "    content_type = CONTENT_TYPE_CSV,\n",
    "    accept = CONTENT_TYPE_JSON\n",
    ")\n",
    "\n"
   ]
  },
  {
   "cell_type": "code",
   "execution_count": 104,
   "metadata": {},
   "outputs": [],
   "source": [
    "\n",
    "def make_inference_format(sample):\n",
    "    instance = str()\n",
    "    for i, token in enumerate(sample):\n",
    "        # print(token)\n",
    "        if i > 0:\n",
    "            instance = instance  + ',' + str(token) \n",
    "        else:\n",
    "            instance = instance  +  str(token) \n",
    "    return instance\n"
   ]
  },
  {
   "cell_type": "code",
   "execution_count": 105,
   "metadata": {},
   "outputs": [
    {
     "name": "stdout",
     "output_type": "stream",
     "text": [
      "instance: \n",
      " KS,186,510,400-6454,no,no,0,137.8,97,23.43,187.7,118,15.95,146.4,85,6.59,8.7,6,2.35,1\n"
     ]
    },
    {
     "ename": "ModelError",
     "evalue": "An error occurred (ModelError) when calling the InvokeEndpoint operation: Received server error (500) from container-2 with message \"<!DOCTYPE HTML PUBLIC \"-//W3C//DTD HTML 3.2 Final//EN\">\n<title>500 Internal Server Error</title>\n<h1>Internal Server Error</h1>\n<p>The server encountered an internal error and was unable to complete your request. Either the server is overloaded or there is an error in the application.</p>\n\". See https://us-east-2.console.aws.amazon.com/cloudwatch/home?region=us-east-2#logEventViewer:group=/aws/sagemaker/Endpoints/churn-model-pipeline-endpoint-2020-08-14-01-50-48 in account 057716757052 for more information.",
     "output_type": "error",
     "traceback": [
      "\u001b[0;31m---------------------------------------------------------------------------\u001b[0m",
      "\u001b[0;31mModelError\u001b[0m                                Traceback (most recent call last)",
      "\u001b[0;32m<ipython-input-105-79b350f957de>\u001b[0m in \u001b[0;36m<module>\u001b[0;34m\u001b[0m\n\u001b[1;32m      7\u001b[0m \u001b[0;34m\u001b[0m\u001b[0m\n\u001b[1;32m      8\u001b[0m     \u001b[0mpayload\u001b[0m \u001b[0;34m=\u001b[0m \u001b[0minstance\u001b[0m\u001b[0;34m\u001b[0m\u001b[0;34m\u001b[0m\u001b[0m\n\u001b[0;32m----> 9\u001b[0;31m     \u001b[0mchurn_result\u001b[0m \u001b[0;34m=\u001b[0m \u001b[0mpredictor\u001b[0m\u001b[0;34m.\u001b[0m\u001b[0mpredict\u001b[0m\u001b[0;34m(\u001b[0m\u001b[0mpayload\u001b[0m\u001b[0;34m)\u001b[0m\u001b[0;34m\u001b[0m\u001b[0;34m\u001b[0m\u001b[0m\n\u001b[0m\u001b[1;32m     10\u001b[0m     \u001b[0mprint\u001b[0m\u001b[0;34m(\u001b[0m\u001b[0;34m\"Churn result?: \\n\"\u001b[0m\u001b[0;34m,\u001b[0m \u001b[0mchurn_result\u001b[0m\u001b[0;34m)\u001b[0m\u001b[0;34m\u001b[0m\u001b[0;34m\u001b[0m\u001b[0m\n\u001b[1;32m     11\u001b[0m     \u001b[0mprint\u001b[0m\u001b[0;34m(\u001b[0m\u001b[0;34m\"\"\u001b[0m\u001b[0;34m)\u001b[0m\u001b[0;34m\u001b[0m\u001b[0;34m\u001b[0m\u001b[0m\n",
      "\u001b[0;32m~/anaconda3/envs/python3/lib/python3.6/site-packages/sagemaker/predictor.py\u001b[0m in \u001b[0;36mpredict\u001b[0;34m(self, data, initial_args, target_model)\u001b[0m\n\u001b[1;32m    108\u001b[0m \u001b[0;34m\u001b[0m\u001b[0m\n\u001b[1;32m    109\u001b[0m         \u001b[0mrequest_args\u001b[0m \u001b[0;34m=\u001b[0m \u001b[0mself\u001b[0m\u001b[0;34m.\u001b[0m\u001b[0m_create_request_args\u001b[0m\u001b[0;34m(\u001b[0m\u001b[0mdata\u001b[0m\u001b[0;34m,\u001b[0m \u001b[0minitial_args\u001b[0m\u001b[0;34m,\u001b[0m \u001b[0mtarget_model\u001b[0m\u001b[0;34m)\u001b[0m\u001b[0;34m\u001b[0m\u001b[0;34m\u001b[0m\u001b[0m\n\u001b[0;32m--> 110\u001b[0;31m         \u001b[0mresponse\u001b[0m \u001b[0;34m=\u001b[0m \u001b[0mself\u001b[0m\u001b[0;34m.\u001b[0m\u001b[0msagemaker_session\u001b[0m\u001b[0;34m.\u001b[0m\u001b[0msagemaker_runtime_client\u001b[0m\u001b[0;34m.\u001b[0m\u001b[0minvoke_endpoint\u001b[0m\u001b[0;34m(\u001b[0m\u001b[0;34m**\u001b[0m\u001b[0mrequest_args\u001b[0m\u001b[0;34m)\u001b[0m\u001b[0;34m\u001b[0m\u001b[0;34m\u001b[0m\u001b[0m\n\u001b[0m\u001b[1;32m    111\u001b[0m         \u001b[0;32mreturn\u001b[0m \u001b[0mself\u001b[0m\u001b[0;34m.\u001b[0m\u001b[0m_handle_response\u001b[0m\u001b[0;34m(\u001b[0m\u001b[0mresponse\u001b[0m\u001b[0;34m)\u001b[0m\u001b[0;34m\u001b[0m\u001b[0;34m\u001b[0m\u001b[0m\n\u001b[1;32m    112\u001b[0m \u001b[0;34m\u001b[0m\u001b[0m\n",
      "\u001b[0;32m~/anaconda3/envs/python3/lib/python3.6/site-packages/botocore/client.py\u001b[0m in \u001b[0;36m_api_call\u001b[0;34m(self, *args, **kwargs)\u001b[0m\n\u001b[1;32m    314\u001b[0m                     \"%s() only accepts keyword arguments.\" % py_operation_name)\n\u001b[1;32m    315\u001b[0m             \u001b[0;31m# The \"self\" in this scope is referring to the BaseClient.\u001b[0m\u001b[0;34m\u001b[0m\u001b[0;34m\u001b[0m\u001b[0;34m\u001b[0m\u001b[0m\n\u001b[0;32m--> 316\u001b[0;31m             \u001b[0;32mreturn\u001b[0m \u001b[0mself\u001b[0m\u001b[0;34m.\u001b[0m\u001b[0m_make_api_call\u001b[0m\u001b[0;34m(\u001b[0m\u001b[0moperation_name\u001b[0m\u001b[0;34m,\u001b[0m \u001b[0mkwargs\u001b[0m\u001b[0;34m)\u001b[0m\u001b[0;34m\u001b[0m\u001b[0;34m\u001b[0m\u001b[0m\n\u001b[0m\u001b[1;32m    317\u001b[0m \u001b[0;34m\u001b[0m\u001b[0m\n\u001b[1;32m    318\u001b[0m         \u001b[0m_api_call\u001b[0m\u001b[0;34m.\u001b[0m\u001b[0m__name__\u001b[0m \u001b[0;34m=\u001b[0m \u001b[0mstr\u001b[0m\u001b[0;34m(\u001b[0m\u001b[0mpy_operation_name\u001b[0m\u001b[0;34m)\u001b[0m\u001b[0;34m\u001b[0m\u001b[0;34m\u001b[0m\u001b[0m\n",
      "\u001b[0;32m~/anaconda3/envs/python3/lib/python3.6/site-packages/botocore/client.py\u001b[0m in \u001b[0;36m_make_api_call\u001b[0;34m(self, operation_name, api_params)\u001b[0m\n\u001b[1;32m    633\u001b[0m             \u001b[0merror_code\u001b[0m \u001b[0;34m=\u001b[0m \u001b[0mparsed_response\u001b[0m\u001b[0;34m.\u001b[0m\u001b[0mget\u001b[0m\u001b[0;34m(\u001b[0m\u001b[0;34m\"Error\"\u001b[0m\u001b[0;34m,\u001b[0m \u001b[0;34m{\u001b[0m\u001b[0;34m}\u001b[0m\u001b[0;34m)\u001b[0m\u001b[0;34m.\u001b[0m\u001b[0mget\u001b[0m\u001b[0;34m(\u001b[0m\u001b[0;34m\"Code\"\u001b[0m\u001b[0;34m)\u001b[0m\u001b[0;34m\u001b[0m\u001b[0;34m\u001b[0m\u001b[0m\n\u001b[1;32m    634\u001b[0m             \u001b[0merror_class\u001b[0m \u001b[0;34m=\u001b[0m \u001b[0mself\u001b[0m\u001b[0;34m.\u001b[0m\u001b[0mexceptions\u001b[0m\u001b[0;34m.\u001b[0m\u001b[0mfrom_code\u001b[0m\u001b[0;34m(\u001b[0m\u001b[0merror_code\u001b[0m\u001b[0;34m)\u001b[0m\u001b[0;34m\u001b[0m\u001b[0;34m\u001b[0m\u001b[0m\n\u001b[0;32m--> 635\u001b[0;31m             \u001b[0;32mraise\u001b[0m \u001b[0merror_class\u001b[0m\u001b[0;34m(\u001b[0m\u001b[0mparsed_response\u001b[0m\u001b[0;34m,\u001b[0m \u001b[0moperation_name\u001b[0m\u001b[0;34m)\u001b[0m\u001b[0;34m\u001b[0m\u001b[0;34m\u001b[0m\u001b[0m\n\u001b[0m\u001b[1;32m    636\u001b[0m         \u001b[0;32melse\u001b[0m\u001b[0;34m:\u001b[0m\u001b[0;34m\u001b[0m\u001b[0;34m\u001b[0m\u001b[0m\n\u001b[1;32m    637\u001b[0m             \u001b[0;32mreturn\u001b[0m \u001b[0mparsed_response\u001b[0m\u001b[0;34m\u001b[0m\u001b[0;34m\u001b[0m\u001b[0m\n",
      "\u001b[0;31mModelError\u001b[0m: An error occurred (ModelError) when calling the InvokeEndpoint operation: Received server error (500) from container-2 with message \"<!DOCTYPE HTML PUBLIC \"-//W3C//DTD HTML 3.2 Final//EN\">\n<title>500 Internal Server Error</title>\n<h1>Internal Server Error</h1>\n<p>The server encountered an internal error and was unable to complete your request. Either the server is overloaded or there is an error in the application.</p>\n\". See https://us-east-2.console.aws.amazon.com/cloudwatch/home?region=us-east-2#logEventViewer:group=/aws/sagemaker/Endpoints/churn-model-pipeline-endpoint-2020-08-14-01-50-48 in account 057716757052 for more information."
     ]
    }
   ],
   "source": [
    "test_df = pd.read_csv(\"churn_data/batch_transform_test.csv\", header=None)\n",
    "\n",
    "for i in range(10):\n",
    "    sample = test_df.iloc[i,:]\n",
    "    instance = make_inference_format(sample)\n",
    "    print(\"instance: \\n\", instance)\n",
    "\n",
    "    payload = instance\n",
    "    churn_result = predictor.predict(payload)\n",
    "    print(\"Churn result?: \\n\", churn_result)\n",
    "    print(\"\")\n",
    "    break"
   ]
  },
  {
   "cell_type": "code",
   "execution_count": null,
   "metadata": {},
   "outputs": [],
   "source": []
  },
  {
   "cell_type": "code",
   "execution_count": null,
   "metadata": {},
   "outputs": [],
   "source": []
  },
  {
   "cell_type": "code",
   "execution_count": null,
   "metadata": {},
   "outputs": [],
   "source": []
  }
 ],
 "metadata": {
  "celltoolbar": "Tags",
  "instance_type": "ml.t3.medium",
  "kernelspec": {
   "display_name": "conda_python3",
   "language": "python",
   "name": "conda_python3"
  },
  "language_info": {
   "codemirror_mode": {
    "name": "ipython",
    "version": 3
   },
   "file_extension": ".py",
   "mimetype": "text/x-python",
   "name": "python",
   "nbconvert_exporter": "python",
   "pygments_lexer": "ipython3",
   "version": "3.6.10"
  },
  "notice": "Copyright 2017 Amazon.com, Inc. or its affiliates. All Rights Reserved.  Licensed under the Apache License, Version 2.0 (the \"License\"). You may not use this file except in compliance with the License. A copy of the License is located at http://aws.amazon.com/apache2.0/ or in the \"license\" file accompanying this file. This file is distributed on an \"AS IS\" BASIS, WITHOUT WARRANTIES OR CONDITIONS OF ANY KIND, either express or implied. See the License for the specific language governing permissions and limitations under the License."
 },
 "nbformat": 4,
 "nbformat_minor": 4
}
