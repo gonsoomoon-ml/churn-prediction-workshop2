{
 "cells": [
  {
   "cell_type": "markdown",
   "metadata": {},
   "source": [
    "# Local BYOC Churn"
   ]
  },
  {
   "cell_type": "code",
   "execution_count": 12,
   "metadata": {},
   "outputs": [
    {
     "name": "stdout",
     "output_type": "stream",
     "text": [
      "057716757052\n",
      "us-east-2\n",
      "arn:aws:iam::057716757052:role/service-role/AmazonSageMaker-ExecutionRole-20191128T110038\n",
      "sagemaker-us-east-2-057716757052\n"
     ]
    }
   ],
   "source": [
    "import boto3\n",
    "import sagemaker\n",
    "from sagemaker import get_execution_role\n",
    "\n",
    "ecr_namespace = 'sagemaker-training-containers/'\n",
    "prefix = 'pca'\n",
    "\n",
    "ecr_repository_name = ecr_namespace + prefix\n",
    "role = get_execution_role()\n",
    "account_id = role.split(':')[4]\n",
    "region = boto3.Session().region_name\n",
    "sagemaker_session = sagemaker.session.Session()\n",
    "bucket = sagemaker_session.default_bucket()\n",
    "\n",
    "print(account_id)\n",
    "print(region)\n",
    "print(role)\n",
    "print(bucket)"
   ]
  },
  {
   "cell_type": "markdown",
   "metadata": {},
   "source": [
    "Let's take a look at the Dockerfile which defines the statements for building our custom SageMaker training container:"
   ]
  },
  {
   "cell_type": "markdown",
   "metadata": {},
   "source": [
    "## Docker 생성 및 ECR 푸시"
   ]
  },
  {
   "cell_type": "code",
   "execution_count": 13,
   "metadata": {},
   "outputs": [],
   "source": [
    "! cp pca_byoc_train.py docker/code/"
   ]
  },
  {
   "cell_type": "code",
   "execution_count": 14,
   "metadata": {},
   "outputs": [
    {
     "name": "stdout",
     "output_type": "stream",
     "text": [
      "Overwriting docker/Dockerfile\n"
     ]
    }
   ],
   "source": [
    "%%writefile docker/Dockerfile\n",
    "\n",
    "FROM 257758044811.dkr.ecr.us-east-2.amazonaws.com/sagemaker-scikit-learn:0.20.0-cpu-py3\n",
    "    \n",
    "# install python package\n",
    "RUN pip install joblib\n",
    "\n",
    "\n",
    "ENV PYTHONUNBUFFERED=TRUE\n",
    "ENV PYTHONDONTWRITEBYTECODE=TRUE\n",
    "\n",
    "ENV PATH=\"/opt/ml/code:${PATH}\"\n",
    "\n",
    "# Copy training code\n",
    "COPY code/* /opt/ml/code/\n",
    " \n",
    "WORKDIR /opt/ml/code\n",
    "\n",
    "# ENTRYPOINT [\"python\", \"pca_train.py\"]\n",
    "# In order to use SageMaker Env varaibles, use the statement below\n",
    "ENV SAGEMAKER_PROGRAM pca_byoc_train.py"
   ]
  },
  {
   "cell_type": "code",
   "execution_count": 15,
   "metadata": {},
   "outputs": [],
   "source": [
    "import os\n",
    "os.environ['account_id'] = account_id\n",
    "os.environ['region'] = region\n",
    "os.environ['ecr_repository_name'] = ecr_repository_name"
   ]
  },
  {
   "cell_type": "code",
   "execution_count": 16,
   "metadata": {},
   "outputs": [
    {
     "name": "stdout",
     "output_type": "stream",
     "text": [
      "us-east-2\n",
      "057716757052\n",
      "sagemaker-training-containers/pca\n",
      "Login Succeeded\n",
      "Sending build context to Docker daemon  9.728kB\n",
      "Step 1/8 : FROM 257758044811.dkr.ecr.us-east-2.amazonaws.com/sagemaker-scikit-learn:0.20.0-cpu-py3\n",
      " ---> 30adb1aa9af5\n",
      "Step 2/8 : RUN pip install joblib\n",
      " ---> Using cache\n",
      " ---> 26bceed11435\n",
      "Step 3/8 : ENV PYTHONUNBUFFERED=TRUE\n",
      " ---> Using cache\n",
      " ---> d2cbe65e931a\n",
      "Step 4/8 : ENV PYTHONDONTWRITEBYTECODE=TRUE\n",
      " ---> Using cache\n",
      " ---> 3ed49376f0e2\n",
      "Step 5/8 : ENV PATH=\"/opt/ml/code:${PATH}\"\n",
      " ---> Using cache\n",
      " ---> 03be6787c4b2\n",
      "Step 6/8 : COPY code/* /opt/ml/code/\n",
      " ---> Using cache\n",
      " ---> 0973405ad134\n",
      "Step 7/8 : WORKDIR /opt/ml/code\n",
      " ---> Using cache\n",
      " ---> 632a65134b69\n",
      "Step 8/8 : ENV SAGEMAKER_PROGRAM pca_byoc_train.py\n",
      " ---> Using cache\n",
      " ---> 188a29591291\n",
      "Successfully built 188a29591291\n",
      "Successfully tagged sagemaker-training-containers/pca:latest\n",
      "Login Succeeded\n",
      "{\n",
      "    \"repositories\": [\n",
      "        {\n",
      "            \"repositoryArn\": \"arn:aws:ecr:us-east-2:057716757052:repository/sagemaker-training-containers/pca\",\n",
      "            \"registryId\": \"057716757052\",\n",
      "            \"repositoryName\": \"sagemaker-training-containers/pca\",\n",
      "            \"repositoryUri\": \"057716757052.dkr.ecr.us-east-2.amazonaws.com/sagemaker-training-containers/pca\",\n",
      "            \"createdAt\": 1597127900.0,\n",
      "            \"imageTagMutability\": \"MUTABLE\",\n",
      "            \"imageScanningConfiguration\": {\n",
      "                \"scanOnPush\": false\n",
      "            }\n",
      "        }\n",
      "    ]\n",
      "}\n",
      "The push refers to repository [057716757052.dkr.ecr.us-east-2.amazonaws.com/sagemaker-training-containers/pca]\n",
      "2bd2be304026: Preparing\n",
      "04a68cd3aea1: Preparing\n",
      "969e46b772a5: Preparing\n",
      "cfe0cbc5dd2c: Preparing\n",
      "23b3530769e5: Preparing\n",
      "8be6c85c96e4: Preparing\n",
      "a5a688002069: Preparing\n",
      "4b7dff825027: Preparing\n",
      "ccdb13a20bf2: Preparing\n",
      "9513cdf4e497: Preparing\n",
      "7f083f9454c0: Preparing\n",
      "29f36b5893dc: Preparing\n",
      "8be6c85c96e4: Waiting\n",
      "9513cdf4e497: Waiting\n",
      "ccdb13a20bf2: Waiting\n",
      "7f083f9454c0: Waiting\n",
      "a5a688002069: Waiting\n",
      "4b7dff825027: Waiting\n",
      "29f36b5893dc: Waiting\n",
      "23b3530769e5: Layer already exists\n",
      "cfe0cbc5dd2c: Layer already exists\n",
      "2bd2be304026: Layer already exists\n",
      "969e46b772a5: Layer already exists\n",
      "04a68cd3aea1: Layer already exists\n",
      "a5a688002069: Layer already exists\n",
      "8be6c85c96e4: Layer already exists\n",
      "4b7dff825027: Layer already exists\n",
      "ccdb13a20bf2: Layer already exists\n",
      "7f083f9454c0: Layer already exists\n",
      "9513cdf4e497: Layer already exists\n",
      "29f36b5893dc: Layer already exists\n",
      "latest: digest: sha256:953dce271c5ed39eb4a63a48c50e13a409e57f69fdfebd8ccde4d7145c78d5cd size: 2840\n"
     ]
    },
    {
     "name": "stderr",
     "output_type": "stream",
     "text": [
      "WARNING! Using --password via the CLI is insecure. Use --password-stdin.\n",
      "WARNING! Your password will be stored unencrypted in /home/ec2-user/.docker/config.json.\n",
      "Configure a credential helper to remove this warning. See\n",
      "https://docs.docker.com/engine/reference/commandline/login/#credentials-store\n",
      "\n",
      "WARNING! Using --password via the CLI is insecure. Use --password-stdin.\n",
      "WARNING! Your password will be stored unencrypted in /home/ec2-user/.docker/config.json.\n",
      "Configure a credential helper to remove this warning. See\n",
      "https://docs.docker.com/engine/reference/commandline/login/#credentials-store\n",
      "\n"
     ]
    }
   ],
   "source": [
    "%%sh\n",
    "\n",
    "ACCOUNT_ID=${account_id}\n",
    "REGION=${region}\n",
    "REPO_NAME=${ecr_repository_name}\n",
    "\n",
    "echo $REGION\n",
    "echo $ACCOUNT_ID\n",
    "echo $REPO_NAME\n",
    "\n",
    "\n",
    "# Get the login command from ECR in order to pull down the Tensorflow-gpu:1.5 image\n",
    "$(aws ecr get-login --registry-ids 257758044811 --region ${region} --no-include-email)\n",
    "\n",
    "\n",
    "\n",
    "docker build -f docker/Dockerfile -t $REPO_NAME docker\n",
    "\n",
    "docker tag $REPO_NAME $ACCOUNT_ID.dkr.ecr.$REGION.amazonaws.com/$REPO_NAME:latest\n",
    "\n",
    "$(aws ecr get-login --no-include-email --registry-ids $ACCOUNT_ID)\n",
    "\n",
    "aws ecr describe-repositories --repository-names $REPO_NAME || aws ecr create-repository --repository-name $REPO_NAME\n",
    "\n",
    "docker push $ACCOUNT_ID.dkr.ecr.$REGION.amazonaws.com/$REPO_NAME:latest\n",
    "\n"
   ]
  },
  {
   "cell_type": "code",
   "execution_count": 17,
   "metadata": {},
   "outputs": [
    {
     "name": "stdout",
     "output_type": "stream",
     "text": [
      "057716757052.dkr.ecr.us-east-2.amazonaws.com/sagemaker-training-containers/pca:latest\n"
     ]
    }
   ],
   "source": [
    "container_image_uri = '{0}.dkr.ecr.{1}.amazonaws.com/{2}:latest'.format(account_id, region, ecr_repository_name)\n",
    "print(container_image_uri)"
   ]
  },
  {
   "cell_type": "markdown",
   "metadata": {},
   "source": [
    "##  Churn 데이타 준비"
   ]
  },
  {
   "cell_type": "code",
   "execution_count": 18,
   "metadata": {},
   "outputs": [],
   "source": [
    "%store -r"
   ]
  },
  {
   "cell_type": "code",
   "execution_count": 19,
   "metadata": {},
   "outputs": [
    {
     "data": {
      "text/plain": [
       "(2333, 70)"
      ]
     },
     "execution_count": 19,
     "metadata": {},
     "output_type": "execute_result"
    }
   ],
   "source": [
    "import pandas as pd\n",
    "\n",
    "preprocessed_train_path_file = '{}/train.csv.out'.format(preprocessed_train_path)\n",
    "pre_df = pd.read_csv(preprocessed_train_path_file, header=None)\n",
    "pre_df.shape"
   ]
  },
  {
   "cell_type": "code",
   "execution_count": 20,
   "metadata": {},
   "outputs": [
    {
     "name": "stdout",
     "output_type": "stream",
     "text": [
      "Shape of train_X:  (2333, 69)\n",
      "Shape of train_y:  (2333,)\n"
     ]
    }
   ],
   "source": [
    "import pandas as pd\n",
    "# preprocessed_train_path_file = 's3://sagemaker-us-east-2-057716757052/sagemaker/customer-churn/transformtrain-train-output/sagemaker-scikit-learn-2020-08-12-07-07-2020-08-12-07-07-08-229/train.csv.out'\n",
    "\n",
    "churn_df = pd.read_csv(preprocessed_train_path_file, header=None)\n",
    "churn_df.head()\n",
    "train_y = churn_df.iloc[:,0]\n",
    "train_X = churn_df.iloc[:,1:]\n",
    "\n",
    "print(\"Shape of train_X: \", train_X.shape)\n",
    "print(\"Shape of train_y: \", train_y.shape)"
   ]
  },
  {
   "cell_type": "code",
   "execution_count": 21,
   "metadata": {},
   "outputs": [
    {
     "name": "stderr",
     "output_type": "stream",
     "text": [
      "'upload_data' method will be deprecated in favor of 'S3Uploader' class (https://sagemaker.readthedocs.io/en/stable/s3.html#sagemaker.s3.S3Uploader) in SageMaker Python SDK v2.\n"
     ]
    },
    {
     "name": "stdout",
     "output_type": "stream",
     "text": [
      "train_input:  s3://sagemaker-us-east-2-057716757052/Scikit-pca-custom/data\n"
     ]
    }
   ],
   "source": [
    "from sklearn import datasets\n",
    "import os\n",
    "import numpy as np\n",
    "\n",
    "\n",
    "os.makedirs('./data', exist_ok =True)\n",
    "np.savetxt('./data/churn-preprocessed.csv', train_X, delimiter=',',\n",
    "           fmt='%1.5f'\n",
    "          )\n",
    "\n",
    "WORK_DIRECTORY = 'data'\n",
    "prefix = 'Scikit-pca-custom'\n",
    "train_input = sagemaker_session.upload_data(WORK_DIRECTORY,\n",
    "                                            key_prefix=\"{}/{}\".format(prefix, WORK_DIRECTORY)\n",
    "                                           )\n",
    "print(\"train_input: \", train_input)\n"
   ]
  },
  {
   "cell_type": "markdown",
   "metadata": {},
   "source": [
    "# PCA 학습"
   ]
  },
  {
   "cell_type": "code",
   "execution_count": 22,
   "metadata": {},
   "outputs": [
    {
     "name": "stderr",
     "output_type": "stream",
     "text": [
      "WARNING:root:Parameter image_name will be renamed to image_uri in SageMaker Python SDK v2.\n",
      "WARNING:sagemaker:'s3_input' class will be renamed to 'TrainingInput' in SageMaker Python SDK v2.\n"
     ]
    },
    {
     "name": "stdout",
     "output_type": "stream",
     "text": [
      "Creating tmphz1tpr2p_algo-1-tx3ih_1 ... \n",
      "\u001b[1BAttaching to tmphz1tpr2p_algo-1-tx3ih_12mdone\u001b[0m\n",
      "\u001b[36malgo-1-tx3ih_1  |\u001b[0m 2020-08-12 14:26:20,639 sagemaker-containers INFO     Imported framework sagemaker_sklearn_container.training\n",
      "\u001b[36malgo-1-tx3ih_1  |\u001b[0m 2020-08-12 14:26:20,641 sagemaker-containers INFO     No GPUs detected (normal if no gpus installed)\n",
      "\u001b[36malgo-1-tx3ih_1  |\u001b[0m 2020-08-12 14:26:20,649 sagemaker_sklearn_container.training INFO     Invoking user training script.\n",
      "\u001b[36malgo-1-tx3ih_1  |\u001b[0m 2020-08-12 14:26:20,650 sagemaker-containers INFO     Module pca_byoc_train does not provide a setup.py. \n",
      "\u001b[36malgo-1-tx3ih_1  |\u001b[0m Generating setup.py\n",
      "\u001b[36malgo-1-tx3ih_1  |\u001b[0m 2020-08-12 14:26:20,650 sagemaker-containers INFO     Generating setup.cfg\n",
      "\u001b[36malgo-1-tx3ih_1  |\u001b[0m 2020-08-12 14:26:20,650 sagemaker-containers INFO     Generating MANIFEST.in\n",
      "\u001b[36malgo-1-tx3ih_1  |\u001b[0m 2020-08-12 14:26:20,650 sagemaker-containers INFO     Installing module with the following command:\n",
      "\u001b[36malgo-1-tx3ih_1  |\u001b[0m /miniconda3/bin/python -m pip install . \n",
      "\u001b[36malgo-1-tx3ih_1  |\u001b[0m Processing /opt/ml/code\n",
      "\u001b[36malgo-1-tx3ih_1  |\u001b[0m Building wheels for collected packages: pca-byoc-train\n",
      "\u001b[36malgo-1-tx3ih_1  |\u001b[0m   Building wheel for pca-byoc-train (setup.py) ... \u001b[?25ldone\n",
      "\u001b[36malgo-1-tx3ih_1  |\u001b[0m \u001b[?25h  Created wheel for pca-byoc-train: filename=pca_byoc_train-1.0.0-py2.py3-none-any.whl size=8700 sha256=eb04a58b6666b23c3d653cf00a31db564ed1b815e920fada2697d511e7bdb284\n",
      "\u001b[36malgo-1-tx3ih_1  |\u001b[0m   Stored in directory: /tmp/pip-ephem-wheel-cache-k6x_zhj8/wheels/35/24/16/37574d11bf9bde50616c67372a334f94fa8356bc7164af8ca3\n",
      "\u001b[36malgo-1-tx3ih_1  |\u001b[0m Successfully built pca-byoc-train\n",
      "\u001b[36malgo-1-tx3ih_1  |\u001b[0m Installing collected packages: pca-byoc-train\n",
      "\u001b[36malgo-1-tx3ih_1  |\u001b[0m Successfully installed pca-byoc-train-1.0.0\n",
      "\u001b[36malgo-1-tx3ih_1  |\u001b[0m 2020-08-12 14:26:21,447 sagemaker-containers INFO     No GPUs detected (normal if no gpus installed)\n",
      "\u001b[36malgo-1-tx3ih_1  |\u001b[0m 2020-08-12 14:26:21,456 sagemaker-containers INFO     Invoking user script\n",
      "\u001b[36malgo-1-tx3ih_1  |\u001b[0m \n",
      "\u001b[36malgo-1-tx3ih_1  |\u001b[0m Training Env:\n",
      "\u001b[36malgo-1-tx3ih_1  |\u001b[0m \n",
      "\u001b[36malgo-1-tx3ih_1  |\u001b[0m {\n",
      "\u001b[36malgo-1-tx3ih_1  |\u001b[0m     \"additional_framework_parameters\": {},\n",
      "\u001b[36malgo-1-tx3ih_1  |\u001b[0m     \"channel_input_dirs\": {\n",
      "\u001b[36malgo-1-tx3ih_1  |\u001b[0m         \"train\": \"/opt/ml/input/data/train\"\n",
      "\u001b[36malgo-1-tx3ih_1  |\u001b[0m     },\n",
      "\u001b[36malgo-1-tx3ih_1  |\u001b[0m     \"current_host\": \"algo-1-tx3ih\",\n",
      "\u001b[36malgo-1-tx3ih_1  |\u001b[0m     \"framework_module\": \"sagemaker_sklearn_container.training:main\",\n",
      "\u001b[36malgo-1-tx3ih_1  |\u001b[0m     \"hosts\": [\n",
      "\u001b[36malgo-1-tx3ih_1  |\u001b[0m         \"algo-1-tx3ih\"\n",
      "\u001b[36malgo-1-tx3ih_1  |\u001b[0m     ],\n",
      "\u001b[36malgo-1-tx3ih_1  |\u001b[0m     \"hyperparameters\": {\n",
      "\u001b[36malgo-1-tx3ih_1  |\u001b[0m         \"n_components\": 2\n",
      "\u001b[36malgo-1-tx3ih_1  |\u001b[0m     },\n",
      "\u001b[36malgo-1-tx3ih_1  |\u001b[0m     \"input_config_dir\": \"/opt/ml/input/config\",\n",
      "\u001b[36malgo-1-tx3ih_1  |\u001b[0m     \"input_data_config\": {\n",
      "\u001b[36malgo-1-tx3ih_1  |\u001b[0m         \"train\": {\n",
      "\u001b[36malgo-1-tx3ih_1  |\u001b[0m             \"TrainingInputMode\": \"File\",\n",
      "\u001b[36malgo-1-tx3ih_1  |\u001b[0m             \"ContentType\": \"text/csv\"\n",
      "\u001b[36malgo-1-tx3ih_1  |\u001b[0m         }\n",
      "\u001b[36malgo-1-tx3ih_1  |\u001b[0m     },\n",
      "\u001b[36malgo-1-tx3ih_1  |\u001b[0m     \"input_dir\": \"/opt/ml/input\",\n",
      "\u001b[36malgo-1-tx3ih_1  |\u001b[0m     \"is_master\": true,\n",
      "\u001b[36malgo-1-tx3ih_1  |\u001b[0m     \"job_name\": \"Scikit-pca-custom-2020-08-12-14-26-18-741\",\n",
      "\u001b[36malgo-1-tx3ih_1  |\u001b[0m     \"log_level\": 20,\n",
      "\u001b[36malgo-1-tx3ih_1  |\u001b[0m     \"master_hostname\": \"algo-1-tx3ih\",\n",
      "\u001b[36malgo-1-tx3ih_1  |\u001b[0m     \"model_dir\": \"/opt/ml/model\",\n",
      "\u001b[36malgo-1-tx3ih_1  |\u001b[0m     \"module_dir\": \"/opt/ml/code\",\n",
      "\u001b[36malgo-1-tx3ih_1  |\u001b[0m     \"module_name\": \"pca_byoc_train\",\n",
      "\u001b[36malgo-1-tx3ih_1  |\u001b[0m     \"network_interface_name\": \"eth0\",\n",
      "\u001b[36malgo-1-tx3ih_1  |\u001b[0m     \"num_cpus\": 8,\n",
      "\u001b[36malgo-1-tx3ih_1  |\u001b[0m     \"num_gpus\": 0,\n",
      "\u001b[36malgo-1-tx3ih_1  |\u001b[0m     \"output_data_dir\": \"/opt/ml/output/data\",\n",
      "\u001b[36malgo-1-tx3ih_1  |\u001b[0m     \"output_dir\": \"/opt/ml/output\",\n",
      "\u001b[36malgo-1-tx3ih_1  |\u001b[0m     \"output_intermediate_dir\": \"/opt/ml/output/intermediate\",\n",
      "\u001b[36malgo-1-tx3ih_1  |\u001b[0m     \"resource_config\": {\n",
      "\u001b[36malgo-1-tx3ih_1  |\u001b[0m         \"current_host\": \"algo-1-tx3ih\",\n",
      "\u001b[36malgo-1-tx3ih_1  |\u001b[0m         \"hosts\": [\n",
      "\u001b[36malgo-1-tx3ih_1  |\u001b[0m             \"algo-1-tx3ih\"\n",
      "\u001b[36malgo-1-tx3ih_1  |\u001b[0m         ]\n",
      "\u001b[36malgo-1-tx3ih_1  |\u001b[0m     },\n",
      "\u001b[36malgo-1-tx3ih_1  |\u001b[0m     \"user_entry_point\": \"pca_byoc_train.py\"\n",
      "\u001b[36malgo-1-tx3ih_1  |\u001b[0m }\n",
      "\u001b[36malgo-1-tx3ih_1  |\u001b[0m \n",
      "\u001b[36malgo-1-tx3ih_1  |\u001b[0m Environment variables:\n",
      "\u001b[36malgo-1-tx3ih_1  |\u001b[0m \n",
      "\u001b[36malgo-1-tx3ih_1  |\u001b[0m SM_HOSTS=[\"algo-1-tx3ih\"]\n",
      "\u001b[36malgo-1-tx3ih_1  |\u001b[0m SM_NETWORK_INTERFACE_NAME=eth0\n",
      "\u001b[36malgo-1-tx3ih_1  |\u001b[0m SM_HPS={\"n_components\":2}\n",
      "\u001b[36malgo-1-tx3ih_1  |\u001b[0m SM_USER_ENTRY_POINT=pca_byoc_train.py\n",
      "\u001b[36malgo-1-tx3ih_1  |\u001b[0m SM_FRAMEWORK_PARAMS={}\n",
      "\u001b[36malgo-1-tx3ih_1  |\u001b[0m SM_RESOURCE_CONFIG={\"current_host\":\"algo-1-tx3ih\",\"hosts\":[\"algo-1-tx3ih\"]}\n",
      "\u001b[36malgo-1-tx3ih_1  |\u001b[0m SM_INPUT_DATA_CONFIG={\"train\":{\"ContentType\":\"text/csv\",\"TrainingInputMode\":\"File\"}}\n",
      "\u001b[36malgo-1-tx3ih_1  |\u001b[0m SM_OUTPUT_DATA_DIR=/opt/ml/output/data\n",
      "\u001b[36malgo-1-tx3ih_1  |\u001b[0m SM_CHANNELS=[\"train\"]\n",
      "\u001b[36malgo-1-tx3ih_1  |\u001b[0m SM_CURRENT_HOST=algo-1-tx3ih\n",
      "\u001b[36malgo-1-tx3ih_1  |\u001b[0m SM_MODULE_NAME=pca_byoc_train\n",
      "\u001b[36malgo-1-tx3ih_1  |\u001b[0m SM_LOG_LEVEL=20\n",
      "\u001b[36malgo-1-tx3ih_1  |\u001b[0m SM_FRAMEWORK_MODULE=sagemaker_sklearn_container.training:main\n",
      "\u001b[36malgo-1-tx3ih_1  |\u001b[0m SM_INPUT_DIR=/opt/ml/input\n",
      "\u001b[36malgo-1-tx3ih_1  |\u001b[0m SM_INPUT_CONFIG_DIR=/opt/ml/input/config\n",
      "\u001b[36malgo-1-tx3ih_1  |\u001b[0m SM_OUTPUT_DIR=/opt/ml/output\n",
      "\u001b[36malgo-1-tx3ih_1  |\u001b[0m SM_NUM_CPUS=8\n",
      "\u001b[36malgo-1-tx3ih_1  |\u001b[0m SM_NUM_GPUS=0\n",
      "\u001b[36malgo-1-tx3ih_1  |\u001b[0m SM_MODEL_DIR=/opt/ml/model\n",
      "\u001b[36malgo-1-tx3ih_1  |\u001b[0m SM_MODULE_DIR=/opt/ml/code\n",
      "\u001b[36malgo-1-tx3ih_1  |\u001b[0m SM_TRAINING_ENV={\"additional_framework_parameters\":{},\"channel_input_dirs\":{\"train\":\"/opt/ml/input/data/train\"},\"current_host\":\"algo-1-tx3ih\",\"framework_module\":\"sagemaker_sklearn_container.training:main\",\"hosts\":[\"algo-1-tx3ih\"],\"hyperparameters\":{\"n_components\":2},\"input_config_dir\":\"/opt/ml/input/config\",\"input_data_config\":{\"train\":{\"ContentType\":\"text/csv\",\"TrainingInputMode\":\"File\"}},\"input_dir\":\"/opt/ml/input\",\"is_master\":true,\"job_name\":\"Scikit-pca-custom-2020-08-12-14-26-18-741\",\"log_level\":20,\"master_hostname\":\"algo-1-tx3ih\",\"model_dir\":\"/opt/ml/model\",\"module_dir\":\"/opt/ml/code\",\"module_name\":\"pca_byoc_train\",\"network_interface_name\":\"eth0\",\"num_cpus\":8,\"num_gpus\":0,\"output_data_dir\":\"/opt/ml/output/data\",\"output_dir\":\"/opt/ml/output\",\"output_intermediate_dir\":\"/opt/ml/output/intermediate\",\"resource_config\":{\"current_host\":\"algo-1-tx3ih\",\"hosts\":[\"algo-1-tx3ih\"]},\"user_entry_point\":\"pca_byoc_train.py\"}\n",
      "\u001b[36malgo-1-tx3ih_1  |\u001b[0m SM_USER_ARGS=[\"--n_components\",\"2\"]\n",
      "\u001b[36malgo-1-tx3ih_1  |\u001b[0m SM_OUTPUT_INTERMEDIATE_DIR=/opt/ml/output/intermediate\n",
      "\u001b[36malgo-1-tx3ih_1  |\u001b[0m SM_CHANNEL_TRAIN=/opt/ml/input/data/train\n",
      "\u001b[36malgo-1-tx3ih_1  |\u001b[0m SM_HP_N_COMPONENTS=2\n",
      "\u001b[36malgo-1-tx3ih_1  |\u001b[0m PYTHONPATH=/miniconda3/bin:/miniconda3/lib/python37.zip:/miniconda3/lib/python3.7:/miniconda3/lib/python3.7/lib-dynload:/miniconda3/lib/python3.7/site-packages\n",
      "\u001b[36malgo-1-tx3ih_1  |\u001b[0m \n",
      "\u001b[36malgo-1-tx3ih_1  |\u001b[0m Invoking script with the following command:\n",
      "\u001b[36malgo-1-tx3ih_1  |\u001b[0m \n",
      "\u001b[36malgo-1-tx3ih_1  |\u001b[0m /miniconda3/bin/python -m pca_byoc_train --n_components 2\n",
      "\u001b[36malgo-1-tx3ih_1  |\u001b[0m \n",
      "\u001b[36malgo-1-tx3ih_1  |\u001b[0m \n",
      "\u001b[36malgo-1-tx3ih_1  |\u001b[0m /miniconda3/lib/python3.7/site-packages/sklearn/externals/joblib/externals/cloudpickle/cloudpickle.py:47: DeprecationWarning: the imp module is deprecated in favour of importlib; see the module's documentation for alternative uses\n",
      "\u001b[36malgo-1-tx3ih_1  |\u001b[0m   import imp\n",
      "\u001b[36malgo-1-tx3ih_1  |\u001b[0m train shape:  (6999, 69)\n",
      "\u001b[36malgo-1-tx3ih_1  |\u001b[0m Component Variability: \n",
      "\u001b[36malgo-1-tx3ih_1  |\u001b[0m  [0.11037054 0.08930514]\n",
      "\u001b[36malgo-1-tx3ih_1  |\u001b[0m 2020-08-12 14:26:22,301 sagemaker-containers INFO     Reporting training SUCCESS\n"
     ]
    },
    {
     "name": "stderr",
     "output_type": "stream",
     "text": [
      "WARNING:sagemaker:'upload_data' method will be deprecated in favor of 'S3Uploader' class (https://sagemaker.readthedocs.io/en/stable/s3.html#sagemaker.s3.S3Uploader) in SageMaker Python SDK v2.\n"
     ]
    },
    {
     "name": "stdout",
     "output_type": "stream",
     "text": [
      "\u001b[36mtmphz1tpr2p_algo-1-tx3ih_1 exited with code 0\n",
      "\u001b[0mAborting on container exit...\n",
      "===== Job Complete =====\n",
      "CPU times: user 178 ms, sys: 27.7 ms, total: 206 ms\n",
      "Wall time: 4.12 s\n"
     ]
    }
   ],
   "source": [
    "%%time\n",
    "\n",
    "import sagemaker\n",
    "\n",
    "instance_type = 'local'\n",
    "# instance_type = 'ml.m4.xlarge'\n",
    "\n",
    "pca_estimator = sagemaker.estimator.Estimator(container_image_uri,\n",
    "                                    role, \n",
    "                                    train_instance_count=1, \n",
    "                                    train_instance_type= instance_type,\n",
    "                                    base_job_name=prefix)\n",
    "\n",
    "pca_estimator.set_hyperparameters(n_components= 2)\n",
    "\n",
    "train_config = sagemaker.session.s3_input(train_input, content_type='text/csv')\n",
    "\n",
    "pca_estimator.fit({'train': train_config})"
   ]
  },
  {
   "cell_type": "markdown",
   "metadata": {},
   "source": [
    "# PCA 트랜스포머"
   ]
  },
  {
   "cell_type": "code",
   "execution_count": 23,
   "metadata": {},
   "outputs": [],
   "source": [
    "%store -r"
   ]
  },
  {
   "cell_type": "code",
   "execution_count": 24,
   "metadata": {},
   "outputs": [],
   "source": [
    "preprocessed_train_path_file = '{}/train.csv.out'.format(preprocessed_train_path)"
   ]
  },
  {
   "cell_type": "code",
   "execution_count": 25,
   "metadata": {},
   "outputs": [
    {
     "data": {
      "text/html": [
       "<div>\n",
       "<style scoped>\n",
       "    .dataframe tbody tr th:only-of-type {\n",
       "        vertical-align: middle;\n",
       "    }\n",
       "\n",
       "    .dataframe tbody tr th {\n",
       "        vertical-align: top;\n",
       "    }\n",
       "\n",
       "    .dataframe thead th {\n",
       "        text-align: right;\n",
       "    }\n",
       "</style>\n",
       "<table border=\"1\" class=\"dataframe\">\n",
       "  <thead>\n",
       "    <tr style=\"text-align: right;\">\n",
       "      <th></th>\n",
       "      <th>0</th>\n",
       "      <th>1</th>\n",
       "      <th>2</th>\n",
       "      <th>3</th>\n",
       "      <th>4</th>\n",
       "      <th>5</th>\n",
       "      <th>6</th>\n",
       "      <th>7</th>\n",
       "      <th>8</th>\n",
       "      <th>9</th>\n",
       "      <th>...</th>\n",
       "      <th>60</th>\n",
       "      <th>61</th>\n",
       "      <th>62</th>\n",
       "      <th>63</th>\n",
       "      <th>64</th>\n",
       "      <th>65</th>\n",
       "      <th>66</th>\n",
       "      <th>67</th>\n",
       "      <th>68</th>\n",
       "      <th>69</th>\n",
       "    </tr>\n",
       "  </thead>\n",
       "  <tbody>\n",
       "    <tr>\n",
       "      <th>0</th>\n",
       "      <td>0.0</td>\n",
       "      <td>0.119414</td>\n",
       "      <td>-0.596238</td>\n",
       "      <td>1.744368</td>\n",
       "      <td>0.978957</td>\n",
       "      <td>-0.028993</td>\n",
       "      <td>-0.893185</td>\n",
       "      <td>-0.801703</td>\n",
       "      <td>-1.982529</td>\n",
       "      <td>-1.530559</td>\n",
       "      <td>...</td>\n",
       "      <td>0.0</td>\n",
       "      <td>0.0</td>\n",
       "      <td>0.0</td>\n",
       "      <td>0.0</td>\n",
       "      <td>0.0</td>\n",
       "      <td>0.0</td>\n",
       "      <td>1.0</td>\n",
       "      <td>0.0</td>\n",
       "      <td>1.0</td>\n",
       "      <td>0.0</td>\n",
       "    </tr>\n",
       "    <tr>\n",
       "      <th>1</th>\n",
       "      <td>0.0</td>\n",
       "      <td>-1.852652</td>\n",
       "      <td>-0.596238</td>\n",
       "      <td>0.140284</td>\n",
       "      <td>-0.310405</td>\n",
       "      <td>0.970689</td>\n",
       "      <td>-0.689888</td>\n",
       "      <td>0.146389</td>\n",
       "      <td>1.232901</td>\n",
       "      <td>0.124852</td>\n",
       "      <td>...</td>\n",
       "      <td>0.0</td>\n",
       "      <td>0.0</td>\n",
       "      <td>1.0</td>\n",
       "      <td>0.0</td>\n",
       "      <td>0.0</td>\n",
       "      <td>0.0</td>\n",
       "      <td>1.0</td>\n",
       "      <td>0.0</td>\n",
       "      <td>1.0</td>\n",
       "      <td>0.0</td>\n",
       "    </tr>\n",
       "    <tr>\n",
       "      <th>2</th>\n",
       "      <td>1.0</td>\n",
       "      <td>1.181295</td>\n",
       "      <td>-0.596238</td>\n",
       "      <td>1.835130</td>\n",
       "      <td>0.185503</td>\n",
       "      <td>0.030988</td>\n",
       "      <td>-0.639063</td>\n",
       "      <td>1.568529</td>\n",
       "      <td>-0.063643</td>\n",
       "      <td>-0.846802</td>\n",
       "      <td>...</td>\n",
       "      <td>0.0</td>\n",
       "      <td>0.0</td>\n",
       "      <td>0.0</td>\n",
       "      <td>0.0</td>\n",
       "      <td>0.0</td>\n",
       "      <td>0.0</td>\n",
       "      <td>1.0</td>\n",
       "      <td>0.0</td>\n",
       "      <td>1.0</td>\n",
       "      <td>0.0</td>\n",
       "    </tr>\n",
       "    <tr>\n",
       "      <th>3</th>\n",
       "      <td>0.0</td>\n",
       "      <td>0.776769</td>\n",
       "      <td>-0.596238</td>\n",
       "      <td>0.216227</td>\n",
       "      <td>0.334276</td>\n",
       "      <td>0.136954</td>\n",
       "      <td>1.393914</td>\n",
       "      <td>1.394712</td>\n",
       "      <td>-0.634123</td>\n",
       "      <td>0.844596</td>\n",
       "      <td>...</td>\n",
       "      <td>0.0</td>\n",
       "      <td>0.0</td>\n",
       "      <td>0.0</td>\n",
       "      <td>0.0</td>\n",
       "      <td>0.0</td>\n",
       "      <td>0.0</td>\n",
       "      <td>1.0</td>\n",
       "      <td>0.0</td>\n",
       "      <td>1.0</td>\n",
       "      <td>0.0</td>\n",
       "    </tr>\n",
       "    <tr>\n",
       "      <th>4</th>\n",
       "      <td>0.0</td>\n",
       "      <td>-0.234547</td>\n",
       "      <td>1.508734</td>\n",
       "      <td>-0.459859</td>\n",
       "      <td>0.483049</td>\n",
       "      <td>-0.230929</td>\n",
       "      <td>0.224952</td>\n",
       "      <td>1.056954</td>\n",
       "      <td>0.921730</td>\n",
       "      <td>-0.810815</td>\n",
       "      <td>...</td>\n",
       "      <td>0.0</td>\n",
       "      <td>0.0</td>\n",
       "      <td>0.0</td>\n",
       "      <td>0.0</td>\n",
       "      <td>0.0</td>\n",
       "      <td>0.0</td>\n",
       "      <td>1.0</td>\n",
       "      <td>0.0</td>\n",
       "      <td>0.0</td>\n",
       "      <td>1.0</td>\n",
       "    </tr>\n",
       "  </tbody>\n",
       "</table>\n",
       "<p>5 rows × 70 columns</p>\n",
       "</div>"
      ],
      "text/plain": [
       "    0         1         2         3         4         5         6         7   \\\n",
       "0  0.0  0.119414 -0.596238  1.744368  0.978957 -0.028993 -0.893185 -0.801703   \n",
       "1  0.0 -1.852652 -0.596238  0.140284 -0.310405  0.970689 -0.689888  0.146389   \n",
       "2  1.0  1.181295 -0.596238  1.835130  0.185503  0.030988 -0.639063  1.568529   \n",
       "3  0.0  0.776769 -0.596238  0.216227  0.334276  0.136954  1.393914  1.394712   \n",
       "4  0.0 -0.234547  1.508734 -0.459859  0.483049 -0.230929  0.224952  1.056954   \n",
       "\n",
       "         8         9   ...   60   61   62   63   64   65   66   67   68   69  \n",
       "0 -1.982529 -1.530559  ...  0.0  0.0  0.0  0.0  0.0  0.0  1.0  0.0  1.0  0.0  \n",
       "1  1.232901  0.124852  ...  0.0  0.0  1.0  0.0  0.0  0.0  1.0  0.0  1.0  0.0  \n",
       "2 -0.063643 -0.846802  ...  0.0  0.0  0.0  0.0  0.0  0.0  1.0  0.0  1.0  0.0  \n",
       "3 -0.634123  0.844596  ...  0.0  0.0  0.0  0.0  0.0  0.0  1.0  0.0  1.0  0.0  \n",
       "4  0.921730 -0.810815  ...  0.0  0.0  0.0  0.0  0.0  0.0  1.0  0.0  0.0  1.0  \n",
       "\n",
       "[5 rows x 70 columns]"
      ]
     },
     "execution_count": 25,
     "metadata": {},
     "output_type": "execute_result"
    }
   ],
   "source": [
    "\n",
    "preproc_df = pd.read_csv(preprocessed_train_path_file, header=None)\n",
    "\n",
    "preproc_df.head()"
   ]
  },
  {
   "cell_type": "code",
   "execution_count": 26,
   "metadata": {},
   "outputs": [
    {
     "data": {
      "text/plain": [
       "70"
      ]
     },
     "execution_count": 26,
     "metadata": {},
     "output_type": "execute_result"
    }
   ],
   "source": [
    "num_cols = preproc_df.shape[1]\n",
    "num_cols"
   ]
  },
  {
   "cell_type": "code",
   "execution_count": 27,
   "metadata": {},
   "outputs": [
    {
     "name": "stderr",
     "output_type": "stream",
     "text": [
      "WARNING:sagemaker:Parameter image will be renamed to image_uri in SageMaker Python SDK v2.\n",
      "WARNING:urllib3.connectionpool:Retrying (Retry(total=2, connect=None, read=None, redirect=None, status=None)) after connection broken by 'NewConnectionError('<urllib3.connection.HTTPConnection object at 0x7f3b6aea3eb8>: Failed to establish a new connection: [Errno 111] Connection refused',)': /ping\n",
      "WARNING:urllib3.connectionpool:Retrying (Retry(total=1, connect=None, read=None, redirect=None, status=None)) after connection broken by 'NewConnectionError('<urllib3.connection.HTTPConnection object at 0x7f3b6aea30b8>: Failed to establish a new connection: [Errno 111] Connection refused',)': /ping\n",
      "WARNING:urllib3.connectionpool:Retrying (Retry(total=0, connect=None, read=None, redirect=None, status=None)) after connection broken by 'NewConnectionError('<urllib3.connection.HTTPConnection object at 0x7f3b6aea3860>: Failed to establish a new connection: [Errno 111] Connection refused',)': /ping\n"
     ]
    },
    {
     "name": "stdout",
     "output_type": "stream",
     "text": [
      "Attaching to tmp17027c2g_algo-1-fysj5_1\n",
      "\u001b[36malgo-1-fysj5_1  |\u001b[0m Processing /opt/ml/code\n",
      "\u001b[36malgo-1-fysj5_1  |\u001b[0m Building wheels for collected packages: pca-byoc-train\n",
      "\u001b[36malgo-1-fysj5_1  |\u001b[0m   Building wheel for pca-byoc-train (setup.py) ... \u001b[?25ldone\n",
      "\u001b[36malgo-1-fysj5_1  |\u001b[0m \u001b[?25h  Created wheel for pca-byoc-train: filename=pca_byoc_train-1.0.0-py2.py3-none-any.whl size=8696 sha256=e4da3d175444a1fb10a8c0ca591691f0d1cb4e4d44ab2fc11924f041d10e3949\n",
      "\u001b[36malgo-1-fysj5_1  |\u001b[0m   Stored in directory: /tmp/pip-ephem-wheel-cache-g1lkmwtj/wheels/35/24/16/37574d11bf9bde50616c67372a334f94fa8356bc7164af8ca3\n",
      "\u001b[36malgo-1-fysj5_1  |\u001b[0m Successfully built pca-byoc-train\n",
      "\u001b[36malgo-1-fysj5_1  |\u001b[0m Installing collected packages: pca-byoc-train\n",
      "\u001b[36malgo-1-fysj5_1  |\u001b[0m Successfully installed pca-byoc-train-1.0.0\n",
      "\u001b[36malgo-1-fysj5_1  |\u001b[0m /miniconda3/lib/python3.7/site-packages/sklearn/externals/joblib/externals/cloudpickle/cloudpickle.py:47: DeprecationWarning: the imp module is deprecated in favour of importlib; see the module's documentation for alternative uses\n",
      "\u001b[36malgo-1-fysj5_1  |\u001b[0m   import imp\n",
      "\u001b[36malgo-1-fysj5_1  |\u001b[0m [2020-08-12 14:26:25 +0000] [44] [INFO] Starting gunicorn 19.9.0\n",
      "\u001b[36malgo-1-fysj5_1  |\u001b[0m [2020-08-12 14:26:25 +0000] [44] [INFO] Listening at: unix:/tmp/gunicorn.sock (44)\n",
      "\u001b[36malgo-1-fysj5_1  |\u001b[0m [2020-08-12 14:26:25 +0000] [44] [INFO] Using worker: gevent\n",
      "\u001b[36malgo-1-fysj5_1  |\u001b[0m [2020-08-12 14:26:25 +0000] [47] [INFO] Booting worker with pid: 47\n",
      "\u001b[36malgo-1-fysj5_1  |\u001b[0m [2020-08-12 14:26:25 +0000] [55] [INFO] Booting worker with pid: 55\n",
      "\u001b[36malgo-1-fysj5_1  |\u001b[0m [2020-08-12 14:26:25 +0000] [56] [INFO] Booting worker with pid: 56\n",
      "\u001b[36malgo-1-fysj5_1  |\u001b[0m [2020-08-12 14:26:26 +0000] [71] [INFO] Booting worker with pid: 71\n",
      "\u001b[36malgo-1-fysj5_1  |\u001b[0m [2020-08-12 14:26:26 +0000] [72] [INFO] Booting worker with pid: 72\n",
      "\u001b[36malgo-1-fysj5_1  |\u001b[0m [2020-08-12 14:26:26 +0000] [73] [INFO] Booting worker with pid: 73\n",
      "\u001b[36malgo-1-fysj5_1  |\u001b[0m [2020-08-12 14:26:26 +0000] [95] [INFO] Booting worker with pid: 95\n",
      "\u001b[36malgo-1-fysj5_1  |\u001b[0m [2020-08-12 14:26:26 +0000] [96] [INFO] Booting worker with pid: 96\n",
      "\u001b[36malgo-1-fysj5_1  |\u001b[0m 2020-08-12 14:26:28,091 INFO - sagemaker-containers - No GPUs detected (normal if no gpus installed)\n",
      "\u001b[36malgo-1-fysj5_1  |\u001b[0m /miniconda3/lib/python3.7/site-packages/sklearn/externals/joblib/externals/cloudpickle/cloudpickle.py:47: DeprecationWarning: the imp module is deprecated in favour of importlib; see the module's documentation for alternative uses\n",
      "\u001b[36malgo-1-fysj5_1  |\u001b[0m   import imp\n",
      "\u001b[36malgo-1-fysj5_1  |\u001b[0m 172.18.0.1 - - [12/Aug/2020:14:26:28 +0000] \"GET /ping HTTP/1.1\" 200 0 \"-\" \"-\"\n",
      "\u001b[36malgo-1-fysj5_1  |\u001b[0m 172.18.0.1 - - [12/Aug/2020:14:26:28 +0000] \"GET /execution-parameters HTTP/1.1\" 404 232 \"-\" \"-\"\n"
     ]
    },
    {
     "name": "stderr",
     "output_type": "stream",
     "text": [
      "WARNING:sagemaker:'upload_data' method will be deprecated in favor of 'S3Uploader' class (https://sagemaker.readthedocs.io/en/stable/s3.html#sagemaker.s3.S3Uploader) in SageMaker Python SDK v2.\n"
     ]
    },
    {
     "name": "stdout",
     "output_type": "stream",
     "text": [
      "\u001b[36malgo-1-fysj5_1  |\u001b[0m 2020-08-12 14:26:28,575 INFO - root - input_fn: \n",
      "\u001b[36malgo-1-fysj5_1  |\u001b[0m 2020-08-12 14:26:28,575 INFO - root - shape of requested data: '(2333, 70)'\n",
      "\u001b[36malgo-1-fysj5_1  |\u001b[0m 2020-08-12 14:26:28,640 INFO - root - requested data: '       0   ...   69\n",
      "\u001b[36malgo-1-fysj5_1  |\u001b[0m 0     0.0  ...  0.0\n",
      "\u001b[36malgo-1-fysj5_1  |\u001b[0m 1     0.0  ...  0.0\n",
      "\u001b[36malgo-1-fysj5_1  |\u001b[0m 2     1.0  ...  0.0\n",
      "\u001b[36malgo-1-fysj5_1  |\u001b[0m 3     0.0  ...  0.0\n",
      "\u001b[36malgo-1-fysj5_1  |\u001b[0m 4     0.0  ...  1.0\n",
      "\u001b[36malgo-1-fysj5_1  |\u001b[0m ...   ...  ...  ...\n",
      "\u001b[36malgo-1-fysj5_1  |\u001b[0m 2328  0.0  ...  0.0\n",
      "\u001b[36malgo-1-fysj5_1  |\u001b[0m 2329  1.0  ...  0.0\n",
      "\u001b[36malgo-1-fysj5_1  |\u001b[0m 2330  0.0  ...  0.0\n",
      "\u001b[36malgo-1-fysj5_1  |\u001b[0m 2331  0.0  ...  0.0\n",
      "\u001b[36malgo-1-fysj5_1  |\u001b[0m 2332  0.0  ...  1.0\n",
      "\u001b[36malgo-1-fysj5_1  |\u001b[0m \n",
      "\u001b[36malgo-1-fysj5_1  |\u001b[0m [2333 rows x 70 columns]'\n",
      "\u001b[36malgo-1-fysj5_1  |\u001b[0m prdict_fn: Staring\n",
      "\u001b[36malgo-1-fysj5_1  |\u001b[0m os.getenv('TRANSFORM_MODE'):  feature-transform\n",
      "\u001b[36malgo-1-fysj5_1  |\u001b[0m predcit_fn - TRANSFORM_MODE:  feature-transform\n",
      "\u001b[36malgo-1-fysj5_1  |\u001b[0m 2020-08-12 14:26:28,702 INFO - root - predict_fn: input_data - '       0   ...   69\n",
      "\u001b[36malgo-1-fysj5_1  |\u001b[0m 0     0.0  ...  0.0\n",
      "\u001b[36malgo-1-fysj5_1  |\u001b[0m 1     0.0  ...  0.0\n",
      "\u001b[36malgo-1-fysj5_1  |\u001b[0m 2     1.0  ...  0.0\n",
      "\u001b[36malgo-1-fysj5_1  |\u001b[0m 3     0.0  ...  0.0\n",
      "\u001b[36malgo-1-fysj5_1  |\u001b[0m 4     0.0  ...  1.0\n",
      "\u001b[36malgo-1-fysj5_1  |\u001b[0m ...   ...  ...  ...\n",
      "\u001b[36malgo-1-fysj5_1  |\u001b[0m 2328  0.0  ...  0.0\n",
      "\u001b[36malgo-1-fysj5_1  |\u001b[0m 2329  1.0  ...  0.0\n",
      "\u001b[36malgo-1-fysj5_1  |\u001b[0m 2330  0.0  ...  0.0\n",
      "\u001b[36malgo-1-fysj5_1  |\u001b[0m 2331  0.0  ...  0.0\n",
      "\u001b[36malgo-1-fysj5_1  |\u001b[0m 2332  0.0  ...  1.0\n",
      "\u001b[36malgo-1-fysj5_1  |\u001b[0m \n",
      "\u001b[36malgo-1-fysj5_1  |\u001b[0m [2333 rows x 70 columns]'\n",
      "\u001b[36malgo-1-fysj5_1  |\u001b[0m type of input_data:  <class 'pandas.core.frame.DataFrame'>\n",
      "\u001b[36malgo-1-fysj5_1  |\u001b[0m shape of input_data:  (2333, 70)\n",
      "\u001b[36malgo-1-fysj5_1  |\u001b[0m head of input_data: \n",
      "\u001b[36malgo-1-fysj5_1  |\u001b[0m       0   ...   69\n",
      "\u001b[36malgo-1-fysj5_1  |\u001b[0m 0  0.0  ...  0.0\n",
      "\u001b[36malgo-1-fysj5_1  |\u001b[0m 1  0.0  ...  0.0\n",
      "\u001b[36malgo-1-fysj5_1  |\u001b[0m \n",
      "\u001b[36malgo-1-fysj5_1  |\u001b[0m [2 rows x 70 columns]\n",
      "\u001b[36malgo-1-fysj5_1  |\u001b[0m os.getenv('LENGTH_COLS') :  70\n",
      "\u001b[36malgo-1-fysj5_1  |\u001b[0m type: os.getenv('LENGTH_COLS'):  <class 'str'>\n",
      "\u001b[36malgo-1-fysj5_1  |\u001b[0m type of components:  <class 'numpy.ndarray'>\n",
      "\u001b[36malgo-1-fysj5_1  |\u001b[0m shape of components:  (2333, 2)\n",
      "\u001b[36malgo-1-fysj5_1  |\u001b[0m 2020-08-12 14:26:28,761 INFO - root - predict_fn: PCA components: \n",
      "\u001b[36malgo-1-fysj5_1  |\u001b[0m '[[ 0.         -0.82308544 -0.10881113]\n",
      "\u001b[36malgo-1-fysj5_1  |\u001b[0m  [ 0.         -0.34347425  0.0914233 ]\n",
      "\u001b[36malgo-1-fysj5_1  |\u001b[0m  [ 1.         -0.76430908  0.01160376]\n",
      "\u001b[36malgo-1-fysj5_1  |\u001b[0m  ...\n",
      "\u001b[36malgo-1-fysj5_1  |\u001b[0m  [ 0.         -0.7357322  -0.14696777]\n",
      "\u001b[36malgo-1-fysj5_1  |\u001b[0m  [ 0.         -0.86478537 -0.69261035]\n",
      "\u001b[36malgo-1-fysj5_1  |\u001b[0m  [ 0.          1.94313344  1.04687587]]'\n",
      "\u001b[36malgo-1-fysj5_1  |\u001b[0m 172.18.0.1 - - [12/Aug/2020:14:26:28 +0000] \"POST /invocations HTTP/1.1\" 200 100769 \"-\" \"-\"\n",
      "Gracefully stopping... (press Ctrl+C again to force)\n",
      "Waiting for transform job: pca-2020-08-12-14-26-22-929-2020-08-12-14-26-22-930\n",
      ".s3://sagemaker-us-east-2-057716757052/sagemaker/customer-churn/transformtrain-pca-train-output/pca-2020-08-12-14-26-22-929-2020-08-12-14-26-22-930\n"
     ]
    }
   ],
   "source": [
    "\n",
    "\n",
    "instance_type = 'local'\n",
    "# instance_type = 'ml.m4.2xlarge'\n",
    "transform_train_output_path = 's3://{}/{}/{}/'.format(bucket, prefix, 'transformtrain-pca-train-output')\n",
    "\n",
    "pca_model = pca_estimator.create_model(\n",
    "    env={'TRANSFORM_MODE': 'feature-transform', 'LENGTH_COLS': str(num_cols)})\n",
    "\n",
    "# scikit_learn_inferencee_model 에서 Train Transformer 생성\n",
    "transformer_train = pca_model.transformer(\n",
    "    instance_count=1, \n",
    "    instance_type= instance_type,\n",
    "    assemble_with = 'Line',\n",
    "    output_path = transform_train_output_path,\n",
    "    accept = 'text/csv')\n",
    "\n",
    "\n",
    "# Preprocess training input\n",
    "transformer_train.transform(preprocessed_train_path_file, \n",
    "                            content_type='text/csv',                            \n",
    "                           )\n",
    "\n",
    "print('Waiting for transform job: ' + transformer_train.latest_transform_job.job_name)\n",
    "transformer_train.wait()\n",
    "\n",
    "preprocessed_train_path = transformer_train.output_path + transformer_train.latest_transform_job.job_name\n",
    "print(preprocessed_train_path)"
   ]
  },
  {
   "cell_type": "markdown",
   "metadata": {},
   "source": [
    "# RealTime Endpoint"
   ]
  },
  {
   "cell_type": "code",
   "execution_count": 28,
   "metadata": {},
   "outputs": [
    {
     "name": "stderr",
     "output_type": "stream",
     "text": [
      "WARNING:sagemaker:Parameter image will be renamed to image_uri in SageMaker Python SDK v2.\n"
     ]
    }
   ],
   "source": [
    "pca_infer_model = pca_estimator.create_model(\n",
    "    env={'TRANSFORM_MODE': 'inverse-label-transform', 'LENGTH_COLS': '69'})\n"
   ]
  },
  {
   "cell_type": "code",
   "execution_count": 29,
   "metadata": {},
   "outputs": [],
   "source": [
    "# %%time \n",
    "\n",
    "# from time import gmtime, strftime\n",
    "# timestamp_prefix = strftime(\"%Y-%m-%d-%H-%M-%S\", gmtime())\n",
    "\n",
    "# instance_type='local'\n",
    "# # instance_type='ml.m4.2xlarge'\n",
    "\n",
    "\n",
    "# endpoint_name= 'churn-model-pipeline-endpoint-' + timestamp_prefix\n",
    "\n",
    "# deployed_model = pca_infer_model.deploy(\n",
    "#     initial_instance_count=1, \n",
    "#     instance_type= instance_type, \n",
    "#     endpoint_name = endpoint_name,        \n",
    "#     wait = True\n",
    "# )"
   ]
  },
  {
   "cell_type": "code",
   "execution_count": 30,
   "metadata": {},
   "outputs": [
    {
     "name": "stderr",
     "output_type": "stream",
     "text": [
      "WARNING:sagemaker:Parameter image will be renamed to image_uri in SageMaker Python SDK v2.\n",
      "WARNING:urllib3.connectionpool:Retrying (Retry(total=2, connect=None, read=None, redirect=None, status=None)) after connection broken by 'NewConnectionError('<urllib3.connection.HTTPConnection object at 0x7f3b6b19f630>: Failed to establish a new connection: [Errno 111] Connection refused',)': /ping\n",
      "WARNING:urllib3.connectionpool:Retrying (Retry(total=1, connect=None, read=None, redirect=None, status=None)) after connection broken by 'NewConnectionError('<urllib3.connection.HTTPConnection object at 0x7f3b6f3b1fd0>: Failed to establish a new connection: [Errno 111] Connection refused',)': /ping\n",
      "WARNING:urllib3.connectionpool:Retrying (Retry(total=0, connect=None, read=None, redirect=None, status=None)) after connection broken by 'NewConnectionError('<urllib3.connection.HTTPConnection object at 0x7f3b6b1b0da0>: Failed to establish a new connection: [Errno 111] Connection refused',)': /ping\n"
     ]
    },
    {
     "name": "stdout",
     "output_type": "stream",
     "text": [
      "Attaching to tmpz6d53bt4_algo-1-46uld_1\n",
      "\u001b[36malgo-1-46uld_1  |\u001b[0m Processing /opt/ml/code\n",
      "\u001b[36malgo-1-46uld_1  |\u001b[0m Building wheels for collected packages: pca-byoc-train\n",
      "\u001b[36malgo-1-46uld_1  |\u001b[0m   Building wheel for pca-byoc-train (setup.py) ... \u001b[?25ldone\n",
      "\u001b[36malgo-1-46uld_1  |\u001b[0m \u001b[?25h  Created wheel for pca-byoc-train: filename=pca_byoc_train-1.0.0-py2.py3-none-any.whl size=8697 sha256=35d93e1c70e0aaa6bee01f24920d7519488765ab4dff1c54bcdb84ef4e85f129\n",
      "\u001b[36malgo-1-46uld_1  |\u001b[0m   Stored in directory: /tmp/pip-ephem-wheel-cache-1s330cwz/wheels/35/24/16/37574d11bf9bde50616c67372a334f94fa8356bc7164af8ca3\n",
      "\u001b[36malgo-1-46uld_1  |\u001b[0m Successfully built pca-byoc-train\n",
      "\u001b[36malgo-1-46uld_1  |\u001b[0m Installing collected packages: pca-byoc-train\n",
      "\u001b[36malgo-1-46uld_1  |\u001b[0m Successfully installed pca-byoc-train-1.0.0\n",
      "\u001b[36malgo-1-46uld_1  |\u001b[0m /miniconda3/lib/python3.7/site-packages/sklearn/externals/joblib/externals/cloudpickle/cloudpickle.py:47: DeprecationWarning: the imp module is deprecated in favour of importlib; see the module's documentation for alternative uses\n",
      "\u001b[36malgo-1-46uld_1  |\u001b[0m   import imp\n",
      "\u001b[36malgo-1-46uld_1  |\u001b[0m [2020-08-12 14:26:32 +0000] [44] [INFO] Starting gunicorn 19.9.0\n",
      "\u001b[36malgo-1-46uld_1  |\u001b[0m [2020-08-12 14:26:32 +0000] [44] [INFO] Listening at: unix:/tmp/gunicorn.sock (44)\n",
      "\u001b[36malgo-1-46uld_1  |\u001b[0m [2020-08-12 14:26:32 +0000] [44] [INFO] Using worker: gevent\n",
      "\u001b[36malgo-1-46uld_1  |\u001b[0m [2020-08-12 14:26:32 +0000] [47] [INFO] Booting worker with pid: 47\n",
      "\u001b[36malgo-1-46uld_1  |\u001b[0m [2020-08-12 14:26:32 +0000] [55] [INFO] Booting worker with pid: 55\n",
      "\u001b[36malgo-1-46uld_1  |\u001b[0m [2020-08-12 14:26:32 +0000] [56] [INFO] Booting worker with pid: 56\n",
      "\u001b[36malgo-1-46uld_1  |\u001b[0m [2020-08-12 14:26:32 +0000] [57] [INFO] Booting worker with pid: 57\n",
      "\u001b[36malgo-1-46uld_1  |\u001b[0m [2020-08-12 14:26:32 +0000] [72] [INFO] Booting worker with pid: 72\n",
      "\u001b[36malgo-1-46uld_1  |\u001b[0m [2020-08-12 14:26:32 +0000] [80] [INFO] Booting worker with pid: 80\n",
      "\u001b[36malgo-1-46uld_1  |\u001b[0m [2020-08-12 14:26:32 +0000] [88] [INFO] Booting worker with pid: 88\n",
      "\u001b[36malgo-1-46uld_1  |\u001b[0m [2020-08-12 14:26:32 +0000] [96] [INFO] Booting worker with pid: 96\n",
      "\u001b[36malgo-1-46uld_1  |\u001b[0m 2020-08-12 14:26:34,647 INFO - sagemaker-containers - No GPUs detected (normal if no gpus installed)\n",
      "\u001b[36malgo-1-46uld_1  |\u001b[0m /miniconda3/lib/python3.7/site-packages/sklearn/externals/joblib/externals/cloudpickle/cloudpickle.py:47: DeprecationWarning: the imp module is deprecated in favour of importlib; see the module's documentation for alternative uses\n",
      "\u001b[36malgo-1-46uld_1  |\u001b[0m   import imp\n",
      "!\u001b[36malgo-1-46uld_1  |\u001b[0m 172.18.0.1 - - [12/Aug/2020:14:26:35 +0000] \"GET /ping HTTP/1.1\" 200 0 \"-\" \"-\"\n"
     ]
    }
   ],
   "source": [
    "from sagemaker.predictor import csv_serializer\n",
    "\n",
    "instance_type = 'local'\n",
    "# instance_type = 'ml.m4.xlarge'\n",
    "\n",
    "est_predictor = pca_estimator.deploy(\n",
    "    initial_instance_count = 1,\n",
    "    instance_type = instance_type,\n",
    "    model_name = pca_infer_model.name,\n",
    "    serializer=csv_serializer\n",
    ")"
   ]
  },
  {
   "cell_type": "code",
   "execution_count": 31,
   "metadata": {},
   "outputs": [
    {
     "name": "stdout",
     "output_type": "stream",
     "text": [
      "Shape of sample:  (2, 69)\n",
      "\u001b[36malgo-1-46uld_1  |\u001b[0m 2020-08-12 14:26:35,021 INFO - sagemaker-containers - No GPUs detected (normal if no gpus installed)\n",
      "\u001b[36malgo-1-46uld_1  |\u001b[0m /miniconda3/lib/python3.7/site-packages/sklearn/externals/joblib/externals/cloudpickle/cloudpickle.py:47: DeprecationWarning: the imp module is deprecated in favour of importlib; see the module's documentation for alternative uses\n",
      "\u001b[36malgo-1-46uld_1  |\u001b[0m   import imp\n",
      "\u001b[36malgo-1-46uld_1  |\u001b[0m 2020-08-12 14:26:35,394 INFO - root - input_fn: \n",
      "\u001b[36malgo-1-46uld_1  |\u001b[0m 2020-08-12 14:26:35,394 INFO - root - shape of requested data: '(2, 69)'\n",
      "\u001b[36malgo-1-46uld_1  |\u001b[0m 2020-08-12 14:26:35,451 INFO - root - requested data: '         0   ...   68\n",
      "\u001b[36malgo-1-46uld_1  |\u001b[0m 0  0.119414  ...  0.0\n",
      "\u001b[36malgo-1-46uld_1  |\u001b[0m 1 -1.852652  ...  0.0\n",
      "\u001b[36malgo-1-46uld_1  |\u001b[0m \n",
      "\u001b[36malgo-1-46uld_1  |\u001b[0m [2 rows x 69 columns]'\n",
      "\u001b[36malgo-1-46uld_1  |\u001b[0m prdict_fn: Staring\n",
      "\u001b[36malgo-1-46uld_1  |\u001b[0m os.getenv('TRANSFORM_MODE'):  None\n",
      "\u001b[36malgo-1-46uld_1  |\u001b[0m predcit_fn - TRANSFORM_MODE:  None\n",
      "\u001b[36malgo-1-46uld_1  |\u001b[0m type of input_data:  <class 'pandas.core.frame.DataFrame'>\n",
      "\u001b[36malgo-1-46uld_1  |\u001b[0m shape of input_data:  (2, 69)\n",
      "\u001b[36malgo-1-46uld_1  |\u001b[0m head of input_data: \n",
      "\u001b[36malgo-1-46uld_1  |\u001b[0m            0   ...   68\n",
      "\u001b[36malgo-1-46uld_1  |\u001b[0m 0  0.119414  ...  0.0\n",
      "\u001b[36malgo-1-46uld_1  |\u001b[0m 1 -1.852652  ...  0.0\n",
      "\u001b[36malgo-1-46uld_1  |\u001b[0m \n",
      "\u001b[36malgo-1-46uld_1  |\u001b[0m [2 rows x 69 columns]\n",
      "\u001b[36malgo-1-46uld_1  |\u001b[0m 2020-08-12 14:26:35,507 INFO - root - predict_fn: PCA components: \n",
      "\u001b[36malgo-1-46uld_1  |\u001b[0m '[[-0.82308544 -0.10881113]\n",
      "\u001b[36malgo-1-46uld_1  |\u001b[0m  [-0.34347425  0.0914233 ]]'\n"
     ]
    },
    {
     "data": {
      "text/plain": [
       "b'[[-0.8230854363167996, -0.10881113184502016], [-0.3434742533227041, 0.09142330183765682]]'"
      ]
     },
     "execution_count": 31,
     "metadata": {},
     "output_type": "execute_result"
    },
    {
     "name": "stdout",
     "output_type": "stream",
     "text": [
      "\u001b[36malgo-1-46uld_1  |\u001b[0m 172.18.0.1 - - [12/Aug/2020:14:26:35 +0000] \"POST /invocations HTTP/1.1\" 200 89 \"-\" \"-\"\n"
     ]
    }
   ],
   "source": [
    "# sample = train_X[0:1].reshape(1,-1) # Single Sample (1,-1)\n",
    "sample = train_X[0:2]\n",
    "print(\"Shape of sample: \", sample.shape)\n",
    "sample.values\n",
    "result = est_predictor.predict(sample.values)\n",
    "result"
   ]
  },
  {
   "cell_type": "code",
   "execution_count": 32,
   "metadata": {},
   "outputs": [
    {
     "data": {
      "text/plain": [
       "b'[[-0.8230854363167996, -0.10881113184502016], [-0.3434742533227041, 0.09142330183765682]]'"
      ]
     },
     "execution_count": 32,
     "metadata": {},
     "output_type": "execute_result"
    }
   ],
   "source": [
    "result"
   ]
  }
 ],
 "metadata": {
  "kernelspec": {
   "display_name": "conda_python3",
   "language": "python",
   "name": "conda_python3"
  },
  "language_info": {
   "codemirror_mode": {
    "name": "ipython",
    "version": 3
   },
   "file_extension": ".py",
   "mimetype": "text/x-python",
   "name": "python",
   "nbconvert_exporter": "python",
   "pygments_lexer": "ipython3",
   "version": "3.6.10"
  }
 },
 "nbformat": 4,
 "nbformat_minor": 4
}
